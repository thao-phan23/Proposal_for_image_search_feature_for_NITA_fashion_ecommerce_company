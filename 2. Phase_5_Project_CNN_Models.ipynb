{
 "cells": [
  {
   "cell_type": "markdown",
   "metadata": {},
   "source": [
    "# PHASE_5_CAPSTONE_PROJECT"
   ]
  },
  {
   "cell_type": "markdown",
   "metadata": {},
   "source": [
    "# CNN MODELS"
   ]
  },
  {
   "cell_type": "markdown",
   "metadata": {},
   "source": [
    "### Data source:"
   ]
  },
  {
   "cell_type": "markdown",
   "metadata": {},
   "source": [
    "The data source consists of over 44 thousand fashion images from Kaggle.\n",
    "\n",
    "Source link: https://www.kaggle.com/datasets/paramaggarwal/fashion-product-images-dataset"
   ]
  },
  {
   "cell_type": "markdown",
   "metadata": {},
   "source": [
    "### Target:"
   ]
  },
  {
   "cell_type": "markdown",
   "metadata": {},
   "source": [
    "NICEON, the fashion company, is excited to introduce a cutting-edge feature that allows customers to perform image-based searches. With this new capability, the website can identify product types, empowering users to explore the top 5 closely matched products, resulting in a captivating and personalized shopping experience."
   ]
  },
  {
   "cell_type": "code",
   "execution_count": 1,
   "metadata": {},
   "outputs": [],
   "source": [
    "import pandas as pd\n",
    "import numpy as np\n",
    "import csv\n",
    "import json\n",
    "import glob\n",
    "import os\n",
    "import shutil\n",
    "import random\n",
    "import pickle\n",
    "import h5py\n",
    "import hdf5storage\n",
    "from sklearn.preprocessing import LabelEncoder\n",
    "import matplotlib.pyplot as plt\n",
    "from sklearn.model_selection import train_test_split\n",
    "import seaborn as sns\n",
    "from sklearn.preprocessing import MultiLabelBinarizer\n",
    "from keras.preprocessing.image import ImageDataGenerator\n",
    "from tensorflow.keras.utils import array_to_img, img_to_array, load_img\n",
    "from IPython.display import display\n",
    "from tensorflow.keras import datasets\n",
    "from tensorflow.keras.utils import to_categorical\n",
    "from tensorflow.keras.models import Sequential\n",
    "from keras import layers\n",
    "from keras.models import Sequential\n",
    "from keras.layers import Reshape\n",
    "\n",
    "from tensorflow.keras.layers import Dense # creates densely connected layer object\n",
    "from tensorflow.keras.layers import Flatten # takes 2D input and turns into 1D array\n",
    "from tensorflow.keras.layers import Conv2D # convolution layer\n",
    "from tensorflow.keras.layers import MaxPooling2D # max pooling layer\n",
    "from tensorflow.keras.regularizers import l2\n",
    "from tensorflow.keras.regularizers import L2\n",
    "from tensorflow.keras.layers import Dropout\n",
    "\n",
    "\n",
    "\n",
    "from sklearn.metrics import accuracy_score, confusion_matrix\n",
    "from sklearn.metrics import ConfusionMatrixDisplay, classification_report\n",
    "\n",
    "from tensorflow.keras.layers import BatchNormalization\n",
    "from tensorflow.keras.layers import Activation\n",
    "from tensorflow.keras import layers, regularizers\n",
    "from tensorflow.keras.regularizers import l2\n",
    "from tensorflow.keras.layers import Dropout\n",
    "from keras.models import load_model\n",
    "\n",
    "%matplotlib inline\n"
   ]
  },
  {
   "cell_type": "code",
   "execution_count": 2,
   "metadata": {
    "scrolled": true
   },
   "outputs": [
    {
     "data": {
      "text/html": [
       "<div>\n",
       "<style scoped>\n",
       "    .dataframe tbody tr th:only-of-type {\n",
       "        vertical-align: middle;\n",
       "    }\n",
       "\n",
       "    .dataframe tbody tr th {\n",
       "        vertical-align: top;\n",
       "    }\n",
       "\n",
       "    .dataframe thead th {\n",
       "        text-align: right;\n",
       "    }\n",
       "</style>\n",
       "<table border=\"1\" class=\"dataframe\">\n",
       "  <thead>\n",
       "    <tr style=\"text-align: right;\">\n",
       "      <th></th>\n",
       "      <th>Unnamed: 0</th>\n",
       "      <th>id</th>\n",
       "      <th>brand</th>\n",
       "      <th>gender</th>\n",
       "      <th>year</th>\n",
       "      <th>season</th>\n",
       "      <th>color</th>\n",
       "      <th>usage</th>\n",
       "      <th>division</th>\n",
       "      <th>productgroup</th>\n",
       "      <th>producttype</th>\n",
       "      <th>variantname</th>\n",
       "      <th>productdisplayname</th>\n",
       "    </tr>\n",
       "  </thead>\n",
       "  <tbody>\n",
       "    <tr>\n",
       "      <th>0</th>\n",
       "      <td>0</td>\n",
       "      <td>57896</td>\n",
       "      <td>Femella</td>\n",
       "      <td>Women</td>\n",
       "      <td>2012.0</td>\n",
       "      <td>Summer</td>\n",
       "      <td>Off White</td>\n",
       "      <td>Casual</td>\n",
       "      <td>Apparel</td>\n",
       "      <td>Bottomwear</td>\n",
       "      <td>Shorts</td>\n",
       "      <td>Summer Pleated Short</td>\n",
       "      <td>Femella Women Off White Shorts</td>\n",
       "    </tr>\n",
       "    <tr>\n",
       "      <th>1</th>\n",
       "      <td>1</td>\n",
       "      <td>37297</td>\n",
       "      <td>CASIO</td>\n",
       "      <td>Men</td>\n",
       "      <td>2016.0</td>\n",
       "      <td>Winter</td>\n",
       "      <td>Black</td>\n",
       "      <td>Casual</td>\n",
       "      <td>Accessories</td>\n",
       "      <td>Watches</td>\n",
       "      <td>Watches</td>\n",
       "      <td>CASIO</td>\n",
       "      <td>Casio Enticer Men Black Analogue Watches (A504...</td>\n",
       "    </tr>\n",
       "    <tr>\n",
       "      <th>2</th>\n",
       "      <td>2</td>\n",
       "      <td>3721</td>\n",
       "      <td>Lee</td>\n",
       "      <td>Men</td>\n",
       "      <td>2011.0</td>\n",
       "      <td>Summer</td>\n",
       "      <td>Black</td>\n",
       "      <td>Casual</td>\n",
       "      <td>Accessories</td>\n",
       "      <td>Belts</td>\n",
       "      <td>Belts</td>\n",
       "      <td>Lee mens black canvas belt</td>\n",
       "      <td>Lee Men Black Canvas Belt</td>\n",
       "    </tr>\n",
       "    <tr>\n",
       "      <th>3</th>\n",
       "      <td>3</td>\n",
       "      <td>51041</td>\n",
       "      <td>Enamor</td>\n",
       "      <td>Women</td>\n",
       "      <td>2017.0</td>\n",
       "      <td>Summer</td>\n",
       "      <td>White</td>\n",
       "      <td>Casual</td>\n",
       "      <td>Apparel</td>\n",
       "      <td>Innerwear</td>\n",
       "      <td>Briefs</td>\n",
       "      <td>DRESSUP02</td>\n",
       "      <td>Enamor Women Ivory Coloured Briefs</td>\n",
       "    </tr>\n",
       "    <tr>\n",
       "      <th>4</th>\n",
       "      <td>4</td>\n",
       "      <td>2833</td>\n",
       "      <td>Lee Cooper</td>\n",
       "      <td>Men</td>\n",
       "      <td>2012.0</td>\n",
       "      <td>Summer</td>\n",
       "      <td>Black</td>\n",
       "      <td>Casual</td>\n",
       "      <td>Footwear</td>\n",
       "      <td>Shoes</td>\n",
       "      <td>Casual Shoes</td>\n",
       "      <td>Lee cooper black Casual Leather shoes Darknight</td>\n",
       "      <td>Lee Cooper Men's Casual Leather Darknight Blac...</td>\n",
       "    </tr>\n",
       "    <tr>\n",
       "      <th>...</th>\n",
       "      <td>...</td>\n",
       "      <td>...</td>\n",
       "      <td>...</td>\n",
       "      <td>...</td>\n",
       "      <td>...</td>\n",
       "      <td>...</td>\n",
       "      <td>...</td>\n",
       "      <td>...</td>\n",
       "      <td>...</td>\n",
       "      <td>...</td>\n",
       "      <td>...</td>\n",
       "      <td>...</td>\n",
       "      <td>...</td>\n",
       "    </tr>\n",
       "    <tr>\n",
       "      <th>44441</th>\n",
       "      <td>44441</td>\n",
       "      <td>35401</td>\n",
       "      <td>Stens by Enroute</td>\n",
       "      <td>Men</td>\n",
       "      <td>2012.0</td>\n",
       "      <td>Summer</td>\n",
       "      <td>Brown</td>\n",
       "      <td>Casual</td>\n",
       "      <td>Footwear</td>\n",
       "      <td>Shoes</td>\n",
       "      <td>Casual Shoes</td>\n",
       "      <td>Casual Shoe</td>\n",
       "      <td>Stens by Enroute Men Brown Shoes</td>\n",
       "    </tr>\n",
       "    <tr>\n",
       "      <th>44442</th>\n",
       "      <td>44442</td>\n",
       "      <td>48131</td>\n",
       "      <td>Fossil</td>\n",
       "      <td>Women</td>\n",
       "      <td>2012.0</td>\n",
       "      <td>Summer</td>\n",
       "      <td>Pink</td>\n",
       "      <td>Casual</td>\n",
       "      <td>Accessories</td>\n",
       "      <td>Bags</td>\n",
       "      <td>Handbags</td>\n",
       "      <td>CONVERTIBLE MINI  BERRY</td>\n",
       "      <td>Fossil Women Pink Bags</td>\n",
       "    </tr>\n",
       "    <tr>\n",
       "      <th>44443</th>\n",
       "      <td>44443</td>\n",
       "      <td>7960</td>\n",
       "      <td>Puma</td>\n",
       "      <td>Men</td>\n",
       "      <td>2011.0</td>\n",
       "      <td>Fall</td>\n",
       "      <td>Green</td>\n",
       "      <td>Sports</td>\n",
       "      <td>Apparel</td>\n",
       "      <td>Topwear</td>\n",
       "      <td>Tshirts</td>\n",
       "      <td>Large Logo Graphic Tee</td>\n",
       "      <td>Puma Men's Large Logo Graphic Green T-shirt</td>\n",
       "    </tr>\n",
       "    <tr>\n",
       "      <th>44444</th>\n",
       "      <td>44444</td>\n",
       "      <td>54112</td>\n",
       "      <td>Rocia</td>\n",
       "      <td>Women</td>\n",
       "      <td>2012.0</td>\n",
       "      <td>Winter</td>\n",
       "      <td>Black</td>\n",
       "      <td>Casual</td>\n",
       "      <td>Footwear</td>\n",
       "      <td>Shoes</td>\n",
       "      <td>Flats</td>\n",
       "      <td>ROCIA  BEIGE Sandal</td>\n",
       "      <td>Rocia Women Black Flats</td>\n",
       "    </tr>\n",
       "    <tr>\n",
       "      <th>44445</th>\n",
       "      <td>44445</td>\n",
       "      <td>29422</td>\n",
       "      <td>GIORDANO</td>\n",
       "      <td>Men</td>\n",
       "      <td>2016.0</td>\n",
       "      <td>Winter</td>\n",
       "      <td>Gold</td>\n",
       "      <td>Formal</td>\n",
       "      <td>Accessories</td>\n",
       "      <td>Watches</td>\n",
       "      <td>Watches</td>\n",
       "      <td>Casual</td>\n",
       "      <td>Giordano Men Gold &amp; Black Dial Watch</td>\n",
       "    </tr>\n",
       "  </tbody>\n",
       "</table>\n",
       "<p>44446 rows × 13 columns</p>\n",
       "</div>"
      ],
      "text/plain": [
       "       Unnamed: 0     id             brand gender    year  season      color  \\\n",
       "0               0  57896           Femella  Women  2012.0  Summer  Off White   \n",
       "1               1  37297             CASIO    Men  2016.0  Winter      Black   \n",
       "2               2   3721               Lee    Men  2011.0  Summer      Black   \n",
       "3               3  51041            Enamor  Women  2017.0  Summer      White   \n",
       "4               4   2833        Lee Cooper    Men  2012.0  Summer      Black   \n",
       "...           ...    ...               ...    ...     ...     ...        ...   \n",
       "44441       44441  35401  Stens by Enroute    Men  2012.0  Summer      Brown   \n",
       "44442       44442  48131            Fossil  Women  2012.0  Summer       Pink   \n",
       "44443       44443   7960              Puma    Men  2011.0    Fall      Green   \n",
       "44444       44444  54112             Rocia  Women  2012.0  Winter      Black   \n",
       "44445       44445  29422          GIORDANO    Men  2016.0  Winter       Gold   \n",
       "\n",
       "        usage     division productgroup   producttype  \\\n",
       "0      Casual      Apparel   Bottomwear        Shorts   \n",
       "1      Casual  Accessories      Watches       Watches   \n",
       "2      Casual  Accessories        Belts         Belts   \n",
       "3      Casual      Apparel    Innerwear        Briefs   \n",
       "4      Casual     Footwear        Shoes  Casual Shoes   \n",
       "...       ...          ...          ...           ...   \n",
       "44441  Casual     Footwear        Shoes  Casual Shoes   \n",
       "44442  Casual  Accessories         Bags      Handbags   \n",
       "44443  Sports      Apparel      Topwear       Tshirts   \n",
       "44444  Casual     Footwear        Shoes         Flats   \n",
       "44445  Formal  Accessories      Watches       Watches   \n",
       "\n",
       "                                           variantname  \\\n",
       "0                                 Summer Pleated Short   \n",
       "1                                                CASIO   \n",
       "2                           Lee mens black canvas belt   \n",
       "3                                            DRESSUP02   \n",
       "4      Lee cooper black Casual Leather shoes Darknight   \n",
       "...                                                ...   \n",
       "44441                                      Casual Shoe   \n",
       "44442                          CONVERTIBLE MINI  BERRY   \n",
       "44443                           Large Logo Graphic Tee   \n",
       "44444                              ROCIA  BEIGE Sandal   \n",
       "44445                                           Casual   \n",
       "\n",
       "                                      productdisplayname  \n",
       "0                         Femella Women Off White Shorts  \n",
       "1      Casio Enticer Men Black Analogue Watches (A504...  \n",
       "2                              Lee Men Black Canvas Belt  \n",
       "3                     Enamor Women Ivory Coloured Briefs  \n",
       "4      Lee Cooper Men's Casual Leather Darknight Blac...  \n",
       "...                                                  ...  \n",
       "44441                   Stens by Enroute Men Brown Shoes  \n",
       "44442                             Fossil Women Pink Bags  \n",
       "44443        Puma Men's Large Logo Graphic Green T-shirt  \n",
       "44444                            Rocia Women Black Flats  \n",
       "44445               Giordano Men Gold & Black Dial Watch  \n",
       "\n",
       "[44446 rows x 13 columns]"
      ]
     },
     "execution_count": 2,
     "metadata": {},
     "output_type": "execute_result"
    }
   ],
   "source": [
    "attributes = pd.read_csv('/Users/thaophan/Documents/Flatiron/Phase5_Project/Capstone_fashion_label_classification_from_images/product_attributes.csv')\n",
    "attributes"
   ]
  },
  {
   "cell_type": "code",
   "execution_count": 3,
   "metadata": {
    "scrolled": true
   },
   "outputs": [
    {
     "data": {
      "text/html": [
       "<div>\n",
       "<style scoped>\n",
       "    .dataframe tbody tr th:only-of-type {\n",
       "        vertical-align: middle;\n",
       "    }\n",
       "\n",
       "    .dataframe tbody tr th {\n",
       "        vertical-align: top;\n",
       "    }\n",
       "\n",
       "    .dataframe thead th {\n",
       "        text-align: right;\n",
       "    }\n",
       "</style>\n",
       "<table border=\"1\" class=\"dataframe\">\n",
       "  <thead>\n",
       "    <tr style=\"text-align: right;\">\n",
       "      <th></th>\n",
       "      <th>Unnamed: 0</th>\n",
       "      <th>id</th>\n",
       "      <th>producttype</th>\n",
       "      <th>image_id</th>\n",
       "    </tr>\n",
       "  </thead>\n",
       "  <tbody>\n",
       "    <tr>\n",
       "      <th>0</th>\n",
       "      <td>1</td>\n",
       "      <td>37297</td>\n",
       "      <td>Watches</td>\n",
       "      <td>37297.jpg</td>\n",
       "    </tr>\n",
       "    <tr>\n",
       "      <th>1</th>\n",
       "      <td>4</td>\n",
       "      <td>2833</td>\n",
       "      <td>Casual Shoes</td>\n",
       "      <td>2833.jpg</td>\n",
       "    </tr>\n",
       "    <tr>\n",
       "      <th>2</th>\n",
       "      <td>5</td>\n",
       "      <td>29289</td>\n",
       "      <td>Shirts</td>\n",
       "      <td>29289.jpg</td>\n",
       "    </tr>\n",
       "    <tr>\n",
       "      <th>3</th>\n",
       "      <td>6</td>\n",
       "      <td>49888</td>\n",
       "      <td>Watches</td>\n",
       "      <td>49888.jpg</td>\n",
       "    </tr>\n",
       "    <tr>\n",
       "      <th>4</th>\n",
       "      <td>7</td>\n",
       "      <td>23684</td>\n",
       "      <td>Wallets</td>\n",
       "      <td>23684.jpg</td>\n",
       "    </tr>\n",
       "    <tr>\n",
       "      <th>...</th>\n",
       "      <td>...</td>\n",
       "      <td>...</td>\n",
       "      <td>...</td>\n",
       "      <td>...</td>\n",
       "    </tr>\n",
       "    <tr>\n",
       "      <th>24641</th>\n",
       "      <td>44440</td>\n",
       "      <td>19094</td>\n",
       "      <td>Kurtas</td>\n",
       "      <td>19094.jpg</td>\n",
       "    </tr>\n",
       "    <tr>\n",
       "      <th>24642</th>\n",
       "      <td>44441</td>\n",
       "      <td>35401</td>\n",
       "      <td>Casual Shoes</td>\n",
       "      <td>35401.jpg</td>\n",
       "    </tr>\n",
       "    <tr>\n",
       "      <th>24643</th>\n",
       "      <td>44442</td>\n",
       "      <td>48131</td>\n",
       "      <td>Handbags</td>\n",
       "      <td>48131.jpg</td>\n",
       "    </tr>\n",
       "    <tr>\n",
       "      <th>24644</th>\n",
       "      <td>44443</td>\n",
       "      <td>7960</td>\n",
       "      <td>Tshirts</td>\n",
       "      <td>7960.jpg</td>\n",
       "    </tr>\n",
       "    <tr>\n",
       "      <th>24645</th>\n",
       "      <td>44445</td>\n",
       "      <td>29422</td>\n",
       "      <td>Watches</td>\n",
       "      <td>29422.jpg</td>\n",
       "    </tr>\n",
       "  </tbody>\n",
       "</table>\n",
       "<p>24646 rows × 4 columns</p>\n",
       "</div>"
      ],
      "text/plain": [
       "       Unnamed: 0     id   producttype   image_id\n",
       "0               1  37297       Watches  37297.jpg\n",
       "1               4   2833  Casual Shoes   2833.jpg\n",
       "2               5  29289        Shirts  29289.jpg\n",
       "3               6  49888       Watches  49888.jpg\n",
       "4               7  23684       Wallets  23684.jpg\n",
       "...           ...    ...           ...        ...\n",
       "24641       44440  19094        Kurtas  19094.jpg\n",
       "24642       44441  35401  Casual Shoes  35401.jpg\n",
       "24643       44442  48131      Handbags  48131.jpg\n",
       "24644       44443   7960       Tshirts   7960.jpg\n",
       "24645       44445  29422       Watches  29422.jpg\n",
       "\n",
       "[24646 rows x 4 columns]"
      ]
     },
     "execution_count": 3,
     "metadata": {},
     "output_type": "execute_result"
    }
   ],
   "source": [
    "class_df = pd.read_csv('/Users/thaophan/Documents/Flatiron/Phase5_Project/Capstone_fashion_label_classification_from_images/class_df.csv')\n",
    "class_df"
   ]
  },
  {
   "cell_type": "code",
   "execution_count": 4,
   "metadata": {},
   "outputs": [],
   "source": [
    "class_0_tshirt_list = list(class_df[(class_df['producttype']==\"Tshirts\")]['image_id'])\n",
    "class_1_shirt_list = list(class_df[(class_df['producttype']==\"Shirts\")]['image_id'])\n",
    "class_2_casualshoes_list = list(class_df[(class_df['producttype']==\"Casual Shoes\")]['image_id'])\n",
    "class_3_watches_list = list(class_df[(class_df['producttype']==\"Watches\")]['image_id'])\n",
    "class_4_sportsshoes_list = list(class_df[(class_df['producttype']==\"Sports Shoes\")]['image_id'])\n",
    "class_5_kurtas_list = list(class_df[(class_df['producttype']==\"Kurtas\")]['image_id'])\n",
    "class_6_handbags_list = list(class_df[(class_df['producttype']==\"Handbags\")]['image_id'])\n",
    "class_7_heels_list = list(class_df[(class_df['producttype']==\"Heels\")]['image_id'])\n",
    "class_8_sunglasses_list = list(class_df[(class_df['producttype']==\"Sunglasses\")]['image_id'])\n",
    "class_9_wallets_list = list(class_df[(class_df['producttype']==\"Wallets\")]['image_id'])"
   ]
  },
  {
   "cell_type": "code",
   "execution_count": 5,
   "metadata": {},
   "outputs": [],
   "source": [
    "class_list_all = [class_0_tshirt_list,class_1_shirt_list,class_2_casualshoes_list,class_3_watches_list,class_4_sportsshoes_list,class_5_kurtas_list,class_6_handbags_list,class_7_heels_list,class_8_sunglasses_list,class_9_wallets_list]"
   ]
  },
  {
   "cell_type": "code",
   "execution_count": 6,
   "metadata": {},
   "outputs": [],
   "source": [
    "class_folder_all =['/Users/thaophan/Documents/Flatiron/Phase5_Project/Capstone_fashion_label_classification_from_images/Data/0',\n",
    "                  '/Users/thaophan/Documents/Flatiron/Phase5_Project/Capstone_fashion_label_classification_from_images/Data/1',\n",
    "                  '/Users/thaophan/Documents/Flatiron/Phase5_Project/Capstone_fashion_label_classification_from_images/Data/2',\n",
    "                   '/Users/thaophan/Documents/Flatiron/Phase5_Project/Capstone_fashion_label_classification_from_images/Data/3',\n",
    "                   '/Users/thaophan/Documents/Flatiron/Phase5_Project/Capstone_fashion_label_classification_from_images/Data/4',\n",
    "                   '/Users/thaophan/Documents/Flatiron/Phase5_Project/Capstone_fashion_label_classification_from_images/Data/5',\n",
    "                   '/Users/thaophan/Documents/Flatiron/Phase5_Project/Capstone_fashion_label_classification_from_images/Data/6',\n",
    "                   '/Users/thaophan/Documents/Flatiron/Phase5_Project/Capstone_fashion_label_classification_from_images/Data/7',\n",
    "                   '/Users/thaophan/Documents/Flatiron/Phase5_Project/Capstone_fashion_label_classification_from_images/Data/8',\n",
    "                   '/Users/thaophan/Documents/Flatiron/Phase5_Project/Capstone_fashion_label_classification_from_images/Data/9',\n",
    "]"
   ]
  },
  {
   "cell_type": "markdown",
   "metadata": {},
   "source": [
    "### Baseline model"
   ]
  },
  {
   "cell_type": "code",
   "execution_count": 7,
   "metadata": {},
   "outputs": [
    {
     "name": "stdout",
     "output_type": "stream",
     "text": [
      "Found 14782 images belonging to 10 classes.\n",
      "Found 4935 images belonging to 10 classes.\n",
      "Found 4926 images belonging to 10 classes.\n"
     ]
    }
   ],
   "source": [
    "# Directory path\n",
    "train_data_dir = '/Users/thaophan/Documents/Flatiron/Phase5_Project/Capstone_fashion_label_classification_from_images/Data/Train_Test_Validation/Train'\n",
    "val_data_dir = '/Users/thaophan/Documents/Flatiron/Phase5_Project/Capstone_fashion_label_classification_from_images/Data/Train_Test_Validation/Validation'\n",
    "test_data_dir = '/Users/thaophan/Documents/Flatiron/Phase5_Project/Capstone_fashion_label_classification_from_images/Data/Train_Test_Validation/Test'\n",
    "\n",
    "image_size = (256, 256)\n",
    "num_classes = 10\n",
    "\n",
    "image_size = (256, 256)\n",
    "num_classes = 10\n",
    "\n",
    "train_datagen_baseline = ImageDataGenerator(rescale=1./255)\n",
    " \n",
    "val_datagen_baseline = ImageDataGenerator(rescale = 1/255)\n",
    "\n",
    "test_datagen_baseline = ImageDataGenerator(rescale = 1/255)\n",
    "\n",
    "\n",
    "train_generator_baseline = train_datagen_baseline.flow_from_directory(directory=train_data_dir, target_size = image_size,\n",
    "                                                   class_mode='categorical',\n",
    "                                                    batch_size=64,\n",
    "                                                    shuffle=True,\n",
    "                                                    classes=[str(i) for i in range(num_classes)])\n",
    "\n",
    "val_generator_baseline = val_datagen_baseline.flow_from_directory(directory=val_data_dir, target_size = image_size,\n",
    "                                                   class_mode='categorical',\n",
    "                                                    batch_size=64,\n",
    "                                                shuffle=True,\n",
    "                                                  classes=[str(i) for i in range(num_classes)])\n",
    "\n",
    "test_generator_baseline = test_datagen_baseline.flow_from_directory(directory=test_data_dir, target_size = image_size,\n",
    "                                                    class_mode='categorical',\n",
    "                                                   batch_size=64,\n",
    "                                                  shuffle=False,\n",
    "                                                  classes=[str(i) for i in range(num_classes)])\n"
   ]
  },
  {
   "cell_type": "code",
   "execution_count": 18,
   "metadata": {},
   "outputs": [],
   "source": [
    "cnn_model_baseline = Sequential()\n",
    "cnn_model_baseline.add(layers.Conv2D(32, (3, 3), activation='relu', input_shape=(256, 256, 3)))\n",
    "cnn_model_baseline.add(layers.MaxPooling2D(2, 2))\n",
    "cnn_model_baseline.add(layers.Conv2D(64, (3, 3), activation='relu'))\n",
    "cnn_model_baseline.add(layers.MaxPooling2D(2, 2))\n",
    "cnn_model_baseline.add(layers.Flatten())\n",
    "cnn_model_baseline.add(layers.Dense(128, activation='relu'))\n",
    "cnn_model_baseline.add(layers.Dense(10, activation='softmax'))"
   ]
  },
  {
   "cell_type": "code",
   "execution_count": 19,
   "metadata": {},
   "outputs": [],
   "source": [
    "cnn_model_baseline.compile(loss='categorical_crossentropy',\n",
    "                  optimizer='Adam',\n",
    "                  metrics=['accuracy','AUC','Precision','Recall'])"
   ]
  },
  {
   "cell_type": "code",
   "execution_count": 48,
   "metadata": {
    "scrolled": true
   },
   "outputs": [
    {
     "name": "stdout",
     "output_type": "stream",
     "text": [
      "Epoch 1/50\n",
      "231/231 [==============================] - 201s 868ms/step - loss: 0.9159 - accuracy: 0.8123 - auc: 0.9729 - precision: 0.8635 - recall: 0.7640 - val_loss: 0.2876 - val_accuracy: 0.9031 - val_auc: 0.9944 - val_precision: 0.9190 - val_recall: 0.8780\n",
      "Epoch 2/50\n",
      "231/231 [==============================] - 197s 851ms/step - loss: 0.1795 - accuracy: 0.9414 - auc: 0.9971 - precision: 0.9475 - recall: 0.9311 - val_loss: 0.2159 - val_accuracy: 0.9313 - val_auc: 0.9954 - val_precision: 0.9380 - val_recall: 0.9220\n",
      "Epoch 3/50\n",
      "231/231 [==============================] - 196s 850ms/step - loss: 0.1114 - accuracy: 0.9618 - auc: 0.9985 - precision: 0.9650 - recall: 0.9561 - val_loss: 0.2363 - val_accuracy: 0.9341 - val_auc: 0.9946 - val_precision: 0.9399 - val_recall: 0.9260\n",
      "Epoch 4/50\n",
      "231/231 [==============================] - 197s 852ms/step - loss: 0.0713 - accuracy: 0.9747 - auc: 0.9995 - precision: 0.9765 - recall: 0.9709 - val_loss: 0.2582 - val_accuracy: 0.9309 - val_auc: 0.9915 - val_precision: 0.9339 - val_recall: 0.9271\n",
      "Epoch 5/50\n",
      "231/231 [==============================] - 197s 851ms/step - loss: 0.0421 - accuracy: 0.9870 - auc: 0.9996 - precision: 0.9877 - recall: 0.9847 - val_loss: 0.3226 - val_accuracy: 0.9222 - val_auc: 0.9889 - val_precision: 0.9256 - val_recall: 0.9181\n",
      "Epoch 6/50\n",
      "231/231 [==============================] - 196s 851ms/step - loss: 0.0251 - accuracy: 0.9915 - auc: 0.9999 - precision: 0.9921 - recall: 0.9906 - val_loss: 0.3153 - val_accuracy: 0.9360 - val_auc: 0.9881 - val_precision: 0.9376 - val_recall: 0.9350\n",
      "Epoch 7/50\n",
      "231/231 [==============================] - 196s 851ms/step - loss: 0.0230 - accuracy: 0.9930 - auc: 0.9998 - precision: 0.9934 - recall: 0.9919 - val_loss: 0.3524 - val_accuracy: 0.9264 - val_auc: 0.9868 - val_precision: 0.9289 - val_recall: 0.9234\n",
      "Epoch 8/50\n",
      "231/231 [==============================] - 196s 850ms/step - loss: 0.0299 - accuracy: 0.9908 - auc: 0.9997 - precision: 0.9913 - recall: 0.9898 - val_loss: 0.4448 - val_accuracy: 0.9163 - val_auc: 0.9830 - val_precision: 0.9193 - val_recall: 0.9139\n",
      "Epoch 9/50\n",
      "231/231 [==============================] - 196s 849ms/step - loss: 0.0205 - accuracy: 0.9949 - auc: 0.9997 - precision: 0.9950 - recall: 0.9940 - val_loss: 0.4002 - val_accuracy: 0.9348 - val_auc: 0.9858 - val_precision: 0.9349 - val_recall: 0.9343\n",
      "Epoch 10/50\n",
      "231/231 [==============================] - 196s 848ms/step - loss: 0.0593 - accuracy: 0.9819 - auc: 0.9994 - precision: 0.9843 - recall: 0.9788 - val_loss: 0.4550 - val_accuracy: 0.9127 - val_auc: 0.9835 - val_precision: 0.9154 - val_recall: 0.9104\n",
      "Epoch 11/50\n",
      "231/231 [==============================] - 196s 850ms/step - loss: 0.0320 - accuracy: 0.9911 - auc: 0.9993 - precision: 0.9915 - recall: 0.9904 - val_loss: 0.4059 - val_accuracy: 0.9264 - val_auc: 0.9851 - val_precision: 0.9284 - val_recall: 0.9246\n",
      "Epoch 12/50\n",
      "231/231 [==============================] - 196s 848ms/step - loss: 0.0069 - accuracy: 0.9981 - auc: 1.0000 - precision: 0.9981 - recall: 0.9979 - val_loss: 0.4645 - val_accuracy: 0.9362 - val_auc: 0.9833 - val_precision: 0.9374 - val_recall: 0.9350\n",
      "Epoch 13/50\n",
      "231/231 [==============================] - 196s 850ms/step - loss: 0.0069 - accuracy: 0.9985 - auc: 0.9999 - precision: 0.9985 - recall: 0.9981 - val_loss: 0.4788 - val_accuracy: 0.9356 - val_auc: 0.9830 - val_precision: 0.9365 - val_recall: 0.9354\n",
      "Epoch 14/50\n",
      "231/231 [==============================] - 196s 849ms/step - loss: 0.0030 - accuracy: 0.9992 - auc: 1.0000 - precision: 0.9992 - recall: 0.9992 - val_loss: 0.5149 - val_accuracy: 0.9335 - val_auc: 0.9817 - val_precision: 0.9343 - val_recall: 0.9329\n",
      "Epoch 15/50\n",
      "231/231 [==============================] - 196s 849ms/step - loss: 0.0021 - accuracy: 0.9995 - auc: 1.0000 - precision: 0.9995 - recall: 0.9995 - val_loss: 0.5112 - val_accuracy: 0.9350 - val_auc: 0.9817 - val_precision: 0.9351 - val_recall: 0.9343\n",
      "Epoch 16/50\n",
      "231/231 [==============================] - 196s 849ms/step - loss: 8.4686e-04 - accuracy: 0.9999 - auc: 1.0000 - precision: 0.9999 - recall: 0.9999 - val_loss: 0.5300 - val_accuracy: 0.9374 - val_auc: 0.9812 - val_precision: 0.9381 - val_recall: 0.9370\n",
      "Epoch 17/50\n",
      "231/231 [==============================] - 196s 848ms/step - loss: 0.0081 - accuracy: 0.9982 - auc: 0.9998 - precision: 0.9982 - recall: 0.9980 - val_loss: 0.4928 - val_accuracy: 0.9301 - val_auc: 0.9820 - val_precision: 0.9308 - val_recall: 0.9295\n",
      "Epoch 18/50\n",
      "231/231 [==============================] - 196s 848ms/step - loss: 0.0057 - accuracy: 0.9988 - auc: 0.9999 - precision: 0.9988 - recall: 0.9988 - val_loss: 0.5746 - val_accuracy: 0.9271 - val_auc: 0.9800 - val_precision: 0.9276 - val_recall: 0.9268\n",
      "Epoch 19/50\n",
      "231/231 [==============================] - 196s 847ms/step - loss: 0.0203 - accuracy: 0.9940 - auc: 0.9997 - precision: 0.9941 - recall: 0.9938 - val_loss: 0.5384 - val_accuracy: 0.9248 - val_auc: 0.9793 - val_precision: 0.9260 - val_recall: 0.9234\n",
      "Epoch 20/50\n",
      "231/231 [==============================] - 196s 847ms/step - loss: 0.0144 - accuracy: 0.9959 - auc: 0.9997 - precision: 0.9961 - recall: 0.9957 - val_loss: 0.5098 - val_accuracy: 0.9268 - val_auc: 0.9798 - val_precision: 0.9281 - val_recall: 0.9260\n",
      "Epoch 21/50\n",
      "231/231 [==============================] - 195s 846ms/step - loss: 0.2691 - accuracy: 0.9368 - auc: 0.9927 - precision: 0.9469 - recall: 0.9258 - val_loss: 0.5123 - val_accuracy: 0.8877 - val_auc: 0.9824 - val_precision: 0.8955 - val_recall: 0.8788\n",
      "Epoch 22/50\n",
      "231/231 [==============================] - 195s 846ms/step - loss: 0.0443 - accuracy: 0.9867 - auc: 0.9994 - precision: 0.9874 - recall: 0.9843 - val_loss: 0.5030 - val_accuracy: 0.9129 - val_auc: 0.9824 - val_precision: 0.9153 - val_recall: 0.9108\n",
      "Epoch 23/50\n",
      "231/231 [==============================] - 195s 845ms/step - loss: 0.0067 - accuracy: 0.9987 - auc: 1.0000 - precision: 0.9987 - recall: 0.9984 - val_loss: 0.5180 - val_accuracy: 0.9202 - val_auc: 0.9814 - val_precision: 0.9217 - val_recall: 0.9187\n",
      "Epoch 24/50\n",
      "231/231 [==============================] - 196s 849ms/step - loss: 0.0025 - accuracy: 0.9996 - auc: 1.0000 - precision: 0.9997 - recall: 0.9995 - val_loss: 0.5505 - val_accuracy: 0.9260 - val_auc: 0.9806 - val_precision: 0.9269 - val_recall: 0.9254\n",
      "Epoch 25/50\n",
      "231/231 [==============================] - 195s 845ms/step - loss: 5.6844e-04 - accuracy: 1.0000 - auc: 1.0000 - precision: 1.0000 - recall: 1.0000 - val_loss: 0.5764 - val_accuracy: 0.9275 - val_auc: 0.9803 - val_precision: 0.9284 - val_recall: 0.9268\n",
      "Epoch 26/50\n",
      "231/231 [==============================] - 195s 845ms/step - loss: 0.0018 - accuracy: 0.9997 - auc: 1.0000 - precision: 0.9997 - recall: 0.9997 - val_loss: 0.5741 - val_accuracy: 0.9291 - val_auc: 0.9806 - val_precision: 0.9302 - val_recall: 0.9289\n",
      "Epoch 27/50\n",
      "231/231 [==============================] - 195s 846ms/step - loss: 0.0013 - accuracy: 0.9998 - auc: 1.0000 - precision: 0.9998 - recall: 0.9998 - val_loss: 0.5859 - val_accuracy: 0.9287 - val_auc: 0.9813 - val_precision: 0.9288 - val_recall: 0.9281\n",
      "Epoch 28/50\n",
      "231/231 [==============================] - 195s 846ms/step - loss: 7.0885e-04 - accuracy: 0.9999 - auc: 1.0000 - precision: 0.9999 - recall: 0.9999 - val_loss: 0.6006 - val_accuracy: 0.9297 - val_auc: 0.9810 - val_precision: 0.9301 - val_recall: 0.9297\n",
      "Epoch 29/50\n",
      "231/231 [==============================] - 195s 846ms/step - loss: 7.2875e-04 - accuracy: 0.9999 - auc: 1.0000 - precision: 0.9999 - recall: 0.9999 - val_loss: 0.6237 - val_accuracy: 0.9262 - val_auc: 0.9797 - val_precision: 0.9266 - val_recall: 0.9254\n",
      "Epoch 30/50\n",
      "231/231 [==============================] - 195s 845ms/step - loss: 0.0201 - accuracy: 0.9951 - auc: 0.9995 - precision: 0.9954 - recall: 0.9946 - val_loss: 0.6529 - val_accuracy: 0.9078 - val_auc: 0.9767 - val_precision: 0.9097 - val_recall: 0.9066\n",
      "Epoch 31/50\n",
      "231/231 [==============================] - 196s 846ms/step - loss: 0.0101 - accuracy: 0.9972 - auc: 0.9999 - precision: 0.9973 - recall: 0.9972 - val_loss: 0.6928 - val_accuracy: 0.9183 - val_auc: 0.9742 - val_precision: 0.9198 - val_recall: 0.9177\n",
      "Epoch 32/50\n",
      "231/231 [==============================] - 195s 846ms/step - loss: 0.0047 - accuracy: 0.9984 - auc: 0.9999 - precision: 0.9984 - recall: 0.9984 - val_loss: 0.7337 - val_accuracy: 0.9173 - val_auc: 0.9761 - val_precision: 0.9186 - val_recall: 0.9167\n",
      "Epoch 33/50\n",
      "231/231 [==============================] - 196s 847ms/step - loss: 0.0057 - accuracy: 0.9990 - auc: 0.9999 - precision: 0.9990 - recall: 0.9988 - val_loss: 0.7009 - val_accuracy: 0.9210 - val_auc: 0.9780 - val_precision: 0.9216 - val_recall: 0.9200\n",
      "Epoch 34/50\n",
      "231/231 [==============================] - 195s 846ms/step - loss: 0.0041 - accuracy: 0.9989 - auc: 0.9999 - precision: 0.9989 - recall: 0.9989 - val_loss: 0.7152 - val_accuracy: 0.9266 - val_auc: 0.9779 - val_precision: 0.9272 - val_recall: 0.9260\n",
      "Epoch 35/50\n",
      "231/231 [==============================] - 195s 846ms/step - loss: 0.0054 - accuracy: 0.9989 - auc: 0.9998 - precision: 0.9989 - recall: 0.9989 - val_loss: 0.6749 - val_accuracy: 0.9108 - val_auc: 0.9764 - val_precision: 0.9122 - val_recall: 0.9096\n",
      "Epoch 36/50\n",
      "231/231 [==============================] - 195s 845ms/step - loss: 0.0044 - accuracy: 0.9988 - auc: 0.9999 - precision: 0.9988 - recall: 0.9988 - val_loss: 0.6394 - val_accuracy: 0.9194 - val_auc: 0.9789 - val_precision: 0.9212 - val_recall: 0.9185\n",
      "Epoch 37/50\n",
      "231/231 [==============================] - 195s 846ms/step - loss: 0.0011 - accuracy: 0.9999 - auc: 1.0000 - precision: 0.9999 - recall: 0.9999 - val_loss: 0.6526 - val_accuracy: 0.9212 - val_auc: 0.9779 - val_precision: 0.9222 - val_recall: 0.9202\n",
      "Epoch 38/50\n",
      "231/231 [==============================] - 195s 846ms/step - loss: 0.0012 - accuracy: 0.9999 - auc: 0.9999 - precision: 0.9999 - recall: 0.9999 - val_loss: 0.6266 - val_accuracy: 0.9273 - val_auc: 0.9792 - val_precision: 0.9276 - val_recall: 0.9268\n",
      "Epoch 39/50\n",
      "231/231 [==============================] - 196s 846ms/step - loss: 2.1467e-04 - accuracy: 0.9999 - auc: 1.0000 - precision: 0.9999 - recall: 0.9999 - val_loss: 0.6431 - val_accuracy: 0.9289 - val_auc: 0.9790 - val_precision: 0.9293 - val_recall: 0.9289\n",
      "Epoch 40/50\n",
      "231/231 [==============================] - 196s 847ms/step - loss: 9.9738e-04 - accuracy: 0.9999 - auc: 1.0000 - precision: 0.9999 - recall: 0.9999 - val_loss: 0.6493 - val_accuracy: 0.9175 - val_auc: 0.9788 - val_precision: 0.9189 - val_recall: 0.9159\n",
      "Epoch 41/50\n",
      "231/231 [==============================] - 195s 846ms/step - loss: 6.4827e-04 - accuracy: 0.9999 - auc: 1.0000 - precision: 0.9999 - recall: 0.9999 - val_loss: 0.6345 - val_accuracy: 0.9266 - val_auc: 0.9799 - val_precision: 0.9268 - val_recall: 0.9262\n",
      "Epoch 42/50\n",
      "231/231 [==============================] - 196s 846ms/step - loss: 2.3461e-04 - accuracy: 0.9999 - auc: 1.0000 - precision: 0.9999 - recall: 0.9999 - val_loss: 0.6430 - val_accuracy: 0.9289 - val_auc: 0.9788 - val_precision: 0.9294 - val_recall: 0.9289\n",
      "Epoch 43/50\n",
      "231/231 [==============================] - 196s 847ms/step - loss: 0.0010 - accuracy: 0.9999 - auc: 1.0000 - precision: 0.9999 - recall: 0.9999 - val_loss: 0.6221 - val_accuracy: 0.9214 - val_auc: 0.9785 - val_precision: 0.9226 - val_recall: 0.9204\n",
      "Epoch 44/50\n",
      "231/231 [==============================] - 196s 846ms/step - loss: 4.5322e-05 - accuracy: 1.0000 - auc: 1.0000 - precision: 1.0000 - recall: 1.0000 - val_loss: 0.6647 - val_accuracy: 0.9317 - val_auc: 0.9790 - val_precision: 0.9322 - val_recall: 0.9311\n",
      "Epoch 45/50\n",
      "231/231 [==============================] - 196s 847ms/step - loss: 1.5124e-05 - accuracy: 1.0000 - auc: 1.0000 - precision: 1.0000 - recall: 1.0000 - val_loss: 0.6712 - val_accuracy: 0.9325 - val_auc: 0.9790 - val_precision: 0.9331 - val_recall: 0.9323\n",
      "Epoch 46/50\n",
      "231/231 [==============================] - 195s 845ms/step - loss: 1.0786e-05 - accuracy: 1.0000 - auc: 1.0000 - precision: 1.0000 - recall: 1.0000 - val_loss: 0.6782 - val_accuracy: 0.9325 - val_auc: 0.9789 - val_precision: 0.9329 - val_recall: 0.9325\n",
      "Epoch 47/50\n",
      "231/231 [==============================] - 196s 847ms/step - loss: 8.5390e-06 - accuracy: 1.0000 - auc: 1.0000 - precision: 1.0000 - recall: 1.0000 - val_loss: 0.6838 - val_accuracy: 0.9329 - val_auc: 0.9789 - val_precision: 0.9331 - val_recall: 0.9327\n",
      "Epoch 48/50\n",
      "231/231 [==============================] - 196s 847ms/step - loss: 6.9981e-06 - accuracy: 1.0000 - auc: 1.0000 - precision: 1.0000 - recall: 1.0000 - val_loss: 0.6897 - val_accuracy: 0.9327 - val_auc: 0.9786 - val_precision: 0.9331 - val_recall: 0.9325\n",
      "Epoch 49/50\n",
      "231/231 [==============================] - 195s 846ms/step - loss: 5.8271e-06 - accuracy: 1.0000 - auc: 1.0000 - precision: 1.0000 - recall: 1.0000 - val_loss: 0.6954 - val_accuracy: 0.9331 - val_auc: 0.9784 - val_precision: 0.9333 - val_recall: 0.9329\n",
      "Epoch 50/50\n",
      "231/231 [==============================] - 196s 848ms/step - loss: 4.9313e-06 - accuracy: 1.0000 - auc: 1.0000 - precision: 1.0000 - recall: 1.0000 - val_loss: 0.7005 - val_accuracy: 0.9331 - val_auc: 0.9784 - val_precision: 0.9333 - val_recall: 0.9329\n"
     ]
    }
   ],
   "source": [
    "history_cnn_model_baseline = cnn_model_baseline.fit(train_generator_baseline,\n",
    "                        steps_per_epoch=len(train_generator_baseline),\n",
    "                        epochs=50,\n",
    "                        validation_data=val_generator_baseline,\n",
    "                        validation_steps=len(val_generator_baseline))"
   ]
  },
  {
   "cell_type": "markdown",
   "metadata": {},
   "source": [
    "#### Save the model"
   ]
  },
  {
   "cell_type": "markdown",
   "metadata": {},
   "source": [
    "Here are the saved model and training history. We have commented out the code to avoid duplicate saves."
   ]
  },
  {
   "cell_type": "code",
   "execution_count": 56,
   "metadata": {},
   "outputs": [],
   "source": [
    "# cnn_model_baseline.save('cnn_baseline_model_50epoch.h5')"
   ]
  },
  {
   "cell_type": "code",
   "execution_count": 50,
   "metadata": {},
   "outputs": [],
   "source": [
    "# hdf5storage.savemat(\"history_cnn_model_baseline_50epoch.h5\", history_cnn_model_baseline.history)"
   ]
  },
  {
   "cell_type": "markdown",
   "metadata": {},
   "source": [
    "#### Evaluate the model"
   ]
  },
  {
   "cell_type": "markdown",
   "metadata": {},
   "source": [
    "Load the model out."
   ]
  },
  {
   "cell_type": "code",
   "execution_count": 21,
   "metadata": {},
   "outputs": [],
   "source": [
    "cnn_model_baseline_loaded = load_model('cnn_baseline_model_50epoch.h5')"
   ]
  },
  {
   "cell_type": "code",
   "execution_count": 22,
   "metadata": {},
   "outputs": [
    {
     "name": "stdout",
     "output_type": "stream",
     "text": [
      "231/231 [==============================] - 52s 226ms/step - loss: 4.3856e-06 - accuracy: 1.0000 - auc: 1.0000 - precision: 1.0000 - recall: 1.0000\n"
     ]
    },
    {
     "data": {
      "text/plain": [
       "[4.3856293814314995e-06, 1.0, 1.0, 1.0, 1.0]"
      ]
     },
     "execution_count": 22,
     "metadata": {},
     "output_type": "execute_result"
    }
   ],
   "source": [
    "cnn_model_baseline_loaded.evaluate(train_generator_baseline)"
   ]
  },
  {
   "cell_type": "code",
   "execution_count": 67,
   "metadata": {},
   "outputs": [
    {
     "name": "stdout",
     "output_type": "stream",
     "text": [
      "78/78 [==============================] - 17s 221ms/step - loss: 0.7005 - accuracy: 0.9331 - auc: 0.9784 - precision: 0.9333 - recall: 0.9329\n"
     ]
    },
    {
     "data": {
      "text/plain": [
       "[0.7004615664482117,\n",
       " 0.93313068151474,\n",
       " 0.9783970713615417,\n",
       " 0.9333062767982483,\n",
       " 0.9329280853271484]"
      ]
     },
     "execution_count": 67,
     "metadata": {},
     "output_type": "execute_result"
    }
   ],
   "source": [
    "cnn_model_baseline_loaded.evaluate(val_generator_baseline)"
   ]
  },
  {
   "cell_type": "code",
   "execution_count": 65,
   "metadata": {
    "scrolled": false
   },
   "outputs": [
    {
     "name": "stdout",
     "output_type": "stream",
     "text": [
      "77/77 [==============================] - 17s 225ms/step - loss: 0.7448 - accuracy: 0.9255 - auc: 0.9756 - precision: 0.9262 - recall: 0.9251\n"
     ]
    },
    {
     "data": {
      "text/plain": [
       "[0.7448127865791321,\n",
       " 0.9254973530769348,\n",
       " 0.975583553314209,\n",
       " 0.9262195229530334,\n",
       " 0.9250913262367249]"
      ]
     },
     "execution_count": 65,
     "metadata": {},
     "output_type": "execute_result"
    }
   ],
   "source": [
    "cnn_model_baseline_loaded.evaluate(test_generator_baseline)"
   ]
  },
  {
   "cell_type": "markdown",
   "metadata": {},
   "source": [
    "Load the history out."
   ]
  },
  {
   "cell_type": "code",
   "execution_count": 23,
   "metadata": {},
   "outputs": [],
   "source": [
    "history_cnn_model_baseline_loaded = hdf5storage.loadmat(\"history_cnn_model_baseline_50epoch.h5\")"
   ]
  },
  {
   "cell_type": "code",
   "execution_count": 25,
   "metadata": {},
   "outputs": [
    {
     "name": "stdout",
     "output_type": "stream",
     "text": [
      "dict_keys(['accuracy', 'auc', 'loss', 'precision', 'recall', 'val_accuracy', 'val_auc', 'val_loss', 'val_precision', 'val_recall'])\n"
     ]
    }
   ],
   "source": [
    "print(history_cnn_model_baseline_loaded.keys())"
   ]
  },
  {
   "cell_type": "code",
   "execution_count": 26,
   "metadata": {},
   "outputs": [
    {
     "data": {
      "image/png": "[encoded data removed]",
      "text/plain": [
       "<Figure size 800x600 with 1 Axes>"
      ]
     },
     "metadata": {},
     "output_type": "display_data"
    }
   ],
   "source": [
    "fig,ax=plt.subplots(figsize=(8,6))\n",
    "\n",
    "cnn_baseline_loss_values = history_cnn_model_baseline_loaded['loss']\n",
    "cnn_baseline_val_loss_values = history_cnn_model_baseline_loaded['val_loss']\n",
    "\n",
    "\n",
    "epochs = range(1,len(cnn_baseline_loss_values)+1)\n",
    "\n",
    "ax.plot(epochs,cnn_baseline_loss_values,label='Train loss vs epochs')\n",
    "ax.plot(epochs,cnn_baseline_val_loss_values,label='Validation loss vs epochs')\n",
    "\n",
    "ax.set_title('Train & validation loss')\n",
    "ax.legend()\n",
    "ax.set_xlabel('Epochs')\n",
    "plt.grid()\n",
    "ax.set_ylabel('Loss');"
   ]
  },
  {
   "cell_type": "code",
   "execution_count": 73,
   "metadata": {},
   "outputs": [
    {
     "data": {
      "image/png": "[encoded data removed]",
      "text/plain": [
       "<Figure size 800x600 with 1 Axes>"
      ]
     },
     "metadata": {},
     "output_type": "display_data"
    }
   ],
   "source": [
    "fig,ax=plt.subplots(figsize=(8,6))\n",
    "\n",
    "cnn_baseline_acc_values = history_cnn_model_baseline.history['accuracy']\n",
    "cnn_baseline_val_acc_values = history_cnn_model_baseline.history['val_accuracy']\n",
    "\n",
    "\n",
    "epochs = range(1,len(cnn_baseline_acc_values)+1)\n",
    "\n",
    "ax.plot(epochs,cnn_baseline_acc_values,label='Train acc vs epochs')\n",
    "ax.plot(epochs,cnn_baseline_val_acc_values,label='Validation acc vs epochs')\n",
    "\n",
    "ax.set_title('Train & validation acc')\n",
    "ax.legend()\n",
    "ax.set_xlabel('Epochs')\n",
    "plt.grid()\n",
    "ax.set_ylabel('Acc');"
   ]
  },
  {
   "cell_type": "code",
   "execution_count": 27,
   "metadata": {},
   "outputs": [
    {
     "data": {
      "image/png": "[encoded data removed]",
      "text/plain": [
       "<Figure size 800x600 with 1 Axes>"
      ]
     },
     "metadata": {},
     "output_type": "display_data"
    }
   ],
   "source": [
    "fig,ax=plt.subplots(figsize=(8,6))\n",
    "\n",
    "cnn_baseline_AUC_values = history_cnn_model_baseline_loaded['auc']\n",
    "cnn_baseline_val_AUC_values = history_cnn_model_baseline_loaded['val_auc']\n",
    "\n",
    "\n",
    "epochs = range(1,len(cnn_baseline_AUC_values)+1)\n",
    "\n",
    "ax.plot(epochs,cnn_baseline_AUC_values,label='Train AUC vs epochs')\n",
    "ax.plot(epochs,cnn_baseline_val_AUC_values,label='Validation AUC vs epochs')\n",
    "\n",
    "ax.set_title('Train & validation AUC')\n",
    "ax.legend()\n",
    "ax.set_xlabel('Epochs')\n",
    "plt.grid()\n",
    "ax.set_ylabel('AUC');"
   ]
  },
  {
   "cell_type": "code",
   "execution_count": 28,
   "metadata": {},
   "outputs": [
    {
     "name": "stdout",
     "output_type": "stream",
     "text": [
      "77/77 [==============================] - 17s 224ms/step\n"
     ]
    }
   ],
   "source": [
    "cnn_baseline_test_class_pred = cnn_model_baseline_loaded.predict(test_generator_baseline,steps=len(test_generator_baseline))"
   ]
  },
  {
   "cell_type": "code",
   "execution_count": 29,
   "metadata": {},
   "outputs": [
    {
     "data": {
      "text/plain": [
       "array([0, 0, 0, ..., 9, 3, 0])"
      ]
     },
     "execution_count": 29,
     "metadata": {},
     "output_type": "execute_result"
    }
   ],
   "source": [
    "cnn_baseline_predicted_classes = np.argmax(cnn_baseline_test_class_pred, axis=-1)\n",
    "cnn_baseline_predicted_classes"
   ]
  },
  {
   "cell_type": "code",
   "execution_count": 30,
   "metadata": {},
   "outputs": [
    {
     "data": {
      "text/plain": [
       "array([0, 0, 0, ..., 9, 9, 9], dtype=int32)"
      ]
     },
     "execution_count": 30,
     "metadata": {},
     "output_type": "execute_result"
    }
   ],
   "source": [
    "test_true_classes = test_generator_baseline.classes\n",
    "test_true_classes"
   ]
  },
  {
   "cell_type": "code",
   "execution_count": 31,
   "metadata": {},
   "outputs": [
    {
     "data": {
      "text/plain": [
       "['0', '1', '2', '3', '4', '5', '6', '7', '8', '9']"
      ]
     },
     "execution_count": 31,
     "metadata": {},
     "output_type": "execute_result"
    }
   ],
   "source": [
    "test_class_labels = list(test_generator_baseline.class_indices.keys()) \n",
    "test_class_labels"
   ]
  },
  {
   "cell_type": "code",
   "execution_count": 32,
   "metadata": {},
   "outputs": [
    {
     "data": {
      "text/plain": [
       "['Tshirts',\n",
       " 'Shirts',\n",
       " 'casual_shoes',\n",
       " 'watches',\n",
       " 'sports_shoes',\n",
       " 'kurtas',\n",
       " 'handbags',\n",
       " 'heels',\n",
       " 'sunglasses',\n",
       " 'wallets']"
      ]
     },
     "execution_count": 32,
     "metadata": {},
     "output_type": "execute_result"
    }
   ],
   "source": [
    "test_class_labels_mapping = {0: 'Tshirts', 1: 'Shirts', 2: 'casual_shoes',3: 'watches' , 4: 'sports_shoes', 5: 'kurtas',6:'handbags',7:'heels',8:'sunglasses',9:'wallets'}\n",
    "test_class_labels_words = list(test_class_labels_mapping.values())\n",
    "test_class_labels_words "
   ]
  },
  {
   "cell_type": "code",
   "execution_count": 33,
   "metadata": {},
   "outputs": [
    {
     "data": {
      "text/plain": [
       "array([[1366,   28,    3,    2,    4,    9,    2,    0,    0,    0],\n",
       "       [  54,  585,    0,    1,    0,    3,    0,    0,    0,    0],\n",
       "       [   2,    0,  471,    0,   84,    0,    0,   12,    0,    0],\n",
       "       [   2,    1,    1,  502,    0,    0,    2,    0,    0,    0],\n",
       "       [   0,    0,   90,    1,  313,    0,    1,    0,    0,    2],\n",
       "       [  12,    7,    0,    0,    0,  350,    0,    0,    0,    0],\n",
       "       [   2,    0,    1,    4,    0,    1,  340,    0,    1,    3],\n",
       "       [   0,    0,    7,    2,    2,    0,    2,  251,    0,    0],\n",
       "       [   0,    0,    0,    0,    0,    0,    0,    0,  212,    1],\n",
       "       [   2,    0,    0,    1,    0,    0,   15,    0,    0,  169]])"
      ]
     },
     "execution_count": 33,
     "metadata": {},
     "output_type": "execute_result"
    }
   ],
   "source": [
    "cnn_baseline_cm_digits = confusion_matrix(test_true_classes, cnn_baseline_predicted_classes)\n",
    "cnn_baseline_cm_digits"
   ]
  },
  {
   "cell_type": "code",
   "execution_count": 34,
   "metadata": {},
   "outputs": [
    {
     "data": {
      "image/png": "[encoded data removed]",
      "text/plain": [
       "<Figure size 640x480 with 2 Axes>"
      ]
     },
     "metadata": {},
     "output_type": "display_data"
    }
   ],
   "source": [
    "cnn_baseline_disp = ConfusionMatrixDisplay(\n",
    "    confusion_matrix=cnn_baseline_cm_digits)\n",
    "\n",
    "cnn_baseline_disp.plot(cmap=plt.cm.Blues)\n",
    "plt.show()"
   ]
  },
  {
   "cell_type": "code",
   "execution_count": 36,
   "metadata": {},
   "outputs": [
    {
     "name": "stdout",
     "output_type": "stream",
     "text": [
      "              precision    recall  f1-score   support\n",
      "\n",
      "     Tshirts       0.95      0.97      0.96      1414\n",
      "      Shirts       0.94      0.91      0.93       643\n",
      "casual_shoes       0.82      0.83      0.82       569\n",
      "     watches       0.98      0.99      0.98       508\n",
      "sports_shoes       0.78      0.77      0.77       407\n",
      "      kurtas       0.96      0.95      0.96       369\n",
      "    handbags       0.94      0.97      0.95       352\n",
      "       heels       0.95      0.95      0.95       264\n",
      "  sunglasses       1.00      1.00      1.00       213\n",
      "     wallets       0.97      0.90      0.93       187\n",
      "\n",
      "    accuracy                           0.93      4926\n",
      "   macro avg       0.93      0.92      0.93      4926\n",
      "weighted avg       0.93      0.93      0.93      4926\n",
      "\n"
     ]
    }
   ],
   "source": [
    "cnn_baseline_report = classification_report(test_true_classes, cnn_baseline_predicted_classes, target_names=test_class_labels_words,)\n",
    "print(cnn_baseline_report)"
   ]
  },
  {
   "cell_type": "code",
   "execution_count": 37,
   "metadata": {},
   "outputs": [
    {
     "name": "stdout",
     "output_type": "stream",
     "text": [
      "{'Tshirts': {'precision': 0.9486111111111111, 'recall': 0.9660537482319661, 'f1-score': 0.9572529782761037, 'support': 1414}, 'Shirts': {'precision': 0.9420289855072463, 'recall': 0.9097978227060654, 'f1-score': 0.925632911392405, 'support': 643}, 'casual_shoes': {'precision': 0.8219895287958116, 'recall': 0.827768014059754, 'f1-score': 0.8248686514886164, 'support': 569}, 'watches': {'precision': 0.9785575048732943, 'recall': 0.9881889763779528, 'f1-score': 0.9833496571988247, 'support': 508}, 'sports_shoes': {'precision': 0.7766749379652605, 'recall': 0.769041769041769, 'f1-score': 0.7728395061728396, 'support': 407}, 'kurtas': {'precision': 0.9641873278236914, 'recall': 0.948509485094851, 'f1-score': 0.9562841530054644, 'support': 369}, 'handbags': {'precision': 0.9392265193370166, 'recall': 0.9659090909090909, 'f1-score': 0.9523809523809524, 'support': 352}, 'heels': {'precision': 0.9543726235741445, 'recall': 0.9507575757575758, 'f1-score': 0.9525616698292222, 'support': 264}, 'sunglasses': {'precision': 0.9953051643192489, 'recall': 0.9953051643192489, 'f1-score': 0.9953051643192489, 'support': 213}, 'wallets': {'precision': 0.9657142857142857, 'recall': 0.9037433155080213, 'f1-score': 0.9337016574585635, 'support': 187}, 'accuracy': 0.9254973609419407, 'macro avg': {'precision': 0.9286667989021111, 'recall': 0.9225074962006294, 'f1-score': 0.9254177301522241, 'support': 4926}, 'weighted avg': {'precision': 0.9254816292590945, 'recall': 0.9254973609419407, 'f1-score': 0.9253675759948996, 'support': 4926}}\n"
     ]
    }
   ],
   "source": [
    "cnn_baseline_report_output = classification_report(test_true_classes, cnn_baseline_predicted_classes, target_names=test_class_labels_words,output_dict=True)\n",
    "print(cnn_baseline_report_output)"
   ]
  },
  {
   "cell_type": "code",
   "execution_count": 38,
   "metadata": {},
   "outputs": [
    {
     "data": {
      "text/plain": [
       "{'Tshirts': 0.96,\n",
       " 'Shirts': 0.93,\n",
       " 'casual_shoes': 0.82,\n",
       " 'watches': 0.98,\n",
       " 'sports_shoes': 0.77,\n",
       " 'kurtas': 0.96,\n",
       " 'handbags': 0.95,\n",
       " 'heels': 0.95,\n",
       " 'sunglasses': 1.0,\n",
       " 'wallets': 0.93}"
      ]
     },
     "execution_count": 38,
     "metadata": {},
     "output_type": "execute_result"
    }
   ],
   "source": [
    "cnn_baseline_f1_scores = {class_name: cnn_baseline_report_output[class_name]['f1-score'] for class_name in test_class_labels_words}\n",
    "cnn_baseline_f1_scores_rounded = {class_name: round(score, 2) for class_name, score in cnn_baseline_f1_scores.items()}\n",
    "cnn_baseline_f1_scores_rounded"
   ]
  },
  {
   "cell_type": "code",
   "execution_count": 39,
   "metadata": {},
   "outputs": [
    {
     "data": {
      "text/plain": [
       "0.9254816292590945"
      ]
     },
     "execution_count": 39,
     "metadata": {},
     "output_type": "execute_result"
    }
   ],
   "source": [
    "cnn_baseline_model_precision = cnn_baseline_report_output['weighted avg']['precision']\n",
    "cnn_baseline_model_precision"
   ]
  },
  {
   "cell_type": "code",
   "execution_count": 40,
   "metadata": {},
   "outputs": [
    {
     "data": {
      "text/plain": [
       "0.9254973609419407"
      ]
     },
     "execution_count": 40,
     "metadata": {},
     "output_type": "execute_result"
    }
   ],
   "source": [
    "cnn_baseline_model_recall = cnn_baseline_report_output['weighted avg']['recall']\n",
    "cnn_baseline_model_recall"
   ]
  },
  {
   "cell_type": "code",
   "execution_count": 41,
   "metadata": {},
   "outputs": [
    {
     "data": {
      "text/plain": [
       "0.9253675759948996"
      ]
     },
     "execution_count": 41,
     "metadata": {},
     "output_type": "execute_result"
    }
   ],
   "source": [
    "cnn_baseline_model_f1score = cnn_baseline_report_output['weighted avg']['f1-score']\n",
    "cnn_baseline_model_f1score"
   ]
  },
  {
   "cell_type": "code",
   "execution_count": 42,
   "metadata": {},
   "outputs": [
    {
     "data": {
      "text/html": [
       "<div>\n",
       "<style scoped>\n",
       "    .dataframe tbody tr th:only-of-type {\n",
       "        vertical-align: middle;\n",
       "    }\n",
       "\n",
       "    .dataframe tbody tr th {\n",
       "        vertical-align: top;\n",
       "    }\n",
       "\n",
       "    .dataframe thead th {\n",
       "        text-align: right;\n",
       "    }\n",
       "</style>\n",
       "<table border=\"1\" class=\"dataframe\">\n",
       "  <thead>\n",
       "    <tr style=\"text-align: right;\">\n",
       "      <th></th>\n",
       "      <th>Model Name</th>\n",
       "      <th>Precision_All</th>\n",
       "      <th>Recall_All</th>\n",
       "      <th>F1_score_All</th>\n",
       "      <th>Tshirts</th>\n",
       "      <th>Shirts</th>\n",
       "      <th>casual_shoes</th>\n",
       "      <th>watches</th>\n",
       "      <th>sports_shoes</th>\n",
       "      <th>kurtas</th>\n",
       "      <th>handbags</th>\n",
       "      <th>heels</th>\n",
       "      <th>sunglasses</th>\n",
       "      <th>wallets</th>\n",
       "    </tr>\n",
       "  </thead>\n",
       "  <tbody>\n",
       "  </tbody>\n",
       "</table>\n",
       "</div>"
      ],
      "text/plain": [
       "Empty DataFrame\n",
       "Columns: [Model Name, Precision_All, Recall_All, F1_score_All, Tshirts, Shirts, casual_shoes, watches, sports_shoes, kurtas, handbags, heels, sunglasses, wallets]\n",
       "Index: []"
      ]
     },
     "execution_count": 42,
     "metadata": {},
     "output_type": "execute_result"
    }
   ],
   "source": [
    "#Create a summary table\n",
    "table_columns = ['Model Name','Precision_All','Recall_All','F1_score_All'] + list(cnn_baseline_f1_scores_rounded.keys())\n",
    "f1score_sumary_table = pd.DataFrame(columns=table_columns)\n",
    "f1score_sumary_table"
   ]
  },
  {
   "cell_type": "code",
   "execution_count": 43,
   "metadata": {},
   "outputs": [
    {
     "data": {
      "text/html": [
       "<div>\n",
       "<style scoped>\n",
       "    .dataframe tbody tr th:only-of-type {\n",
       "        vertical-align: middle;\n",
       "    }\n",
       "\n",
       "    .dataframe tbody tr th {\n",
       "        vertical-align: top;\n",
       "    }\n",
       "\n",
       "    .dataframe thead th {\n",
       "        text-align: right;\n",
       "    }\n",
       "</style>\n",
       "<table border=\"1\" class=\"dataframe\">\n",
       "  <thead>\n",
       "    <tr style=\"text-align: right;\">\n",
       "      <th></th>\n",
       "      <th>Model Name</th>\n",
       "      <th>Precision_All</th>\n",
       "      <th>Recall_All</th>\n",
       "      <th>F1_score_All</th>\n",
       "      <th>Tshirts</th>\n",
       "      <th>Shirts</th>\n",
       "      <th>casual_shoes</th>\n",
       "      <th>watches</th>\n",
       "      <th>sports_shoes</th>\n",
       "      <th>kurtas</th>\n",
       "      <th>handbags</th>\n",
       "      <th>heels</th>\n",
       "      <th>sunglasses</th>\n",
       "      <th>wallets</th>\n",
       "    </tr>\n",
       "  </thead>\n",
       "  <tbody>\n",
       "    <tr>\n",
       "      <th>0</th>\n",
       "      <td>cnn_baseline_model</td>\n",
       "      <td>0.93</td>\n",
       "      <td>0.93</td>\n",
       "      <td>0.93</td>\n",
       "      <td>0.96</td>\n",
       "      <td>0.93</td>\n",
       "      <td>0.82</td>\n",
       "      <td>0.98</td>\n",
       "      <td>0.77</td>\n",
       "      <td>0.96</td>\n",
       "      <td>0.95</td>\n",
       "      <td>0.95</td>\n",
       "      <td>1.0</td>\n",
       "      <td>0.93</td>\n",
       "    </tr>\n",
       "  </tbody>\n",
       "</table>\n",
       "</div>"
      ],
      "text/plain": [
       "           Model Name  Precision_All  Recall_All  F1_score_All  Tshirts  \\\n",
       "0  cnn_baseline_model           0.93        0.93          0.93     0.96   \n",
       "\n",
       "   Shirts  casual_shoes  watches  sports_shoes  kurtas  handbags  heels  \\\n",
       "0    0.93          0.82     0.98          0.77    0.96      0.95   0.95   \n",
       "\n",
       "   sunglasses  wallets  \n",
       "0         1.0     0.93  "
      ]
     },
     "execution_count": 43,
     "metadata": {},
     "output_type": "execute_result"
    }
   ],
   "source": [
    "f1score_sumary_table.loc[0] = ['cnn_baseline_model',round(cnn_baseline_model_precision,2),round(cnn_baseline_model_recall,2) ,round(cnn_baseline_model_f1score,2)] + list(cnn_baseline_f1_scores_rounded.values())\n",
    "f1score_sumary_table"
   ]
  },
  {
   "cell_type": "markdown",
   "metadata": {},
   "source": [
    "### 2nd CNN model"
   ]
  },
  {
   "cell_type": "code",
   "execution_count": 8,
   "metadata": {},
   "outputs": [],
   "source": [
    "cnn_model_bl2 = Sequential()\n",
    "cnn_model_bl2.add(layers.Conv2D(32, (3, 3), activation='relu', input_shape=(256, 256, 3)))\n",
    "cnn_model_bl2.add(layers.MaxPooling2D(2, 2))\n",
    "cnn_model_bl2.add(layers.Conv2D(64, (3, 3), activation='relu'))\n",
    "cnn_model_bl2.add(layers.MaxPooling2D(2, 2))\n",
    "cnn_model_bl2.add(layers.Conv2D(128, (3, 3), activation='relu'))\n",
    "cnn_model_bl2.add(layers.MaxPooling2D(2, 2))\n",
    "cnn_model_bl2.add(layers.Flatten())\n",
    "cnn_model_bl2.add(layers.Dense(128, activation='relu'))\n",
    "cnn_model_bl2.add(layers.Dense(10, activation='softmax'))"
   ]
  },
  {
   "cell_type": "code",
   "execution_count": 9,
   "metadata": {},
   "outputs": [],
   "source": [
    "cnn_model_bl2.compile(loss='categorical_crossentropy',\n",
    "                  optimizer='Adam',\n",
    "                  metrics=['accuracy','AUC','Precision','Recall'])"
   ]
  },
  {
   "cell_type": "code",
   "execution_count": 53,
   "metadata": {
    "scrolled": true
   },
   "outputs": [
    {
     "name": "stdout",
     "output_type": "stream",
     "text": [
      "Epoch 1/50\n",
      "231/231 [==============================] - 262s 1s/step - loss: 0.5766 - accuracy: 0.8055 - auc: 0.9794 - precision: 0.8667 - recall: 0.7567 - val_loss: 0.2709 - val_accuracy: 0.9076 - val_auc: 0.9942 - val_precision: 0.9213 - val_recall: 0.8916\n",
      "Epoch 2/50\n",
      "231/231 [==============================] - 261s 1s/step - loss: 0.2136 - accuracy: 0.9245 - auc: 0.9962 - precision: 0.9331 - recall: 0.9156 - val_loss: 0.2359 - val_accuracy: 0.9252 - val_auc: 0.9946 - val_precision: 0.9351 - val_recall: 0.9112\n",
      "Epoch 3/50\n",
      "231/231 [==============================] - 261s 1s/step - loss: 0.1480 - accuracy: 0.9486 - auc: 0.9980 - precision: 0.9527 - recall: 0.9424 - val_loss: 0.1817 - val_accuracy: 0.9398 - val_auc: 0.9960 - val_precision: 0.9442 - val_recall: 0.9354\n",
      "Epoch 4/50\n",
      "231/231 [==============================] - 261s 1s/step - loss: 0.0998 - accuracy: 0.9639 - auc: 0.9989 - precision: 0.9661 - recall: 0.9610 - val_loss: 0.1722 - val_accuracy: 0.9489 - val_auc: 0.9960 - val_precision: 0.9500 - val_recall: 0.9467\n",
      "Epoch 5/50\n",
      "231/231 [==============================] - 262s 1s/step - loss: 0.0663 - accuracy: 0.9758 - auc: 0.9994 - precision: 0.9766 - recall: 0.9750 - val_loss: 0.1967 - val_accuracy: 0.9427 - val_auc: 0.9945 - val_precision: 0.9445 - val_recall: 0.9408\n",
      "Epoch 6/50\n",
      "231/231 [==============================] - 261s 1s/step - loss: 0.0383 - accuracy: 0.9865 - auc: 0.9998 - precision: 0.9869 - recall: 0.9861 - val_loss: 0.2085 - val_accuracy: 0.9520 - val_auc: 0.9937 - val_precision: 0.9532 - val_recall: 0.9499\n",
      "Epoch 7/50\n",
      "231/231 [==============================] - 262s 1s/step - loss: 0.0255 - accuracy: 0.9914 - auc: 0.9999 - precision: 0.9915 - recall: 0.9913 - val_loss: 0.2713 - val_accuracy: 0.9414 - val_auc: 0.9911 - val_precision: 0.9423 - val_recall: 0.9406\n",
      "Epoch 8/50\n",
      "231/231 [==============================] - 262s 1s/step - loss: 0.0287 - accuracy: 0.9902 - auc: 0.9998 - precision: 0.9903 - recall: 0.9901 - val_loss: 0.2704 - val_accuracy: 0.9380 - val_auc: 0.9903 - val_precision: 0.9393 - val_recall: 0.9368\n",
      "Epoch 9/50\n",
      "231/231 [==============================] - 261s 1s/step - loss: 0.0234 - accuracy: 0.9915 - auc: 1.0000 - precision: 0.9915 - recall: 0.9911 - val_loss: 0.3263 - val_accuracy: 0.9402 - val_auc: 0.9888 - val_precision: 0.9412 - val_recall: 0.9398\n",
      "Epoch 10/50\n",
      "231/231 [==============================] - 262s 1s/step - loss: 0.0245 - accuracy: 0.9920 - auc: 0.9997 - precision: 0.9922 - recall: 0.9917 - val_loss: 0.2879 - val_accuracy: 0.9469 - val_auc: 0.9907 - val_precision: 0.9480 - val_recall: 0.9463\n",
      "Epoch 11/50\n",
      "231/231 [==============================] - 261s 1s/step - loss: 0.0283 - accuracy: 0.9912 - auc: 0.9998 - precision: 0.9915 - recall: 0.9907 - val_loss: 0.2736 - val_accuracy: 0.9443 - val_auc: 0.9904 - val_precision: 0.9454 - val_recall: 0.9435\n",
      "Epoch 12/50\n",
      "231/231 [==============================] - 261s 1s/step - loss: 0.0192 - accuracy: 0.9938 - auc: 0.9999 - precision: 0.9940 - recall: 0.9938 - val_loss: 0.2849 - val_accuracy: 0.9465 - val_auc: 0.9893 - val_precision: 0.9480 - val_recall: 0.9463\n",
      "Epoch 13/50\n",
      "231/231 [==============================] - 261s 1s/step - loss: 0.0039 - accuracy: 0.9989 - auc: 1.0000 - precision: 0.9990 - recall: 0.9989 - val_loss: 0.3298 - val_accuracy: 0.9465 - val_auc: 0.9886 - val_precision: 0.9469 - val_recall: 0.9459\n",
      "Epoch 14/50\n",
      "231/231 [==============================] - 261s 1s/step - loss: 0.0044 - accuracy: 0.9984 - auc: 1.0000 - precision: 0.9984 - recall: 0.9984 - val_loss: 0.3646 - val_accuracy: 0.9512 - val_auc: 0.9868 - val_precision: 0.9515 - val_recall: 0.9510\n",
      "Epoch 15/50\n",
      "231/231 [==============================] - 261s 1s/step - loss: 0.0114 - accuracy: 0.9961 - auc: 0.9999 - precision: 0.9963 - recall: 0.9960 - val_loss: 0.3030 - val_accuracy: 0.9451 - val_auc: 0.9893 - val_precision: 0.9462 - val_recall: 0.9451\n",
      "Epoch 16/50\n",
      "231/231 [==============================] - 261s 1s/step - loss: 0.0088 - accuracy: 0.9973 - auc: 0.9998 - precision: 0.9973 - recall: 0.9972 - val_loss: 0.3338 - val_accuracy: 0.9506 - val_auc: 0.9872 - val_precision: 0.9515 - val_recall: 0.9499\n",
      "Epoch 17/50\n",
      "231/231 [==============================] - 261s 1s/step - loss: 0.0091 - accuracy: 0.9978 - auc: 0.9998 - precision: 0.9978 - recall: 0.9978 - val_loss: 0.3437 - val_accuracy: 0.9364 - val_auc: 0.9878 - val_precision: 0.9371 - val_recall: 0.9354\n",
      "Epoch 18/50\n",
      "231/231 [==============================] - 261s 1s/step - loss: 0.0069 - accuracy: 0.9981 - auc: 0.9999 - precision: 0.9981 - recall: 0.9981 - val_loss: 0.3590 - val_accuracy: 0.9499 - val_auc: 0.9877 - val_precision: 0.9503 - val_recall: 0.9497\n",
      "Epoch 19/50\n",
      "231/231 [==============================] - 261s 1s/step - loss: 0.0194 - accuracy: 0.9931 - auc: 0.9998 - precision: 0.9932 - recall: 0.9929 - val_loss: 0.4886 - val_accuracy: 0.9337 - val_auc: 0.9837 - val_precision: 0.9344 - val_recall: 0.9329\n",
      "Epoch 20/50\n",
      "231/231 [==============================] - 261s 1s/step - loss: 0.0248 - accuracy: 0.9918 - auc: 0.9996 - precision: 0.9920 - recall: 0.9915 - val_loss: 0.3586 - val_accuracy: 0.9453 - val_auc: 0.9877 - val_precision: 0.9460 - val_recall: 0.9445\n",
      "Epoch 21/50\n",
      "231/231 [==============================] - 265s 1s/step - loss: 0.0053 - accuracy: 0.9981 - auc: 1.0000 - precision: 0.9981 - recall: 0.9981 - val_loss: 0.4243 - val_accuracy: 0.9510 - val_auc: 0.9862 - val_precision: 0.9517 - val_recall: 0.9508\n",
      "Epoch 22/50\n",
      "231/231 [==============================] - 268s 1s/step - loss: 0.0039 - accuracy: 0.9989 - auc: 1.0000 - precision: 0.9989 - recall: 0.9989 - val_loss: 0.3899 - val_accuracy: 0.9483 - val_auc: 0.9857 - val_precision: 0.9493 - val_recall: 0.9483\n",
      "Epoch 23/50\n",
      "231/231 [==============================] - 282s 1s/step - loss: 0.0060 - accuracy: 0.9979 - auc: 0.9999 - precision: 0.9979 - recall: 0.9978 - val_loss: 0.4136 - val_accuracy: 0.9457 - val_auc: 0.9856 - val_precision: 0.9466 - val_recall: 0.9455\n",
      "Epoch 24/50\n",
      "231/231 [==============================] - 281s 1s/step - loss: 0.0041 - accuracy: 0.9986 - auc: 1.0000 - precision: 0.9986 - recall: 0.9986 - val_loss: 0.4050 - val_accuracy: 0.9475 - val_auc: 0.9868 - val_precision: 0.9485 - val_recall: 0.9471\n",
      "Epoch 25/50\n",
      "231/231 [==============================] - 271s 1s/step - loss: 7.5887e-04 - accuracy: 0.9997 - auc: 1.0000 - precision: 0.9997 - recall: 0.9997 - val_loss: 0.4578 - val_accuracy: 0.9534 - val_auc: 0.9863 - val_precision: 0.9538 - val_recall: 0.9532\n",
      "Epoch 26/50\n",
      "231/231 [==============================] - 277s 1s/step - loss: 0.0012 - accuracy: 0.9999 - auc: 1.0000 - precision: 0.9999 - recall: 0.9999 - val_loss: 0.4266 - val_accuracy: 0.9518 - val_auc: 0.9868 - val_precision: 0.9523 - val_recall: 0.9516\n",
      "Epoch 27/50\n",
      "231/231 [==============================] - 267s 1s/step - loss: 5.6227e-04 - accuracy: 0.9999 - auc: 1.0000 - precision: 0.9999 - recall: 0.9999 - val_loss: 0.4316 - val_accuracy: 0.9524 - val_auc: 0.9867 - val_precision: 0.9528 - val_recall: 0.9522\n",
      "Epoch 28/50\n",
      "231/231 [==============================] - 267s 1s/step - loss: 2.8846e-04 - accuracy: 0.9999 - auc: 1.0000 - precision: 0.9999 - recall: 0.9999 - val_loss: 0.4369 - val_accuracy: 0.9538 - val_auc: 0.9864 - val_precision: 0.9542 - val_recall: 0.9536\n",
      "Epoch 29/50\n",
      "231/231 [==============================] - 261s 1s/step - loss: 0.0012 - accuracy: 0.9999 - auc: 1.0000 - precision: 0.9999 - recall: 0.9999 - val_loss: 0.3891 - val_accuracy: 0.9526 - val_auc: 0.9870 - val_precision: 0.9531 - val_recall: 0.9516\n",
      "Epoch 30/50\n",
      "231/231 [==============================] - 260s 1s/step - loss: 0.0385 - accuracy: 0.9889 - auc: 0.9993 - precision: 0.9890 - recall: 0.9889 - val_loss: 0.3404 - val_accuracy: 0.9362 - val_auc: 0.9883 - val_precision: 0.9367 - val_recall: 0.9354\n",
      "Epoch 31/50\n",
      "231/231 [==============================] - 260s 1s/step - loss: 0.0127 - accuracy: 0.9963 - auc: 0.9998 - precision: 0.9964 - recall: 0.9963 - val_loss: 0.3881 - val_accuracy: 0.9469 - val_auc: 0.9861 - val_precision: 0.9475 - val_recall: 0.9467\n",
      "Epoch 32/50\n",
      "231/231 [==============================] - 261s 1s/step - loss: 0.0038 - accuracy: 0.9993 - auc: 0.9999 - precision: 0.9993 - recall: 0.9993 - val_loss: 0.3888 - val_accuracy: 0.9504 - val_auc: 0.9863 - val_precision: 0.9505 - val_recall: 0.9504\n"
     ]
    },
    {
     "name": "stdout",
     "output_type": "stream",
     "text": [
      "Epoch 33/50\n",
      "231/231 [==============================] - 260s 1s/step - loss: 0.0040 - accuracy: 0.9984 - auc: 1.0000 - precision: 0.9984 - recall: 0.9984 - val_loss: 0.4013 - val_accuracy: 0.9433 - val_auc: 0.9862 - val_precision: 0.9438 - val_recall: 0.9431\n",
      "Epoch 34/50\n",
      "231/231 [==============================] - 261s 1s/step - loss: 0.0012 - accuracy: 0.9995 - auc: 1.0000 - precision: 0.9995 - recall: 0.9995 - val_loss: 0.4696 - val_accuracy: 0.9465 - val_auc: 0.9850 - val_precision: 0.9473 - val_recall: 0.9465\n",
      "Epoch 35/50\n",
      "231/231 [==============================] - 260s 1s/step - loss: 0.0045 - accuracy: 0.9988 - auc: 0.9999 - precision: 0.9988 - recall: 0.9988 - val_loss: 0.4534 - val_accuracy: 0.9384 - val_auc: 0.9835 - val_precision: 0.9391 - val_recall: 0.9380\n",
      "Epoch 36/50\n",
      "231/231 [==============================] - 260s 1s/step - loss: 0.0025 - accuracy: 0.9993 - auc: 1.0000 - precision: 0.9993 - recall: 0.9993 - val_loss: 0.4586 - val_accuracy: 0.9497 - val_auc: 0.9845 - val_precision: 0.9501 - val_recall: 0.9495\n",
      "Epoch 37/50\n",
      "231/231 [==============================] - 260s 1s/step - loss: 0.0076 - accuracy: 0.9980 - auc: 0.9999 - precision: 0.9980 - recall: 0.9980 - val_loss: 0.4850 - val_accuracy: 0.9420 - val_auc: 0.9835 - val_precision: 0.9422 - val_recall: 0.9418\n",
      "Epoch 38/50\n",
      "231/231 [==============================] - 260s 1s/step - loss: 0.0127 - accuracy: 0.9962 - auc: 0.9999 - precision: 0.9963 - recall: 0.9961 - val_loss: 0.4517 - val_accuracy: 0.9433 - val_auc: 0.9841 - val_precision: 0.9438 - val_recall: 0.9433\n",
      "Epoch 39/50\n",
      "231/231 [==============================] - 260s 1s/step - loss: 4.9287e-04 - accuracy: 0.9999 - auc: 1.0000 - precision: 0.9999 - recall: 0.9999 - val_loss: 0.4547 - val_accuracy: 0.9477 - val_auc: 0.9849 - val_precision: 0.9483 - val_recall: 0.9473\n",
      "Epoch 40/50\n",
      "231/231 [==============================] - 261s 1s/step - loss: 1.0507e-04 - accuracy: 1.0000 - auc: 1.0000 - precision: 1.0000 - recall: 1.0000 - val_loss: 0.4565 - val_accuracy: 0.9491 - val_auc: 0.9850 - val_precision: 0.9499 - val_recall: 0.9489\n",
      "Epoch 41/50\n",
      "231/231 [==============================] - 260s 1s/step - loss: 1.3207e-04 - accuracy: 0.9999 - auc: 1.0000 - precision: 0.9999 - recall: 0.9999 - val_loss: 0.4709 - val_accuracy: 0.9485 - val_auc: 0.9840 - val_precision: 0.9487 - val_recall: 0.9483\n",
      "Epoch 42/50\n",
      "231/231 [==============================] - 269s 1s/step - loss: 6.8915e-04 - accuracy: 0.9999 - auc: 1.0000 - precision: 0.9999 - recall: 0.9999 - val_loss: 0.4268 - val_accuracy: 0.9489 - val_auc: 0.9854 - val_precision: 0.9491 - val_recall: 0.9487\n",
      "Epoch 43/50\n",
      "231/231 [==============================] - 263s 1s/step - loss: 1.0240e-04 - accuracy: 0.9999 - auc: 1.0000 - precision: 0.9999 - recall: 0.9999 - val_loss: 0.4465 - val_accuracy: 0.9495 - val_auc: 0.9853 - val_precision: 0.9499 - val_recall: 0.9489\n",
      "Epoch 44/50\n",
      "231/231 [==============================] - 264s 1s/step - loss: 1.2960e-04 - accuracy: 0.9999 - auc: 1.0000 - precision: 0.9999 - recall: 0.9999 - val_loss: 0.4521 - val_accuracy: 0.9491 - val_auc: 0.9852 - val_precision: 0.9495 - val_recall: 0.9487\n",
      "Epoch 45/50\n",
      "231/231 [==============================] - 262s 1s/step - loss: 2.5930e-04 - accuracy: 0.9999 - auc: 1.0000 - precision: 0.9999 - recall: 0.9999 - val_loss: 0.4327 - val_accuracy: 0.9471 - val_auc: 0.9850 - val_precision: 0.9479 - val_recall: 0.9469\n",
      "Epoch 46/50\n",
      "231/231 [==============================] - 274s 1s/step - loss: 1.8268e-04 - accuracy: 0.9999 - auc: 1.0000 - precision: 0.9999 - recall: 0.9999 - val_loss: 0.4445 - val_accuracy: 0.9485 - val_auc: 0.9848 - val_precision: 0.9485 - val_recall: 0.9485\n",
      "Epoch 47/50\n",
      "231/231 [==============================] - 283s 1s/step - loss: 2.5234e-05 - accuracy: 1.0000 - auc: 1.0000 - precision: 1.0000 - recall: 1.0000 - val_loss: 0.4630 - val_accuracy: 0.9497 - val_auc: 0.9842 - val_precision: 0.9497 - val_recall: 0.9497\n",
      "Epoch 48/50\n",
      "231/231 [==============================] - 261s 1s/step - loss: 2.4722e-05 - accuracy: 1.0000 - auc: 1.0000 - precision: 1.0000 - recall: 1.0000 - val_loss: 0.4716 - val_accuracy: 0.9502 - val_auc: 0.9847 - val_precision: 0.9503 - val_recall: 0.9499\n",
      "Epoch 49/50\n",
      "231/231 [==============================] - 260s 1s/step - loss: 1.2267e-05 - accuracy: 1.0000 - auc: 1.0000 - precision: 1.0000 - recall: 1.0000 - val_loss: 0.4826 - val_accuracy: 0.9497 - val_auc: 0.9843 - val_precision: 0.9499 - val_recall: 0.9497\n",
      "Epoch 50/50\n",
      "231/231 [==============================] - 260s 1s/step - loss: 6.8314e-06 - accuracy: 1.0000 - auc: 1.0000 - precision: 1.0000 - recall: 1.0000 - val_loss: 0.4914 - val_accuracy: 0.9502 - val_auc: 0.9839 - val_precision: 0.9503 - val_recall: 0.9502\n"
     ]
    }
   ],
   "source": [
    "history_cnn_model_bl2 = cnn_model_bl2.fit(train_generator_baseline,\n",
    "                        steps_per_epoch=len(train_generator_baseline),\n",
    "                        epochs=50,\n",
    "                        validation_data=val_generator_baseline,\n",
    "                        validation_steps=len(val_generator_baseline))"
   ]
  },
  {
   "cell_type": "markdown",
   "metadata": {},
   "source": [
    "#### Save the model"
   ]
  },
  {
   "cell_type": "code",
   "execution_count": 54,
   "metadata": {},
   "outputs": [
    {
     "name": "stderr",
     "output_type": "stream",
     "text": [
      "/opt/homebrew/Caskroom/miniforge/base/lib/python3.10/site-packages/keras/src/engine/training.py:3000: UserWarning: You are saving your model as an HDF5 file via `model.save()`. This file format is considered legacy. We recommend using instead the native Keras format, e.g. `model.save('my_model.keras')`.\n",
      "  saving_api.save_model(\n"
     ]
    }
   ],
   "source": [
    "cnn_model_bl2.save('cnn_b12_model_50epoch.h5')"
   ]
  },
  {
   "cell_type": "code",
   "execution_count": 55,
   "metadata": {},
   "outputs": [],
   "source": [
    "hdf5storage.savemat(\"history_cnn_model_bl2_50epoch.h5\", history_cnn_model_bl2.history)"
   ]
  },
  {
   "cell_type": "markdown",
   "metadata": {},
   "source": [
    "#### Evaluate the model"
   ]
  },
  {
   "cell_type": "markdown",
   "metadata": {},
   "source": [
    "Load the model out."
   ]
  },
  {
   "cell_type": "code",
   "execution_count": 11,
   "metadata": {},
   "outputs": [],
   "source": [
    "cnn_model_bl2_loaded = load_model('cnn_b12_model_50epoch.h5')"
   ]
  },
  {
   "cell_type": "code",
   "execution_count": 12,
   "metadata": {},
   "outputs": [
    {
     "name": "stdout",
     "output_type": "stream",
     "text": [
      "231/231 [==============================] - 75s 322ms/step - loss: 5.4401e-06 - accuracy: 1.0000 - auc: 1.0000 - precision: 1.0000 - recall: 1.0000\n"
     ]
    },
    {
     "data": {
      "text/plain": [
       "[5.440072982310085e-06, 1.0, 1.0, 1.0, 1.0]"
      ]
     },
     "execution_count": 12,
     "metadata": {},
     "output_type": "execute_result"
    }
   ],
   "source": [
    "cnn_model_bl2_loaded.evaluate(train_generator_baseline)"
   ]
  },
  {
   "cell_type": "code",
   "execution_count": 13,
   "metadata": {},
   "outputs": [
    {
     "name": "stdout",
     "output_type": "stream",
     "text": [
      "78/78 [==============================] - 24s 306ms/step - loss: 0.4914 - accuracy: 0.9502 - auc: 0.9839 - precision: 0.9503 - recall: 0.9502\n"
     ]
    },
    {
     "data": {
      "text/plain": [
       "[0.4913724660873413,\n",
       " 0.9501519799232483,\n",
       " 0.9838805794715881,\n",
       " 0.9503445625305176,\n",
       " 0.9501519799232483]"
      ]
     },
     "execution_count": 13,
     "metadata": {},
     "output_type": "execute_result"
    }
   ],
   "source": [
    "cnn_model_bl2_loaded.evaluate(val_generator_baseline)"
   ]
  },
  {
   "cell_type": "code",
   "execution_count": 14,
   "metadata": {},
   "outputs": [
    {
     "name": "stdout",
     "output_type": "stream",
     "text": [
      "77/77 [==============================] - 24s 312ms/step - loss: 0.5348 - accuracy: 0.9468 - auc: 0.9828 - precision: 0.9472 - recall: 0.9466\n"
     ]
    },
    {
     "data": {
      "text/plain": [
       "[0.5347514152526855,\n",
       " 0.9468128085136414,\n",
       " 0.9827603697776794,\n",
       " 0.9471866488456726,\n",
       " 0.9466098546981812]"
      ]
     },
     "execution_count": 14,
     "metadata": {},
     "output_type": "execute_result"
    }
   ],
   "source": [
    "cnn_model_bl2_loaded.evaluate(test_generator_baseline)"
   ]
  },
  {
   "cell_type": "markdown",
   "metadata": {},
   "source": [
    "Load the history out"
   ]
  },
  {
   "cell_type": "code",
   "execution_count": 15,
   "metadata": {},
   "outputs": [],
   "source": [
    "history_cnn_model_bl2_loaded = hdf5storage.loadmat(\"history_cnn_model_bl2_50epoch.h5\")"
   ]
  },
  {
   "cell_type": "code",
   "execution_count": 16,
   "metadata": {},
   "outputs": [
    {
     "name": "stdout",
     "output_type": "stream",
     "text": [
      "dict_keys(['accuracy', 'auc', 'loss', 'precision', 'recall', 'val_accuracy', 'val_auc', 'val_loss', 'val_precision', 'val_recall'])\n"
     ]
    }
   ],
   "source": [
    "print(history_cnn_model_bl2_loaded.keys())"
   ]
  },
  {
   "cell_type": "code",
   "execution_count": 17,
   "metadata": {},
   "outputs": [
    {
     "data": {
      "image/png": "[encoded data removed]",
      "text/plain": [
       "<Figure size 800x600 with 1 Axes>"
      ]
     },
     "metadata": {},
     "output_type": "display_data"
    }
   ],
   "source": [
    "fig,ax=plt.subplots(figsize=(8,6))\n",
    "\n",
    "cnn_bl2_loss_values = history_cnn_model_bl2_loaded['loss']\n",
    "cnn_bl2_val_loss_values = history_cnn_model_bl2_loaded['val_loss']\n",
    "\n",
    "\n",
    "epochs = range(1,len(cnn_bl2_loss_values)+1)\n",
    "\n",
    "ax.plot(epochs,cnn_bl2_loss_values,label='Train loss vs epochs')\n",
    "ax.plot(epochs,cnn_bl2_val_loss_values,label='Validation loss vs epochs')\n",
    "\n",
    "ax.set_title('Train & validation loss')\n",
    "ax.legend()\n",
    "ax.set_xlabel('Epochs')\n",
    "plt.grid()\n",
    "ax.set_ylabel('Loss');"
   ]
  },
  {
   "cell_type": "code",
   "execution_count": 18,
   "metadata": {},
   "outputs": [
    {
     "data": {
      "image/png": "[encoded data removed]",
      "text/plain": [
       "<Figure size 800x600 with 1 Axes>"
      ]
     },
     "metadata": {},
     "output_type": "display_data"
    }
   ],
   "source": [
    "fig,ax=plt.subplots(figsize=(8,6))\n",
    "\n",
    "cnn_bl2_acc_values = history_cnn_model_bl2_loaded['accuracy']\n",
    "cnn_bl2_val_acc_values = history_cnn_model_bl2_loaded['val_accuracy']\n",
    "\n",
    "\n",
    "epochs = range(1,len(cnn_bl2_acc_values)+1)\n",
    "\n",
    "ax.plot(epochs,cnn_bl2_acc_values,label='Train acc vs epochs')\n",
    "ax.plot(epochs,cnn_bl2_val_acc_values,label='Validation acc vs epochs')\n",
    "\n",
    "ax.set_title('Train & validation acc')\n",
    "ax.legend()\n",
    "ax.set_xlabel('Epochs')\n",
    "plt.grid()\n",
    "ax.set_ylabel('Acc');"
   ]
  },
  {
   "cell_type": "code",
   "execution_count": 20,
   "metadata": {},
   "outputs": [
    {
     "data": {
      "image/png": "[encoded data removed]",
      "text/plain": [
       "<Figure size 800x600 with 1 Axes>"
      ]
     },
     "metadata": {},
     "output_type": "display_data"
    }
   ],
   "source": [
    "fig,ax=plt.subplots(figsize=(8,6))\n",
    "\n",
    "cnn_bl2_AUC_values = history_cnn_model_bl2_loaded['auc']\n",
    "cnn_bl2_val_AUC_values = history_cnn_model_bl2_loaded['val_auc']\n",
    "\n",
    "\n",
    "epochs = range(1,len(cnn_bl2_AUC_values)+1)\n",
    "\n",
    "ax.plot(epochs,cnn_bl2_AUC_values,label='Train AUC vs epochs')\n",
    "ax.plot(epochs,cnn_bl2_val_AUC_values,label='Validation AUC vs epochs')\n",
    "\n",
    "ax.set_title('Train & validation AUC')\n",
    "ax.legend()\n",
    "ax.set_xlabel('Epochs')\n",
    "plt.grid()\n",
    "ax.set_ylabel('AUC');"
   ]
  },
  {
   "cell_type": "code",
   "execution_count": 21,
   "metadata": {},
   "outputs": [
    {
     "ename": "FileNotFoundError",
     "evalue": "[Errno 2] No such file or directory: '/Users/thaophan/Documents/Flatiron/Phase5_Project/Capstone_fashion_label_classification_from_images/Data/Train_Test_Validation/Test/0/10005.jpg'",
     "output_type": "error",
     "traceback": [
      "\u001b[0;31m---------------------------------------------------------------------------\u001b[0m",
      "\u001b[0;31mFileNotFoundError\u001b[0m                         Traceback (most recent call last)",
      "Cell \u001b[0;32mIn[21], line 1\u001b[0m\n\u001b[0;32m----> 1\u001b[0m cnn_bl2_test_class_pred \u001b[38;5;241m=\u001b[39m \u001b[43mcnn_model_bl2_loaded\u001b[49m\u001b[38;5;241;43m.\u001b[39;49m\u001b[43mpredict\u001b[49m\u001b[43m(\u001b[49m\u001b[43mtest_generator_baseline\u001b[49m\u001b[43m,\u001b[49m\u001b[43msteps\u001b[49m\u001b[38;5;241;43m=\u001b[39;49m\u001b[38;5;28;43mlen\u001b[39;49m\u001b[43m(\u001b[49m\u001b[43mtest_generator_baseline\u001b[49m\u001b[43m)\u001b[49m\u001b[43m)\u001b[49m\n",
      "File \u001b[0;32m/opt/homebrew/Caskroom/miniforge/base/lib/python3.10/site-packages/keras/src/utils/traceback_utils.py:70\u001b[0m, in \u001b[0;36mfilter_traceback.<locals>.error_handler\u001b[0;34m(*args, **kwargs)\u001b[0m\n\u001b[1;32m     67\u001b[0m     filtered_tb \u001b[38;5;241m=\u001b[39m _process_traceback_frames(e\u001b[38;5;241m.\u001b[39m__traceback__)\n\u001b[1;32m     68\u001b[0m     \u001b[38;5;66;03m# To get the full stack trace, call:\u001b[39;00m\n\u001b[1;32m     69\u001b[0m     \u001b[38;5;66;03m# `tf.debugging.disable_traceback_filtering()`\u001b[39;00m\n\u001b[0;32m---> 70\u001b[0m     \u001b[38;5;28;01mraise\u001b[39;00m e\u001b[38;5;241m.\u001b[39mwith_traceback(filtered_tb) \u001b[38;5;28;01mfrom\u001b[39;00m \u001b[38;5;28;01mNone\u001b[39;00m\n\u001b[1;32m     71\u001b[0m \u001b[38;5;28;01mfinally\u001b[39;00m:\n\u001b[1;32m     72\u001b[0m     \u001b[38;5;28;01mdel\u001b[39;00m filtered_tb\n",
      "File \u001b[0;32m/opt/homebrew/Caskroom/miniforge/base/lib/python3.10/site-packages/keras/src/utils/image_utils.py:422\u001b[0m, in \u001b[0;36mload_img\u001b[0;34m(path, grayscale, color_mode, target_size, interpolation, keep_aspect_ratio)\u001b[0m\n\u001b[1;32m    420\u001b[0m     \u001b[38;5;28;01mif\u001b[39;00m \u001b[38;5;28misinstance\u001b[39m(path, pathlib\u001b[38;5;241m.\u001b[39mPath):\n\u001b[1;32m    421\u001b[0m         path \u001b[38;5;241m=\u001b[39m \u001b[38;5;28mstr\u001b[39m(path\u001b[38;5;241m.\u001b[39mresolve())\n\u001b[0;32m--> 422\u001b[0m     \u001b[38;5;28;01mwith\u001b[39;00m \u001b[38;5;28;43mopen\u001b[39;49m\u001b[43m(\u001b[49m\u001b[43mpath\u001b[49m\u001b[43m,\u001b[49m\u001b[43m \u001b[49m\u001b[38;5;124;43m\"\u001b[39;49m\u001b[38;5;124;43mrb\u001b[39;49m\u001b[38;5;124;43m\"\u001b[39;49m\u001b[43m)\u001b[49m \u001b[38;5;28;01mas\u001b[39;00m f:\n\u001b[1;32m    423\u001b[0m         img \u001b[38;5;241m=\u001b[39m pil_image\u001b[38;5;241m.\u001b[39mopen(io\u001b[38;5;241m.\u001b[39mBytesIO(f\u001b[38;5;241m.\u001b[39mread()))\n\u001b[1;32m    424\u001b[0m \u001b[38;5;28;01melse\u001b[39;00m:\n",
      "\u001b[0;31mFileNotFoundError\u001b[0m: [Errno 2] No such file or directory: '/Users/thaophan/Documents/Flatiron/Phase5_Project/Capstone_fashion_label_classification_from_images/Data/Train_Test_Validation/Test/0/10005.jpg'"
     ]
    }
   ],
   "source": [
    "cnn_bl2_test_class_pred = cnn_model_bl2_loaded.predict(test_generator_baseline,steps=len(test_generator_baseline))"
   ]
  },
  {
   "cell_type": "code",
   "execution_count": null,
   "metadata": {},
   "outputs": [],
   "source": []
  },
  {
   "cell_type": "code",
   "execution_count": null,
   "metadata": {},
   "outputs": [],
   "source": []
  },
  {
   "cell_type": "code",
   "execution_count": null,
   "metadata": {},
   "outputs": [],
   "source": []
  },
  {
   "cell_type": "code",
   "execution_count": null,
   "metadata": {},
   "outputs": [],
   "source": []
  },
  {
   "cell_type": "code",
   "execution_count": null,
   "metadata": {},
   "outputs": [],
   "source": []
  },
  {
   "cell_type": "code",
   "execution_count": null,
   "metadata": {},
   "outputs": [],
   "source": []
  },
  {
   "cell_type": "code",
   "execution_count": null,
   "metadata": {},
   "outputs": [],
   "source": []
  },
  {
   "cell_type": "code",
   "execution_count": null,
   "metadata": {},
   "outputs": [],
   "source": []
  },
  {
   "cell_type": "code",
   "execution_count": null,
   "metadata": {},
   "outputs": [],
   "source": []
  },
  {
   "cell_type": "code",
   "execution_count": null,
   "metadata": {},
   "outputs": [],
   "source": []
  },
  {
   "cell_type": "markdown",
   "metadata": {},
   "source": [
    "### 3rd CNN model"
   ]
  },
  {
   "cell_type": "code",
   "execution_count": 57,
   "metadata": {},
   "outputs": [],
   "source": [
    "cnn_model_bl3 = Sequential()\n",
    "cnn_model_bl3.add(layers.Conv2D(32, (3, 3), activation='relu', input_shape=(256, 256, 3)))\n",
    "cnn_model_bl3.add(layers.MaxPooling2D(2, 2))\n",
    "cnn_model_bl3.add(layers.Conv2D(64, (3, 3), activation='relu'))\n",
    "cnn_model_bl3.add(layers.MaxPooling2D(2, 2))\n",
    "cnn_model_bl3.add(layers.Conv2D(128, (3, 3), activation='relu'))\n",
    "cnn_model_bl3.add(layers.MaxPooling2D(2, 2))\n",
    "cnn_model_bl3.add(layers.Conv2D(256, (3, 3), activation='relu'))\n",
    "cnn_model_bl3.add(layers.MaxPooling2D(2, 2))\n",
    "cnn_model_bl3.add(layers.Flatten())\n",
    "cnn_model_bl3.add(layers.Dense(128, activation='relu'))\n",
    "cnn_model_bl3.add(layers.Dense(10, activation='softmax'))"
   ]
  },
  {
   "cell_type": "code",
   "execution_count": 58,
   "metadata": {},
   "outputs": [],
   "source": [
    "cnn_model_bl3.compile(loss='categorical_crossentropy',\n",
    "                  optimizer='Adam',\n",
    "                  metrics=['accuracy','AUC','Precision','Recall'])"
   ]
  },
  {
   "cell_type": "code",
   "execution_count": 59,
   "metadata": {},
   "outputs": [
    {
     "name": "stdout",
     "output_type": "stream",
     "text": [
      "Epoch 1/50\n",
      "231/231 [==============================] - 330s 1s/step - loss: 0.6004 - accuracy: 0.7857 - auc: 0.9785 - precision: 0.8583 - recall: 0.7309 - val_loss: 0.2550 - val_accuracy: 0.9114 - val_auc: 0.9949 - val_precision: 0.9212 - val_recall: 0.9019\n",
      "Epoch 2/50\n",
      "231/231 [==============================] - 325s 1s/step - loss: 0.2049 - accuracy: 0.9285 - auc: 0.9965 - precision: 0.9357 - recall: 0.9219 - val_loss: 0.1859 - val_accuracy: 0.9374 - val_auc: 0.9965 - val_precision: 0.9425 - val_recall: 0.9325\n",
      "Epoch 3/50\n",
      "231/231 [==============================] - 325s 1s/step - loss: 0.1504 - accuracy: 0.9459 - auc: 0.9978 - precision: 0.9498 - recall: 0.9426 - val_loss: 0.1849 - val_accuracy: 0.9418 - val_auc: 0.9959 - val_precision: 0.9444 - val_recall: 0.9388\n",
      "Epoch 4/50\n",
      "231/231 [==============================] - 3148s 14s/step - loss: 0.1146 - accuracy: 0.9576 - auc: 0.9986 - precision: 0.9599 - recall: 0.9555 - val_loss: 0.1742 - val_accuracy: 0.9447 - val_auc: 0.9958 - val_precision: 0.9476 - val_recall: 0.9420\n",
      "Epoch 5/50\n",
      "231/231 [==============================] - 354s 2s/step - loss: 0.0872 - accuracy: 0.9676 - auc: 0.9991 - precision: 0.9692 - recall: 0.9664 - val_loss: 0.2061 - val_accuracy: 0.9317 - val_auc: 0.9947 - val_precision: 0.9368 - val_recall: 0.9287\n",
      "Epoch 6/50\n",
      "231/231 [==============================] - 342s 1s/step - loss: 0.0763 - accuracy: 0.9716 - auc: 0.9992 - precision: 0.9723 - recall: 0.9704 - val_loss: 0.2064 - val_accuracy: 0.9457 - val_auc: 0.9939 - val_precision: 0.9470 - val_recall: 0.9447\n",
      "Epoch 7/50\n",
      "231/231 [==============================] - 328s 1s/step - loss: 0.0530 - accuracy: 0.9798 - auc: 0.9996 - precision: 0.9802 - recall: 0.9792 - val_loss: 0.1790 - val_accuracy: 0.9461 - val_auc: 0.9954 - val_precision: 0.9476 - val_recall: 0.9455\n",
      "Epoch 8/50\n",
      "231/231 [==============================] - 329s 1s/step - loss: 0.0387 - accuracy: 0.9850 - auc: 0.9997 - precision: 0.9853 - recall: 0.9850 - val_loss: 0.1954 - val_accuracy: 0.9481 - val_auc: 0.9941 - val_precision: 0.9504 - val_recall: 0.9475\n",
      "Epoch 9/50\n",
      "231/231 [==============================] - 337s 1s/step - loss: 0.0355 - accuracy: 0.9871 - auc: 0.9997 - precision: 0.9873 - recall: 0.9869 - val_loss: 0.2133 - val_accuracy: 0.9461 - val_auc: 0.9930 - val_precision: 0.9472 - val_recall: 0.9451\n",
      "Epoch 10/50\n",
      "231/231 [==============================] - 361s 2s/step - loss: 0.0332 - accuracy: 0.9887 - auc: 0.9997 - precision: 0.9889 - recall: 0.9884 - val_loss: 0.2363 - val_accuracy: 0.9475 - val_auc: 0.9918 - val_precision: 0.9485 - val_recall: 0.9471\n",
      "Epoch 11/50\n",
      "231/231 [==============================] - 380s 2s/step - loss: 0.0286 - accuracy: 0.9902 - auc: 0.9997 - precision: 0.9904 - recall: 0.9901 - val_loss: 0.3134 - val_accuracy: 0.9398 - val_auc: 0.9891 - val_precision: 0.9415 - val_recall: 0.9392\n",
      "Epoch 12/50\n",
      "231/231 [==============================] - 329s 1s/step - loss: 0.0229 - accuracy: 0.9915 - auc: 0.9999 - precision: 0.9916 - recall: 0.9914 - val_loss: 0.2935 - val_accuracy: 0.9467 - val_auc: 0.9897 - val_precision: 0.9471 - val_recall: 0.9463\n",
      "Epoch 13/50\n",
      "231/231 [==============================] - 333s 1s/step - loss: 0.0202 - accuracy: 0.9941 - auc: 0.9998 - precision: 0.9941 - recall: 0.9941 - val_loss: 0.2947 - val_accuracy: 0.9477 - val_auc: 0.9902 - val_precision: 0.9483 - val_recall: 0.9473\n",
      "Epoch 14/50\n",
      "231/231 [==============================] - 331s 1s/step - loss: 0.0215 - accuracy: 0.9926 - auc: 0.9997 - precision: 0.9926 - recall: 0.9925 - val_loss: 0.3080 - val_accuracy: 0.9374 - val_auc: 0.9890 - val_precision: 0.9385 - val_recall: 0.9372\n",
      "Epoch 15/50\n",
      "231/231 [==============================] - 332s 1s/step - loss: 0.0199 - accuracy: 0.9929 - auc: 0.9998 - precision: 0.9930 - recall: 0.9928 - val_loss: 0.3240 - val_accuracy: 0.9380 - val_auc: 0.9878 - val_precision: 0.9389 - val_recall: 0.9380\n",
      "Epoch 16/50\n",
      "231/231 [==============================] - 335s 1s/step - loss: 0.0090 - accuracy: 0.9973 - auc: 0.9999 - precision: 0.9974 - recall: 0.9973 - val_loss: 0.3714 - val_accuracy: 0.9497 - val_auc: 0.9876 - val_precision: 0.9499 - val_recall: 0.9497\n",
      "Epoch 17/50\n",
      "231/231 [==============================] - 332s 1s/step - loss: 0.0133 - accuracy: 0.9957 - auc: 0.9998 - precision: 0.9957 - recall: 0.9957 - val_loss: 0.3237 - val_accuracy: 0.9459 - val_auc: 0.9883 - val_precision: 0.9469 - val_recall: 0.9459\n",
      "Epoch 18/50\n",
      "231/231 [==============================] - 333s 1s/step - loss: 0.0104 - accuracy: 0.9960 - auc: 0.9998 - precision: 0.9961 - recall: 0.9960 - val_loss: 0.3340 - val_accuracy: 0.9481 - val_auc: 0.9881 - val_precision: 0.9489 - val_recall: 0.9481\n",
      "Epoch 19/50\n",
      "231/231 [==============================] - 339s 1s/step - loss: 0.0069 - accuracy: 0.9977 - auc: 1.0000 - precision: 0.9977 - recall: 0.9976 - val_loss: 0.3455 - val_accuracy: 0.9481 - val_auc: 0.9886 - val_precision: 0.9487 - val_recall: 0.9481\n",
      "Epoch 20/50\n",
      "231/231 [==============================] - 351s 2s/step - loss: 0.0122 - accuracy: 0.9963 - auc: 0.9998 - precision: 0.9963 - recall: 0.9963 - val_loss: 0.3376 - val_accuracy: 0.9467 - val_auc: 0.9866 - val_precision: 0.9484 - val_recall: 0.9463\n",
      "Epoch 21/50\n",
      "231/231 [==============================] - 339s 1s/step - loss: 0.0294 - accuracy: 0.9906 - auc: 0.9995 - precision: 0.9907 - recall: 0.9905 - val_loss: 0.2791 - val_accuracy: 0.9422 - val_auc: 0.9894 - val_precision: 0.9426 - val_recall: 0.9420\n",
      "Epoch 22/50\n",
      "231/231 [==============================] - 335s 1s/step - loss: 0.0109 - accuracy: 0.9961 - auc: 1.0000 - precision: 0.9961 - recall: 0.9961 - val_loss: 0.3702 - val_accuracy: 0.9485 - val_auc: 0.9866 - val_precision: 0.9493 - val_recall: 0.9479\n",
      "Epoch 23/50\n",
      "231/231 [==============================] - 333s 1s/step - loss: 0.0092 - accuracy: 0.9971 - auc: 0.9999 - precision: 0.9971 - recall: 0.9971 - val_loss: 0.3297 - val_accuracy: 0.9390 - val_auc: 0.9882 - val_precision: 0.9402 - val_recall: 0.9370\n",
      "Epoch 24/50\n",
      "231/231 [==============================] - 332s 1s/step - loss: 0.0060 - accuracy: 0.9982 - auc: 0.9999 - precision: 0.9982 - recall: 0.9982 - val_loss: 0.3440 - val_accuracy: 0.9477 - val_auc: 0.9867 - val_precision: 0.9483 - val_recall: 0.9473\n",
      "Epoch 25/50\n",
      "231/231 [==============================] - 339s 1s/step - loss: 0.0151 - accuracy: 0.9962 - auc: 0.9997 - precision: 0.9962 - recall: 0.9962 - val_loss: 0.3964 - val_accuracy: 0.9382 - val_auc: 0.9843 - val_precision: 0.9389 - val_recall: 0.9376\n",
      "Epoch 26/50\n",
      "231/231 [==============================] - 354s 2s/step - loss: 0.0076 - accuracy: 0.9977 - auc: 0.9999 - precision: 0.9977 - recall: 0.9977 - val_loss: 0.4380 - val_accuracy: 0.9451 - val_auc: 0.9839 - val_precision: 0.9458 - val_recall: 0.9447\n",
      "Epoch 27/50\n",
      "231/231 [==============================] - 332s 1s/step - loss: 0.0065 - accuracy: 0.9984 - auc: 0.9999 - precision: 0.9984 - recall: 0.9984 - val_loss: 0.3848 - val_accuracy: 0.9441 - val_auc: 0.9864 - val_precision: 0.9444 - val_recall: 0.9435\n",
      "Epoch 28/50\n",
      "231/231 [==============================] - 329s 1s/step - loss: 0.0045 - accuracy: 0.9986 - auc: 0.9999 - precision: 0.9986 - recall: 0.9986 - val_loss: 0.4355 - val_accuracy: 0.9522 - val_auc: 0.9848 - val_precision: 0.9533 - val_recall: 0.9520\n",
      "Epoch 29/50\n",
      "231/231 [==============================] - 332s 1s/step - loss: 0.0094 - accuracy: 0.9972 - auc: 0.9998 - precision: 0.9972 - recall: 0.9972 - val_loss: 0.3207 - val_accuracy: 0.9475 - val_auc: 0.9884 - val_precision: 0.9479 - val_recall: 0.9475\n",
      "Epoch 30/50\n",
      "231/231 [==============================] - 333s 1s/step - loss: 0.0134 - accuracy: 0.9957 - auc: 0.9998 - precision: 0.9957 - recall: 0.9957 - val_loss: 0.3928 - val_accuracy: 0.9469 - val_auc: 0.9861 - val_precision: 0.9473 - val_recall: 0.9469\n",
      "Epoch 31/50\n",
      "231/231 [==============================] - 332s 1s/step - loss: 0.0121 - accuracy: 0.9961 - auc: 0.9998 - precision: 0.9961 - recall: 0.9961 - val_loss: 0.3372 - val_accuracy: 0.9506 - val_auc: 0.9868 - val_precision: 0.9509 - val_recall: 0.9506\n",
      "Epoch 32/50\n",
      "231/231 [==============================] - 347s 2s/step - loss: 0.0076 - accuracy: 0.9974 - auc: 0.9998 - precision: 0.9974 - recall: 0.9974 - val_loss: 0.4044 - val_accuracy: 0.9429 - val_auc: 0.9862 - val_precision: 0.9432 - val_recall: 0.9427\n"
     ]
    },
    {
     "name": "stdout",
     "output_type": "stream",
     "text": [
      "Epoch 33/50\n",
      "231/231 [==============================] - 324s 1s/step - loss: 0.0074 - accuracy: 0.9978 - auc: 0.9998 - precision: 0.9978 - recall: 0.9977 - val_loss: 0.5251 - val_accuracy: 0.9441 - val_auc: 0.9829 - val_precision: 0.9446 - val_recall: 0.9441\n",
      "Epoch 34/50\n",
      "231/231 [==============================] - 325s 1s/step - loss: 0.0100 - accuracy: 0.9968 - auc: 0.9998 - precision: 0.9968 - recall: 0.9966 - val_loss: 0.4191 - val_accuracy: 0.9485 - val_auc: 0.9848 - val_precision: 0.9489 - val_recall: 0.9485\n",
      "Epoch 35/50\n",
      "231/231 [==============================] - 322s 1s/step - loss: 0.0065 - accuracy: 0.9978 - auc: 1.0000 - precision: 0.9978 - recall: 0.9978 - val_loss: 0.4323 - val_accuracy: 0.9461 - val_auc: 0.9846 - val_precision: 0.9463 - val_recall: 0.9461\n",
      "Epoch 36/50\n",
      "231/231 [==============================] - 322s 1s/step - loss: 0.0096 - accuracy: 0.9970 - auc: 0.9998 - precision: 0.9970 - recall: 0.9970 - val_loss: 0.4682 - val_accuracy: 0.9479 - val_auc: 0.9832 - val_precision: 0.9485 - val_recall: 0.9479\n",
      "Epoch 37/50\n",
      "231/231 [==============================] - 322s 1s/step - loss: 0.0073 - accuracy: 0.9981 - auc: 0.9999 - precision: 0.9981 - recall: 0.9981 - val_loss: 0.5011 - val_accuracy: 0.9489 - val_auc: 0.9832 - val_precision: 0.9497 - val_recall: 0.9489\n",
      "Epoch 38/50\n",
      "231/231 [==============================] - 323s 1s/step - loss: 0.0033 - accuracy: 0.9991 - auc: 1.0000 - precision: 0.9991 - recall: 0.9991 - val_loss: 0.4624 - val_accuracy: 0.9510 - val_auc: 0.9850 - val_precision: 0.9512 - val_recall: 0.9510\n",
      "Epoch 39/50\n",
      "231/231 [==============================] - 326s 1s/step - loss: 2.2032e-04 - accuracy: 0.9999 - auc: 1.0000 - precision: 0.9999 - recall: 0.9999 - val_loss: 0.4883 - val_accuracy: 0.9518 - val_auc: 0.9837 - val_precision: 0.9518 - val_recall: 0.9518\n",
      "Epoch 40/50\n",
      "231/231 [==============================] - 325s 1s/step - loss: 5.5829e-04 - accuracy: 0.9999 - auc: 1.0000 - precision: 0.9999 - recall: 0.9999 - val_loss: 0.4675 - val_accuracy: 0.9528 - val_auc: 0.9844 - val_precision: 0.9530 - val_recall: 0.9526\n",
      "Epoch 41/50\n",
      "231/231 [==============================] - 322s 1s/step - loss: 1.4154e-04 - accuracy: 0.9999 - auc: 1.0000 - precision: 0.9999 - recall: 0.9999 - val_loss: 0.4806 - val_accuracy: 0.9530 - val_auc: 0.9843 - val_precision: 0.9532 - val_recall: 0.9530\n",
      "Epoch 42/50\n",
      "231/231 [==============================] - 322s 1s/step - loss: 1.1123e-04 - accuracy: 0.9999 - auc: 1.0000 - precision: 0.9999 - recall: 0.9999 - val_loss: 0.4906 - val_accuracy: 0.9528 - val_auc: 0.9842 - val_precision: 0.9530 - val_recall: 0.9528\n",
      "Epoch 43/50\n",
      "231/231 [==============================] - 324s 1s/step - loss: 1.9187e-04 - accuracy: 0.9999 - auc: 1.0000 - precision: 0.9999 - recall: 0.9999 - val_loss: 0.4894 - val_accuracy: 0.9526 - val_auc: 0.9837 - val_precision: 0.9530 - val_recall: 0.9526\n",
      "Epoch 44/50\n",
      "231/231 [==============================] - 339s 1s/step - loss: 9.5551e-05 - accuracy: 0.9999 - auc: 1.0000 - precision: 0.9999 - recall: 0.9999 - val_loss: 0.5079 - val_accuracy: 0.9520 - val_auc: 0.9839 - val_precision: 0.9522 - val_recall: 0.9520\n",
      "Epoch 45/50\n",
      "231/231 [==============================] - 363s 2s/step - loss: 1.7995e-04 - accuracy: 0.9999 - auc: 1.0000 - precision: 0.9999 - recall: 0.9999 - val_loss: 0.5110 - val_accuracy: 0.9516 - val_auc: 0.9837 - val_precision: 0.9518 - val_recall: 0.9514\n",
      "Epoch 46/50\n",
      "231/231 [==============================] - 342s 1s/step - loss: 1.9295e-04 - accuracy: 0.9999 - auc: 1.0000 - precision: 0.9999 - recall: 0.9999 - val_loss: 0.5016 - val_accuracy: 0.9516 - val_auc: 0.9841 - val_precision: 0.9519 - val_recall: 0.9512\n",
      "Epoch 47/50\n",
      "231/231 [==============================] - 348s 2s/step - loss: 6.3008e-05 - accuracy: 1.0000 - auc: 1.0000 - precision: 1.0000 - recall: 1.0000 - val_loss: 0.5234 - val_accuracy: 0.9491 - val_auc: 0.9838 - val_precision: 0.9497 - val_recall: 0.9487\n",
      "Epoch 48/50\n",
      "231/231 [==============================] - 371s 2s/step - loss: 9.0544e-05 - accuracy: 0.9999 - auc: 1.0000 - precision: 0.9999 - recall: 0.9999 - val_loss: 0.5388 - val_accuracy: 0.9518 - val_auc: 0.9838 - val_precision: 0.9520 - val_recall: 0.9518\n",
      "Epoch 49/50\n",
      "231/231 [==============================] - 372s 2s/step - loss: 1.4812e-04 - accuracy: 0.9999 - auc: 1.0000 - precision: 0.9999 - recall: 0.9999 - val_loss: 0.5310 - val_accuracy: 0.9524 - val_auc: 0.9831 - val_precision: 0.9528 - val_recall: 0.9522\n",
      "Epoch 50/50\n",
      "231/231 [==============================] - 358s 2s/step - loss: 8.9942e-05 - accuracy: 0.9999 - auc: 1.0000 - precision: 0.9999 - recall: 0.9999 - val_loss: 0.5318 - val_accuracy: 0.9499 - val_auc: 0.9834 - val_precision: 0.9505 - val_recall: 0.9497\n"
     ]
    }
   ],
   "source": [
    "history_cnn_model_bl3 = cnn_model_bl3.fit(train_generator_baseline,\n",
    "                        steps_per_epoch=len(train_generator_baseline),\n",
    "                        epochs=50,\n",
    "                        validation_data=val_generator_baseline,\n",
    "                        validation_steps=len(val_generator_baseline))"
   ]
  },
  {
   "cell_type": "markdown",
   "metadata": {},
   "source": [
    "#### Save the model"
   ]
  },
  {
   "cell_type": "code",
   "execution_count": 60,
   "metadata": {},
   "outputs": [],
   "source": [
    "cnn_model_bl3.save('cnn_b13_model_50epoch.h5')"
   ]
  },
  {
   "cell_type": "code",
   "execution_count": 61,
   "metadata": {},
   "outputs": [],
   "source": [
    "hdf5storage.savemat(\"history_cnn_model_bl3_50epoch.h5\", history_cnn_model_bl3.history)"
   ]
  },
  {
   "cell_type": "markdown",
   "metadata": {},
   "source": [
    "#### Evaluate the model"
   ]
  },
  {
   "cell_type": "markdown",
   "metadata": {},
   "source": [
    "Load the model out."
   ]
  },
  {
   "cell_type": "code",
   "execution_count": null,
   "metadata": {},
   "outputs": [],
   "source": []
  },
  {
   "cell_type": "markdown",
   "metadata": {},
   "source": [
    "### 4th CNN model"
   ]
  },
  {
   "cell_type": "code",
   "execution_count": 10,
   "metadata": {
    "scrolled": true
   },
   "outputs": [
    {
     "name": "stdout",
     "output_type": "stream",
     "text": [
      "Found 14782 images belonging to 10 classes.\n",
      "Found 4935 images belonging to 10 classes.\n",
      "Found 4926 images belonging to 10 classes.\n"
     ]
    }
   ],
   "source": [
    "# Directory path\n",
    "train_data_dir = '/Users/thaophan/Documents/Flatiron/Phase5_Project/Capstone_fashion_label_classification_from_images/Data/Train_Test_Validation/Train'\n",
    "val_data_dir = '/Users/thaophan/Documents/Flatiron/Phase5_Project/Capstone_fashion_label_classification_from_images/Data/Train_Test_Validation/Validation'\n",
    "test_data_dir = '/Users/thaophan/Documents/Flatiron/Phase5_Project/Capstone_fashion_label_classification_from_images/Data/Train_Test_Validation/Test'\n",
    "\n",
    "image_size = (256, 256)\n",
    "num_classes = 10\n",
    "\n",
    "train_datagen = ImageDataGenerator(rescale=1./255, \n",
    "                                   rotation_range=40, \n",
    "                                   width_shift_range=0.2, \n",
    "                                   height_shift_range=0.2, \n",
    "                                   shear_range=0.3, \n",
    "                                   zoom_range=0.1, \n",
    "                                   horizontal_flip=False)\n",
    " \n",
    "val_datagen = ImageDataGenerator(rescale = 1/255) # Only rescale for the val set\n",
    "\n",
    "test_datagen = ImageDataGenerator(rescale = 1/255) # Only rescale for the test set\n",
    "\n",
    "\n",
    "train_generator = train_datagen.flow_from_directory(directory=train_data_dir, target_size = image_size,\n",
    "                                                   class_mode='categorical',\n",
    "                                                    batch_size=64,\n",
    "                                                    shuffle=True,\n",
    "                                                    classes=[str(i) for i in range(num_classes)])\n",
    "\n",
    "val_generator = val_datagen.flow_from_directory(directory=val_data_dir, target_size = image_size,\n",
    "                                                   class_mode='categorical',\n",
    "                                                    batch_size=64,\n",
    "                                                shuffle=True,\n",
    "                                                  classes=[str(i) for i in range(num_classes)])\n",
    "\n",
    "test_generator = test_datagen.flow_from_directory(directory=test_data_dir, target_size = image_size,\n",
    "                                                    class_mode='categorical',\n",
    "                                                   batch_size=64,\n",
    "                                                  shuffle=False,\n",
    "                                                  classes=[str(i) for i in range(num_classes)])"
   ]
  },
  {
   "cell_type": "code",
   "execution_count": 18,
   "metadata": {},
   "outputs": [
    {
     "data": {
      "text/plain": [
       "(array([[[[1., 1., 1.],\n",
       "          [1., 1., 1.],\n",
       "          [1., 1., 1.],\n",
       "          ...,\n",
       "          [1., 1., 1.],\n",
       "          [1., 1., 1.],\n",
       "          [1., 1., 1.]],\n",
       " \n",
       "         [[1., 1., 1.],\n",
       "          [1., 1., 1.],\n",
       "          [1., 1., 1.],\n",
       "          ...,\n",
       "          [1., 1., 1.],\n",
       "          [1., 1., 1.],\n",
       "          [1., 1., 1.]],\n",
       " \n",
       "         [[1., 1., 1.],\n",
       "          [1., 1., 1.],\n",
       "          [1., 1., 1.],\n",
       "          ...,\n",
       "          [1., 1., 1.],\n",
       "          [1., 1., 1.],\n",
       "          [1., 1., 1.]],\n",
       " \n",
       "         ...,\n",
       " \n",
       "         [[1., 1., 1.],\n",
       "          [1., 1., 1.],\n",
       "          [1., 1., 1.],\n",
       "          ...,\n",
       "          [1., 1., 1.],\n",
       "          [1., 1., 1.],\n",
       "          [1., 1., 1.]],\n",
       " \n",
       "         [[1., 1., 1.],\n",
       "          [1., 1., 1.],\n",
       "          [1., 1., 1.],\n",
       "          ...,\n",
       "          [1., 1., 1.],\n",
       "          [1., 1., 1.],\n",
       "          [1., 1., 1.]],\n",
       " \n",
       "         [[1., 1., 1.],\n",
       "          [1., 1., 1.],\n",
       "          [1., 1., 1.],\n",
       "          ...,\n",
       "          [1., 1., 1.],\n",
       "          [1., 1., 1.],\n",
       "          [1., 1., 1.]]],\n",
       " \n",
       " \n",
       "        [[[1., 1., 1.],\n",
       "          [1., 1., 1.],\n",
       "          [1., 1., 1.],\n",
       "          ...,\n",
       "          [1., 1., 1.],\n",
       "          [1., 1., 1.],\n",
       "          [1., 1., 1.]],\n",
       " \n",
       "         [[1., 1., 1.],\n",
       "          [1., 1., 1.],\n",
       "          [1., 1., 1.],\n",
       "          ...,\n",
       "          [1., 1., 1.],\n",
       "          [1., 1., 1.],\n",
       "          [1., 1., 1.]],\n",
       " \n",
       "         [[1., 1., 1.],\n",
       "          [1., 1., 1.],\n",
       "          [1., 1., 1.],\n",
       "          ...,\n",
       "          [1., 1., 1.],\n",
       "          [1., 1., 1.],\n",
       "          [1., 1., 1.]],\n",
       " \n",
       "         ...,\n",
       " \n",
       "         [[1., 1., 1.],\n",
       "          [1., 1., 1.],\n",
       "          [1., 1., 1.],\n",
       "          ...,\n",
       "          [1., 1., 1.],\n",
       "          [1., 1., 1.],\n",
       "          [1., 1., 1.]],\n",
       " \n",
       "         [[1., 1., 1.],\n",
       "          [1., 1., 1.],\n",
       "          [1., 1., 1.],\n",
       "          ...,\n",
       "          [1., 1., 1.],\n",
       "          [1., 1., 1.],\n",
       "          [1., 1., 1.]],\n",
       " \n",
       "         [[1., 1., 1.],\n",
       "          [1., 1., 1.],\n",
       "          [1., 1., 1.],\n",
       "          ...,\n",
       "          [1., 1., 1.],\n",
       "          [1., 1., 1.],\n",
       "          [1., 1., 1.]]],\n",
       " \n",
       " \n",
       "        [[[1., 1., 1.],\n",
       "          [1., 1., 1.],\n",
       "          [1., 1., 1.],\n",
       "          ...,\n",
       "          [1., 1., 1.],\n",
       "          [1., 1., 1.],\n",
       "          [1., 1., 1.]],\n",
       " \n",
       "         [[1., 1., 1.],\n",
       "          [1., 1., 1.],\n",
       "          [1., 1., 1.],\n",
       "          ...,\n",
       "          [1., 1., 1.],\n",
       "          [1., 1., 1.],\n",
       "          [1., 1., 1.]],\n",
       " \n",
       "         [[1., 1., 1.],\n",
       "          [1., 1., 1.],\n",
       "          [1., 1., 1.],\n",
       "          ...,\n",
       "          [1., 1., 1.],\n",
       "          [1., 1., 1.],\n",
       "          [1., 1., 1.]],\n",
       " \n",
       "         ...,\n",
       " \n",
       "         [[1., 1., 1.],\n",
       "          [1., 1., 1.],\n",
       "          [1., 1., 1.],\n",
       "          ...,\n",
       "          [1., 1., 1.],\n",
       "          [1., 1., 1.],\n",
       "          [1., 1., 1.]],\n",
       " \n",
       "         [[1., 1., 1.],\n",
       "          [1., 1., 1.],\n",
       "          [1., 1., 1.],\n",
       "          ...,\n",
       "          [1., 1., 1.],\n",
       "          [1., 1., 1.],\n",
       "          [1., 1., 1.]],\n",
       " \n",
       "         [[1., 1., 1.],\n",
       "          [1., 1., 1.],\n",
       "          [1., 1., 1.],\n",
       "          ...,\n",
       "          [1., 1., 1.],\n",
       "          [1., 1., 1.],\n",
       "          [1., 1., 1.]]],\n",
       " \n",
       " \n",
       "        ...,\n",
       " \n",
       " \n",
       "        [[[1., 1., 1.],\n",
       "          [1., 1., 1.],\n",
       "          [1., 1., 1.],\n",
       "          ...,\n",
       "          [1., 1., 1.],\n",
       "          [1., 1., 1.],\n",
       "          [1., 1., 1.]],\n",
       " \n",
       "         [[1., 1., 1.],\n",
       "          [1., 1., 1.],\n",
       "          [1., 1., 1.],\n",
       "          ...,\n",
       "          [1., 1., 1.],\n",
       "          [1., 1., 1.],\n",
       "          [1., 1., 1.]],\n",
       " \n",
       "         [[1., 1., 1.],\n",
       "          [1., 1., 1.],\n",
       "          [1., 1., 1.],\n",
       "          ...,\n",
       "          [1., 1., 1.],\n",
       "          [1., 1., 1.],\n",
       "          [1., 1., 1.]],\n",
       " \n",
       "         ...,\n",
       " \n",
       "         [[1., 1., 1.],\n",
       "          [1., 1., 1.],\n",
       "          [1., 1., 1.],\n",
       "          ...,\n",
       "          [1., 1., 1.],\n",
       "          [1., 1., 1.],\n",
       "          [1., 1., 1.]],\n",
       " \n",
       "         [[1., 1., 1.],\n",
       "          [1., 1., 1.],\n",
       "          [1., 1., 1.],\n",
       "          ...,\n",
       "          [1., 1., 1.],\n",
       "          [1., 1., 1.],\n",
       "          [1., 1., 1.]],\n",
       " \n",
       "         [[1., 1., 1.],\n",
       "          [1., 1., 1.],\n",
       "          [1., 1., 1.],\n",
       "          ...,\n",
       "          [1., 1., 1.],\n",
       "          [1., 1., 1.],\n",
       "          [1., 1., 1.]]],\n",
       " \n",
       " \n",
       "        [[[1., 1., 1.],\n",
       "          [1., 1., 1.],\n",
       "          [1., 1., 1.],\n",
       "          ...,\n",
       "          [1., 1., 1.],\n",
       "          [1., 1., 1.],\n",
       "          [1., 1., 1.]],\n",
       " \n",
       "         [[1., 1., 1.],\n",
       "          [1., 1., 1.],\n",
       "          [1., 1., 1.],\n",
       "          ...,\n",
       "          [1., 1., 1.],\n",
       "          [1., 1., 1.],\n",
       "          [1., 1., 1.]],\n",
       " \n",
       "         [[1., 1., 1.],\n",
       "          [1., 1., 1.],\n",
       "          [1., 1., 1.],\n",
       "          ...,\n",
       "          [1., 1., 1.],\n",
       "          [1., 1., 1.],\n",
       "          [1., 1., 1.]],\n",
       " \n",
       "         ...,\n",
       " \n",
       "         [[1., 1., 1.],\n",
       "          [1., 1., 1.],\n",
       "          [1., 1., 1.],\n",
       "          ...,\n",
       "          [1., 1., 1.],\n",
       "          [1., 1., 1.],\n",
       "          [1., 1., 1.]],\n",
       " \n",
       "         [[1., 1., 1.],\n",
       "          [1., 1., 1.],\n",
       "          [1., 1., 1.],\n",
       "          ...,\n",
       "          [1., 1., 1.],\n",
       "          [1., 1., 1.],\n",
       "          [1., 1., 1.]],\n",
       " \n",
       "         [[1., 1., 1.],\n",
       "          [1., 1., 1.],\n",
       "          [1., 1., 1.],\n",
       "          ...,\n",
       "          [1., 1., 1.],\n",
       "          [1., 1., 1.],\n",
       "          [1., 1., 1.]]],\n",
       " \n",
       " \n",
       "        [[[1., 1., 1.],\n",
       "          [1., 1., 1.],\n",
       "          [1., 1., 1.],\n",
       "          ...,\n",
       "          [1., 1., 1.],\n",
       "          [1., 1., 1.],\n",
       "          [1., 1., 1.]],\n",
       " \n",
       "         [[1., 1., 1.],\n",
       "          [1., 1., 1.],\n",
       "          [1., 1., 1.],\n",
       "          ...,\n",
       "          [1., 1., 1.],\n",
       "          [1., 1., 1.],\n",
       "          [1., 1., 1.]],\n",
       " \n",
       "         [[1., 1., 1.],\n",
       "          [1., 1., 1.],\n",
       "          [1., 1., 1.],\n",
       "          ...,\n",
       "          [1., 1., 1.],\n",
       "          [1., 1., 1.],\n",
       "          [1., 1., 1.]],\n",
       " \n",
       "         ...,\n",
       " \n",
       "         [[1., 1., 1.],\n",
       "          [1., 1., 1.],\n",
       "          [1., 1., 1.],\n",
       "          ...,\n",
       "          [1., 1., 1.],\n",
       "          [1., 1., 1.],\n",
       "          [1., 1., 1.]],\n",
       " \n",
       "         [[1., 1., 1.],\n",
       "          [1., 1., 1.],\n",
       "          [1., 1., 1.],\n",
       "          ...,\n",
       "          [1., 1., 1.],\n",
       "          [1., 1., 1.],\n",
       "          [1., 1., 1.]],\n",
       " \n",
       "         [[1., 1., 1.],\n",
       "          [1., 1., 1.],\n",
       "          [1., 1., 1.],\n",
       "          ...,\n",
       "          [1., 1., 1.],\n",
       "          [1., 1., 1.],\n",
       "          [1., 1., 1.]]]], dtype=float32),\n",
       " array([[1., 0., 0., 0., 0., 0., 0., 0., 0., 0.],\n",
       "        [1., 0., 0., 0., 0., 0., 0., 0., 0., 0.],\n",
       "        [1., 0., 0., 0., 0., 0., 0., 0., 0., 0.],\n",
       "        [1., 0., 0., 0., 0., 0., 0., 0., 0., 0.],\n",
       "        [1., 0., 0., 0., 0., 0., 0., 0., 0., 0.],\n",
       "        [1., 0., 0., 0., 0., 0., 0., 0., 0., 0.],\n",
       "        [1., 0., 0., 0., 0., 0., 0., 0., 0., 0.],\n",
       "        [1., 0., 0., 0., 0., 0., 0., 0., 0., 0.],\n",
       "        [1., 0., 0., 0., 0., 0., 0., 0., 0., 0.],\n",
       "        [1., 0., 0., 0., 0., 0., 0., 0., 0., 0.],\n",
       "        [1., 0., 0., 0., 0., 0., 0., 0., 0., 0.],\n",
       "        [1., 0., 0., 0., 0., 0., 0., 0., 0., 0.],\n",
       "        [1., 0., 0., 0., 0., 0., 0., 0., 0., 0.],\n",
       "        [1., 0., 0., 0., 0., 0., 0., 0., 0., 0.],\n",
       "        [1., 0., 0., 0., 0., 0., 0., 0., 0., 0.],\n",
       "        [1., 0., 0., 0., 0., 0., 0., 0., 0., 0.],\n",
       "        [1., 0., 0., 0., 0., 0., 0., 0., 0., 0.],\n",
       "        [1., 0., 0., 0., 0., 0., 0., 0., 0., 0.],\n",
       "        [1., 0., 0., 0., 0., 0., 0., 0., 0., 0.],\n",
       "        [1., 0., 0., 0., 0., 0., 0., 0., 0., 0.],\n",
       "        [1., 0., 0., 0., 0., 0., 0., 0., 0., 0.],\n",
       "        [1., 0., 0., 0., 0., 0., 0., 0., 0., 0.],\n",
       "        [1., 0., 0., 0., 0., 0., 0., 0., 0., 0.],\n",
       "        [1., 0., 0., 0., 0., 0., 0., 0., 0., 0.],\n",
       "        [1., 0., 0., 0., 0., 0., 0., 0., 0., 0.],\n",
       "        [1., 0., 0., 0., 0., 0., 0., 0., 0., 0.],\n",
       "        [1., 0., 0., 0., 0., 0., 0., 0., 0., 0.],\n",
       "        [1., 0., 0., 0., 0., 0., 0., 0., 0., 0.],\n",
       "        [1., 0., 0., 0., 0., 0., 0., 0., 0., 0.],\n",
       "        [1., 0., 0., 0., 0., 0., 0., 0., 0., 0.],\n",
       "        [1., 0., 0., 0., 0., 0., 0., 0., 0., 0.],\n",
       "        [1., 0., 0., 0., 0., 0., 0., 0., 0., 0.],\n",
       "        [1., 0., 0., 0., 0., 0., 0., 0., 0., 0.],\n",
       "        [1., 0., 0., 0., 0., 0., 0., 0., 0., 0.],\n",
       "        [1., 0., 0., 0., 0., 0., 0., 0., 0., 0.],\n",
       "        [1., 0., 0., 0., 0., 0., 0., 0., 0., 0.],\n",
       "        [1., 0., 0., 0., 0., 0., 0., 0., 0., 0.],\n",
       "        [1., 0., 0., 0., 0., 0., 0., 0., 0., 0.],\n",
       "        [1., 0., 0., 0., 0., 0., 0., 0., 0., 0.],\n",
       "        [1., 0., 0., 0., 0., 0., 0., 0., 0., 0.],\n",
       "        [1., 0., 0., 0., 0., 0., 0., 0., 0., 0.],\n",
       "        [1., 0., 0., 0., 0., 0., 0., 0., 0., 0.],\n",
       "        [1., 0., 0., 0., 0., 0., 0., 0., 0., 0.],\n",
       "        [1., 0., 0., 0., 0., 0., 0., 0., 0., 0.],\n",
       "        [1., 0., 0., 0., 0., 0., 0., 0., 0., 0.],\n",
       "        [1., 0., 0., 0., 0., 0., 0., 0., 0., 0.],\n",
       "        [1., 0., 0., 0., 0., 0., 0., 0., 0., 0.],\n",
       "        [1., 0., 0., 0., 0., 0., 0., 0., 0., 0.],\n",
       "        [1., 0., 0., 0., 0., 0., 0., 0., 0., 0.],\n",
       "        [1., 0., 0., 0., 0., 0., 0., 0., 0., 0.],\n",
       "        [1., 0., 0., 0., 0., 0., 0., 0., 0., 0.],\n",
       "        [1., 0., 0., 0., 0., 0., 0., 0., 0., 0.],\n",
       "        [1., 0., 0., 0., 0., 0., 0., 0., 0., 0.],\n",
       "        [1., 0., 0., 0., 0., 0., 0., 0., 0., 0.],\n",
       "        [1., 0., 0., 0., 0., 0., 0., 0., 0., 0.],\n",
       "        [1., 0., 0., 0., 0., 0., 0., 0., 0., 0.],\n",
       "        [1., 0., 0., 0., 0., 0., 0., 0., 0., 0.],\n",
       "        [1., 0., 0., 0., 0., 0., 0., 0., 0., 0.],\n",
       "        [1., 0., 0., 0., 0., 0., 0., 0., 0., 0.],\n",
       "        [1., 0., 0., 0., 0., 0., 0., 0., 0., 0.],\n",
       "        [1., 0., 0., 0., 0., 0., 0., 0., 0., 0.],\n",
       "        [1., 0., 0., 0., 0., 0., 0., 0., 0., 0.],\n",
       "        [1., 0., 0., 0., 0., 0., 0., 0., 0., 0.],\n",
       "        [1., 0., 0., 0., 0., 0., 0., 0., 0., 0.]], dtype=float32))"
      ]
     },
     "execution_count": 18,
     "metadata": {},
     "output_type": "execute_result"
    }
   ],
   "source": [
    "next(test_generator)"
   ]
  },
  {
   "cell_type": "code",
   "execution_count": 21,
   "metadata": {},
   "outputs": [],
   "source": [
    "test_images = next(test_generator)[0]"
   ]
  },
  {
   "cell_type": "code",
   "execution_count": 22,
   "metadata": {},
   "outputs": [
    {
     "data": {
      "text/plain": [
       "(64, 256, 256, 3)"
      ]
     },
     "execution_count": 22,
     "metadata": {},
     "output_type": "execute_result"
    }
   ],
   "source": [
    "test_images.shape"
   ]
  },
  {
   "cell_type": "code",
   "execution_count": 23,
   "metadata": {},
   "outputs": [],
   "source": [
    "test_labels = next(test_generator)[1]"
   ]
  },
  {
   "cell_type": "code",
   "execution_count": 24,
   "metadata": {},
   "outputs": [
    {
     "data": {
      "text/plain": [
       "(64, 10)"
      ]
     },
     "execution_count": 24,
     "metadata": {},
     "output_type": "execute_result"
    }
   ],
   "source": [
    "test_labels.shape"
   ]
  },
  {
   "cell_type": "code",
   "execution_count": 12,
   "metadata": {},
   "outputs": [],
   "source": [
    "cnn_model = Sequential()\n",
    "cnn_model.add(layers.Conv2D(32, (3, 3), activation='relu', input_shape=(256, 256, 3)))\n",
    "cnn_model.add(layers.MaxPooling2D(2, 2))\n",
    "cnn_model.add(layers.Conv2D(64, (3, 3), activation='relu'))\n",
    "cnn_model.add(layers.MaxPooling2D(2, 2))\n",
    "cnn_model.add(layers.Conv2D(128, (3, 3), activation='relu'))\n",
    "cnn_model.add(layers.MaxPooling2D(2, 2))\n",
    "cnn_model.add(layers.Conv2D(256, (3, 3), activation='relu'))\n",
    "cnn_model.add(layers.MaxPooling2D(2, 2))\n",
    "cnn_model.add(layers.Flatten())\n",
    "cnn_model.add(layers.Dense(128, activation='relu'))\n",
    "cnn_model.add(layers.Dense(10, activation='softmax'))\n"
   ]
  },
  {
   "cell_type": "code",
   "execution_count": 13,
   "metadata": {},
   "outputs": [],
   "source": [
    "cnn_model.compile(loss='categorical_crossentropy',\n",
    "                  optimizer='Adam',\n",
    "                  metrics=['accuracy','AUC','Precision','Recall'])"
   ]
  },
  {
   "cell_type": "code",
   "execution_count": 8,
   "metadata": {},
   "outputs": [
    {
     "name": "stdout",
     "output_type": "stream",
     "text": [
      "Epoch 1/50\n",
      "231/231 [==============================] - 338s 1s/step - loss: 1.5403 - accuracy: 0.4468 - auc: 0.8597 - precision: 0.6652 - recall: 0.2311 - val_loss: 0.8527 - val_accuracy: 0.7023 - val_auc: 0.9608 - val_precision: 0.8171 - val_recall: 0.5694\n",
      "Epoch 2/50\n",
      "231/231 [==============================] - 338s 1s/step - loss: 0.9175 - accuracy: 0.6660 - auc: 0.9523 - precision: 0.7690 - recall: 0.5510 - val_loss: 0.5646 - val_accuracy: 0.7982 - val_auc: 0.9814 - val_precision: 0.8505 - val_recall: 0.7461\n",
      "Epoch 3/50\n",
      "231/231 [==============================] - 338s 1s/step - loss: 0.6115 - accuracy: 0.7727 - auc: 0.9776 - precision: 0.8227 - recall: 0.7202 - val_loss: 0.4097 - val_accuracy: 0.8509 - val_auc: 0.9889 - val_precision: 0.8737 - val_recall: 0.8288\n",
      "Epoch 4/50\n",
      "231/231 [==============================] - 337s 1s/step - loss: 0.4978 - accuracy: 0.8196 - auc: 0.9844 - precision: 0.8534 - recall: 0.7820 - val_loss: 0.3773 - val_accuracy: 0.8586 - val_auc: 0.9902 - val_precision: 0.8756 - val_recall: 0.8417\n",
      "Epoch 5/50\n",
      "231/231 [==============================] - 338s 1s/step - loss: 0.4522 - accuracy: 0.8310 - auc: 0.9873 - precision: 0.8617 - recall: 0.8039 - val_loss: 0.3508 - val_accuracy: 0.8661 - val_auc: 0.9919 - val_precision: 0.8799 - val_recall: 0.8539\n",
      "Epoch 6/50\n",
      "231/231 [==============================] - 338s 1s/step - loss: 0.4041 - accuracy: 0.8536 - auc: 0.9892 - precision: 0.8756 - recall: 0.8306 - val_loss: 0.2994 - val_accuracy: 0.8900 - val_auc: 0.9937 - val_precision: 0.9020 - val_recall: 0.8819\n",
      "Epoch 7/50\n",
      "231/231 [==============================] - 337s 1s/step - loss: 0.3829 - accuracy: 0.8588 - auc: 0.9903 - precision: 0.8817 - recall: 0.8414 - val_loss: 0.3018 - val_accuracy: 0.8934 - val_auc: 0.9934 - val_precision: 0.9055 - val_recall: 0.8833\n",
      "Epoch 8/50\n",
      "231/231 [==============================] - 337s 1s/step - loss: 0.3557 - accuracy: 0.8737 - auc: 0.9915 - precision: 0.8904 - recall: 0.8545 - val_loss: 0.3621 - val_accuracy: 0.8555 - val_auc: 0.9908 - val_precision: 0.8640 - val_recall: 0.8509\n",
      "Epoch 9/50\n",
      "231/231 [==============================] - 337s 1s/step - loss: 0.3298 - accuracy: 0.8745 - auc: 0.9926 - precision: 0.8913 - recall: 0.8610 - val_loss: 0.2365 - val_accuracy: 0.9119 - val_auc: 0.9951 - val_precision: 0.9169 - val_recall: 0.9080\n",
      "Epoch 10/50\n",
      "231/231 [==============================] - 337s 1s/step - loss: 0.3565 - accuracy: 0.8685 - auc: 0.9917 - precision: 0.8876 - recall: 0.8490 - val_loss: 0.2428 - val_accuracy: 0.9149 - val_auc: 0.9949 - val_precision: 0.9211 - val_recall: 0.9078\n",
      "Epoch 11/50\n",
      "231/231 [==============================] - 337s 1s/step - loss: 0.3322 - accuracy: 0.8787 - auc: 0.9920 - precision: 0.8947 - recall: 0.8652 - val_loss: 0.2422 - val_accuracy: 0.9147 - val_auc: 0.9956 - val_precision: 0.9220 - val_recall: 0.9082\n",
      "Epoch 12/50\n",
      "231/231 [==============================] - 336s 1s/step - loss: 0.3111 - accuracy: 0.8869 - auc: 0.9931 - precision: 0.9008 - recall: 0.8727 - val_loss: 0.2690 - val_accuracy: 0.9056 - val_auc: 0.9934 - val_precision: 0.9115 - val_recall: 0.8997\n",
      "Epoch 13/50\n",
      "231/231 [==============================] - 337s 1s/step - loss: 0.2862 - accuracy: 0.8950 - auc: 0.9941 - precision: 0.9063 - recall: 0.8844 - val_loss: 0.2454 - val_accuracy: 0.9147 - val_auc: 0.9949 - val_precision: 0.9174 - val_recall: 0.9112\n",
      "Epoch 14/50\n",
      "231/231 [==============================] - 336s 1s/step - loss: 0.2931 - accuracy: 0.8930 - auc: 0.9936 - precision: 0.9055 - recall: 0.8820 - val_loss: 0.2110 - val_accuracy: 0.9268 - val_auc: 0.9957 - val_precision: 0.9321 - val_recall: 0.9232\n",
      "Epoch 15/50\n",
      "231/231 [==============================] - 336s 1s/step - loss: 0.2658 - accuracy: 0.8991 - auc: 0.9948 - precision: 0.9083 - recall: 0.8893 - val_loss: 0.1991 - val_accuracy: 0.9321 - val_auc: 0.9960 - val_precision: 0.9351 - val_recall: 0.9285\n",
      "Epoch 16/50\n",
      "231/231 [==============================] - 336s 1s/step - loss: 0.2537 - accuracy: 0.9049 - auc: 0.9950 - precision: 0.9149 - recall: 0.8961 - val_loss: 0.2184 - val_accuracy: 0.9236 - val_auc: 0.9961 - val_precision: 0.9312 - val_recall: 0.9155\n",
      "Epoch 17/50\n",
      "231/231 [==============================] - 337s 1s/step - loss: 0.2592 - accuracy: 0.9072 - auc: 0.9945 - precision: 0.9152 - recall: 0.8968 - val_loss: 0.2131 - val_accuracy: 0.9250 - val_auc: 0.9953 - val_precision: 0.9298 - val_recall: 0.9200\n",
      "Epoch 18/50\n",
      "231/231 [==============================] - 336s 1s/step - loss: 0.2489 - accuracy: 0.9064 - auc: 0.9953 - precision: 0.9161 - recall: 0.8997 - val_loss: 0.2063 - val_accuracy: 0.9242 - val_auc: 0.9962 - val_precision: 0.9272 - val_recall: 0.9208\n",
      "Epoch 19/50\n",
      "231/231 [==============================] - 336s 1s/step - loss: 0.2379 - accuracy: 0.9129 - auc: 0.9957 - precision: 0.9210 - recall: 0.9050 - val_loss: 0.2122 - val_accuracy: 0.9279 - val_auc: 0.9954 - val_precision: 0.9313 - val_recall: 0.9256\n",
      "Epoch 20/50\n",
      "231/231 [==============================] - 338s 1s/step - loss: 0.2279 - accuracy: 0.9173 - auc: 0.9958 - precision: 0.9237 - recall: 0.9089 - val_loss: 0.2225 - val_accuracy: 0.9246 - val_auc: 0.9956 - val_precision: 0.9287 - val_recall: 0.9218\n",
      "Epoch 21/50\n",
      "231/231 [==============================] - 338s 1s/step - loss: 0.2266 - accuracy: 0.9148 - auc: 0.9959 - precision: 0.9221 - recall: 0.9091 - val_loss: 0.2040 - val_accuracy: 0.9295 - val_auc: 0.9955 - val_precision: 0.9337 - val_recall: 0.9268\n",
      "Epoch 22/50\n",
      "231/231 [==============================] - 336s 1s/step - loss: 0.2165 - accuracy: 0.9205 - auc: 0.9961 - precision: 0.9267 - recall: 0.9127 - val_loss: 0.2083 - val_accuracy: 0.9258 - val_auc: 0.9958 - val_precision: 0.9317 - val_recall: 0.9234\n",
      "Epoch 23/50\n",
      "231/231 [==============================] - 336s 1s/step - loss: 0.2112 - accuracy: 0.9205 - auc: 0.9964 - precision: 0.9274 - recall: 0.9148 - val_loss: 0.1985 - val_accuracy: 0.9321 - val_auc: 0.9959 - val_precision: 0.9359 - val_recall: 0.9297\n",
      "Epoch 24/50\n",
      "231/231 [==============================] - 336s 1s/step - loss: 0.2141 - accuracy: 0.9196 - auc: 0.9962 - precision: 0.9263 - recall: 0.9132 - val_loss: 0.1750 - val_accuracy: 0.9400 - val_auc: 0.9966 - val_precision: 0.9431 - val_recall: 0.9372\n",
      "Epoch 25/50\n",
      "231/231 [==============================] - 336s 1s/step - loss: 0.2071 - accuracy: 0.9238 - auc: 0.9962 - precision: 0.9311 - recall: 0.9198 - val_loss: 0.2401 - val_accuracy: 0.9165 - val_auc: 0.9953 - val_precision: 0.9224 - val_recall: 0.9131\n",
      "Epoch 26/50\n",
      "231/231 [==============================] - 337s 1s/step - loss: 0.2048 - accuracy: 0.9246 - auc: 0.9965 - precision: 0.9303 - recall: 0.9193 - val_loss: 0.1837 - val_accuracy: 0.9380 - val_auc: 0.9966 - val_precision: 0.9419 - val_recall: 0.9356\n",
      "Epoch 27/50\n",
      "231/231 [==============================] - 336s 1s/step - loss: 0.1981 - accuracy: 0.9286 - auc: 0.9966 - precision: 0.9348 - recall: 0.9231 - val_loss: 0.1855 - val_accuracy: 0.9390 - val_auc: 0.9967 - val_precision: 0.9421 - val_recall: 0.9366\n",
      "Epoch 28/50\n",
      "231/231 [==============================] - 336s 1s/step - loss: 0.1972 - accuracy: 0.9275 - auc: 0.9964 - precision: 0.9352 - recall: 0.9223 - val_loss: 0.1907 - val_accuracy: 0.9348 - val_auc: 0.9964 - val_precision: 0.9390 - val_recall: 0.9323\n",
      "Epoch 29/50\n",
      "231/231 [==============================] - 336s 1s/step - loss: 0.1932 - accuracy: 0.9294 - auc: 0.9968 - precision: 0.9347 - recall: 0.9241 - val_loss: 0.1781 - val_accuracy: 0.9376 - val_auc: 0.9965 - val_precision: 0.9392 - val_recall: 0.9356\n",
      "Epoch 30/50\n",
      "231/231 [==============================] - 336s 1s/step - loss: 0.1939 - accuracy: 0.9285 - auc: 0.9968 - precision: 0.9350 - recall: 0.9240 - val_loss: 0.2016 - val_accuracy: 0.9335 - val_auc: 0.9961 - val_precision: 0.9370 - val_recall: 0.9309\n",
      "Epoch 31/50\n",
      "231/231 [==============================] - 337s 1s/step - loss: 0.1795 - accuracy: 0.9347 - auc: 0.9972 - precision: 0.9393 - recall: 0.9293 - val_loss: 0.1908 - val_accuracy: 0.9325 - val_auc: 0.9962 - val_precision: 0.9361 - val_recall: 0.9297\n",
      "Epoch 32/50\n",
      "231/231 [==============================] - 336s 1s/step - loss: 0.1852 - accuracy: 0.9307 - auc: 0.9970 - precision: 0.9360 - recall: 0.9255 - val_loss: 0.1644 - val_accuracy: 0.9416 - val_auc: 0.9969 - val_precision: 0.9457 - val_recall: 0.9384\n"
     ]
    },
    {
     "name": "stdout",
     "output_type": "stream",
     "text": [
      "Epoch 33/50\n",
      "231/231 [==============================] - 336s 1s/step - loss: 0.1770 - accuracy: 0.9338 - auc: 0.9973 - precision: 0.9387 - recall: 0.9289 - val_loss: 0.1702 - val_accuracy: 0.9408 - val_auc: 0.9967 - val_precision: 0.9427 - val_recall: 0.9396\n",
      "Epoch 34/50\n",
      "231/231 [==============================] - 336s 1s/step - loss: 0.1846 - accuracy: 0.9298 - auc: 0.9970 - precision: 0.9354 - recall: 0.9252 - val_loss: 0.1825 - val_accuracy: 0.9402 - val_auc: 0.9966 - val_precision: 0.9410 - val_recall: 0.9374\n",
      "Epoch 35/50\n",
      "231/231 [==============================] - 336s 1s/step - loss: 0.1739 - accuracy: 0.9357 - auc: 0.9971 - precision: 0.9402 - recall: 0.9315 - val_loss: 0.1657 - val_accuracy: 0.9427 - val_auc: 0.9968 - val_precision: 0.9443 - val_recall: 0.9416\n",
      "Epoch 36/50\n",
      "231/231 [==============================] - 336s 1s/step - loss: 0.1768 - accuracy: 0.9353 - auc: 0.9970 - precision: 0.9405 - recall: 0.9311 - val_loss: 0.1773 - val_accuracy: 0.9412 - val_auc: 0.9961 - val_precision: 0.9438 - val_recall: 0.9398\n",
      "Epoch 37/50\n",
      "231/231 [==============================] - 335s 1s/step - loss: 0.1665 - accuracy: 0.9382 - auc: 0.9974 - precision: 0.9422 - recall: 0.9344 - val_loss: 0.1952 - val_accuracy: 0.9303 - val_auc: 0.9957 - val_precision: 0.9337 - val_recall: 0.9275\n",
      "Epoch 38/50\n",
      "231/231 [==============================] - 335s 1s/step - loss: 0.1771 - accuracy: 0.9347 - auc: 0.9970 - precision: 0.9401 - recall: 0.9309 - val_loss: 0.1646 - val_accuracy: 0.9435 - val_auc: 0.9966 - val_precision: 0.9465 - val_recall: 0.9422\n",
      "Epoch 39/50\n",
      "231/231 [==============================] - 336s 1s/step - loss: 0.1580 - accuracy: 0.9433 - auc: 0.9976 - precision: 0.9467 - recall: 0.9398 - val_loss: 0.1536 - val_accuracy: 0.9520 - val_auc: 0.9967 - val_precision: 0.9527 - val_recall: 0.9516\n",
      "Epoch 40/50\n",
      "231/231 [==============================] - 336s 1s/step - loss: 0.1650 - accuracy: 0.9378 - auc: 0.9977 - precision: 0.9432 - recall: 0.9338 - val_loss: 0.1772 - val_accuracy: 0.9451 - val_auc: 0.9962 - val_precision: 0.9480 - val_recall: 0.9429\n",
      "Epoch 41/50\n",
      "231/231 [==============================] - 336s 1s/step - loss: 0.1597 - accuracy: 0.9410 - auc: 0.9976 - precision: 0.9448 - recall: 0.9373 - val_loss: 0.1552 - val_accuracy: 0.9473 - val_auc: 0.9968 - val_precision: 0.9493 - val_recall: 0.9455\n",
      "Epoch 42/50\n",
      "231/231 [==============================] - 336s 1s/step - loss: 0.1596 - accuracy: 0.9408 - auc: 0.9976 - precision: 0.9449 - recall: 0.9371 - val_loss: 0.1761 - val_accuracy: 0.9354 - val_auc: 0.9969 - val_precision: 0.9392 - val_recall: 0.9331\n",
      "Epoch 43/50\n",
      "231/231 [==============================] - 335s 1s/step - loss: 0.1563 - accuracy: 0.9426 - auc: 0.9976 - precision: 0.9462 - recall: 0.9399 - val_loss: 0.1699 - val_accuracy: 0.9429 - val_auc: 0.9967 - val_precision: 0.9449 - val_recall: 0.9412\n",
      "Epoch 44/50\n",
      "231/231 [==============================] - 336s 1s/step - loss: 0.1586 - accuracy: 0.9443 - auc: 0.9974 - precision: 0.9481 - recall: 0.9412 - val_loss: 0.1550 - val_accuracy: 0.9522 - val_auc: 0.9966 - val_precision: 0.9543 - val_recall: 0.9512\n",
      "Epoch 45/50\n",
      "231/231 [==============================] - 336s 1s/step - loss: 0.1539 - accuracy: 0.9438 - auc: 0.9976 - precision: 0.9471 - recall: 0.9403 - val_loss: 0.1625 - val_accuracy: 0.9481 - val_auc: 0.9964 - val_precision: 0.9502 - val_recall: 0.9475\n",
      "Epoch 46/50\n",
      "231/231 [==============================] - 335s 1s/step - loss: 0.1489 - accuracy: 0.9451 - auc: 0.9978 - precision: 0.9493 - recall: 0.9426 - val_loss: 0.1588 - val_accuracy: 0.9439 - val_auc: 0.9968 - val_precision: 0.9470 - val_recall: 0.9408\n",
      "Epoch 47/50\n",
      "231/231 [==============================] - 336s 1s/step - loss: 0.1430 - accuracy: 0.9480 - auc: 0.9979 - precision: 0.9511 - recall: 0.9450 - val_loss: 0.1647 - val_accuracy: 0.9453 - val_auc: 0.9964 - val_precision: 0.9481 - val_recall: 0.9439\n",
      "Epoch 48/50\n",
      "231/231 [==============================] - 335s 1s/step - loss: 0.1496 - accuracy: 0.9459 - auc: 0.9977 - precision: 0.9494 - recall: 0.9427 - val_loss: 0.1814 - val_accuracy: 0.9429 - val_auc: 0.9959 - val_precision: 0.9465 - val_recall: 0.9427\n",
      "Epoch 49/50\n",
      "231/231 [==============================] - 335s 1s/step - loss: 0.1483 - accuracy: 0.9443 - auc: 0.9978 - precision: 0.9481 - recall: 0.9411 - val_loss: 0.1951 - val_accuracy: 0.9362 - val_auc: 0.9955 - val_precision: 0.9373 - val_recall: 0.9337\n",
      "Epoch 50/50\n",
      "231/231 [==============================] - 335s 1s/step - loss: 0.1428 - accuracy: 0.9485 - auc: 0.9979 - precision: 0.9514 - recall: 0.9461 - val_loss: 0.1625 - val_accuracy: 0.9469 - val_auc: 0.9966 - val_precision: 0.9480 - val_recall: 0.9453\n"
     ]
    }
   ],
   "source": [
    "history_cnn1 = cnn_model.fit(train_generator,\n",
    "                        steps_per_epoch=len(train_generator),\n",
    "                        epochs=50,\n",
    "                        validation_data=val_generator,\n",
    "                        validation_steps=len(val_generator))\n"
   ]
  },
  {
   "cell_type": "markdown",
   "metadata": {},
   "source": [
    "#### Save model"
   ]
  },
  {
   "cell_type": "code",
   "execution_count": 14,
   "metadata": {},
   "outputs": [],
   "source": [
    "# cnn_model.save('cnn_model_50epoch.h5')"
   ]
  },
  {
   "cell_type": "code",
   "execution_count": 15,
   "metadata": {},
   "outputs": [],
   "source": [
    "# hdf5storage.savemat(\"history_cnn1_50epoch.h5\", history_cnn1.history)"
   ]
  },
  {
   "cell_type": "markdown",
   "metadata": {},
   "source": [
    "#### Evaluate the model"
   ]
  },
  {
   "cell_type": "code",
   "execution_count": 25,
   "metadata": {},
   "outputs": [],
   "source": [
    "cnn_model_loaded = load_model('/Users/thaophan/Documents/Flatiron/Phase5_Project/cnn_model_50epoch.h5')"
   ]
  },
  {
   "cell_type": "code",
   "execution_count": 26,
   "metadata": {},
   "outputs": [
    {
     "name": "stdout",
     "output_type": "stream",
     "text": [
      "231/231 [==============================] - 112s 481ms/step - loss: 0.1338 - accuracy: 0.9501 - auc: 0.9979 - precision: 0.9532 - recall: 0.9473\n"
     ]
    },
    {
     "data": {
      "text/plain": [
       "[0.13384774327278137,\n",
       " 0.9500744342803955,\n",
       " 0.9979438185691833,\n",
       " 0.9532334804534912,\n",
       " 0.9473007917404175]"
      ]
     },
     "execution_count": 26,
     "metadata": {},
     "output_type": "execute_result"
    }
   ],
   "source": [
    "cnn_model_loaded.evaluate(train_generator)"
   ]
  },
  {
   "cell_type": "code",
   "execution_count": 17,
   "metadata": {
    "scrolled": true
   },
   "outputs": [
    {
     "name": "stdout",
     "output_type": "stream",
     "text": [
      "77/77 [==============================] - 29s 378ms/step - loss: 0.1492 - accuracy: 0.9472 - auc: 0.9973 - precision: 0.9491 - recall: 0.9464\n"
     ]
    },
    {
     "data": {
      "text/plain": [
       "[0.14915154874324799,\n",
       " 0.9472188353538513,\n",
       " 0.997297465801239,\n",
       " 0.9491042494773865,\n",
       " 0.9464068412780762]"
      ]
     },
     "execution_count": 17,
     "metadata": {},
     "output_type": "execute_result"
    }
   ],
   "source": [
    "cnn_model_loaded.evaluate(test_generator)"
   ]
  },
  {
   "cell_type": "code",
   "execution_count": 18,
   "metadata": {},
   "outputs": [],
   "source": [
    "loaded_cnn_history = hdf5storage.loadmat(\"history_cnn1_50epoch.h5\")"
   ]
  },
  {
   "cell_type": "code",
   "execution_count": 19,
   "metadata": {},
   "outputs": [
    {
     "name": "stdout",
     "output_type": "stream",
     "text": [
      "dict_keys(['accuracy', 'auc', 'loss', 'precision', 'recall', 'val_accuracy', 'val_auc', 'val_loss', 'val_precision', 'val_recall'])\n"
     ]
    }
   ],
   "source": [
    "print(loaded_cnn_history.keys())"
   ]
  },
  {
   "cell_type": "code",
   "execution_count": 20,
   "metadata": {
    "scrolled": true
   },
   "outputs": [
    {
     "data": {
      "image/png": "[encoded data removed]",
      "text/plain": [
       "<Figure size 800x600 with 1 Axes>"
      ]
     },
     "metadata": {},
     "output_type": "display_data"
    }
   ],
   "source": [
    "fig,ax=plt.subplots(figsize=(8,6))\n",
    "\n",
    "cnn1_loss_values = loaded_cnn_history['loss']\n",
    "cnn1_val_loss_values = loaded_cnn_history['val_loss']\n",
    "\n",
    "\n",
    "epochs = range(1,len(cnn1_loss_values)+1)\n",
    "\n",
    "ax.plot(epochs,cnn1_loss_values,label='Train loss vs epochs')\n",
    "ax.plot(epochs,cnn1_val_loss_values,label='Validation loss vs epochs')\n",
    "\n",
    "ax.set_title('Train & validation loss')\n",
    "ax.legend()\n",
    "ax.set_xlabel('Epochs')\n",
    "plt.grid()\n",
    "ax.set_ylabel('Loss');"
   ]
  },
  {
   "cell_type": "code",
   "execution_count": 21,
   "metadata": {
    "scrolled": false
   },
   "outputs": [
    {
     "data": {
      "image/png": "[encoded data removed]",
      "text/plain": [
       "<Figure size 800x600 with 1 Axes>"
      ]
     },
     "metadata": {},
     "output_type": "display_data"
    }
   ],
   "source": [
    "fig,ax=plt.subplots(figsize=(8,6))\n",
    "\n",
    "cnn1_acc_values = loaded_cnn_history['accuracy']\n",
    "cnn1_val_acc_values = loaded_cnn_history['val_accuracy']\n",
    "\n",
    "\n",
    "epochs = range(1,len(cnn1_acc_values)+1)\n",
    "\n",
    "ax.plot(epochs,cnn1_loss_values,label='Train acc vs epochs')\n",
    "ax.plot(epochs,cnn1_val_loss_values,label='Validation acc vs epochs')\n",
    "\n",
    "ax.set_title('Train & validation acc')\n",
    "ax.legend()\n",
    "ax.set_xlabel('Epochs')\n",
    "plt.grid()\n",
    "ax.set_ylabel('Acc');"
   ]
  },
  {
   "cell_type": "code",
   "execution_count": 22,
   "metadata": {},
   "outputs": [
    {
     "data": {
      "image/png": "[encoded data removed]",
      "text/plain": [
       "<Figure size 800x600 with 1 Axes>"
      ]
     },
     "metadata": {},
     "output_type": "display_data"
    }
   ],
   "source": [
    "fig,ax=plt.subplots(figsize=(8,6))\n",
    "\n",
    "cnn1_AUC_values = loaded_cnn_history['auc']\n",
    "cnn1_val_AUC_values = loaded_cnn_history['val_auc']\n",
    "\n",
    "\n",
    "epochs = range(1,len(cnn1_loss_values)+1)\n",
    "\n",
    "ax.plot(epochs,cnn1_AUC_values,label='Train AUC vs epochs')\n",
    "ax.plot(epochs,cnn1_val_AUC_values,label='Validation AUC vs epochs')\n",
    "\n",
    "ax.set_title('Train & validation AUC')\n",
    "ax.legend()\n",
    "ax.set_xlabel('Epochs')\n",
    "plt.grid()\n",
    "ax.set_ylabel('AUC');"
   ]
  },
  {
   "cell_type": "code",
   "execution_count": 23,
   "metadata": {
    "scrolled": true
   },
   "outputs": [
    {
     "name": "stdout",
     "output_type": "stream",
     "text": [
      "77/77 [==============================] - 29s 374ms/step\n"
     ]
    }
   ],
   "source": [
    "cnn1_test_class_pred = cnn_model_loaded.predict(test_generator,steps=len(test_generator))"
   ]
  },
  {
   "cell_type": "code",
   "execution_count": 24,
   "metadata": {},
   "outputs": [
    {
     "data": {
      "text/plain": [
       "array([0, 0, 0, ..., 9, 9, 0])"
      ]
     },
     "execution_count": 24,
     "metadata": {},
     "output_type": "execute_result"
    }
   ],
   "source": [
    "cnn1_predicted_classes = np.argmax(cnn1_test_class_pred, axis=-1)\n",
    "cnn1_predicted_classes"
   ]
  },
  {
   "cell_type": "code",
   "execution_count": 25,
   "metadata": {},
   "outputs": [
    {
     "data": {
      "text/plain": [
       "array([0, 0, 0, ..., 9, 9, 9], dtype=int32)"
      ]
     },
     "execution_count": 25,
     "metadata": {},
     "output_type": "execute_result"
    }
   ],
   "source": [
    "test_true_classes = test_generator.classes\n",
    "test_true_classes"
   ]
  },
  {
   "cell_type": "code",
   "execution_count": 26,
   "metadata": {
    "scrolled": true
   },
   "outputs": [
    {
     "data": {
      "text/plain": [
       "['0', '1', '2', '3', '4', '5', '6', '7', '8', '9']"
      ]
     },
     "execution_count": 26,
     "metadata": {},
     "output_type": "execute_result"
    }
   ],
   "source": [
    "test_class_labels = list(test_generator.class_indices.keys()) \n",
    "test_class_labels"
   ]
  },
  {
   "cell_type": "code",
   "execution_count": 27,
   "metadata": {},
   "outputs": [
    {
     "data": {
      "text/plain": [
       "['Tshirts',\n",
       " 'Shirts',\n",
       " 'casual_shoes',\n",
       " 'watches',\n",
       " 'sports_shoes',\n",
       " 'kurtas',\n",
       " 'handbags',\n",
       " 'heels',\n",
       " 'sunglasses',\n",
       " 'wallets']"
      ]
     },
     "execution_count": 27,
     "metadata": {},
     "output_type": "execute_result"
    }
   ],
   "source": [
    "test_class_labels_mapping = {0: 'Tshirts', 1: 'Shirts', 2: 'casual_shoes',3: 'watches' , 4: 'sports_shoes', 5: 'kurtas',6:'handbags',7:'heels',8:'sunglasses',9:'wallets'}\n",
    "test_class_labels_words = list(test_class_labels_mapping.values())\n",
    "test_class_labels_words "
   ]
  },
  {
   "cell_type": "code",
   "execution_count": 28,
   "metadata": {},
   "outputs": [
    {
     "data": {
      "text/plain": [
       "array([[1375,   26,    0,    1,    0,   12,    0,    0,    0,    0],\n",
       "       [   9,  624,    0,    0,    0,    8,    2,    0,    0,    0],\n",
       "       [   2,    0,  472,    0,   84,    0,    1,   10,    0,    0],\n",
       "       [   6,    0,    0,  498,    0,    1,    2,    0,    0,    1],\n",
       "       [   1,    0,   59,    0,  344,    0,    1,    1,    0,    1],\n",
       "       [   3,    3,    0,    0,    0,  363,    0,    0,    0,    0],\n",
       "       [   2,    0,    1,    0,    0,    0,  343,    1,    0,    5],\n",
       "       [   2,    0,    6,    0,    0,    0,    0,  256,    0,    0],\n",
       "       [   0,    0,    0,    0,    0,    0,    0,    0,  213,    0],\n",
       "       [   2,    0,    0,    0,    0,    0,    7,    0,    0,  178]])"
      ]
     },
     "execution_count": 28,
     "metadata": {},
     "output_type": "execute_result"
    }
   ],
   "source": [
    "cnn1_cm_digits = confusion_matrix(test_true_classes, cnn1_predicted_classes)\n",
    "cnn1_cm_digits"
   ]
  },
  {
   "cell_type": "code",
   "execution_count": 29,
   "metadata": {},
   "outputs": [
    {
     "data": {
      "image/png": "[encoded data removed]",
      "text/plain": [
       "<Figure size 640x480 with 2 Axes>"
      ]
     },
     "metadata": {},
     "output_type": "display_data"
    }
   ],
   "source": [
    "cnn1_disp = ConfusionMatrixDisplay(\n",
    "    confusion_matrix=cnn1_cm_digits)\n",
    "\n",
    "cnn1_disp.plot(cmap=plt.cm.Blues)\n",
    "plt.show()"
   ]
  },
  {
   "cell_type": "code",
   "execution_count": 30,
   "metadata": {
    "scrolled": false
   },
   "outputs": [
    {
     "name": "stdout",
     "output_type": "stream",
     "text": [
      "              precision    recall  f1-score   support\n",
      "\n",
      "     Tshirts       0.98      0.97      0.98      1414\n",
      "      Shirts       0.96      0.97      0.96       643\n",
      "casual_shoes       0.88      0.83      0.85       569\n",
      "     watches       1.00      0.98      0.99       508\n",
      "sports_shoes       0.80      0.85      0.82       407\n",
      "      kurtas       0.95      0.98      0.96       369\n",
      "    handbags       0.96      0.97      0.97       352\n",
      "       heels       0.96      0.97      0.96       264\n",
      "  sunglasses       1.00      1.00      1.00       213\n",
      "     wallets       0.96      0.95      0.96       187\n",
      "\n",
      "    accuracy                           0.95      4926\n",
      "   macro avg       0.94      0.95      0.95      4926\n",
      "weighted avg       0.95      0.95      0.95      4926\n",
      "\n"
     ]
    }
   ],
   "source": [
    "cnn1_report = classification_report(test_true_classes, cnn1_predicted_classes, target_names=test_class_labels_words,)\n",
    "print(cnn1_report)"
   ]
  },
  {
   "cell_type": "code",
   "execution_count": 31,
   "metadata": {
    "scrolled": true
   },
   "outputs": [
    {
     "name": "stdout",
     "output_type": "stream",
     "text": [
      "{'Tshirts': {'precision': 0.9807417974322397, 'recall': 0.9724186704384724, 'f1-score': 0.9765625, 'support': 1414}, 'Shirts': {'precision': 0.9555895865237366, 'recall': 0.9704510108864697, 'f1-score': 0.962962962962963, 'support': 643}, 'casual_shoes': {'precision': 0.8773234200743495, 'recall': 0.8295254833040422, 'f1-score': 0.8527551942186089, 'support': 569}, 'watches': {'precision': 0.9979959919839679, 'recall': 0.9803149606299213, 'f1-score': 0.9890764647467726, 'support': 508}, 'sports_shoes': {'precision': 0.8037383177570093, 'recall': 0.8452088452088452, 'f1-score': 0.8239520958083831, 'support': 407}, 'kurtas': {'precision': 0.9453125, 'recall': 0.983739837398374, 'f1-score': 0.9641434262948206, 'support': 369}, 'handbags': {'precision': 0.9634831460674157, 'recall': 0.9744318181818182, 'f1-score': 0.9689265536723164, 'support': 352}, 'heels': {'precision': 0.9552238805970149, 'recall': 0.9696969696969697, 'f1-score': 0.9624060150375939, 'support': 264}, 'sunglasses': {'precision': 1.0, 'recall': 1.0, 'f1-score': 1.0, 'support': 213}, 'wallets': {'precision': 0.9621621621621622, 'recall': 0.9518716577540107, 'f1-score': 0.956989247311828, 'support': 187}, 'accuracy': 0.9472188388144539, 'macro avg': {'precision': 0.9441570802597896, 'recall': 0.9477659253498922, 'f1-score': 0.9457774460053286, 'support': 4926}, 'weighted avg': {'precision': 0.9475402557244984, 'recall': 0.9472188388144539, 'f1-score': 0.947203585301183, 'support': 4926}}\n"
     ]
    }
   ],
   "source": [
    "cnn1_report_output = classification_report(test_true_classes, cnn1_predicted_classes, target_names=test_class_labels_words,output_dict=True)\n",
    "print(cnn1_report_output)"
   ]
  },
  {
   "cell_type": "code",
   "execution_count": 32,
   "metadata": {},
   "outputs": [
    {
     "data": {
      "text/plain": [
       "['Tshirts',\n",
       " 'Shirts',\n",
       " 'casual_shoes',\n",
       " 'watches',\n",
       " 'sports_shoes',\n",
       " 'kurtas',\n",
       " 'handbags',\n",
       " 'heels',\n",
       " 'sunglasses',\n",
       " 'wallets']"
      ]
     },
     "execution_count": 32,
     "metadata": {},
     "output_type": "execute_result"
    }
   ],
   "source": [
    "test_class_labels_words"
   ]
  },
  {
   "cell_type": "code",
   "execution_count": 33,
   "metadata": {},
   "outputs": [
    {
     "data": {
      "text/plain": [
       "{'Tshirts': 0.98,\n",
       " 'Shirts': 0.96,\n",
       " 'casual_shoes': 0.85,\n",
       " 'watches': 0.99,\n",
       " 'sports_shoes': 0.82,\n",
       " 'kurtas': 0.96,\n",
       " 'handbags': 0.97,\n",
       " 'heels': 0.96,\n",
       " 'sunglasses': 1.0,\n",
       " 'wallets': 0.96}"
      ]
     },
     "execution_count": 33,
     "metadata": {},
     "output_type": "execute_result"
    }
   ],
   "source": [
    "cnn1_f1_scores = {class_name: cnn1_report_output[class_name]['f1-score'] for class_name in test_class_labels_words}\n",
    "cnn1_f1_scores_rounded = {class_name: round(score, 2) for class_name, score in cnn1_f1_scores.items()}\n",
    "cnn1_f1_scores_rounded"
   ]
  },
  {
   "cell_type": "code",
   "execution_count": 34,
   "metadata": {},
   "outputs": [
    {
     "data": {
      "text/plain": [
       "0.9475402557244984"
      ]
     },
     "execution_count": 34,
     "metadata": {},
     "output_type": "execute_result"
    }
   ],
   "source": [
    "cnn1_model_precision = cnn1_report_output['weighted avg']['precision']\n",
    "cnn1_model_precision"
   ]
  },
  {
   "cell_type": "code",
   "execution_count": 35,
   "metadata": {},
   "outputs": [
    {
     "data": {
      "text/plain": [
       "0.9472188388144539"
      ]
     },
     "execution_count": 35,
     "metadata": {},
     "output_type": "execute_result"
    }
   ],
   "source": [
    "cnn1_model_recall = cnn1_report_output['weighted avg']['recall']\n",
    "cnn1_model_recall"
   ]
  },
  {
   "cell_type": "code",
   "execution_count": 36,
   "metadata": {},
   "outputs": [
    {
     "data": {
      "text/plain": [
       "0.947203585301183"
      ]
     },
     "execution_count": 36,
     "metadata": {},
     "output_type": "execute_result"
    }
   ],
   "source": [
    "cnn1_model_f1_score = cnn1_report_output['weighted avg']['f1-score']\n",
    "cnn1_model_f1_score"
   ]
  },
  {
   "cell_type": "code",
   "execution_count": 37,
   "metadata": {},
   "outputs": [
    {
     "data": {
      "text/html": [
       "<div>\n",
       "<style scoped>\n",
       "    .dataframe tbody tr th:only-of-type {\n",
       "        vertical-align: middle;\n",
       "    }\n",
       "\n",
       "    .dataframe tbody tr th {\n",
       "        vertical-align: top;\n",
       "    }\n",
       "\n",
       "    .dataframe thead th {\n",
       "        text-align: right;\n",
       "    }\n",
       "</style>\n",
       "<table border=\"1\" class=\"dataframe\">\n",
       "  <thead>\n",
       "    <tr style=\"text-align: right;\">\n",
       "      <th></th>\n",
       "      <th>Model_name</th>\n",
       "      <th>Precision</th>\n",
       "      <th>Recall</th>\n",
       "      <th>F1_score</th>\n",
       "    </tr>\n",
       "  </thead>\n",
       "  <tbody>\n",
       "  </tbody>\n",
       "</table>\n",
       "</div>"
      ],
      "text/plain": [
       "Empty DataFrame\n",
       "Columns: [Model_name, Precision, Recall, F1_score]\n",
       "Index: []"
      ]
     },
     "execution_count": 37,
     "metadata": {},
     "output_type": "execute_result"
    }
   ],
   "source": [
    "metrics_col = ['Model_name','Precision','Recall','F1_score']\n",
    "metrics_table = pd.DataFrame(columns=metrics_col)\n",
    "metrics_table"
   ]
  },
  {
   "cell_type": "code",
   "execution_count": 38,
   "metadata": {},
   "outputs": [
    {
     "data": {
      "text/html": [
       "<div>\n",
       "<style scoped>\n",
       "    .dataframe tbody tr th:only-of-type {\n",
       "        vertical-align: middle;\n",
       "    }\n",
       "\n",
       "    .dataframe tbody tr th {\n",
       "        vertical-align: top;\n",
       "    }\n",
       "\n",
       "    .dataframe thead th {\n",
       "        text-align: right;\n",
       "    }\n",
       "</style>\n",
       "<table border=\"1\" class=\"dataframe\">\n",
       "  <thead>\n",
       "    <tr style=\"text-align: right;\">\n",
       "      <th></th>\n",
       "      <th>Model Name</th>\n",
       "      <th>Overall_F1-score</th>\n",
       "      <th>Tshirts</th>\n",
       "      <th>Shirts</th>\n",
       "      <th>casual_shoes</th>\n",
       "      <th>watches</th>\n",
       "      <th>sports_shoes</th>\n",
       "      <th>kurtas</th>\n",
       "      <th>handbags</th>\n",
       "      <th>heels</th>\n",
       "      <th>sunglasses</th>\n",
       "      <th>wallets</th>\n",
       "    </tr>\n",
       "  </thead>\n",
       "  <tbody>\n",
       "  </tbody>\n",
       "</table>\n",
       "</div>"
      ],
      "text/plain": [
       "Empty DataFrame\n",
       "Columns: [Model Name, Overall_F1-score, Tshirts, Shirts, casual_shoes, watches, sports_shoes, kurtas, handbags, heels, sunglasses, wallets]\n",
       "Index: []"
      ]
     },
     "execution_count": 38,
     "metadata": {},
     "output_type": "execute_result"
    }
   ],
   "source": [
    "#Create a summary table\n",
    "table_columns = ['Model Name', 'Overall_F1-score'] + list(cnn1_f1_scores.keys())\n",
    "f1score_sumary_table = pd.DataFrame(columns=table_columns)\n",
    "f1score_sumary_table"
   ]
  },
  {
   "cell_type": "code",
   "execution_count": 39,
   "metadata": {
    "scrolled": true
   },
   "outputs": [
    {
     "data": {
      "text/html": [
       "<div>\n",
       "<style scoped>\n",
       "    .dataframe tbody tr th:only-of-type {\n",
       "        vertical-align: middle;\n",
       "    }\n",
       "\n",
       "    .dataframe tbody tr th {\n",
       "        vertical-align: top;\n",
       "    }\n",
       "\n",
       "    .dataframe thead th {\n",
       "        text-align: right;\n",
       "    }\n",
       "</style>\n",
       "<table border=\"1\" class=\"dataframe\">\n",
       "  <thead>\n",
       "    <tr style=\"text-align: right;\">\n",
       "      <th></th>\n",
       "      <th>Model_name</th>\n",
       "      <th>Precision</th>\n",
       "      <th>Recall</th>\n",
       "      <th>F1_score</th>\n",
       "    </tr>\n",
       "  </thead>\n",
       "  <tbody>\n",
       "    <tr>\n",
       "      <th>0</th>\n",
       "      <td>cnn1_model</td>\n",
       "      <td>0.95</td>\n",
       "      <td>0.95</td>\n",
       "      <td>0.95</td>\n",
       "    </tr>\n",
       "  </tbody>\n",
       "</table>\n",
       "</div>"
      ],
      "text/plain": [
       "   Model_name  Precision  Recall  F1_score\n",
       "0  cnn1_model       0.95    0.95      0.95"
      ]
     },
     "execution_count": 39,
     "metadata": {},
     "output_type": "execute_result"
    }
   ],
   "source": [
    "metrics_table.loc[0] = ['cnn1_model',round(cnn1_model_precision,2),round(cnn1_model_recall,2),round(cnn1_model_f1_score,2)]\n",
    "metrics_table"
   ]
  },
  {
   "cell_type": "code",
   "execution_count": 40,
   "metadata": {},
   "outputs": [
    {
     "data": {
      "text/html": [
       "<div>\n",
       "<style scoped>\n",
       "    .dataframe tbody tr th:only-of-type {\n",
       "        vertical-align: middle;\n",
       "    }\n",
       "\n",
       "    .dataframe tbody tr th {\n",
       "        vertical-align: top;\n",
       "    }\n",
       "\n",
       "    .dataframe thead th {\n",
       "        text-align: right;\n",
       "    }\n",
       "</style>\n",
       "<table border=\"1\" class=\"dataframe\">\n",
       "  <thead>\n",
       "    <tr style=\"text-align: right;\">\n",
       "      <th></th>\n",
       "      <th>Model Name</th>\n",
       "      <th>Overall_F1-score</th>\n",
       "      <th>Tshirts</th>\n",
       "      <th>Shirts</th>\n",
       "      <th>casual_shoes</th>\n",
       "      <th>watches</th>\n",
       "      <th>sports_shoes</th>\n",
       "      <th>kurtas</th>\n",
       "      <th>handbags</th>\n",
       "      <th>heels</th>\n",
       "      <th>sunglasses</th>\n",
       "      <th>wallets</th>\n",
       "    </tr>\n",
       "  </thead>\n",
       "  <tbody>\n",
       "    <tr>\n",
       "      <th>0</th>\n",
       "      <td>cnn1_model</td>\n",
       "      <td>0.95</td>\n",
       "      <td>0.98</td>\n",
       "      <td>0.96</td>\n",
       "      <td>0.85</td>\n",
       "      <td>0.99</td>\n",
       "      <td>0.82</td>\n",
       "      <td>0.96</td>\n",
       "      <td>0.97</td>\n",
       "      <td>0.96</td>\n",
       "      <td>1.0</td>\n",
       "      <td>0.96</td>\n",
       "    </tr>\n",
       "  </tbody>\n",
       "</table>\n",
       "</div>"
      ],
      "text/plain": [
       "   Model Name  Overall_F1-score  Tshirts  Shirts  casual_shoes  watches  \\\n",
       "0  cnn1_model              0.95     0.98    0.96          0.85     0.99   \n",
       "\n",
       "   sports_shoes  kurtas  handbags  heels  sunglasses  wallets  \n",
       "0          0.82    0.96      0.97   0.96         1.0     0.96  "
      ]
     },
     "execution_count": 40,
     "metadata": {},
     "output_type": "execute_result"
    }
   ],
   "source": [
    "f1score_sumary_table.loc[0] = ['cnn1_model', round(cnn1_model_f1_score,2)] + list(cnn1_f1_scores_rounded.values())\n",
    "f1score_sumary_table"
   ]
  },
  {
   "cell_type": "code",
   "execution_count": null,
   "metadata": {},
   "outputs": [],
   "source": []
  },
  {
   "cell_type": "markdown",
   "metadata": {},
   "source": [
    "### 2nd CNN model- L2 Regularizer"
   ]
  },
  {
   "cell_type": "code",
   "execution_count": null,
   "metadata": {},
   "outputs": [],
   "source": [
    "\n",
    "\n",
    "cnn_model_l2 = Sequential()\n",
    "cnn_model_l2.add(Conv2D(32, (3, 3), activation='relu', input_shape=(256, 256, 3), kernel_regularizer = l2(0.0005)))\n",
    "cnn_model_l2.add(MaxPooling2D(2, 2))\n",
    "\n",
    "# Corrected Conv2D layer with kernel_regularizer parameter\n",
    "cnn_model_l2.add(Conv2D(64, (3, 3), activation='relu', kernel_regularizer = l2(0.0005)))\n",
    "cnn_model_l2.add(MaxPooling2D(2, 2))\n",
    "\n",
    "# Corrected Conv2D layer with kernel_regularizer parameter\n",
    "cnn_model_l2.add(Conv2D(128, (3, 3), activation='relu', kernel_regularizer = l2(0.0005)))\n",
    "cnn_model_l2.add(MaxPooling2D(2, 2))\n",
    "\n",
    "# Corrected Conv2D layer with kernel_regularizer parameter\n",
    "cnn_model_l2.add(Conv2D(256, (3, 3), activation='relu', kernel_regularizer = l2(0.0005)))\n",
    "cnn_model_l2.add(MaxPooling2D(2, 2))\n",
    "\n",
    "cnn_model_l2.add(Flatten())\n",
    "cnn_model_l2.add(Dense(128, activation='relu', kernel_regularizer=l2(0.0005)))\n",
    "cnn_model_l2.add(Dense(10, activation='softmax', kernel_regularizer = l2(0.0005)))\n"
   ]
  },
  {
   "cell_type": "code",
   "execution_count": null,
   "metadata": {},
   "outputs": [],
   "source": [
    "cnn_model_l2.compile(loss='categorical_crossentropy',\n",
    "                  optimizer='Adam',\n",
    "                  metrics=['accuracy','AUC','Precision','Recall'])"
   ]
  },
  {
   "cell_type": "code",
   "execution_count": null,
   "metadata": {},
   "outputs": [],
   "source": [
    "history_l2 = cnn_model_l2.fit(train_generator,\n",
    "                        steps_per_epoch=len(train_generator),\n",
    "                        epochs=50,\n",
    "                        validation_data=val_generator,\n",
    "                        validation_steps=len(val_generator))"
   ]
  },
  {
   "cell_type": "markdown",
   "metadata": {},
   "source": [
    "#### Save model"
   ]
  },
  {
   "cell_type": "code",
   "execution_count": null,
   "metadata": {},
   "outputs": [],
   "source": [
    "cnn_model_l2.save('cnn_model_l2_50epoch.h5')"
   ]
  },
  {
   "cell_type": "code",
   "execution_count": null,
   "metadata": {},
   "outputs": [],
   "source": [
    "hdf5storage.savemat(\"cnn_model_l2_50epoch.h5\", history_l2.history)"
   ]
  },
  {
   "cell_type": "markdown",
   "metadata": {},
   "source": [
    "#### Evaluate the model"
   ]
  },
  {
   "cell_type": "code",
   "execution_count": null,
   "metadata": {},
   "outputs": [],
   "source": [
    "cnn_l2_loaded = load_model('cnn_model_l2_50epoch.h5')"
   ]
  },
  {
   "cell_type": "code",
   "execution_count": null,
   "metadata": {},
   "outputs": [],
   "source": [
    "cnn_l2_loaded.evaluate(train_generator)"
   ]
  },
  {
   "cell_type": "code",
   "execution_count": null,
   "metadata": {},
   "outputs": [],
   "source": [
    "cnn_l2_loaded.evaluate(val_generator)"
   ]
  },
  {
   "cell_type": "code",
   "execution_count": null,
   "metadata": {},
   "outputs": [],
   "source": [
    "cnn_l2_loaded.evaluate(test_generator)"
   ]
  },
  {
   "cell_type": "code",
   "execution_count": null,
   "metadata": {},
   "outputs": [],
   "source": [
    "cnn_l2_history_loaded = hdf5storage.loadmat(\"cnn_model_l2_50epoch.h5\")"
   ]
  },
  {
   "cell_type": "code",
   "execution_count": null,
   "metadata": {},
   "outputs": [],
   "source": [
    "print(cnn_l2_history_loaded.keys())"
   ]
  },
  {
   "cell_type": "code",
   "execution_count": null,
   "metadata": {},
   "outputs": [],
   "source": [
    "fig,ax=plt.subplots(figsize=(8,6))\n",
    "\n",
    "cnn_l2_loss_values = cnn_l2_history_loaded['loss']\n",
    "cnn_l2_val_loss_values = cnn_l2_history_loaded['val_loss']\n",
    "\n",
    "\n",
    "epochs = range(1,len(cnn_l2_loss_values)+1)\n",
    "\n",
    "ax.plot(epochs,cnn_l2_loss_values,label='Train loss vs epochs')\n",
    "ax.plot(epochs,cnn_l2_val_loss_values,label='Validation loss vs epochs')\n",
    "\n",
    "ax.set_title('Train & validation loss')\n",
    "ax.legend()\n",
    "ax.set_xlabel('Epochs')\n",
    "plt.grid()\n",
    "ax.set_ylabel('Loss');"
   ]
  },
  {
   "cell_type": "code",
   "execution_count": null,
   "metadata": {},
   "outputs": [],
   "source": [
    "fig,ax=plt.subplots(figsize=(8,6))\n",
    "\n",
    "cnn_l2_acc_values = cnn_l2_history_loaded['accuracy']\n",
    "cnn_l2_val_acc_values = cnn_l2_history_loaded['val_accuracy']\n",
    "\n",
    "\n",
    "epochs = range(1,len(cnn_l2_acc_values)+1)\n",
    "\n",
    "ax.plot(epochs,cnn_l2_acc_values,label='Train acc vs epochs')\n",
    "ax.plot(epochs,cnn_l2_val_acc_values,label='Validation acc vs epochs')\n",
    "\n",
    "ax.set_title('Train & validation acc')\n",
    "ax.legend()\n",
    "ax.set_xlabel('Epochs')\n",
    "plt.grid()\n",
    "ax.set_ylabel('Acc');"
   ]
  },
  {
   "cell_type": "code",
   "execution_count": null,
   "metadata": {},
   "outputs": [],
   "source": [
    "fig,ax=plt.subplots(figsize=(8,6))\n",
    "\n",
    "cnn_l2_AUC_values = cnn_l2_history_loaded['auc']\n",
    "cnn_l2_val_AUC_values = cnn_l2_history_loaded['val_auc']\n",
    "\n",
    "\n",
    "epochs = range(1,len(cnn_l2_AUC_values)+1)\n",
    "\n",
    "ax.plot(epochs,cnn_l2_AUC_values,label='Train AUC vs epochs')\n",
    "ax.plot(epochs,cnn_l2_val_AUC_values,label='Validation AUC vs epochs')\n",
    "\n",
    "ax.set_title('Train & validation AUC')\n",
    "ax.legend()\n",
    "ax.set_xlabel('Epochs')\n",
    "plt.grid()\n",
    "ax.set_ylabel('AUC');"
   ]
  },
  {
   "cell_type": "code",
   "execution_count": null,
   "metadata": {},
   "outputs": [],
   "source": [
    "cnn_l2_test_class_pred = cnn_l2_loaded.predict(test_generator,steps=len(test_generator))"
   ]
  },
  {
   "cell_type": "code",
   "execution_count": null,
   "metadata": {},
   "outputs": [],
   "source": [
    "cnn_l2_predicted_classes = np.argmax(cnn_l2_test_class_pred, axis=-1)\n",
    "cnn_l2_predicted_classes"
   ]
  },
  {
   "cell_type": "code",
   "execution_count": null,
   "metadata": {},
   "outputs": [],
   "source": [
    "test_true_classes = test_generator.classes\n",
    "test_true_classes"
   ]
  },
  {
   "cell_type": "code",
   "execution_count": null,
   "metadata": {},
   "outputs": [],
   "source": [
    "test_class_labels = list(test_generator.class_indices.keys()) \n",
    "test_class_labels"
   ]
  },
  {
   "cell_type": "code",
   "execution_count": null,
   "metadata": {},
   "outputs": [],
   "source": [
    "test_class_labels_mapping = {0: 'Tshirts', 1: 'Shirts', 2: 'casual_shoes',3: 'watches' , 4: 'sports_shoes', 5: 'kurtas',6:'handbags',7:'heels',8:'sunglasses',9:'wallets'}\n",
    "test_class_labels_words = list(test_class_labels_mapping.values())\n",
    "test_class_labels_words"
   ]
  },
  {
   "cell_type": "code",
   "execution_count": null,
   "metadata": {},
   "outputs": [],
   "source": [
    "cnn_l2_cm_digits = confusion_matrix(test_true_classes, cnn_l2_predicted_classes)\n",
    "cnn_l2_cm_digits"
   ]
  },
  {
   "cell_type": "code",
   "execution_count": null,
   "metadata": {},
   "outputs": [],
   "source": [
    "cnn1_disp = ConfusionMatrixDisplay(\n",
    "    confusion_matrix=cnn_l2_cm_digits)\n",
    "\n",
    "cnn1_disp.plot(cmap=plt.cm.Blues)\n",
    "plt.show()"
   ]
  },
  {
   "cell_type": "code",
   "execution_count": null,
   "metadata": {
    "scrolled": true
   },
   "outputs": [],
   "source": [
    "cnn_l2_report = classification_report(test_true_classes, cnn_l2_predicted_classes, target_names=test_class_labels_words)\n",
    "print(cnn_l2_report)"
   ]
  },
  {
   "cell_type": "code",
   "execution_count": null,
   "metadata": {},
   "outputs": [],
   "source": [
    "cnn_l2_report_output =  classification_report(test_true_classes, cnn_l2_predicted_classes, target_names=test_class_labels_words,output_dict=True)\n",
    "print(cnn_l2_report_output)"
   ]
  },
  {
   "cell_type": "code",
   "execution_count": null,
   "metadata": {},
   "outputs": [],
   "source": [
    "cnn_l2_f1_scores = {class_name: cnn_l2_report_output[class_name]['f1-score'] for class_name in test_class_labels_words}\n",
    "cnn_l2_f1_scores_rounded = {class_name: round(score, 2) for class_name, score in cnn_l2_f1_scores.items()}\n",
    "cnn_l2_f1_scores_rounded"
   ]
  },
  {
   "cell_type": "code",
   "execution_count": null,
   "metadata": {},
   "outputs": [],
   "source": [
    "cnn_l2_model_precision = cnn_l2_report_output['weighted avg']['precision']\n",
    "cnn_l2_model_precision"
   ]
  },
  {
   "cell_type": "code",
   "execution_count": null,
   "metadata": {},
   "outputs": [],
   "source": [
    "cnn_l2_model_recall = cnn_l2_report_output['weighted avg']['recall']\n",
    "cnn_l2_model_recall"
   ]
  },
  {
   "cell_type": "code",
   "execution_count": null,
   "metadata": {},
   "outputs": [],
   "source": [
    "cnn_l2_model_f1_score = cnn_l2_report_output['weighted avg']['f1-score']\n",
    "cnn_l2_model_f1_score"
   ]
  },
  {
   "cell_type": "code",
   "execution_count": null,
   "metadata": {},
   "outputs": [],
   "source": [
    "metrics_table.loc[1] = ['cnn_l2_model',round(cnn_l2_model_precision,2),round(cnn_l2_model_recall,2),round(cnn_l2_model_f1_score,2)]\n",
    "metrics_table"
   ]
  },
  {
   "cell_type": "code",
   "execution_count": null,
   "metadata": {},
   "outputs": [],
   "source": [
    "f1score_sumary_table.loc[1] = ['cnn_l2_model', round(cnn_l2_model_f1_score,2)] + list(cnn_l2_f1_scores_rounded.values())\n",
    "f1score_sumary_table"
   ]
  },
  {
   "cell_type": "code",
   "execution_count": null,
   "metadata": {},
   "outputs": [],
   "source": []
  },
  {
   "cell_type": "code",
   "execution_count": null,
   "metadata": {},
   "outputs": [],
   "source": []
  },
  {
   "cell_type": "code",
   "execution_count": null,
   "metadata": {},
   "outputs": [],
   "source": []
  },
  {
   "cell_type": "code",
   "execution_count": null,
   "metadata": {},
   "outputs": [],
   "source": []
  },
  {
   "cell_type": "code",
   "execution_count": null,
   "metadata": {},
   "outputs": [],
   "source": []
  },
  {
   "cell_type": "markdown",
   "metadata": {},
   "source": [
    "### 3th CNN model- Dropout"
   ]
  },
  {
   "cell_type": "code",
   "execution_count": null,
   "metadata": {},
   "outputs": [],
   "source": [
    "\n",
    "cnn_model_dropout = Sequential()\n",
    "cnn_model_dropout.add(Conv2D(32, (3, 3), activation='relu', input_shape=(256, 256, 3)))\n",
    "cnn_model_dropout.add(MaxPooling2D(2, 2))\n",
    "cnn_model_dropout.add(Dropout(0.3))  # Add dropout with 30% dropout rate\n",
    "\n",
    "#  Conv2D layer with kernel_regularizer parameter\n",
    "cnn_model_dropout.add(Conv2D(64, (3, 3), activation='relu'))\n",
    "cnn_model_dropout.add(MaxPooling2D(2, 2))\n",
    "cnn_model_dropout.add(Dropout(0.3))  # Add dropout with 30% dropout rate\n",
    "\n",
    "#  Conv2D layer with kernel_regularizer parameter\n",
    "cnn_model_dropout.add(Conv2D(128, (3, 3), activation='relu'))\n",
    "cnn_model_dropout.add(MaxPooling2D(2, 2))\n",
    "cnn_model_dropout.add(Dropout(0.3))  # Add dropout with 30% dropout rate\n",
    "\n",
    "#  Conv2D layer with kernel_regularizer parameter\n",
    "cnn_model_dropout.add(Conv2D(256, (3, 3), activation='relu'))\n",
    "cnn_model_dropout.add(MaxPooling2D(2, 2))\n",
    "cnn_model_dropout.add(Dropout(0.3))  # Add dropout with 30% dropout rate\n",
    "\n",
    "cnn_model_dropout.add(Flatten())\n",
    "cnn_model_dropout.add(Dense(128, activation='relu'))\n",
    "cnn_model_dropout.add(Dense(num_classes, activation='softmax'))"
   ]
  },
  {
   "cell_type": "code",
   "execution_count": null,
   "metadata": {},
   "outputs": [],
   "source": [
    "cnn_model_dropout.compile(loss='categorical_crossentropy',\n",
    "                  optimizer='Adam',\n",
    "                  metrics=['accuracy','AUC','Precision','Recall'])"
   ]
  },
  {
   "cell_type": "code",
   "execution_count": null,
   "metadata": {},
   "outputs": [],
   "source": [
    "history_cnn_dropout = cnn_model_dropout.fit(train_generator,\n",
    "                        steps_per_epoch=len(train_generator),\n",
    "                        epochs=50,\n",
    "                        validation_data=val_generator,\n",
    "                        validation_steps=len(val_generator))"
   ]
  },
  {
   "cell_type": "markdown",
   "metadata": {},
   "source": [
    "#### Save the model"
   ]
  },
  {
   "cell_type": "code",
   "execution_count": null,
   "metadata": {},
   "outputs": [],
   "source": [
    "cnn_model_dropout.save('cnn_model_dropout_50epoch.h5')"
   ]
  },
  {
   "cell_type": "code",
   "execution_count": null,
   "metadata": {},
   "outputs": [],
   "source": [
    "hdf5storage.savemat(\"history_cnn_dropout_50epoch.h5\", history_cnn_dropout.history)"
   ]
  },
  {
   "cell_type": "markdown",
   "metadata": {},
   "source": [
    "#### Evaluate the model"
   ]
  },
  {
   "cell_type": "code",
   "execution_count": null,
   "metadata": {},
   "outputs": [],
   "source": [
    "cnn_dropout_loaded = load_model('cnn_model_dropout_50epoch.h5')"
   ]
  },
  {
   "cell_type": "code",
   "execution_count": null,
   "metadata": {},
   "outputs": [],
   "source": [
    "cnn_dropout_loaded.evaluate(train_generator)"
   ]
  },
  {
   "cell_type": "code",
   "execution_count": null,
   "metadata": {},
   "outputs": [],
   "source": [
    "cnn_dropout_loaded.evaluate(val_generator)"
   ]
  },
  {
   "cell_type": "code",
   "execution_count": null,
   "metadata": {},
   "outputs": [],
   "source": [
    "cnn_dropout_loaded.evaluate(test_generator)"
   ]
  },
  {
   "cell_type": "code",
   "execution_count": null,
   "metadata": {},
   "outputs": [],
   "source": [
    "cnn_dropout_history_loaded = hdf5storage.loadmat(\"history_cnn_dropout_50epoch.h5\")"
   ]
  },
  {
   "cell_type": "code",
   "execution_count": null,
   "metadata": {
    "scrolled": true
   },
   "outputs": [],
   "source": [
    "print(cnn_dropout_history_loaded.keys())"
   ]
  },
  {
   "cell_type": "code",
   "execution_count": null,
   "metadata": {},
   "outputs": [],
   "source": [
    "fig,ax=plt.subplots(figsize=(8,6))\n",
    "\n",
    "cnn_dropout_loss_values = cnn_dropout_history_loaded['loss']\n",
    "cnn_dropout_val_loss_values = cnn_dropout_history_loaded['val_loss']\n",
    "\n",
    "\n",
    "epochs = range(1,len(cnn_dropout_loss_values)+1)\n",
    "\n",
    "ax.plot(epochs,cnn_dropout_loss_values,label='Train loss vs epochs')\n",
    "ax.plot(epochs,cnn_dropout_val_loss_values,label='Validation loss vs epochs')\n",
    "\n",
    "ax.set_title('Train & validation loss')\n",
    "ax.legend()\n",
    "ax.set_xlabel('Epochs')\n",
    "plt.grid()\n",
    "ax.set_ylabel('Loss');"
   ]
  },
  {
   "cell_type": "code",
   "execution_count": null,
   "metadata": {},
   "outputs": [],
   "source": [
    "fig,ax=plt.subplots(figsize=(8,6))\n",
    "\n",
    "cnn_dropout_acc_values = cnn_dropout_history_loaded['accuracy']\n",
    "cnn_dropout_val_acc_values = cnn_dropout_history_loaded['val_accuracy']\n",
    "\n",
    "\n",
    "epochs = range(1,len(cnn_dropout_acc_values)+1)\n",
    "\n",
    "ax.plot(epochs,cnn_dropout_acc_values,label='Train acc vs epochs')\n",
    "ax.plot(epochs,cnn_dropout_val_acc_values,label='Validation acc vs epochs')\n",
    "\n",
    "ax.set_title('Train & validation acc')\n",
    "ax.legend()\n",
    "ax.set_xlabel('Epochs')\n",
    "plt.grid()\n",
    "ax.set_ylabel('Acc');"
   ]
  },
  {
   "cell_type": "code",
   "execution_count": null,
   "metadata": {},
   "outputs": [],
   "source": [
    "fig,ax=plt.subplots(figsize=(8,6))\n",
    "\n",
    "cnn_dropout_AUC_values = cnn_dropout_history_loaded['auc']\n",
    "cnn_dropout_val_AUC_values = cnn_dropout_history_loaded['val_auc']\n",
    "\n",
    "\n",
    "epochs = range(1,len(cnn_dropout_AUC_values)+1)\n",
    "\n",
    "ax.plot(epochs,cnn_dropout_AUC_values,label='Train AUC vs epochs')\n",
    "ax.plot(epochs,cnn_dropout_val_AUC_values,label='Validation AUC vs epochs')\n",
    "\n",
    "ax.set_title('Train & validation AUC')\n",
    "ax.legend()\n",
    "ax.set_xlabel('Epochs')\n",
    "plt.grid()\n",
    "ax.set_ylabel('AUC');"
   ]
  },
  {
   "cell_type": "code",
   "execution_count": null,
   "metadata": {},
   "outputs": [],
   "source": [
    "cnn_dropout_test_class_pred = cnn_dropout_loaded.predict(test_generator,steps=len(test_generator))"
   ]
  },
  {
   "cell_type": "code",
   "execution_count": null,
   "metadata": {},
   "outputs": [],
   "source": [
    "cnn_dropout_predicted_classes = np.argmax(cnn_dropout_test_class_pred, axis=-1)\n",
    "cnn_dropout_predicted_classes"
   ]
  },
  {
   "cell_type": "code",
   "execution_count": null,
   "metadata": {},
   "outputs": [],
   "source": [
    "test_true_classes = test_generator.classes\n",
    "test_true_classes"
   ]
  },
  {
   "cell_type": "code",
   "execution_count": null,
   "metadata": {},
   "outputs": [],
   "source": [
    "test_class_labels = list(test_generator.class_indices.keys()) \n",
    "test_class_labels"
   ]
  },
  {
   "cell_type": "code",
   "execution_count": null,
   "metadata": {},
   "outputs": [],
   "source": [
    "test_class_labels_mapping = {0: 'Tshirts', 1: 'Shirts', 2: 'casual_shoes',3: 'watches' , 4: 'sports_shoes', 5: 'kurtas',6:'handbags',7:'heels',8:'sunglasses',9:'wallets'}\n",
    "test_class_labels_words = list(test_class_labels_mapping.values())\n",
    "test_class_labels_words"
   ]
  },
  {
   "cell_type": "code",
   "execution_count": null,
   "metadata": {},
   "outputs": [],
   "source": [
    "cnn_dropout_cm_digits = confusion_matrix(test_true_classes, cnn_dropout_predicted_classes)\n",
    "cnn_dropout_cm_digits"
   ]
  },
  {
   "cell_type": "code",
   "execution_count": null,
   "metadata": {},
   "outputs": [],
   "source": [
    "cnn_dropout_disp = ConfusionMatrixDisplay(\n",
    "    confusion_matrix=cnn_dropout_cm_digits)\n",
    "\n",
    "cnn1_disp.plot(cmap=plt.cm.Blues)\n",
    "plt.show()"
   ]
  },
  {
   "cell_type": "code",
   "execution_count": null,
   "metadata": {
    "scrolled": true
   },
   "outputs": [],
   "source": [
    "cnn_dropout_report = classification_report(test_true_classes, cnn_dropout_predicted_classes, target_names=test_class_labels_words)\n",
    "print(cnn_dropout_report)"
   ]
  },
  {
   "cell_type": "code",
   "execution_count": null,
   "metadata": {},
   "outputs": [],
   "source": [
    "cnn_droupout_report_output =  classification_report(test_true_classes, cnn_dropout_predicted_classes, target_names=test_class_labels_words,output_dict=True)\n",
    "print(cnn_droupout_report_output)"
   ]
  },
  {
   "cell_type": "code",
   "execution_count": null,
   "metadata": {},
   "outputs": [],
   "source": [
    "cnn_dropout_f1_scores = {class_name: cnn_droupout_report_output[class_name]['f1-score'] for class_name in test_class_labels_words}\n",
    "cnn_dropout_f1_scores_rounded = {class_name: round(score, 2) for class_name, score in cnn_dropout_f1_scores.items()}\n",
    "cnn_dropout_f1_scores_rounded"
   ]
  },
  {
   "cell_type": "code",
   "execution_count": null,
   "metadata": {},
   "outputs": [],
   "source": [
    "cnn_dropout_model_precision = cnn_droupout_report_output['weighted avg']['precision']\n",
    "cnn_dropout_model_precision"
   ]
  },
  {
   "cell_type": "code",
   "execution_count": null,
   "metadata": {},
   "outputs": [],
   "source": [
    "cnn_dropout_model_recall = cnn_droupout_report_output['weighted avg']['recall']\n",
    "cnn_dropout_model_recall"
   ]
  },
  {
   "cell_type": "code",
   "execution_count": null,
   "metadata": {},
   "outputs": [],
   "source": [
    "cnn_dropout_model_f1_score = cnn_droupout_report_output['weighted avg']['f1-score']\n",
    "cnn_dropout_model_f1_score"
   ]
  },
  {
   "cell_type": "code",
   "execution_count": null,
   "metadata": {},
   "outputs": [],
   "source": [
    "metrics_table.loc[2] = ['cnn_dropout_model',round(cnn_dropout_model_precision,2),round(cnn_dropout_model_recall,2),round(cnn_dropout_model_f1_score,2)]\n",
    "metrics_table"
   ]
  },
  {
   "cell_type": "code",
   "execution_count": null,
   "metadata": {},
   "outputs": [],
   "source": [
    "f1score_sumary_table.loc[2] = ['cnn_dropout_model', round(cnn_dropout_model_f1_score,2)] + list(cnn_dropout_f1_scores_rounded.values())\n",
    "f1score_sumary_table"
   ]
  },
  {
   "cell_type": "code",
   "execution_count": null,
   "metadata": {},
   "outputs": [],
   "source": []
  },
  {
   "cell_type": "code",
   "execution_count": null,
   "metadata": {},
   "outputs": [],
   "source": []
  },
  {
   "cell_type": "code",
   "execution_count": null,
   "metadata": {},
   "outputs": [],
   "source": []
  },
  {
   "cell_type": "code",
   "execution_count": null,
   "metadata": {},
   "outputs": [],
   "source": []
  },
  {
   "cell_type": "code",
   "execution_count": null,
   "metadata": {},
   "outputs": [],
   "source": []
  },
  {
   "cell_type": "markdown",
   "metadata": {},
   "source": [
    "### 4th model-dropout at last 2 layers"
   ]
  },
  {
   "cell_type": "code",
   "execution_count": null,
   "metadata": {},
   "outputs": [],
   "source": []
  },
  {
   "cell_type": "code",
   "execution_count": 41,
   "metadata": {},
   "outputs": [],
   "source": [
    "\n",
    "cnn_model_dropout2 = Sequential()\n",
    "cnn_model_dropout2.add(Conv2D(32, (3, 3), activation='relu', input_shape=(256, 256, 3)))\n",
    "cnn_model_dropout2.add(MaxPooling2D(2, 2))\n",
    "\n",
    "\n",
    "#  Conv2D layer with kernel_regularizer parameter\n",
    "cnn_model_dropout2.add(Conv2D(64, (3, 3), activation='relu'))\n",
    "cnn_model_dropout2.add(MaxPooling2D(2, 2))\n",
    "\n",
    "\n",
    "#  Conv2D layer with kernel_regularizer parameter\n",
    "cnn_model_dropout2.add(Conv2D(128, (3, 3), activation='relu'))\n",
    "cnn_model_dropout2.add(MaxPooling2D(2, 2))\n",
    "\n",
    "\n",
    "#  Conv2D layer with kernel_regularizer parameter\n",
    "cnn_model_dropout2.add(Conv2D(256, (3, 3), activation='relu'))\n",
    "cnn_model_dropout2.add(MaxPooling2D(2, 2))\n",
    "\n",
    "\n",
    "cnn_model_dropout2.add(Flatten())\n",
    "cnn_model_dropout2.add(Dropout(0.3))\n",
    "cnn_model_dropout2.add(Dense(128, activation='relu'))\n",
    "cnn_model_dropout2.add(Dropout(0.3))\n",
    "cnn_model_dropout2.add(Dense(num_classes, activation='softmax'))"
   ]
  },
  {
   "cell_type": "code",
   "execution_count": 42,
   "metadata": {},
   "outputs": [],
   "source": [
    "cnn_model_dropout2.compile(loss='categorical_crossentropy',\n",
    "                  optimizer='Adam',\n",
    "                  metrics=['accuracy','AUC','Precision','Recall'])"
   ]
  },
  {
   "cell_type": "code",
   "execution_count": 43,
   "metadata": {},
   "outputs": [
    {
     "name": "stdout",
     "output_type": "stream",
     "text": [
      "Epoch 1/50\n",
      "231/231 [==============================] - 337s 1s/step - loss: 1.7359 - accuracy: 0.3826 - auc: 0.8183 - precision: 0.6343 - recall: 0.1670 - val_loss: 1.0693 - val_accuracy: 0.5583 - val_auc: 0.9391 - val_precision: 0.6847 - val_recall: 0.4053\n",
      "Epoch 2/50\n",
      "231/231 [==============================] - 337s 1s/step - loss: 1.1630 - accuracy: 0.5665 - auc: 0.9242 - precision: 0.7109 - recall: 0.3878 - val_loss: 0.7419 - val_accuracy: 0.7222 - val_auc: 0.9689 - val_precision: 0.8083 - val_recall: 0.6245\n",
      "Epoch 3/50\n",
      "231/231 [==============================] - 337s 1s/step - loss: 0.8900 - accuracy: 0.6636 - auc: 0.9553 - precision: 0.7695 - recall: 0.5520 - val_loss: 0.4563 - val_accuracy: 0.8353 - val_auc: 0.9876 - val_precision: 0.8740 - val_recall: 0.7927\n",
      "Epoch 4/50\n",
      "231/231 [==============================] - 344s 1s/step - loss: 0.7891 - accuracy: 0.7085 - auc: 0.9644 - precision: 0.7943 - recall: 0.6089 - val_loss: 0.5236 - val_accuracy: 0.7897 - val_auc: 0.9835 - val_precision: 0.8362 - val_recall: 0.7459\n",
      "Epoch 5/50\n",
      "231/231 [==============================] - 342s 1s/step - loss: 0.7133 - accuracy: 0.7344 - auc: 0.9708 - precision: 0.8043 - recall: 0.6523 - val_loss: 0.3910 - val_accuracy: 0.8555 - val_auc: 0.9899 - val_precision: 0.8765 - val_recall: 0.8197\n",
      "Epoch 6/50\n",
      "231/231 [==============================] - 349s 2s/step - loss: 0.6113 - accuracy: 0.7726 - auc: 0.9777 - precision: 0.8258 - recall: 0.7107 - val_loss: 0.3523 - val_accuracy: 0.8655 - val_auc: 0.9918 - val_precision: 0.8848 - val_recall: 0.8434\n",
      "Epoch 7/50\n",
      "231/231 [==============================] - 361s 2s/step - loss: 0.5865 - accuracy: 0.7830 - auc: 0.9791 - precision: 0.8303 - recall: 0.7307 - val_loss: 0.3431 - val_accuracy: 0.8760 - val_auc: 0.9918 - val_precision: 0.8903 - val_recall: 0.8630\n",
      "Epoch 8/50\n",
      "231/231 [==============================] - 359s 2s/step - loss: 0.5603 - accuracy: 0.7931 - auc: 0.9809 - precision: 0.8341 - recall: 0.7441 - val_loss: 0.3583 - val_accuracy: 0.8691 - val_auc: 0.9911 - val_precision: 0.8803 - val_recall: 0.8571\n",
      "Epoch 9/50\n",
      "231/231 [==============================] - 360s 2s/step - loss: 0.5322 - accuracy: 0.8049 - auc: 0.9826 - precision: 0.8444 - recall: 0.7598 - val_loss: 0.3477 - val_accuracy: 0.8752 - val_auc: 0.9915 - val_precision: 0.8862 - val_recall: 0.8634\n",
      "Epoch 10/50\n",
      "231/231 [==============================] - 360s 2s/step - loss: 0.4827 - accuracy: 0.8215 - auc: 0.9852 - precision: 0.8546 - recall: 0.7847 - val_loss: 0.2779 - val_accuracy: 0.9021 - val_auc: 0.9940 - val_precision: 0.9098 - val_recall: 0.8950\n",
      "Epoch 11/50\n",
      "231/231 [==============================] - 366s 2s/step - loss: 0.4633 - accuracy: 0.8282 - auc: 0.9867 - precision: 0.8611 - recall: 0.7935 - val_loss: 0.2656 - val_accuracy: 0.9019 - val_auc: 0.9951 - val_precision: 0.9110 - val_recall: 0.8924\n",
      "Epoch 12/50\n",
      "231/231 [==============================] - 376s 2s/step - loss: 0.4420 - accuracy: 0.8389 - auc: 0.9874 - precision: 0.8672 - recall: 0.8037 - val_loss: 0.2903 - val_accuracy: 0.8950 - val_auc: 0.9936 - val_precision: 0.9015 - val_recall: 0.8900\n",
      "Epoch 13/50\n",
      "231/231 [==============================] - 378s 2s/step - loss: 0.4307 - accuracy: 0.8447 - auc: 0.9876 - precision: 0.8709 - recall: 0.8156 - val_loss: 0.2681 - val_accuracy: 0.9029 - val_auc: 0.9942 - val_precision: 0.9123 - val_recall: 0.8963\n",
      "Epoch 14/50\n",
      "231/231 [==============================] - 353s 2s/step - loss: 0.4136 - accuracy: 0.8462 - auc: 0.9887 - precision: 0.8743 - recall: 0.8198 - val_loss: 0.2567 - val_accuracy: 0.9143 - val_auc: 0.9948 - val_precision: 0.9221 - val_recall: 0.9042\n",
      "Epoch 15/50\n",
      "231/231 [==============================] - 357s 2s/step - loss: 0.4030 - accuracy: 0.8518 - auc: 0.9893 - precision: 0.8776 - recall: 0.8242 - val_loss: 0.2586 - val_accuracy: 0.9068 - val_auc: 0.9945 - val_precision: 0.9142 - val_recall: 0.8985\n",
      "Epoch 16/50\n",
      "231/231 [==============================] - 356s 2s/step - loss: 0.3876 - accuracy: 0.8583 - auc: 0.9899 - precision: 0.8821 - recall: 0.8370 - val_loss: 0.2351 - val_accuracy: 0.9194 - val_auc: 0.9951 - val_precision: 0.9234 - val_recall: 0.9141\n",
      "Epoch 17/50\n",
      "231/231 [==============================] - 343s 1s/step - loss: 0.3741 - accuracy: 0.8633 - auc: 0.9904 - precision: 0.8856 - recall: 0.8414 - val_loss: 0.2340 - val_accuracy: 0.9183 - val_auc: 0.9951 - val_precision: 0.9237 - val_recall: 0.9149\n",
      "Epoch 18/50\n",
      "231/231 [==============================] - 343s 1s/step - loss: 0.3708 - accuracy: 0.8683 - auc: 0.9903 - precision: 0.8888 - recall: 0.8467 - val_loss: 0.2389 - val_accuracy: 0.9145 - val_auc: 0.9951 - val_precision: 0.9208 - val_recall: 0.9092\n",
      "Epoch 19/50\n",
      "231/231 [==============================] - 344s 1s/step - loss: 0.3497 - accuracy: 0.8703 - auc: 0.9914 - precision: 0.8891 - recall: 0.8514 - val_loss: 0.2159 - val_accuracy: 0.9226 - val_auc: 0.9959 - val_precision: 0.9297 - val_recall: 0.9171\n",
      "Epoch 20/50\n",
      "231/231 [==============================] - 350s 2s/step - loss: 0.3466 - accuracy: 0.8751 - auc: 0.9919 - precision: 0.8948 - recall: 0.8561 - val_loss: 0.2247 - val_accuracy: 0.9191 - val_auc: 0.9952 - val_precision: 0.9249 - val_recall: 0.9153\n",
      "Epoch 21/50\n",
      "231/231 [==============================] - 354s 2s/step - loss: 0.3521 - accuracy: 0.8712 - auc: 0.9916 - precision: 0.8919 - recall: 0.8516 - val_loss: 0.2233 - val_accuracy: 0.9244 - val_auc: 0.9955 - val_precision: 0.9286 - val_recall: 0.9224\n",
      "Epoch 22/50\n",
      "231/231 [==============================] - 532s 2s/step - loss: 0.3262 - accuracy: 0.8821 - auc: 0.9922 - precision: 0.8985 - recall: 0.8644 - val_loss: 0.2169 - val_accuracy: 0.9238 - val_auc: 0.9952 - val_precision: 0.9275 - val_recall: 0.9202\n",
      "Epoch 23/50\n",
      "231/231 [==============================] - 2241s 10s/step - loss: 0.3198 - accuracy: 0.8852 - auc: 0.9925 - precision: 0.9001 - recall: 0.8680 - val_loss: 0.1969 - val_accuracy: 0.9307 - val_auc: 0.9964 - val_precision: 0.9346 - val_recall: 0.9268\n",
      "Epoch 24/50\n",
      "231/231 [==============================] - 353s 2s/step - loss: 0.3130 - accuracy: 0.8885 - auc: 0.9932 - precision: 0.9034 - recall: 0.8719 - val_loss: 0.1981 - val_accuracy: 0.9303 - val_auc: 0.9961 - val_precision: 0.9336 - val_recall: 0.9264\n",
      "Epoch 25/50\n",
      "231/231 [==============================] - 348s 2s/step - loss: 0.3152 - accuracy: 0.8874 - auc: 0.9929 - precision: 0.9032 - recall: 0.8717 - val_loss: 0.2122 - val_accuracy: 0.9303 - val_auc: 0.9956 - val_precision: 0.9340 - val_recall: 0.9238\n",
      "Epoch 26/50\n",
      "231/231 [==============================] - 341s 1s/step - loss: 0.2931 - accuracy: 0.8937 - auc: 0.9935 - precision: 0.9080 - recall: 0.8797 - val_loss: 0.2157 - val_accuracy: 0.9206 - val_auc: 0.9959 - val_precision: 0.9274 - val_recall: 0.9141\n",
      "Epoch 27/50\n",
      "231/231 [==============================] - 346s 1s/step - loss: 0.2946 - accuracy: 0.8924 - auc: 0.9937 - precision: 0.9074 - recall: 0.8792 - val_loss: 0.2161 - val_accuracy: 0.9262 - val_auc: 0.9956 - val_precision: 0.9309 - val_recall: 0.9224\n",
      "Epoch 28/50\n",
      "231/231 [==============================] - 338s 1s/step - loss: 0.2976 - accuracy: 0.8922 - auc: 0.9934 - precision: 0.9070 - recall: 0.8787 - val_loss: 0.1872 - val_accuracy: 0.9354 - val_auc: 0.9964 - val_precision: 0.9387 - val_recall: 0.9301\n",
      "Epoch 29/50\n",
      "231/231 [==============================] - 350s 2s/step - loss: 0.2868 - accuracy: 0.8970 - auc: 0.9936 - precision: 0.9108 - recall: 0.8824 - val_loss: 0.1929 - val_accuracy: 0.9329 - val_auc: 0.9963 - val_precision: 0.9368 - val_recall: 0.9287\n",
      "Epoch 30/50\n",
      "231/231 [==============================] - 349s 2s/step - loss: 0.2840 - accuracy: 0.8985 - auc: 0.9939 - precision: 0.9124 - recall: 0.8864 - val_loss: 0.1986 - val_accuracy: 0.9283 - val_auc: 0.9962 - val_precision: 0.9325 - val_recall: 0.9242\n",
      "Epoch 31/50\n",
      "231/231 [==============================] - 358s 2s/step - loss: 0.2776 - accuracy: 0.9002 - auc: 0.9940 - precision: 0.9131 - recall: 0.8882 - val_loss: 0.1983 - val_accuracy: 0.9348 - val_auc: 0.9962 - val_precision: 0.9384 - val_recall: 0.9293\n",
      "Epoch 32/50\n",
      "231/231 [==============================] - 352s 2s/step - loss: 0.2787 - accuracy: 0.8989 - auc: 0.9941 - precision: 0.9132 - recall: 0.8863 - val_loss: 0.1951 - val_accuracy: 0.9337 - val_auc: 0.9961 - val_precision: 0.9373 - val_recall: 0.9301\n"
     ]
    },
    {
     "name": "stdout",
     "output_type": "stream",
     "text": [
      "Epoch 33/50\n",
      "231/231 [==============================] - 352s 2s/step - loss: 0.2683 - accuracy: 0.9016 - auc: 0.9944 - precision: 0.9136 - recall: 0.8901 - val_loss: 0.2711 - val_accuracy: 0.9023 - val_auc: 0.9945 - val_precision: 0.9163 - val_recall: 0.8896\n",
      "Epoch 34/50\n",
      "231/231 [==============================] - 353s 2s/step - loss: 0.2787 - accuracy: 0.9015 - auc: 0.9940 - precision: 0.9149 - recall: 0.8897 - val_loss: 0.1894 - val_accuracy: 0.9341 - val_auc: 0.9963 - val_precision: 0.9380 - val_recall: 0.9319\n",
      "Epoch 35/50\n",
      "231/231 [==============================] - 355s 2s/step - loss: 0.2694 - accuracy: 0.9047 - auc: 0.9942 - precision: 0.9155 - recall: 0.8906 - val_loss: 0.2248 - val_accuracy: 0.9137 - val_auc: 0.9954 - val_precision: 0.9191 - val_recall: 0.9094\n",
      "Epoch 36/50\n",
      "231/231 [==============================] - 360s 2s/step - loss: 0.2561 - accuracy: 0.9096 - auc: 0.9947 - precision: 0.9201 - recall: 0.8980 - val_loss: 0.1873 - val_accuracy: 0.9337 - val_auc: 0.9962 - val_precision: 0.9375 - val_recall: 0.9307\n",
      "Epoch 37/50\n",
      "231/231 [==============================] - 362s 2s/step - loss: 0.2910 - accuracy: 0.8967 - auc: 0.9935 - precision: 0.9104 - recall: 0.8822 - val_loss: 0.1968 - val_accuracy: 0.9350 - val_auc: 0.9960 - val_precision: 0.9372 - val_recall: 0.9317\n",
      "Epoch 38/50\n",
      "231/231 [==============================] - 352s 2s/step - loss: 0.2576 - accuracy: 0.9073 - auc: 0.9946 - precision: 0.9185 - recall: 0.8970 - val_loss: 0.1928 - val_accuracy: 0.9321 - val_auc: 0.9962 - val_precision: 0.9364 - val_recall: 0.9285\n",
      "Epoch 39/50\n",
      "231/231 [==============================] - 345s 1s/step - loss: 0.2439 - accuracy: 0.9129 - auc: 0.9953 - precision: 0.9245 - recall: 0.9035 - val_loss: 0.1723 - val_accuracy: 0.9416 - val_auc: 0.9967 - val_precision: 0.9451 - val_recall: 0.9390\n",
      "Epoch 40/50\n",
      "231/231 [==============================] - 336s 1s/step - loss: 0.2421 - accuracy: 0.9128 - auc: 0.9953 - precision: 0.9229 - recall: 0.9020 - val_loss: 0.1719 - val_accuracy: 0.9416 - val_auc: 0.9966 - val_precision: 0.9441 - val_recall: 0.9382\n",
      "Epoch 41/50\n",
      "231/231 [==============================] - 338s 1s/step - loss: 0.2442 - accuracy: 0.9111 - auc: 0.9951 - precision: 0.9223 - recall: 0.9026 - val_loss: 0.1672 - val_accuracy: 0.9445 - val_auc: 0.9966 - val_precision: 0.9462 - val_recall: 0.9437\n",
      "Epoch 42/50\n",
      "231/231 [==============================] - 345s 1s/step - loss: 0.2382 - accuracy: 0.9131 - auc: 0.9952 - precision: 0.9224 - recall: 0.9039 - val_loss: 0.1644 - val_accuracy: 0.9422 - val_auc: 0.9971 - val_precision: 0.9461 - val_recall: 0.9388\n",
      "Epoch 43/50\n",
      "231/231 [==============================] - 342s 1s/step - loss: 0.2357 - accuracy: 0.9148 - auc: 0.9955 - precision: 0.9255 - recall: 0.9060 - val_loss: 0.1744 - val_accuracy: 0.9380 - val_auc: 0.9967 - val_precision: 0.9410 - val_recall: 0.9343\n",
      "Epoch 44/50\n",
      "231/231 [==============================] - 339s 1s/step - loss: 0.2397 - accuracy: 0.9131 - auc: 0.9955 - precision: 0.9226 - recall: 0.9043 - val_loss: 0.1732 - val_accuracy: 0.9461 - val_auc: 0.9966 - val_precision: 0.9468 - val_recall: 0.9443\n",
      "Epoch 45/50\n",
      "231/231 [==============================] - 339s 1s/step - loss: 0.2369 - accuracy: 0.9165 - auc: 0.9952 - precision: 0.9252 - recall: 0.9064 - val_loss: 0.1762 - val_accuracy: 0.9414 - val_auc: 0.9961 - val_precision: 0.9435 - val_recall: 0.9406\n",
      "Epoch 46/50\n",
      "231/231 [==============================] - 342s 1s/step - loss: 0.2359 - accuracy: 0.9133 - auc: 0.9952 - precision: 0.9245 - recall: 0.9052 - val_loss: 0.1764 - val_accuracy: 0.9384 - val_auc: 0.9969 - val_precision: 0.9419 - val_recall: 0.9356\n",
      "Epoch 47/50\n",
      "231/231 [==============================] - 345s 1s/step - loss: 0.2327 - accuracy: 0.9178 - auc: 0.9955 - precision: 0.9283 - recall: 0.9079 - val_loss: 0.1683 - val_accuracy: 0.9445 - val_auc: 0.9967 - val_precision: 0.9481 - val_recall: 0.9398\n",
      "Epoch 48/50\n",
      "231/231 [==============================] - 340s 1s/step - loss: 0.2211 - accuracy: 0.9208 - auc: 0.9958 - precision: 0.9292 - recall: 0.9122 - val_loss: 0.1909 - val_accuracy: 0.9362 - val_auc: 0.9959 - val_precision: 0.9379 - val_recall: 0.9341\n",
      "Epoch 49/50\n",
      "231/231 [==============================] - 338s 1s/step - loss: 0.2152 - accuracy: 0.9218 - auc: 0.9961 - precision: 0.9293 - recall: 0.9128 - val_loss: 0.1855 - val_accuracy: 0.9394 - val_auc: 0.9966 - val_precision: 0.9425 - val_recall: 0.9364\n",
      "Epoch 50/50\n",
      "231/231 [==============================] - 357s 2s/step - loss: 0.2279 - accuracy: 0.9166 - auc: 0.9958 - precision: 0.9275 - recall: 0.9081 - val_loss: 0.1788 - val_accuracy: 0.9420 - val_auc: 0.9962 - val_precision: 0.9433 - val_recall: 0.9406\n"
     ]
    }
   ],
   "source": [
    "history_cnn_dropout2 = cnn_model_dropout2.fit(train_generator,\n",
    "                        steps_per_epoch=len(train_generator),\n",
    "                        epochs=50,\n",
    "                        validation_data=val_generator,\n",
    "                        validation_steps=len(val_generator))"
   ]
  },
  {
   "cell_type": "markdown",
   "metadata": {},
   "source": [
    "#### Save the model and history"
   ]
  },
  {
   "cell_type": "code",
   "execution_count": 44,
   "metadata": {},
   "outputs": [
    {
     "name": "stderr",
     "output_type": "stream",
     "text": [
      "/opt/homebrew/Caskroom/miniforge/base/lib/python3.10/site-packages/keras/src/engine/training.py:3000: UserWarning: You are saving your model as an HDF5 file via `model.save()`. This file format is considered legacy. We recommend using instead the native Keras format, e.g. `model.save('my_model.keras')`.\n",
      "  saving_api.save_model(\n"
     ]
    }
   ],
   "source": [
    "cnn_model_dropout2.save('cnn_model_dropout2_50epoch.h5')"
   ]
  },
  {
   "cell_type": "code",
   "execution_count": 45,
   "metadata": {},
   "outputs": [],
   "source": [
    "hdf5storage.savemat(\"history_cnn_dropout2_50epoch.h5\", history_cnn_dropout2.history)"
   ]
  },
  {
   "cell_type": "markdown",
   "metadata": {},
   "source": [
    "#### Evaluate the model"
   ]
  },
  {
   "cell_type": "code",
   "execution_count": 46,
   "metadata": {},
   "outputs": [],
   "source": [
    "cnn_dropout2_loaded = load_model('cnn_model_dropout2_50epoch.h5')"
   ]
  },
  {
   "cell_type": "code",
   "execution_count": 47,
   "metadata": {},
   "outputs": [
    {
     "name": "stdout",
     "output_type": "stream",
     "text": [
      "231/231 [==============================] - 110s 475ms/step - loss: 0.1645 - accuracy: 0.9397 - auc: 0.9975 - precision: 0.9447 - recall: 0.9362\n"
     ]
    },
    {
     "data": {
      "text/plain": [
       "[0.16453512012958527,\n",
       " 0.9397239685058594,\n",
       " 0.9975210428237915,\n",
       " 0.9447061419487,\n",
       " 0.9362062215805054]"
      ]
     },
     "execution_count": 47,
     "metadata": {},
     "output_type": "execute_result"
    }
   ],
   "source": [
    "cnn_dropout2_loaded.evaluate(train_generator)"
   ]
  },
  {
   "cell_type": "code",
   "execution_count": 48,
   "metadata": {},
   "outputs": [
    {
     "name": "stdout",
     "output_type": "stream",
     "text": [
      "231/231 [==============================] - 113s 489ms/step - loss: 0.1584 - accuracy: 0.9439 - auc: 0.9977 - precision: 0.9490 - recall: 0.9399\n"
     ]
    },
    {
     "data": {
      "text/plain": [
       "[0.15839408338069916,\n",
       " 0.9439182877540588,\n",
       " 0.9977259635925293,\n",
       " 0.9490436911582947,\n",
       " 0.9399269223213196]"
      ]
     },
     "execution_count": 48,
     "metadata": {},
     "output_type": "execute_result"
    }
   ],
   "source": [
    "cnn_dropout2_loaded.evaluate(train_generator)"
   ]
  },
  {
   "cell_type": "code",
   "execution_count": 49,
   "metadata": {},
   "outputs": [],
   "source": [
    "history_cnn_dropout2_loaded = hdf5storage.loadmat(\"history_cnn_dropout2_50epoch.h5\")"
   ]
  },
  {
   "cell_type": "code",
   "execution_count": 50,
   "metadata": {},
   "outputs": [
    {
     "name": "stdout",
     "output_type": "stream",
     "text": [
      "dict_keys(['accuracy', 'auc', 'loss', 'precision', 'recall', 'val_accuracy', 'val_auc', 'val_loss', 'val_precision', 'val_recall'])\n"
     ]
    }
   ],
   "source": [
    "print(history_cnn_dropout2_loaded.keys())"
   ]
  },
  {
   "cell_type": "code",
   "execution_count": 51,
   "metadata": {},
   "outputs": [
    {
     "data": {
      "image/png": "[encoded data removed]",
      "text/plain": [
       "<Figure size 800x600 with 1 Axes>"
      ]
     },
     "metadata": {},
     "output_type": "display_data"
    }
   ],
   "source": [
    "fig,ax=plt.subplots(figsize=(8,6))\n",
    "\n",
    "cnn_dropout2_loss_values = history_cnn_dropout2_loaded['loss']\n",
    "cnn_dropout2_val_loss_values = history_cnn_dropout2_loaded['val_loss']\n",
    "\n",
    "\n",
    "epochs = range(1,len(cnn_dropout2_loss_values)+1)\n",
    "\n",
    "ax.plot(epochs,cnn_dropout2_loss_values,label='Train loss vs epochs')\n",
    "ax.plot(epochs,cnn_dropout2_val_loss_values,label='Validation loss vs epochs')\n",
    "\n",
    "ax.set_title('Train & validation loss')\n",
    "ax.legend()\n",
    "ax.set_xlabel('Epochs')\n",
    "plt.grid()\n",
    "ax.set_ylabel('Loss');"
   ]
  },
  {
   "cell_type": "code",
   "execution_count": null,
   "metadata": {},
   "outputs": [],
   "source": []
  },
  {
   "cell_type": "code",
   "execution_count": null,
   "metadata": {},
   "outputs": [],
   "source": []
  },
  {
   "cell_type": "code",
   "execution_count": null,
   "metadata": {},
   "outputs": [],
   "source": []
  },
  {
   "cell_type": "code",
   "execution_count": null,
   "metadata": {},
   "outputs": [],
   "source": []
  },
  {
   "cell_type": "code",
   "execution_count": null,
   "metadata": {},
   "outputs": [],
   "source": []
  }
 ],
 "metadata": {
  "kernelspec": {
   "display_name": "Python 3 (ipykernel)",
   "language": "python",
   "name": "python3"
  },
  "language_info": {
   "codemirror_mode": {
    "name": "ipython",
    "version": 3
   },
   "file_extension": ".py",
   "mimetype": "text/x-python",
   "name": "python",
   "nbconvert_exporter": "python",
   "pygments_lexer": "ipython3",
   "version": "3.10.10"
  }
 },
 "nbformat": 4,
 "nbformat_minor": 2
}
