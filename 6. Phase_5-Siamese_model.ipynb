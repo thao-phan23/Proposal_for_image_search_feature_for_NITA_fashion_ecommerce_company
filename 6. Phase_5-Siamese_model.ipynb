{
 "cells": [
  {
   "cell_type": "markdown",
   "metadata": {},
   "source": [
    "# PHASE_5_CAPSTONE_PROJECT"
   ]
  },
  {
   "cell_type": "markdown",
   "metadata": {},
   "source": [
    "# SIAMESE NEUTRAL NETWORKS (SNN) - IMAGE SIMILARITY"
   ]
  },
  {
   "cell_type": "markdown",
   "metadata": {},
   "source": [
    "### Data source:"
   ]
  },
  {
   "cell_type": "markdown",
   "metadata": {},
   "source": [
    "The data source comprises more than 44 thousand fashion images obtained from Kaggle.\n",
    "\n",
    "Source link: https://www.kaggle.com/datasets/paramaggarwal/fashion-product-images-dataset"
   ]
  },
  {
   "cell_type": "markdown",
   "metadata": {},
   "source": [
    "### Target:"
   ]
  },
  {
   "cell_type": "markdown",
   "metadata": {},
   "source": [
    "NITA, the fashion company, is excited to introduce a cutting-edge feature that allows customers to perform image-based searches. With this new capability, the website can identify product types, empowering users to explore the top 5 closely matched products, resulting in a captivating and personalized shopping experience."
   ]
  },
  {
   "cell_type": "markdown",
   "metadata": {},
   "source": [
    "### Siamese neutral network (SNN) introduction"
   ]
  },
  {
   "cell_type": "markdown",
   "metadata": {},
   "source": [
    "Siamese Neural Networks, or SNNs, is one of the most popular neural network architectures that use this strategy and can predict multiple classes from very little data. This ability has made Siamese neural networks very popular in real-world applications in security, face recognition, signature verification, and more."
   ]
  },
  {
   "cell_type": "markdown",
   "metadata": {},
   "source": [
    "A Siamese network consists of two or more identical subnetworks: neural networks with the same architecture, configuration, and weights. Even during training, parameter updates happen simultaneously for both neural networks with the same weights.\n",
    "\n",
    "The purpose of having identical subnetworks is to train the model based on a similarity function that measures how different the feature vectors of one image are from the other. Because of this architecture, the model can be trained without much data.\n",
    "\n",
    "For instance, to perform image classification, the model will train by comparing a given image with all the images in the dataset and thus learn semantic similarity between each image pair. Based on this learned similarity function, the siamese network predicts multiple classes by taking a test sample and comparing it with an image from each class.\n",
    "\n",
    "Source: https://www.projectpro.io/article/siamese-neural-networks/718"
   ]
  },
  {
   "cell_type": "code",
   "execution_count": 222,
   "metadata": {},
   "outputs": [],
   "source": [
    "import pandas as pd\n",
    "import numpy as np\n",
    "import csv\n",
    "import json\n",
    "import glob\n",
    "import os\n",
    "import cv2\n",
    "import shutil\n",
    "import random\n",
    "import pickle\n",
    "import h5py\n",
    "import hdf5storage\n",
    "from PIL import Image\n",
    "from IPython.display import display\n",
    "from sklearn.preprocessing import LabelEncoder\n",
    "import matplotlib.pyplot as plt\n",
    "from sklearn.model_selection import train_test_split\n",
    "import seaborn as sns\n",
    "from sklearn.preprocessing import MultiLabelBinarizer\n",
    "from keras.preprocessing.image import ImageDataGenerator\n",
    "from tensorflow.keras.utils import array_to_img, img_to_array, load_img\n",
    "from IPython.display import display\n",
    "from tensorflow.keras import datasets\n",
    "from tensorflow.keras.utils import to_categorical\n",
    "from tensorflow.keras.models import Sequential\n",
    "from keras import layers\n",
    "from keras.models import Sequential\n",
    "from keras.layers import Reshape\n",
    "\n",
    "\n",
    "from tensorflow.keras.layers import Dense # creates densely connected layer object\n",
    "from tensorflow.keras.layers import Flatten # takes 2D input and turns into 1D array\n",
    "from tensorflow.keras.layers import Conv2D # convolution layer\n",
    "from tensorflow.keras.layers import MaxPooling2D # max pooling layer\n",
    "from tensorflow.keras.regularizers import l2\n",
    "from tensorflow.keras.regularizers import L2\n",
    "from tensorflow.keras.layers import Dropout\n",
    "from keras.models import load_model\n",
    "\n",
    "\n",
    "from sklearn.metrics import accuracy_score, confusion_matrix\n",
    "from sklearn.metrics import ConfusionMatrixDisplay, classification_report\n",
    "\n",
    "# a new layer that rescales/normalizes the activations after each layer.\n",
    "# has a weak regularization effect. also allows \n",
    "\n",
    "from keras.preprocessing import image\n",
    "from tensorflow.keras.layers import BatchNormalization\n",
    "from tensorflow.keras.layers import Activation\n",
    "from tensorflow.keras import layers, regularizers\n",
    "from tensorflow.keras.regularizers import l2\n",
    "from tensorflow.keras.layers import Dropout\n",
    "from tensorflow.keras.applications import VGG16, VGG19\n",
    "from tensorflow.keras import Input\n",
    "from tensorflow.keras.models import Model\n",
    "from tensorflow.keras.layers import Resizing, RandomFlip, RandomRotation\n",
    "from tensorflow.keras.layers import GlobalAveragePooling2D\n",
    "\n",
    "import tensorflow as tf\n",
    "\n",
    "\n",
    "from tensorflow.keras.applications.vgg16 import preprocess_input\n",
    "from tensorflow.keras.applications.resnet50 import ResNet50\n",
    "from tensorflow.keras.layers import Lambda\n",
    "from tensorflow.keras import backend as K\n",
    "\n",
    "%matplotlib inline\n",
    "os.environ['TF_CPP_MIN_LOG_LEVEL'] = '2'\n"
   ]
  },
  {
   "cell_type": "code",
   "execution_count": 221,
   "metadata": {
    "scrolled": false
   },
   "outputs": [
    {
     "name": "stdout",
     "output_type": "stream",
     "text": [
      "Found 14782 images belonging to 10 classes.\n",
      "Found 4935 images belonging to 10 classes.\n",
      "Found 4926 images belonging to 10 classes.\n"
     ]
    }
   ],
   "source": [
    "# Directory path\n",
    "train_data_dir = '/Users/thaophan/Documents/Flatiron/Phase5_Project/Capstone_fashion_label_classification_from_images/Data/Train_Test_Validation/Train'\n",
    "val_data_dir = '/Users/thaophan/Documents/Flatiron/Phase5_Project/Capstone_fashion_label_classification_from_images/Data/Train_Test_Validation/Validation'\n",
    "test_data_dir = '/Users/thaophan/Documents/Flatiron/Phase5_Project/Capstone_fashion_label_classification_from_images/Data/Train_Test_Validation/Test'\n",
    "\n",
    "image_size = (256, 256)\n",
    "num_classes = 10\n",
    "\n",
    "train_datagen = ImageDataGenerator(rescale=1./255, \n",
    "                                   rotation_range=40, \n",
    "                                   width_shift_range=0.2, \n",
    "                                   height_shift_range=0.2, \n",
    "                                   shear_range=0.3, \n",
    "                                   zoom_range=0.1, \n",
    "                                   horizontal_flip=False)\n",
    " \n",
    "val_datagen = ImageDataGenerator(rescale = 1/255) # Only rescale for the val set\n",
    "\n",
    "test_datagen = ImageDataGenerator(rescale = 1/255) # Only rescale for the test set\n",
    "\n",
    "\n",
    "train_generator = train_datagen.flow_from_directory(directory=train_data_dir, target_size = image_size,\n",
    "                                                   class_mode='categorical',\n",
    "                                                    batch_size=64,\n",
    "                                                    shuffle=True,\n",
    "                                                    classes=[str(i) for i in range(num_classes)])\n",
    "\n",
    "val_generator = val_datagen.flow_from_directory(directory=val_data_dir, target_size = image_size,\n",
    "                                                   class_mode='categorical',\n",
    "                                                    batch_size=64,\n",
    "                                                shuffle=True,\n",
    "                                                  classes=[str(i) for i in range(num_classes)])\n",
    "\n",
    "test_generator = test_datagen.flow_from_directory(directory=test_data_dir, target_size = image_size,\n",
    "                                                    class_mode='categorical',\n",
    "                                                   batch_size=64,\n",
    "                                                  shuffle=False,\n",
    "                                                  classes=[str(i) for i in range(num_classes)])"
   ]
  },
  {
   "cell_type": "markdown",
   "metadata": {},
   "source": [
    "### Model 1: CNN as a basenetwork + 5% dataset + margin of 1 +batch_size 64"
   ]
  },
  {
   "cell_type": "markdown",
   "metadata": {},
   "source": [
    "In this section, we will build up 1st Siamese neutral networks basing on the best CNN model architecture with utilizing contrastive loss to predict the Euclidean distance of image pairs. The shorter the distance indicates the higher similarity of image pairs."
   ]
  },
  {
   "cell_type": "markdown",
   "metadata": {},
   "source": [
    "#### Create positive and negative pairs."
   ]
  },
  {
   "cell_type": "code",
   "execution_count": 208,
   "metadata": {},
   "outputs": [],
   "source": [
    "def create_siamese_pairs(data_generator, num_classes, num_pairs_per_batch):\n",
    "    pairs = []\n",
    "    labels = []\n",
    "\n",
    "    for _ in range(num_pairs_per_batch):\n",
    "        # Generate a batch of images and their corresponding labels\n",
    "        batch_images, batch_labels = data_generator.next()\n",
    "\n",
    "        # Split the batch into two halves (left and right images)\n",
    "        batch_size = len(batch_images)\n",
    "        half_batch_size = batch_size // 2\n",
    "        left_images = batch_images[:half_batch_size]\n",
    "        right_images = batch_images[half_batch_size:]\n",
    "\n",
    "        # Create positive and negative pairs within the batch\n",
    "        for i in range(half_batch_size):\n",
    "            img1 = left_images[i]\n",
    "            img2 = right_images[i]\n",
    "            label1 = batch_labels[i]\n",
    "            label2 = batch_labels[i + half_batch_size]\n",
    "\n",
    "            # Determine if the images belong to the same class (positive pair) or different classes (negative pair)\n",
    "            same_class = np.random.randint(0, 2)\n",
    "            if same_class == 1:\n",
    "                label = 1  # Positive pair\n",
    "            else:\n",
    "                label = 0  # Negative pair\n",
    "\n",
    "            pairs.append([img1, img2])\n",
    "            labels.append(label)\n",
    "\n",
    "    pairs = np.array(pairs)\n",
    "    labels = np.array(labels)\n",
    "    return pairs, labels\n"
   ]
  },
  {
   "cell_type": "markdown",
   "metadata": {},
   "source": [
    "#### Loss function"
   ]
  },
  {
   "cell_type": "code",
   "execution_count": 223,
   "metadata": {},
   "outputs": [],
   "source": [
    "#margin = 1\n",
    "\n",
    "def contrastive_loss(y_true, y_pred):\n",
    "    \"\"\"Calculates the contrastive loss.\n",
    "\n",
    "    Arguments:\n",
    "        y_true: List of labels, each label is of type float32.\n",
    "        y_pred: List of predictions of same length as of y_true,\n",
    "                each label is of type float32.\n",
    "\n",
    "    Returns:\n",
    "        A tensor containing contrastive loss as floating point value.\n",
    "    \"\"\"\n",
    "    y_true = tf.cast(y_true, tf.float32)\n",
    "    y_pred = tf.cast(y_pred, tf.float32)\n",
    "    margin  = 1\n",
    "    square_pred = tf.math.square(y_pred)\n",
    "    margin_square = tf.math.square(tf.math.maximum(margin - (y_pred), 0))\n",
    "    return tf.math.reduce_mean(\n",
    "        (1 - y_true) * square_pred + (y_true) * margin_square)\n"
   ]
  },
  {
   "cell_type": "markdown",
   "metadata": {},
   "source": [
    "#### Define Euclidean distance function"
   ]
  },
  {
   "cell_type": "code",
   "execution_count": 19,
   "metadata": {},
   "outputs": [],
   "source": [
    "def euclid_dis(vects):\n",
    "    x, y = vects\n",
    "    sum_square = K.sum(K.square(x - y), axis=-1, keepdims=True)\n",
    "    return K.sqrt(K.maximum(sum_square, K.epsilon()))\n",
    "\n",
    "\n",
    "def eucl_dist_output_shape(shapes):\n",
    "    shape1, shape2 = shapes\n",
    "    return (shape1[0], 1)\n"
   ]
  },
  {
   "cell_type": "code",
   "execution_count": 7,
   "metadata": {},
   "outputs": [],
   "source": [
    "def base_model(input_shape):\n",
    "    input = Input(shape=input_shape)\n",
    "    x = Conv2D(32, (3, 3), activation='relu', input_shape=input_shape)(input)\n",
    "    x = MaxPooling2D(2, 2)(x)\n",
    "    x = Conv2D(64, (3, 3), activation='relu')(x)\n",
    "    x = MaxPooling2D(2, 2)(x)\n",
    "    x = Conv2D(128, (3, 3), activation='relu')(x)\n",
    "    x = MaxPooling2D(2, 2)(x)\n",
    "    x = Conv2D(256, (3, 3), activation='relu')(x)\n",
    "    x = MaxPooling2D(2, 2)(x)\n",
    "    x = Flatten()(x)\n",
    "    x = Dense(128, activation='relu')(x)\n",
    "    model = tf.keras.Model(inputs=input, outputs=x)\n",
    "#     model = tf.keras.Model(inputs=input, outputs=output) #Same with above line\n",
    "    return model"
   ]
  },
  {
   "cell_type": "code",
   "execution_count": 8,
   "metadata": {},
   "outputs": [],
   "source": [
    "def create_siamese_model(base_model, input_shape):\n",
    "    # Input for left and right image vectors\n",
    "    left_input = Input(shape=input_shape)\n",
    "    right_input = Input(shape=input_shape)\n",
    "\n",
    "    # Pass the left and right inputs through the base model\n",
    "    left_output = base_model(left_input)\n",
    "    right_output = base_model(right_input)\n",
    "\n",
    "    # Calculate the Euclidean distance between the two outputs\n",
    "    distance = Lambda(euclid_dis, output_shape=eucl_dist_output_shape)([left_output, right_output])\n",
    "\n",
    "    # Create the Siamese model\n",
    "    siamese_model = Model(inputs=[left_input, right_input], outputs=distance)\n",
    "#     siamese_model = Model(inputs=[left_input, right_input], outputs=distance) # Same with above line\n",
    "\n",
    "    return siamese_model"
   ]
  },
  {
   "cell_type": "code",
   "execution_count": 8,
   "metadata": {},
   "outputs": [],
   "source": [
    "base_network = base_model((256,256,3))"
   ]
  },
  {
   "cell_type": "code",
   "execution_count": 9,
   "metadata": {},
   "outputs": [],
   "source": [
    "siamese_model2 = create_siamese_model(base_network,(256,256,3))"
   ]
  },
  {
   "cell_type": "code",
   "execution_count": 10,
   "metadata": {},
   "outputs": [],
   "source": [
    "siamese_model2.compile(loss=contrastive_loss,optimizer='Adam',\n",
    "                  metrics=['accuracy','AUC','Precision','Recall'])"
   ]
  },
  {
   "cell_type": "markdown",
   "metadata": {},
   "source": [
    "During the input calculation step, we will narrow the scope of the training and validation sets. Besides, the number of pairs trained each time will be determined by the batch size."
   ]
  },
  {
   "cell_type": "markdown",
   "metadata": {},
   "source": [
    "Due to computational limitations, I would try to train the model with 5% of the train data."
   ]
  },
  {
   "cell_type": "code",
   "execution_count": 11,
   "metadata": {},
   "outputs": [],
   "source": [
    "# Define the batch size and number of pairs per batch\n",
    "batch_size = 64\n",
    "num_pairs_per_batch = batch_size // 2  # Create half positive and half negative pairs in each batch\n",
    "# Determine the total number of training, validation, and test pairs\n",
    "total_training_pairs = len(train_generator) * num_pairs_per_batch\n",
    "total_validation_pairs = len(val_generator) * num_pairs_per_batch\n",
    "total_test_pairs = len(test_generator) * num_pairs_per_batch\n",
    "\n",
    "# Define the percentage of training, validation, and test pairs to use in each epoch\n",
    "percentage_to_use = 0.05\n",
    "\n",
    "# Calculate the number of training and validation pairs to use in each epoch\n",
    "train_num_pairs_to_use = int(total_training_pairs * percentage_to_use)\n",
    "val_num_pairs_to_use = int(total_validation_pairs * percentage_to_use)\n",
    "test_num_pairs_to_use = int(total_test_pairs * percentage_to_use)\n",
    "\n",
    "\n",
    "# Calculate the number of batches in each epoch\n",
    "train_num_batches_per_epoch = train_num_pairs_to_use // num_pairs_per_batch\n",
    "val_num_batches_per_epoch = val_num_pairs_to_use // num_pairs_per_batch\n",
    "test_num_batches_per_epoch = test_num_pairs_to_use // num_pairs_per_batch\n",
    "\n",
    "#Define a function to get image pairs from train and validation generator\n",
    "def custom_data_generator(data_generator, num_classes, num_pairs_per_batch):\n",
    "    while True:\n",
    "        # Create pairs and labels for the current batch\n",
    "        pairs, labels = create_siamese_pairs(data_generator, num_classes, num_pairs_per_batch)\n",
    "        yield [pairs[:, 0], pairs[:, 1]], labels"
   ]
  },
  {
   "cell_type": "markdown",
   "metadata": {},
   "source": [
    "The input above will be fit into the model."
   ]
  },
  {
   "cell_type": "code",
   "execution_count": 12,
   "metadata": {
    "scrolled": true
   },
   "outputs": [
    {
     "name": "stdout",
     "output_type": "stream",
     "text": [
      "Epoch 1/20\n",
      "11/11 [==============================] - 1248s 114s/step - loss: 0.4795 - accuracy: 0.4995 - auc: 0.4963 - precision: 0.4860 - recall: 0.2759 - val_loss: 0.2954 - val_accuracy: 0.5143 - val_auc: 0.5059 - val_precision: 0.4973 - val_recall: 0.3770\n",
      "Epoch 2/20\n",
      "11/11 [==============================] - 1216s 111s/step - loss: 0.2750 - accuracy: 0.5042 - auc: 0.4964 - precision: 0.5127 - recall: 0.3887 - val_loss: 0.2760 - val_accuracy: 0.4936 - val_auc: 0.4937 - val_precision: 0.4800 - val_recall: 0.4191\n",
      "Epoch 3/20\n",
      "11/11 [==============================] - 1146s 105s/step - loss: 0.2670 - accuracy: 0.4999 - auc: 0.5004 - precision: 0.4975 - recall: 0.3520 - val_loss: 0.2711 - val_accuracy: 0.5235 - val_auc: 0.5155 - val_precision: 0.5413 - val_recall: 0.2141\n",
      "Epoch 4/20\n",
      "11/11 [==============================] - 1148s 104s/step - loss: 0.2674 - accuracy: 0.4964 - auc: 0.5046 - precision: 0.5002 - recall: 0.3990 - val_loss: 0.2725 - val_accuracy: 0.5038 - val_auc: 0.5030 - val_precision: 0.5094 - val_recall: 0.2487\n",
      "Epoch 5/20\n",
      "11/11 [==============================] - 1166s 106s/step - loss: 0.2647 - accuracy: 0.5005 - auc: 0.5019 - precision: 0.5035 - recall: 0.3896 - val_loss: 0.2719 - val_accuracy: 0.4887 - val_auc: 0.4965 - val_precision: 0.4893 - val_recall: 0.5118\n",
      "Epoch 6/20\n",
      "11/11 [==============================] - 1180s 107s/step - loss: 0.2632 - accuracy: 0.5032 - auc: 0.5022 - precision: 0.5076 - recall: 0.4125 - val_loss: 0.2711 - val_accuracy: 0.4982 - val_auc: 0.4954 - val_precision: 0.5137 - val_recall: 0.4917\n",
      "Epoch 7/20\n",
      "11/11 [==============================] - 1143s 104s/step - loss: 0.2617 - accuracy: 0.5026 - auc: 0.5061 - precision: 0.5107 - recall: 0.4345 - val_loss: 0.2731 - val_accuracy: 0.4952 - val_auc: 0.4997 - val_precision: 0.5029 - val_recall: 0.5634\n",
      "Epoch 8/20\n",
      "11/11 [==============================] - 1168s 107s/step - loss: 0.2628 - accuracy: 0.4940 - auc: 0.4928 - precision: 0.4917 - recall: 0.3822 - val_loss: 0.2685 - val_accuracy: 0.5031 - val_auc: 0.4999 - val_precision: 0.5059 - val_recall: 0.4522\n",
      "Epoch 9/20\n",
      "11/11 [==============================] - 1123s 102s/step - loss: 0.2613 - accuracy: 0.5023 - auc: 0.4986 - precision: 0.4928 - recall: 0.4032 - val_loss: 0.2692 - val_accuracy: 0.4913 - val_auc: 0.4911 - val_precision: 0.4769 - val_recall: 0.4370\n",
      "Epoch 10/20\n",
      "11/11 [==============================] - 1143s 104s/step - loss: 0.2636 - accuracy: 0.4988 - auc: 0.4973 - precision: 0.4955 - recall: 0.3521 - val_loss: 0.2775 - val_accuracy: 0.4939 - val_auc: 0.4964 - val_precision: 0.4902 - val_recall: 0.6188\n",
      "Epoch 11/20\n",
      "11/11 [==============================] - 1179s 108s/step - loss: 0.2630 - accuracy: 0.5013 - auc: 0.5049 - precision: 0.5098 - recall: 0.4307 - val_loss: 0.2716 - val_accuracy: 0.5035 - val_auc: 0.4978 - val_precision: 0.5085 - val_recall: 0.5221\n",
      "Epoch 12/20\n",
      "11/11 [==============================] - 1211s 110s/step - loss: 0.2615 - accuracy: 0.5046 - auc: 0.5014 - precision: 0.5084 - recall: 0.4314 - val_loss: 0.2731 - val_accuracy: 0.5005 - val_auc: 0.4992 - val_precision: 0.5172 - val_recall: 0.4512\n",
      "Epoch 13/20\n",
      "11/11 [==============================] - 1183s 108s/step - loss: 0.2615 - accuracy: 0.5040 - auc: 0.5023 - precision: 0.5069 - recall: 0.4082 - val_loss: 0.2673 - val_accuracy: 0.5090 - val_auc: 0.5099 - val_precision: 0.5053 - val_recall: 0.4088\n",
      "Epoch 14/20\n",
      "11/11 [==============================] - 1194s 108s/step - loss: 0.2624 - accuracy: 0.4968 - auc: 0.4951 - precision: 0.4951 - recall: 0.4124 - val_loss: 0.2695 - val_accuracy: 0.4988 - val_auc: 0.4968 - val_precision: 0.5168 - val_recall: 0.4401\n",
      "Epoch 15/20\n",
      "11/11 [==============================] - 1176s 108s/step - loss: 0.2599 - accuracy: 0.4975 - auc: 0.5049 - precision: 0.5079 - recall: 0.4476 - val_loss: 0.2666 - val_accuracy: 0.5008 - val_auc: 0.5084 - val_precision: 0.5092 - val_recall: 0.5010\n",
      "Epoch 16/20\n",
      "11/11 [==============================] - 1132s 103s/step - loss: 0.2601 - accuracy: 0.4992 - auc: 0.4998 - precision: 0.4995 - recall: 0.4080 - val_loss: 0.2700 - val_accuracy: 0.5056 - val_auc: 0.4931 - val_precision: 0.5025 - val_recall: 0.4071\n",
      "Epoch 17/20\n",
      "11/11 [==============================] - 1158s 106s/step - loss: 0.2589 - accuracy: 0.5058 - auc: 0.5044 - precision: 0.5051 - recall: 0.4250 - val_loss: 0.2699 - val_accuracy: 0.4904 - val_auc: 0.4846 - val_precision: 0.4786 - val_recall: 0.4236\n",
      "Epoch 18/20\n",
      "11/11 [==============================] - 1138s 104s/step - loss: 0.2604 - accuracy: 0.5021 - auc: 0.5005 - precision: 0.4989 - recall: 0.4047 - val_loss: 0.2672 - val_accuracy: 0.5076 - val_auc: 0.4962 - val_precision: 0.5063 - val_recall: 0.3222\n",
      "Epoch 19/20\n",
      "11/11 [==============================] - 1137s 104s/step - loss: 0.2607 - accuracy: 0.4979 - auc: 0.4967 - precision: 0.4877 - recall: 0.3862 - val_loss: 0.2705 - val_accuracy: 0.4900 - val_auc: 0.4882 - val_precision: 0.4885 - val_recall: 0.4078\n",
      "Epoch 20/20\n",
      "11/11 [==============================] - 1104s 101s/step - loss: 0.2606 - accuracy: 0.4988 - auc: 0.4971 - precision: 0.4919 - recall: 0.3599 - val_loss: 0.2641 - val_accuracy: 0.5070 - val_auc: 0.5164 - val_precision: 0.5085 - val_recall: 0.5749\n"
     ]
    }
   ],
   "source": [
    "history_siamese_model2 = siamese_model2.fit(\n",
    "    custom_data_generator(train_generator, num_classes, num_pairs_per_batch),\n",
    "    steps_per_epoch=train_num_batches_per_epoch,\n",
    "    validation_data=custom_data_generator(val_generator, num_classes, num_pairs_per_batch),\n",
    "    validation_steps=val_num_batches_per_epoch,  \n",
    "    epochs=20\n",
    ")"
   ]
  },
  {
   "cell_type": "markdown",
   "metadata": {},
   "source": [
    "#### Save model and history"
   ]
  },
  {
   "cell_type": "markdown",
   "metadata": {},
   "source": [
    "Save the model and its history."
   ]
  },
  {
   "cell_type": "code",
   "execution_count": 209,
   "metadata": {},
   "outputs": [],
   "source": [
    "# siamese_model2.save('siamese_model2_20epoch.h5')"
   ]
  },
  {
   "cell_type": "code",
   "execution_count": 210,
   "metadata": {},
   "outputs": [],
   "source": [
    "# hdf5storage.savemat(\"history_siamese_model2_20epoch.h5\", history_siamese_model2.history)"
   ]
  },
  {
   "cell_type": "markdown",
   "metadata": {},
   "source": [
    "#### Load the model and history"
   ]
  },
  {
   "cell_type": "code",
   "execution_count": 235,
   "metadata": {},
   "outputs": [],
   "source": [
    "siamese_model_loaded = load_model('siamese_model2_20epoch.h5', custom_objects={'contrastive_loss': contrastive_loss})"
   ]
  },
  {
   "cell_type": "code",
   "execution_count": 371,
   "metadata": {},
   "outputs": [
    {
     "name": "stdout",
     "output_type": "stream",
     "text": [
      "11/11 [==============================] - 209s 19s/step - loss: 0.2656 - accuracy: 0.4927 - auc: 0.4863 - precision: 0.4896 - recall: 0.4469\n"
     ]
    },
    {
     "data": {
      "text/plain": [
       "[0.26563766598701477,\n",
       " 0.4927188754081726,\n",
       " 0.4863257110118866,\n",
       " 0.4896443784236908,\n",
       " 0.4469413161277771]"
      ]
     },
     "execution_count": 371,
     "metadata": {},
     "output_type": "execute_result"
    }
   ],
   "source": [
    "siamese_model_loaded.evaluate(\n",
    "    custom_data_generator(train_generator, num_classes, num_pairs_per_batch),\n",
    "    steps=train_num_batches_per_epoch)"
   ]
  },
  {
   "cell_type": "code",
   "execution_count": 372,
   "metadata": {},
   "outputs": [
    {
     "name": "stdout",
     "output_type": "stream",
     "text": [
      "3/3 [==============================] - 56s 18s/step - loss: 0.2852 - accuracy: 0.5060 - auc: 0.4989 - precision: 0.5202 - recall: 0.2419\n"
     ]
    },
    {
     "data": {
      "text/plain": [
       "[0.285208135843277,\n",
       " 0.5060241222381592,\n",
       " 0.498872846364975,\n",
       " 0.5201668739318848,\n",
       " 0.24191461503505707]"
      ]
     },
     "execution_count": 372,
     "metadata": {},
     "output_type": "execute_result"
    }
   ],
   "source": [
    "siamese_model_loaded.evaluate(\n",
    "    custom_data_generator(test_generator, num_classes, num_pairs_per_batch),\n",
    "    steps=test_num_batches_per_epoch)"
   ]
  },
  {
   "cell_type": "code",
   "execution_count": 373,
   "metadata": {
    "scrolled": true
   },
   "outputs": [
    {
     "name": "stdout",
     "output_type": "stream",
     "text": [
      "77/77 [==============================] - 1382s 18s/step - loss: 0.2879 - accuracy: 0.4998 - auc: 0.5002 - precision: 0.4996 - recall: 0.2057\n"
     ]
    },
    {
     "data": {
      "text/plain": [
       "[0.2879106104373932,\n",
       " 0.4997716248035431,\n",
       " 0.5002148747444153,\n",
       " 0.4996301829814911,\n",
       " 0.20566296577453613]"
      ]
     },
     "execution_count": 373,
     "metadata": {},
     "output_type": "execute_result"
    }
   ],
   "source": [
    "siamese_model_loaded.evaluate(\n",
    "    custom_data_generator(test_generator, num_classes, num_pairs_per_batch),\n",
    "    steps=len(test_generator))"
   ]
  },
  {
   "cell_type": "code",
   "execution_count": 236,
   "metadata": {},
   "outputs": [],
   "source": [
    "history_siamese_model_loaded= hdf5storage.loadmat(\"history_siamese_model2_20epoch.h5.mat\",custom_objects={'contrastive_loss': contrastive_loss})"
   ]
  },
  {
   "cell_type": "code",
   "execution_count": 214,
   "metadata": {
    "scrolled": true
   },
   "outputs": [
    {
     "name": "stdout",
     "output_type": "stream",
     "text": [
      "dict_keys(['accuracy', 'auc', 'loss', 'precision', 'recall', 'val_accuracy', 'val_auc', 'val_loss', 'val_precision', 'val_recall'])\n"
     ]
    }
   ],
   "source": [
    "print(history_siamese_model_loaded.keys())"
   ]
  },
  {
   "cell_type": "code",
   "execution_count": 231,
   "metadata": {},
   "outputs": [
    {
     "data": {
      "image/png": "[encoded data removed]",
      "text/plain": [
       "<Figure size 800x600 with 1 Axes>"
      ]
     },
     "metadata": {},
     "output_type": "display_data"
    }
   ],
   "source": [
    "fig,ax=plt.subplots(figsize=(8,6))\n",
    "\n",
    "siamese_loss_values = history_siamese_model_loaded['loss']\n",
    "siamese_val_loss_values = history_siamese_model_loaded['val_loss']\n",
    "\n",
    "\n",
    "epochs = range(1,len(siamese_loss_values)+1)\n",
    "\n",
    "ax.plot(epochs,siamese_loss_values,label='Train loss vs epochs')\n",
    "ax.plot(epochs,siamese_val_loss_values,label='Validation loss vs epochs')\n",
    "\n",
    "ax.set_title('Train & validation loss')\n",
    "ax.legend()\n",
    "ax.set_xlabel('Epochs')\n",
    "plt.grid()\n",
    "ax.set_ylabel('Loss');"
   ]
  },
  {
   "cell_type": "code",
   "execution_count": 234,
   "metadata": {},
   "outputs": [
    {
     "data": {
      "image/png": "[encoded data removed]",
      "text/plain": [
       "<Figure size 800x600 with 1 Axes>"
      ]
     },
     "metadata": {},
     "output_type": "display_data"
    }
   ],
   "source": [
    "fig,ax=plt.subplots(figsize=(8,6))\n",
    "\n",
    "siamese_acc_values = history_siamese_model_loaded['accuracy']\n",
    "siamese_val_acc_values = history_siamese_model_loaded['val_accuracy']\n",
    "\n",
    "\n",
    "epochs = range(1,len(siamese_acc_values)+1)\n",
    "\n",
    "ax.plot(epochs,siamese_acc_values,label='Train acc vs epochs')\n",
    "ax.plot(epochs,siamese_val_acc_values,label='Validation acc vs epochs')\n",
    "\n",
    "ax.set_title('Train & validation acc')\n",
    "ax.legend()\n",
    "ax.set_xlabel('Epochs')\n",
    "plt.grid()\n",
    "ax.set_ylabel('Acc');"
   ]
  },
  {
   "cell_type": "code",
   "execution_count": 219,
   "metadata": {},
   "outputs": [
    {
     "data": {
      "image/png": "[encoded data removed]",
      "text/plain": [
       "<Figure size 800x600 with 1 Axes>"
      ]
     },
     "metadata": {},
     "output_type": "display_data"
    }
   ],
   "source": [
    "fig,ax=plt.subplots(figsize=(8,6))\n",
    "\n",
    "siamese_AUC_values = history_siamese_model_loaded['auc']\n",
    "siamese_val_AUC_values = history_siamese_model_loaded['val_auc']\n",
    "\n",
    "\n",
    "epochs = range(1,len(siamese_AUC_values)+1)\n",
    "\n",
    "ax.plot(epochs,siamese_AUC_values,label='Train AUC vs epochs')\n",
    "ax.plot(epochs,siamese_val_AUC_values,label='Validation AUC vs epochs')\n",
    "\n",
    "ax.set_title('Train & validation AUC')\n",
    "ax.legend()\n",
    "ax.set_xlabel('Epochs')\n",
    "plt.grid()\n",
    "ax.set_ylabel('AUC');"
   ]
  },
  {
   "cell_type": "markdown",
   "metadata": {},
   "source": [
    "The validation loss remains consistently low and stable, but the validation accuracy fluctuates around 50%. This model will serve as our baseline for further improvement in the subsequent steps."
   ]
  },
  {
   "cell_type": "code",
   "execution_count": 239,
   "metadata": {},
   "outputs": [
    {
     "name": "stdout",
     "output_type": "stream",
     "text": [
      "77/77 [==============================] - 49s 633ms/step\n"
     ]
    }
   ],
   "source": [
    "# Predict on the test set\n",
    "test_pairs, test_labels = create_siamese_pairs(test_generator, num_classes, len(test_generator))\n",
    "siamese_model_predictions = siamese_model_loaded.predict([test_pairs[:, 0], test_pairs[:, 1]])"
   ]
  },
  {
   "cell_type": "code",
   "execution_count": 240,
   "metadata": {},
   "outputs": [
    {
     "data": {
      "text/plain": [
       "0.047223035"
      ]
     },
     "execution_count": 240,
     "metadata": {},
     "output_type": "execute_result"
    }
   ],
   "source": [
    "siamese_model_predictions.min()"
   ]
  },
  {
   "cell_type": "code",
   "execution_count": 241,
   "metadata": {},
   "outputs": [
    {
     "data": {
      "text/plain": [
       "1.0218074"
      ]
     },
     "execution_count": 241,
     "metadata": {},
     "output_type": "execute_result"
    }
   ],
   "source": [
    "siamese_model_predictions.max()"
   ]
  },
  {
   "cell_type": "markdown",
   "metadata": {},
   "source": [
    "### Model 2: Base network ResNet50 + 5% of dataset + margin of 1 + batch_size 32"
   ]
  },
  {
   "cell_type": "markdown",
   "metadata": {},
   "source": [
    "In the following, we will reduce the batch size to 32 and use Resnet50 as the base networks for Siamese model."
   ]
  },
  {
   "cell_type": "code",
   "execution_count": 116,
   "metadata": {},
   "outputs": [
    {
     "name": "stdout",
     "output_type": "stream",
     "text": [
      "Found 14782 images belonging to 10 classes.\n",
      "Found 4935 images belonging to 10 classes.\n",
      "Found 4926 images belonging to 10 classes.\n"
     ]
    }
   ],
   "source": [
    "# Directory path\n",
    "train_data_dir = '/Users/thaophan/Documents/Flatiron/Phase5_Project/Capstone_fashion_label_classification_from_images/Data/Train_Test_Validation/Train'\n",
    "val_data_dir = '/Users/thaophan/Documents/Flatiron/Phase5_Project/Capstone_fashion_label_classification_from_images/Data/Train_Test_Validation/Validation'\n",
    "test_data_dir = '/Users/thaophan/Documents/Flatiron/Phase5_Project/Capstone_fashion_label_classification_from_images/Data/Train_Test_Validation/Test'\n",
    "\n",
    "image_size = (256, 256)\n",
    "num_classes = 10\n",
    "\n",
    "train_datagen = ImageDataGenerator(rescale=1./255, \n",
    "                                   rotation_range=40, \n",
    "                                   width_shift_range=0.2, \n",
    "                                   height_shift_range=0.2, \n",
    "                                   shear_range=0.3, \n",
    "                                   zoom_range=0.1, \n",
    "                                   horizontal_flip=False)\n",
    " \n",
    "val_datagen = ImageDataGenerator(rescale = 1/255) # Only rescale for the val set\n",
    "\n",
    "test_datagen = ImageDataGenerator(rescale = 1/255) # Only rescale for the test set\n",
    "\n",
    "\n",
    "train_generator_batch32 = train_datagen.flow_from_directory(directory=train_data_dir, target_size = image_size,\n",
    "                                                   class_mode='categorical',\n",
    "                                                    batch_size=32,\n",
    "                                                    shuffle=True,\n",
    "                                                    classes=[str(i) for i in range(num_classes)])\n",
    "\n",
    "val_generator_batch32 = val_datagen.flow_from_directory(directory=val_data_dir, target_size = image_size,\n",
    "                                                   class_mode='categorical',\n",
    "                                                    batch_size=32,\n",
    "                                                shuffle=True,\n",
    "                                                  classes=[str(i) for i in range(num_classes)])\n",
    "\n",
    "test_generator_batch32 = test_datagen.flow_from_directory(directory=test_data_dir, target_size = image_size,\n",
    "                                                    class_mode='categorical',\n",
    "                                                   batch_size=32,\n",
    "                                                  shuffle=False,\n",
    "                                                  classes=[str(i) for i in range(num_classes)])"
   ]
  },
  {
   "cell_type": "code",
   "execution_count": 117,
   "metadata": {},
   "outputs": [],
   "source": [
    "def create_siamese_pairs(data_generator, num_classes, num_pairs_per_batch):\n",
    "    pairs = []\n",
    "    labels = []\n",
    "\n",
    "    for _ in range(num_pairs_per_batch):\n",
    "        # Generate a batch of images and their corresponding labels\n",
    "        batch_images, batch_labels = data_generator.next()\n",
    "\n",
    "        # Split the batch into two halves (left and right images)\n",
    "        batch_size = len(batch_images)\n",
    "        half_batch_size = batch_size // 2\n",
    "        left_images = batch_images[:half_batch_size]\n",
    "        right_images = batch_images[half_batch_size:]\n",
    "\n",
    "        # Create positive and negative pairs within the batch\n",
    "        for i in range(half_batch_size):\n",
    "            img1 = left_images[i]\n",
    "            img2 = right_images[i]\n",
    "            label1 = batch_labels[i]\n",
    "            label2 = batch_labels[i + half_batch_size]\n",
    "\n",
    "            # Determine if the images belong to the same class (positive pair) or different classes (negative pair)\n",
    "            same_class = np.random.randint(0, 2)\n",
    "            if same_class == 1:\n",
    "                label = 1  # Positive pair\n",
    "            else:\n",
    "                label = 0  # Negative pair\n",
    "\n",
    "            pairs.append([img1, img2])\n",
    "            labels.append(label)\n",
    "\n",
    "    pairs = np.array(pairs)\n",
    "    labels = np.array(labels)\n",
    "    return pairs, labels\n"
   ]
  },
  {
   "cell_type": "code",
   "execution_count": 118,
   "metadata": {},
   "outputs": [],
   "source": [
    "def contrastive_loss05(y_true, y_pred):\n",
    "    \"\"\"Calculates the contrastive loss.\n",
    "\n",
    "    Arguments:\n",
    "        y_true: List of labels, each label is of type float32.\n",
    "        y_pred: List of predictions of same length as of y_true,\n",
    "                each label is of type float32.\n",
    "\n",
    "    Returns:\n",
    "        A tensor containing contrastive loss as floating point value.\n",
    "    \"\"\"\n",
    "    y_true = tf.cast(y_true, tf.float32)\n",
    "    y_pred = tf.cast(y_pred, tf.float32)\n",
    "    margin  = 0.5\n",
    "    square_pred = tf.math.square(y_pred)\n",
    "    margin_square = tf.math.square(tf.math.maximum(margin - (y_pred), 0))\n",
    "    return tf.math.reduce_mean(\n",
    "        (1 - y_true) * square_pred + (y_true) * margin_square)\n"
   ]
  },
  {
   "cell_type": "code",
   "execution_count": 119,
   "metadata": {},
   "outputs": [],
   "source": [
    "def euclid_dis(vects):\n",
    "    x, y = vects\n",
    "    sum_square = K.sum(K.square(x - y), axis=-1, keepdims=True)\n",
    "    return K.sqrt(K.maximum(sum_square, K.epsilon()))\n",
    "\n",
    "\n",
    "def eucl_dist_output_shape(shapes):\n",
    "    shape1, shape2 = shapes\n",
    "    return (shape1[0], 1)\n"
   ]
  },
  {
   "cell_type": "code",
   "execution_count": 120,
   "metadata": {},
   "outputs": [],
   "source": [
    "# Define the batch size and number of pairs per batch\n",
    "batch_size = 32\n",
    "num_pairs_per_batch = batch_size // 2  # Create half positive and half negative pairs in each batch\n",
    "# Determine the total number of training, validation, and test pairs\n",
    "total_training_pairs = len(train_generator) * num_pairs_per_batch\n",
    "total_validation_pairs = len(val_generator) * num_pairs_per_batch\n",
    "total_test_pairs = len(test_generator) * num_pairs_per_batch\n",
    "\n",
    "# Define the percentage of training, validation, and test pairs to use in each epoch\n",
    "percentage_to_use = 0.05\n",
    "\n",
    "# Calculate the number of training and validation pairs to use in each epoch\n",
    "train_num_pairs_to_use = int(total_training_pairs * percentage_to_use)\n",
    "val_num_pairs_to_use = int(total_validation_pairs * percentage_to_use)\n",
    "test_num_pairs_to_use = int(total_test_pairs * percentage_to_use)\n",
    "\n",
    "\n",
    "# Calculate the number of batches in each epoch\n",
    "train_num_batches_per_epoch = train_num_pairs_to_use // num_pairs_per_batch\n",
    "val_num_batches_per_epoch = val_num_pairs_to_use // num_pairs_per_batch\n",
    "test_num_batches_per_epoch = test_num_pairs_to_use // num_pairs_per_batch\n",
    "\n",
    "#Define a function to get image pairs from train and validation generator\n",
    "def custom_data_generator(data_generator, num_classes, num_pairs_per_batch):\n",
    "    while True:\n",
    "        # Create pairs and labels for the current batch\n",
    "        pairs, labels = create_siamese_pairs(data_generator, num_classes, num_pairs_per_batch)\n",
    "        yield [pairs[:, 0], pairs[:, 1]], labels"
   ]
  },
  {
   "cell_type": "code",
   "execution_count": 121,
   "metadata": {},
   "outputs": [],
   "source": [
    "# Function to create Resnet50 base model\n",
    "def base_model_resnet50(input_shape):\n",
    "    base_resnet50_model = ResNet50(include_top=False,weights = 'imagenet',input_shape=input_shape)\n",
    "    for layers in base_resnet50_model.layers:\n",
    "          layers.trainable = False\n",
    "    return base_resnet50_model"
   ]
  },
  {
   "cell_type": "code",
   "execution_count": 122,
   "metadata": {},
   "outputs": [],
   "source": [
    "# Function to build the siamese model\n",
    "def build_siamese_model_resnet50(input_shape):\n",
    "    # Create the Resnet50 base model\n",
    "    resnet50_base_model = base_model_resnet50(input_shape)\n",
    "    \n",
    "    # Inputs for the two images\n",
    "    input_image1 = Input(shape=input_shape)\n",
    "    input_image2 = Input(shape=input_shape)\n",
    "    \n",
    "    # Process the first image through the VGG16 base model\n",
    "    x1 = resnet50_base_model(input_image1)\n",
    "    x1 = Flatten()(x1)\n",
    "    x1 = Dense(128, activation='relu')(x1)\n",
    "    \n",
    "    # Process the second image through the VGG16 base model\n",
    "    x2 = resnet50_base_model(input_image2)\n",
    "    x2 = Flatten()(x2)\n",
    "    x2 = Dense(128, activation='relu')(x2)\n",
    "    \n",
    "    # Compute the Euclidean distance between the two image embeddings\n",
    "    distance =Lambda(euclid_dis, output_shape=eucl_dist_output_shape)([x1, x2])\n",
    "    \n",
    "    # Create the siamese model\n",
    "    siamese_model = Model(inputs=[input_image1, input_image2], outputs=distance)\n",
    "    \n",
    "    return siamese_model"
   ]
  },
  {
   "cell_type": "code",
   "execution_count": 123,
   "metadata": {},
   "outputs": [],
   "source": [
    "train_pair_gen = custom_data_generator(train_generator_batch32, num_classes, num_pairs_per_batch)"
   ]
  },
  {
   "cell_type": "code",
   "execution_count": 124,
   "metadata": {},
   "outputs": [],
   "source": [
    "batch_pairs, batch_labels = next(train_pair_gen)"
   ]
  },
  {
   "cell_type": "code",
   "execution_count": 125,
   "metadata": {
    "scrolled": true
   },
   "outputs": [
    {
     "data": {
      "text/plain": [
       "256"
      ]
     },
     "execution_count": 125,
     "metadata": {},
     "output_type": "execute_result"
    }
   ],
   "source": [
    "len(batch_pairs[0])"
   ]
  },
  {
   "cell_type": "code",
   "execution_count": 126,
   "metadata": {},
   "outputs": [
    {
     "data": {
      "text/plain": [
       "256"
      ]
     },
     "execution_count": 126,
     "metadata": {},
     "output_type": "execute_result"
    }
   ],
   "source": [
    "len(batch_labels)"
   ]
  },
  {
   "cell_type": "code",
   "execution_count": 127,
   "metadata": {},
   "outputs": [
    {
     "data": {
      "text/plain": [
       "30"
      ]
     },
     "execution_count": 127,
     "metadata": {},
     "output_type": "execute_result"
    }
   ],
   "source": [
    "num_positive_pairs = num_classes * (batch_size // num_classes)\n",
    "num_positive_pairs"
   ]
  },
  {
   "cell_type": "code",
   "execution_count": 128,
   "metadata": {},
   "outputs": [
    {
     "data": {
      "text/plain": [
       "288"
      ]
     },
     "execution_count": 128,
     "metadata": {},
     "output_type": "execute_result"
    }
   ],
   "source": [
    "num_negative_pairs = batch_size * (num_classes - 1)\n",
    "num_negative_pairs"
   ]
  },
  {
   "cell_type": "code",
   "execution_count": 129,
   "metadata": {},
   "outputs": [],
   "source": [
    "siamese_resnet50_model_batch32 = build_siamese_model_resnet50((256,256,3))"
   ]
  },
  {
   "cell_type": "code",
   "execution_count": 130,
   "metadata": {},
   "outputs": [],
   "source": [
    "siamese_resnet50_model_batch32.compile(loss=contrastive_loss05,optimizer='Adam',\n",
    "                  metrics=['accuracy','AUC','Precision','Recall'])"
   ]
  },
  {
   "cell_type": "code",
   "execution_count": 131,
   "metadata": {},
   "outputs": [
    {
     "name": "stdout",
     "output_type": "stream",
     "text": [
      "Epoch 1/10\n",
      "11/11 [==============================] - 257s 24s/step - loss: 1319.1847 - accuracy: 0.5060 - auc: 0.5069 - precision: 0.5168 - recall: 0.4616 - val_loss: 0.1217 - val_accuracy: 0.5117 - val_auc: 0.5027 - val_precision: 1.0000 - val_recall: 0.0027\n",
      "Epoch 2/10\n",
      "11/11 [==============================] - 248s 23s/step - loss: 6.3627 - accuracy: 0.5110 - auc: 0.5090 - precision: 0.5244 - recall: 0.1919 - val_loss: 0.1311 - val_accuracy: 0.4753 - val_auc: 0.4986 - val_precision: 0.0000e+00 - val_recall: 0.0000e+00\n",
      "Epoch 3/10\n",
      "11/11 [==============================] - 236s 22s/step - loss: 0.1282 - accuracy: 0.4863 - auc: 0.5003 - precision: 0.0000e+00 - recall: 0.0000e+00 - val_loss: 53.1161 - val_accuracy: 0.4648 - val_auc: 0.5000 - val_precision: 0.4648 - val_recall: 1.0000\n",
      "Epoch 4/10\n",
      "11/11 [==============================] - 235s 22s/step - loss: 6.6040 - accuracy: 0.5213 - auc: 0.5114 - precision: 0.5156 - recall: 0.1935 - val_loss: 0.1145 - val_accuracy: 0.5417 - val_auc: 0.4988 - val_precision: 0.0000e+00 - val_recall: 0.0000e+00\n",
      "Epoch 5/10\n",
      "11/11 [==============================] - 234s 22s/step - loss: 5.3977 - accuracy: 0.4933 - auc: 0.4970 - precision: 0.4883 - recall: 0.0880 - val_loss: 0.1260 - val_accuracy: 0.4948 - val_auc: 0.5013 - val_precision: 0.0000e+00 - val_recall: 0.0000e+00\n",
      "Epoch 6/10\n",
      "11/11 [==============================] - 245s 23s/step - loss: 0.1268 - accuracy: 0.4920 - auc: 0.5003 - precision: 1.0000 - recall: 6.9881e-04 - val_loss: 0.1278 - val_accuracy: 0.4883 - val_auc: 0.5000 - val_precision: 0.0000e+00 - val_recall: 0.0000e+00\n",
      "Epoch 7/10\n",
      "11/11 [==============================] - 270s 25s/step - loss: 11.5233 - accuracy: 0.5103 - auc: 0.4990 - precision: 0.4786 - recall: 0.0899 - val_loss: 0.1187 - val_accuracy: 0.5247 - val_auc: 0.5000 - val_precision: 0.0000e+00 - val_recall: 0.0000e+00\n",
      "Epoch 8/10\n",
      "11/11 [==============================] - 254s 24s/step - loss: 0.1220 - accuracy: 0.5112 - auc: 0.5000 - precision: 0.0000e+00 - recall: 0.0000e+00 - val_loss: 0.1248 - val_accuracy: 0.5000 - val_auc: 0.5000 - val_precision: 0.0000e+00 - val_recall: 0.0000e+00\n",
      "Epoch 9/10\n",
      "11/11 [==============================] - 256s 24s/step - loss: 0.1277 - accuracy: 0.4886 - auc: 0.4996 - precision: 0.0000e+00 - recall: 0.0000e+00 - val_loss: 0.1255 - val_accuracy: 0.4974 - val_auc: 0.5000 - val_precision: 0.0000e+00 - val_recall: 0.0000e+00\n",
      "Epoch 10/10\n",
      "11/11 [==============================] - 255s 24s/step - loss: 13.0563 - accuracy: 0.4922 - auc: 0.4942 - precision: 0.4688 - recall: 0.0849 - val_loss: 0.1301 - val_accuracy: 0.4792 - val_auc: 0.4986 - val_precision: 0.0000e+00 - val_recall: 0.0000e+00\n"
     ]
    }
   ],
   "source": [
    "history_siamese_resnet50_model_batch32 = siamese_resnet50_model_batch32.fit(custom_data_generator(train_generator_batch32, num_classes, num_pairs_per_batch),\n",
    "                            steps_per_epoch=train_num_batches_per_epoch,\n",
    "                            validation_data=custom_data_generator(val_generator_batch32, num_classes, num_pairs_per_batch),\n",
    "                            validation_steps=val_num_batches_per_epoch,\n",
    "                            epochs=10\n",
    ")"
   ]
  },
  {
   "cell_type": "markdown",
   "metadata": {
    "scrolled": true
   },
   "source": [
    "Sadly, the validation accuracy has not improved a bit, still stuck at around 50%."
   ]
  },
  {
   "cell_type": "markdown",
   "metadata": {},
   "source": [
    "### Model 3: Base network ResNet50 + 5% of dataset + margin of 0.5 + batch_size 32 +  learning rate 0.0005"
   ]
  },
  {
   "cell_type": "markdown",
   "metadata": {},
   "source": [
    "In this model, we will reduce margin from 1 to 0.5 and also drop learning rate from 0.001 to 0.0005 to try improve the stability of training model."
   ]
  },
  {
   "cell_type": "code",
   "execution_count": 192,
   "metadata": {},
   "outputs": [
    {
     "name": "stdout",
     "output_type": "stream",
     "text": [
      "Found 14782 images belonging to 10 classes.\n",
      "Found 4935 images belonging to 10 classes.\n",
      "Found 4926 images belonging to 10 classes.\n"
     ]
    }
   ],
   "source": [
    "# Directory path\n",
    "train_data_dir = '/Users/thaophan/Documents/Flatiron/Phase5_Project/Capstone_fashion_label_classification_from_images/Data/Train_Test_Validation/Train'\n",
    "val_data_dir = '/Users/thaophan/Documents/Flatiron/Phase5_Project/Capstone_fashion_label_classification_from_images/Data/Train_Test_Validation/Validation'\n",
    "test_data_dir = '/Users/thaophan/Documents/Flatiron/Phase5_Project/Capstone_fashion_label_classification_from_images/Data/Train_Test_Validation/Test'\n",
    "\n",
    "image_size = (256, 256)\n",
    "num_classes = 10\n",
    "\n",
    "train_datagen = ImageDataGenerator(rescale=1./255, \n",
    "                                   rotation_range=40, \n",
    "                                   width_shift_range=0.2, \n",
    "                                   height_shift_range=0.2, \n",
    "                                   shear_range=0.3, \n",
    "                                   zoom_range=0.1, \n",
    "                                   horizontal_flip=False)\n",
    " \n",
    "val_datagen = ImageDataGenerator(rescale = 1/255) # Only rescale for the val set\n",
    "\n",
    "test_datagen = ImageDataGenerator(rescale = 1/255) # Only rescale for the test set\n",
    "\n",
    "\n",
    "train_generator_batch32 = train_datagen.flow_from_directory(directory=train_data_dir, target_size = image_size,\n",
    "                                                   class_mode='categorical',\n",
    "                                                    batch_size=32,\n",
    "                                                    shuffle=True,\n",
    "                                                    classes=[str(i) for i in range(num_classes)])\n",
    "\n",
    "val_generator_batch32 = val_datagen.flow_from_directory(directory=val_data_dir, target_size = image_size,\n",
    "                                                   class_mode='categorical',\n",
    "                                                    batch_size=32,\n",
    "                                                shuffle=True,\n",
    "                                                  classes=[str(i) for i in range(num_classes)])\n",
    "\n",
    "test_generator_batch32 = test_datagen.flow_from_directory(directory=test_data_dir, target_size = image_size,\n",
    "                                                    class_mode='categorical',\n",
    "                                                   batch_size=32,\n",
    "                                                  shuffle=False,\n",
    "                                                  classes=[str(i) for i in range(num_classes)])"
   ]
  },
  {
   "cell_type": "code",
   "execution_count": 193,
   "metadata": {},
   "outputs": [],
   "source": [
    "def create_siamese_pairs(data_generator, num_classes, num_pairs_per_batch):\n",
    "    pairs = []\n",
    "    labels = []\n",
    "\n",
    "    for _ in range(num_pairs_per_batch):\n",
    "        # Generate a batch of images and their corresponding labels\n",
    "        batch_images, batch_labels = data_generator.next()\n",
    "\n",
    "        # Split the batch into two halves (left and right images)\n",
    "        batch_size = len(batch_images)\n",
    "        half_batch_size = batch_size // 2\n",
    "        left_images = batch_images[:half_batch_size]\n",
    "        right_images = batch_images[half_batch_size:]\n",
    "\n",
    "        # Create positive and negative pairs within the batch\n",
    "        for i in range(half_batch_size):\n",
    "            img1 = left_images[i]\n",
    "            img2 = right_images[i]\n",
    "            label1 = batch_labels[i]\n",
    "            label2 = batch_labels[i + half_batch_size]\n",
    "\n",
    "            # Determine if the images belong to the same class (positive pair) or different classes (negative pair)\n",
    "            same_class = np.random.randint(0, 2)\n",
    "            if same_class == 1:\n",
    "                label = 1  # Positive pair\n",
    "            else:\n",
    "                label = 0  # Negative pair\n",
    "\n",
    "            pairs.append([img1, img2])\n",
    "            labels.append(label)\n",
    "\n",
    "    pairs = np.array(pairs)\n",
    "    labels = np.array(labels)\n",
    "    return pairs, labels\n"
   ]
  },
  {
   "cell_type": "code",
   "execution_count": 194,
   "metadata": {},
   "outputs": [],
   "source": [
    "def contrastive_loss05(y_true, y_pred):\n",
    "    \"\"\"Calculates the contrastive loss.\n",
    "\n",
    "    Arguments:\n",
    "        y_true: List of labels, each label is of type float32.\n",
    "        y_pred: List of predictions of same length as of y_true,\n",
    "                each label is of type float32.\n",
    "\n",
    "    Returns:\n",
    "        A tensor containing contrastive loss as floating point value.\n",
    "    \"\"\"\n",
    "    y_true = tf.cast(y_true, tf.float32)\n",
    "    y_pred = tf.cast(y_pred, tf.float32)\n",
    "    margin  = 0.5\n",
    "    square_pred = tf.math.square(y_pred)\n",
    "    margin_square = tf.math.square(tf.math.maximum(margin - (y_pred), 0))\n",
    "    return tf.math.reduce_mean(\n",
    "        (1 - y_true) * square_pred + (y_true) * margin_square)\n"
   ]
  },
  {
   "cell_type": "code",
   "execution_count": 195,
   "metadata": {},
   "outputs": [],
   "source": [
    "from tensorflow.keras.optimizers.legacy import Adam\n",
    "opt = Adam(learning_rate=0.0005, beta_1=0.9, beta_2=0.999, epsilon=1e-07)"
   ]
  },
  {
   "cell_type": "code",
   "execution_count": 196,
   "metadata": {},
   "outputs": [],
   "source": [
    "siamese_resnet50_model_batch32_lr = build_siamese_model_resnet50((256,256,3))"
   ]
  },
  {
   "cell_type": "code",
   "execution_count": 197,
   "metadata": {},
   "outputs": [],
   "source": [
    "siamese_resnet50_model_batch32_lr.compile(loss=contrastive_loss05,optimizer=opt,\n",
    "                  metrics=['accuracy','AUC','Precision','Recall'])"
   ]
  },
  {
   "cell_type": "code",
   "execution_count": 198,
   "metadata": {},
   "outputs": [
    {
     "name": "stdout",
     "output_type": "stream",
     "text": [
      "Epoch 1/10\n",
      "11/11 [==============================] - 245s 23s/step - loss: 342.3020 - accuracy: 0.4904 - auc: 0.4923 - precision: 0.4805 - recall: 0.5367 - val_loss: 0.1371 - val_accuracy: 0.4492 - val_auc: 0.5015 - val_precision: 1.0000 - val_recall: 0.0024\n",
      "Epoch 2/10\n",
      "11/11 [==============================] - 240s 22s/step - loss: 1.0113 - accuracy: 0.5021 - auc: 0.4998 - precision: 0.4980 - recall: 0.1821 - val_loss: 0.1333 - val_accuracy: 0.4661 - val_auc: 0.5010 - val_precision: 0.0000e+00 - val_recall: 0.0000e+00\n",
      "Epoch 3/10\n",
      "11/11 [==============================] - 240s 22s/step - loss: 1.4981 - accuracy: 0.4934 - auc: 0.4964 - precision: 0.4922 - recall: 0.1777 - val_loss: 4.4101 - val_accuracy: 0.4870 - val_auc: 0.5000 - val_precision: 0.4870 - val_recall: 1.0000\n",
      "Epoch 4/10\n",
      "11/11 [==============================] - 236s 22s/step - loss: 2.9182 - accuracy: 0.4996 - auc: 0.4970 - precision: 0.4896 - recall: 0.2699 - val_loss: 0.1206 - val_accuracy: 0.5169 - val_auc: 0.4987 - val_precision: 0.0000e+00 - val_recall: 0.0000e+00\n",
      "Epoch 5/10\n",
      "11/11 [==============================] - 241s 23s/step - loss: 1.5751 - accuracy: 0.4869 - auc: 0.4912 - precision: 0.4570 - recall: 0.0822 - val_loss: 0.1154 - val_accuracy: 0.5378 - val_auc: 0.5000 - val_precision: 0.0000e+00 - val_recall: 0.0000e+00\n",
      "Epoch 6/10\n",
      "11/11 [==============================] - 259s 24s/step - loss: 0.1262 - accuracy: 0.4948 - auc: 0.4996 - precision: 0.0000e+00 - recall: 0.0000e+00 - val_loss: 0.1229 - val_accuracy: 0.5078 - val_auc: 0.5013 - val_precision: 1.0000 - val_recall: 0.0026\n",
      "Epoch 7/10\n",
      "11/11 [==============================] - 255s 24s/step - loss: 0.1265 - accuracy: 0.4933 - auc: 0.5000 - precision: 0.0000e+00 - recall: 0.0000e+00 - val_loss: 0.1288 - val_accuracy: 0.4844 - val_auc: 0.4987 - val_precision: 0.0000e+00 - val_recall: 0.0000e+00\n",
      "Epoch 8/10\n",
      "11/11 [==============================] - 252s 23s/step - loss: 2.9362 - accuracy: 0.5112 - auc: 0.5076 - precision: 0.5352 - recall: 0.0983 - val_loss: 0.1252 - val_accuracy: 0.4974 - val_auc: 0.5013 - val_precision: 0.0000e+00 - val_recall: 0.0000e+00\n",
      "Epoch 9/10\n",
      "11/11 [==============================] - 248s 23s/step - loss: 3.6481 - accuracy: 0.4794 - auc: 0.4889 - precision: 0.4531 - recall: 0.0804 - val_loss: 0.1216 - val_accuracy: 0.5130 - val_auc: 0.5000 - val_precision: 0.0000e+00 - val_recall: 0.0000e+00\n",
      "Epoch 10/10\n",
      "11/11 [==============================] - 250s 23s/step - loss: 0.1235 - accuracy: 0.5053 - auc: 0.5000 - precision: 0.0000e+00 - recall: 0.0000e+00 - val_loss: 0.1213 - val_accuracy: 0.5143 - val_auc: 0.5000 - val_precision: 0.0000e+00 - val_recall: 0.0000e+00\n"
     ]
    }
   ],
   "source": [
    "history_siamese_resnet50_model_batch32_lr = siamese_resnet50_model_batch32_lr.fit(custom_data_generator(train_generator_batch32, num_classes, num_pairs_per_batch),\n",
    "                            steps_per_epoch=train_num_batches_per_epoch,\n",
    "                            validation_data=custom_data_generator(val_generator_batch32, num_classes, num_pairs_per_batch),\n",
    "                            validation_steps=val_num_batches_per_epoch,\n",
    "                            epochs=10\n",
    ") "
   ]
  },
  {
   "cell_type": "markdown",
   "metadata": {},
   "source": [
    "Still, validation accuracy is around 50% while validation precision and recall are extremely small, which indicates that the model is too simple to train or having class imbalance."
   ]
  },
  {
   "cell_type": "markdown",
   "metadata": {},
   "source": [
    "### Model 4: Base network ResNet50 + 30% of dataset + margin of 0.5 + batch_size 32 +  learning rate 0.0005"
   ]
  },
  {
   "cell_type": "markdown",
   "metadata": {},
   "source": [
    "In this model, we will increase the input data size to 30% more than the total train data."
   ]
  },
  {
   "cell_type": "code",
   "execution_count": 200,
   "metadata": {},
   "outputs": [],
   "source": [
    "# Define the batch size and number of pairs per batch\n",
    "batch_size = 32\n",
    "num_pairs_per_batch = batch_size // 2  # Create half positive and half negative pairs in each batch\n",
    "# Determine the total number of training, validation, and test pairs\n",
    "total_training_pairs = len(train_generator) * num_pairs_per_batch\n",
    "total_validation_pairs = len(val_generator) * num_pairs_per_batch\n",
    "total_test_pairs = len(test_generator) * num_pairs_per_batch\n",
    "\n",
    "# Define the percentage of training, validation, and test pairs to use in each epoch\n",
    "percentage_to_use = 0.3\n",
    "\n",
    "# Calculate the number of training and validation pairs to use in each epoch\n",
    "train_num_pairs_to_use = int(total_training_pairs * percentage_to_use)\n",
    "val_num_pairs_to_use = int(total_validation_pairs * percentage_to_use)\n",
    "test_num_pairs_to_use = int(total_test_pairs * percentage_to_use)\n",
    "\n",
    "\n",
    "# Calculate the number of batches in each epoch\n",
    "train_num_batches_per_epoch = train_num_pairs_to_use // num_pairs_per_batch\n",
    "val_num_batches_per_epoch = val_num_pairs_to_use // num_pairs_per_batch\n",
    "test_num_batches_per_epoch = test_num_pairs_to_use // num_pairs_per_batch\n",
    "\n",
    "#Define a function to get image pairs from train and validation generator\n",
    "def custom_data_generator(data_generator, num_classes, num_pairs_per_batch):\n",
    "    while True:\n",
    "        # Create pairs and labels for the current batch\n",
    "        pairs, labels = create_siamese_pairs(data_generator, num_classes, num_pairs_per_batch)\n",
    "        yield [pairs[:, 0], pairs[:, 1]], labels"
   ]
  },
  {
   "cell_type": "code",
   "execution_count": 201,
   "metadata": {},
   "outputs": [],
   "source": [
    "def contrastive_loss05(y_true, y_pred):\n",
    "    \"\"\"Calculates the contrastive loss.\n",
    "\n",
    "    Arguments:\n",
    "        y_true: List of labels, each label is of type float32.\n",
    "        y_pred: List of predictions of same length as of y_true,\n",
    "                each label is of type float32.\n",
    "\n",
    "    Returns:\n",
    "        A tensor containing contrastive loss as floating point value.\n",
    "    \"\"\"\n",
    "    y_true = tf.cast(y_true, tf.float32)\n",
    "    y_pred = tf.cast(y_pred, tf.float32)\n",
    "    margin  = 0.5\n",
    "    square_pred = tf.math.square(y_pred)\n",
    "    margin_square = tf.math.square(tf.math.maximum(margin - (y_pred), 0))\n",
    "    return tf.math.reduce_mean(\n",
    "        (1 - y_true) * square_pred + (y_true) * margin_square)"
   ]
  },
  {
   "cell_type": "code",
   "execution_count": 202,
   "metadata": {},
   "outputs": [],
   "source": [
    "from tensorflow.keras.optimizers.legacy import Adam\n",
    "opt = Adam(learning_rate=0.0005, beta_1=0.9, beta_2=0.999, epsilon=1e-07)"
   ]
  },
  {
   "cell_type": "code",
   "execution_count": 203,
   "metadata": {},
   "outputs": [],
   "source": [
    "siamese_resnet50_bat32_lr00005_30train = build_siamese_model_resnet50((256,256,3))"
   ]
  },
  {
   "cell_type": "code",
   "execution_count": 204,
   "metadata": {},
   "outputs": [],
   "source": [
    "siamese_resnet50_bat32_lr00005_30train.compile(loss=contrastive_loss05,optimizer=opt,\n",
    "                  metrics=['accuracy','AUC','Precision','Recall'])"
   ]
  },
  {
   "cell_type": "code",
   "execution_count": 205,
   "metadata": {},
   "outputs": [
    {
     "name": "stdout",
     "output_type": "stream",
     "text": [
      "Epoch 1/10\n",
      "69/69 [==============================] - 1669s 24s/step - loss: 42.8385 - accuracy: 0.5065 - auc: 0.5047 - precision: 0.5081 - recall: 0.2076 - val_loss: 0.1265 - val_accuracy: 0.4933 - val_auc: 0.5003 - val_precision: 1.0000 - val_recall: 3.3659e-04\n",
      "Epoch 2/10\n",
      "69/69 [==============================] - 1645s 24s/step - loss: 0.7555 - accuracy: 0.4956 - auc: 0.4981 - precision: 0.4792 - recall: 0.0415 - val_loss: 0.1268 - val_accuracy: 0.4924 - val_auc: 0.4997 - val_precision: 0.0000e+00 - val_recall: 0.0000e+00\n",
      "Epoch 3/10\n",
      "69/69 [==============================] - 1642s 24s/step - loss: 0.8866 - accuracy: 0.4972 - auc: 0.4998 - precision: 0.4961 - recall: 0.0143 - val_loss: 0.1273 - val_accuracy: 0.4899 - val_auc: 0.5000 - val_precision: 0.0000e+00 - val_recall: 0.0000e+00\n",
      "Epoch 4/10\n",
      "69/69 [==============================] - 1664s 24s/step - loss: 0.1248 - accuracy: 0.5003 - auc: 0.4999 - precision: 0.0000e+00 - recall: 0.0000e+00 - val_loss: 0.1253 - val_accuracy: 0.4982 - val_auc: 0.4998 - val_precision: 0.0000e+00 - val_recall: 0.0000e+00\n",
      "Epoch 5/10\n",
      "69/69 [==============================] - 1758s 26s/step - loss: 1.0043 - accuracy: 0.5024 - auc: 0.4983 - precision: 0.4336 - recall: 0.0127 - val_loss: 0.1245 - val_accuracy: 0.5012 - val_auc: 0.5003 - val_precision: 1.0000 - val_recall: 3.4188e-04\n",
      "Epoch 6/10\n",
      "69/69 [==============================] - 1732s 25s/step - loss: 1.9704 - accuracy: 0.5018 - auc: 0.5007 - precision: 0.5195 - recall: 0.0151 - val_loss: 0.1256 - val_accuracy: 0.4969 - val_auc: 0.4995 - val_precision: 0.0000e+00 - val_recall: 0.0000e+00\n",
      "Epoch 7/10\n",
      "69/69 [==============================] - 1667s 24s/step - loss: 0.1249 - accuracy: 0.4998 - auc: 0.4999 - precision: 0.0000e+00 - recall: 0.0000e+00 - val_loss: 0.1260 - val_accuracy: 0.4951 - val_auc: 0.5000 - val_precision: 0.0000e+00 - val_recall: 0.0000e+00\n",
      "Epoch 8/10\n",
      "69/69 [==============================] - 5486s 80s/step - loss: 0.1251 - accuracy: 0.4990 - auc: 0.5000 - precision: 0.0000e+00 - recall: 0.0000e+00 - val_loss: 0.1259 - val_accuracy: 0.4956 - val_auc: 0.5003 - val_precision: 0.0000e+00 - val_recall: 0.0000e+00\n",
      "Epoch 9/10\n",
      "69/69 [==============================] - 1706s 25s/step - loss: 2.3564 - accuracy: 0.4996 - auc: 0.5015 - precision: 0.5508 - recall: 0.0159 - val_loss: 0.1241 - val_accuracy: 0.5032 - val_auc: 0.5000 - val_precision: 1.0000 - val_recall: 3.4400e-04\n",
      "Epoch 10/10\n",
      "69/69 [==============================] - 1646s 24s/step - loss: 0.1240 - accuracy: 0.5033 - auc: 0.4999 - precision: 0.0000e+00 - recall: 0.0000e+00 - val_loss: 0.1270 - val_accuracy: 0.4915 - val_auc: 0.4998 - val_precision: 0.0000e+00 - val_recall: 0.0000e+00\n"
     ]
    }
   ],
   "source": [
    "history_siamese_resnet50_bat32_lr00005_30train = siamese_resnet50_bat32_lr00005_30train.fit(custom_data_generator(train_generator_batch32, num_classes, num_pairs_per_batch),\n",
    "                            steps_per_epoch=train_num_batches_per_epoch,\n",
    "                            validation_data=custom_data_generator(val_generator_batch32, num_classes, num_pairs_per_batch),\n",
    "                            validation_steps=val_num_batches_per_epoch,\n",
    "                            epochs=10\n",
    ") "
   ]
  },
  {
   "cell_type": "markdown",
   "metadata": {},
   "source": [
    "Still the test accuracy stuck at around 50%, with too small precision and recall rate. While the training time per epoch is long, if we continue with all train set, the current computer cannot handle it."
   ]
  },
  {
   "cell_type": "markdown",
   "metadata": {},
   "source": [
    "###  Model 5: Base network ResNet50 + 5% of dataset + margin of 0.1 + batch_size 32 "
   ]
  },
  {
   "cell_type": "code",
   "execution_count": 142,
   "metadata": {},
   "outputs": [],
   "source": [
    "def contrastive_loss01(y_true, y_pred):\n",
    "    \"\"\"Calculates the contrastive loss.\n",
    "\n",
    "    Arguments:\n",
    "        y_true: List of labels, each label is of type float32.\n",
    "        y_pred: List of predictions of same length as of y_true,\n",
    "                each label is of type float32.\n",
    "\n",
    "    Returns:\n",
    "        A tensor containing contrastive loss as floating point value.\n",
    "    \"\"\"\n",
    "    y_true = tf.cast(y_true, tf.float32)\n",
    "    y_pred = tf.cast(y_pred, tf.float32)\n",
    "    margin  = 0.1\n",
    "    square_pred = tf.math.square(y_pred)\n",
    "    margin_square = tf.math.square(tf.math.maximum(margin - (y_pred), 0))\n",
    "    return tf.math.reduce_mean(\n",
    "        (1 - y_true) * square_pred + (y_true) * margin_square)"
   ]
  },
  {
   "cell_type": "code",
   "execution_count": 143,
   "metadata": {},
   "outputs": [],
   "source": [
    "siamese_resnet50_model_batch32_loss01 = build_siamese_model_resnet50((256,256,3))"
   ]
  },
  {
   "cell_type": "code",
   "execution_count": 144,
   "metadata": {},
   "outputs": [],
   "source": [
    "siamese_resnet50_model_batch32_loss01.compile(loss=contrastive_loss01,optimizer='Adam',\n",
    "                  metrics=['accuracy','AUC','Precision','Recall'])"
   ]
  },
  {
   "cell_type": "code",
   "execution_count": 145,
   "metadata": {},
   "outputs": [
    {
     "name": "stdout",
     "output_type": "stream",
     "text": [
      "Epoch 1/10\n",
      "11/11 [==============================] - 241s 22s/step - loss: 1245.0192 - accuracy: 0.5027 - auc: 0.5036 - precision: 0.5083 - recall: 0.3670 - val_loss: 0.0049 - val_accuracy: 0.5091 - val_auc: 0.4963 - val_precision: 0.0000e+00 - val_recall: 0.0000e+00\n",
      "Epoch 2/10\n",
      "11/11 [==============================] - 230s 21s/step - loss: 0.0049 - accuracy: 0.5089 - auc: 0.5008 - precision: 0.0000e+00 - recall: 0.0000e+00 - val_loss: 0.0061 - val_accuracy: 0.4781 - val_auc: 0.5023 - val_precision: 0.0000e+00 - val_recall: 0.0000e+00\n",
      "Epoch 3/10\n",
      "11/11 [==============================] - 232s 22s/step - loss: 7.2944 - accuracy: 0.4764 - auc: 0.4913 - precision: 0.5000 - recall: 0.1737 - val_loss: 62.8387 - val_accuracy: 0.4948 - val_auc: 0.5000 - val_precision: 0.4948 - val_recall: 1.0000\n",
      "Epoch 4/10\n",
      "11/11 [==============================] - 230s 21s/step - loss: 10.6421 - accuracy: 0.5011 - auc: 0.5002 - precision: 0.4980 - recall: 0.1818 - val_loss: 84.2778 - val_accuracy: 0.4848 - val_auc: 0.5000 - val_precision: 0.4848 - val_recall: 1.0000\n",
      "Epoch 5/10\n",
      "11/11 [==============================] - 231s 21s/step - loss: 6.4959 - accuracy: 0.5060 - auc: 0.5068 - precision: 0.5430 - recall: 0.0984 - val_loss: 0.0049 - val_accuracy: 0.5013 - val_auc: 0.5013 - val_precision: 0.0000e+00 - val_recall: 0.0000e+00\n",
      "Epoch 6/10\n",
      "11/11 [==============================] - 230s 21s/step - loss: 8.1260 - accuracy: 0.5268 - auc: 0.5085 - precision: 0.5234 - recall: 0.0997 - val_loss: 0.0049 - val_accuracy: 0.5073 - val_auc: 0.5000 - val_precision: 0.0000e+00 - val_recall: 0.0000e+00\n",
      "Epoch 7/10\n",
      "11/11 [==============================] - 231s 22s/step - loss: 0.0052 - accuracy: 0.4936 - auc: 0.4996 - precision: 0.0000e+00 - recall: 0.0000e+00 - val_loss: 0.0052 - val_accuracy: 0.4805 - val_auc: 0.5000 - val_precision: 0.0000e+00 - val_recall: 0.0000e+00\n",
      "Epoch 8/10\n",
      "11/11 [==============================] - 230s 21s/step - loss: 0.0050 - accuracy: 0.4989 - auc: 0.4996 - precision: 0.0000e+00 - recall: 0.0000e+00 - val_loss: 0.0048 - val_accuracy: 0.5166 - val_auc: 0.5000 - val_precision: 0.0000e+00 - val_recall: 0.0000e+00\n",
      "Epoch 9/10\n",
      "11/11 [==============================] - 234s 22s/step - loss: 0.0049 - accuracy: 0.5083 - auc: 0.5007 - precision: 0.0000e+00 - recall: 0.0000e+00 - val_loss: 0.0053 - val_accuracy: 0.4635 - val_auc: 0.5000 - val_precision: 0.0000e+00 - val_recall: 0.0000e+00\n",
      "Epoch 10/10\n",
      "11/11 [==============================] - 229s 21s/step - loss: 9.9794 - accuracy: 0.4947 - auc: 0.5048 - precision: 0.5391 - recall: 0.0956 - val_loss: 0.0051 - val_accuracy: 0.4909 - val_auc: 0.5000 - val_precision: 0.0000e+00 - val_recall: 0.0000e+00\n"
     ]
    }
   ],
   "source": [
    "history_siamese_resnet50_batch32_loss01 = siamese_resnet50_model_batch32_loss01.fit(custom_data_generator(train_generator_batch32, num_classes, num_pairs_per_batch),\n",
    "                            steps_per_epoch=train_num_batches_per_epoch,\n",
    "                            validation_data=custom_data_generator(val_generator_batch32, num_classes, num_pairs_per_batch),\n",
    "                            validation_steps=val_num_batches_per_epoch,\n",
    "                            epochs=10\n",
    ")"
   ]
  },
  {
   "cell_type": "markdown",
   "metadata": {},
   "source": [
    "The result is still not better."
   ]
  },
  {
   "cell_type": "markdown",
   "metadata": {},
   "source": [
    "###  Model 6: Base network ResNet50 + 5% of dataset + margin of 0.1 + batch_size 32 "
   ]
  },
  {
   "cell_type": "code",
   "execution_count": 150,
   "metadata": {},
   "outputs": [],
   "source": [
    "# Function to build the siamese model\n",
    "def build_siamese_model_resnet50_reg(input_shape):\n",
    "    # Create the Resnet50 base model\n",
    "    resnet50_base_model = base_model_resnet50(input_shape)\n",
    "    \n",
    "    # Inputs for the two images\n",
    "    input_image1 = Input(shape=input_shape)\n",
    "    input_image2 = Input(shape=input_shape)\n",
    "    \n",
    "    # Process the first image through the VGG16 base model\n",
    "    x1 = resnet50_base_model(input_image1)\n",
    "    x1 = Flatten()(x1)\n",
    "    x1 = Dense(128, activation='relu',kernel_regularizer=L2(0.005))(x1)\n",
    "    \n",
    "    # Process the second image through the VGG16 base model\n",
    "    x2 = resnet50_base_model(input_image2)\n",
    "    x2 = Flatten()(x2)\n",
    "    x2 = Dense(128, activation='relu',kernel_regularizer=L2(0.005))(x2)\n",
    "    \n",
    "    # Compute the Euclidean distance between the two image embeddings\n",
    "    distance =Lambda(euclid_dis, output_shape=eucl_dist_output_shape)([x1, x2])\n",
    "    \n",
    "    # Create the siamese model\n",
    "    siamese_model = Model(inputs=[input_image1, input_image2], outputs=distance)\n",
    "    \n",
    "    return siamese_model"
   ]
  },
  {
   "cell_type": "code",
   "execution_count": null,
   "metadata": {},
   "outputs": [],
   "source": []
  },
  {
   "cell_type": "code",
   "execution_count": 151,
   "metadata": {},
   "outputs": [],
   "source": [
    "siamese_resnet50_model_batch32_reg = build_siamese_model_resnet50_reg((256,256,3))"
   ]
  },
  {
   "cell_type": "code",
   "execution_count": 152,
   "metadata": {},
   "outputs": [],
   "source": [
    "siamese_resnet50_model_batch32_reg.compile(loss=contrastive_loss03,optimizer='Adam',\n",
    "                  metrics=['accuracy','AUC','Precision','Recall'])"
   ]
  },
  {
   "cell_type": "code",
   "execution_count": 153,
   "metadata": {
    "scrolled": true
   },
   "outputs": [
    {
     "name": "stdout",
     "output_type": "stream",
     "text": [
      "Epoch 1/10\n",
      "11/11 [==============================] - 247s 23s/step - loss: 1108.1035 - accuracy: 0.4963 - auc: 0.4980 - precision: 0.5020 - recall: 0.6309 - val_loss: 0.8522 - val_accuracy: 0.4792 - val_auc: 0.5000 - val_precision: 0.0000e+00 - val_recall: 0.0000e+00\n",
      "Epoch 2/10\n",
      "11/11 [==============================] - 233s 22s/step - loss: 0.8347 - accuracy: 0.4993 - auc: 0.4963 - precision: 0.4724 - recall: 0.0860 - val_loss: 0.7905 - val_accuracy: 0.4688 - val_auc: 0.5000 - val_precision: 0.0000e+00 - val_recall: 0.0000e+00\n",
      "Epoch 3/10\n",
      "11/11 [==============================] - 232s 22s/step - loss: 11.9101 - accuracy: 0.5025 - auc: 0.5089 - precision: 0.5156 - recall: 0.1870 - val_loss: 0.7971 - val_accuracy: 0.4818 - val_auc: 0.5028 - val_precision: 0.3077 - val_recall: 0.0102\n",
      "Epoch 4/10\n",
      "11/11 [==============================] - 228s 21s/step - loss: 3.4254 - accuracy: 0.5030 - auc: 0.4945 - precision: 0.4961 - recall: 0.0909 - val_loss: 0.7856 - val_accuracy: 0.5195 - val_auc: 0.5000 - val_precision: 0.0000e+00 - val_recall: 0.0000e+00\n",
      "Epoch 5/10\n",
      "11/11 [==============================] - 233s 21s/step - loss: 10.3199 - accuracy: 0.5028 - auc: 0.5009 - precision: 0.5156 - recall: 0.0938 - val_loss: 0.7640 - val_accuracy: 0.4818 - val_auc: 0.5000 - val_precision: 0.0000e+00 - val_recall: 0.0000e+00\n",
      "Epoch 6/10\n",
      "11/11 [==============================] - 230s 21s/step - loss: 24.2955 - accuracy: 0.4956 - auc: 0.4969 - precision: 0.4863 - recall: 0.1771 - val_loss: 0.7407 - val_accuracy: 0.4987 - val_auc: 0.5000 - val_precision: 0.0000e+00 - val_recall: 0.0000e+00\n",
      "Epoch 7/10\n",
      "11/11 [==============================] - 243s 23s/step - loss: 0.7347 - accuracy: 0.4901 - auc: 0.5000 - precision: 0.0000e+00 - recall: 0.0000e+00 - val_loss: 0.7288 - val_accuracy: 0.4661 - val_auc: 0.5000 - val_precision: 0.0000e+00 - val_recall: 0.0000e+00\n",
      "Epoch 8/10\n",
      "11/11 [==============================] - 246s 23s/step - loss: 0.7187 - accuracy: 0.4961 - auc: 0.5000 - precision: 0.0000e+00 - recall: 0.0000e+00 - val_loss: 0.7076 - val_accuracy: 0.5156 - val_auc: 0.5000 - val_precision: 0.0000e+00 - val_recall: 0.0000e+00\n",
      "Epoch 9/10\n",
      "11/11 [==============================] - 252s 23s/step - loss: 0.7015 - accuracy: 0.4963 - auc: 0.4996 - precision: 0.0000e+00 - recall: 0.0000e+00 - val_loss: 0.6894 - val_accuracy: 0.5273 - val_auc: 0.5000 - val_precision: 0.0000e+00 - val_recall: 0.0000e+00\n",
      "Epoch 10/10\n",
      "11/11 [==============================] - 259s 24s/step - loss: 0.6851 - accuracy: 0.4911 - auc: 0.5000 - precision: 0.0000e+00 - recall: 0.0000e+00 - val_loss: 0.6785 - val_accuracy: 0.4661 - val_auc: 0.5000 - val_precision: 0.0000e+00 - val_recall: 0.0000e+00\n"
     ]
    }
   ],
   "source": [
    "history_siamese_resnet50_model_batch32_reg = siamese_resnet50_model_batch32_reg.fit(custom_data_generator(train_generator_batch32, num_classes, num_pairs_per_batch),\n",
    "                            steps_per_epoch=train_num_batches_per_epoch,\n",
    "                            validation_data=custom_data_generator(val_generator_batch32, num_classes, num_pairs_per_batch),\n",
    "                            validation_steps=val_num_batches_per_epoch,\n",
    "                            epochs=10)"
   ]
  },
  {
   "cell_type": "markdown",
   "metadata": {},
   "source": [
    "The result stays the same"
   ]
  },
  {
   "cell_type": "markdown",
   "metadata": {},
   "source": [
    "### Model 7: Base network ResNet50 + 5% of dataset + margin of 1.5 + batch_size 32 "
   ]
  },
  {
   "cell_type": "markdown",
   "metadata": {},
   "source": [
    "In this model, we will increase the margin to 1.5"
   ]
  },
  {
   "cell_type": "code",
   "execution_count": 185,
   "metadata": {},
   "outputs": [],
   "source": [
    "# Define the batch size and number of pairs per batch\n",
    "batch_size = 32\n",
    "num_pairs_per_batch = batch_size // 2  # Create half positive and half negative pairs in each batch\n",
    "# Determine the total number of training, validation, and test pairs\n",
    "total_training_pairs = len(train_generator) * num_pairs_per_batch\n",
    "total_validation_pairs = len(val_generator) * num_pairs_per_batch\n",
    "total_test_pairs = len(test_generator) * num_pairs_per_batch\n",
    "\n",
    "# Define the percentage of training, validation, and test pairs to use in each epoch\n",
    "percentage_to_use = 0.05\n",
    "\n",
    "# Calculate the number of training and validation pairs to use in each epoch\n",
    "train_num_pairs_to_use = int(total_training_pairs * percentage_to_use)\n",
    "val_num_pairs_to_use = int(total_validation_pairs * percentage_to_use)\n",
    "test_num_pairs_to_use = int(total_test_pairs * percentage_to_use)\n",
    "\n",
    "\n",
    "# Calculate the number of batches in each epoch\n",
    "train_num_batches_per_epoch = train_num_pairs_to_use // num_pairs_per_batch\n",
    "val_num_batches_per_epoch = val_num_pairs_to_use // num_pairs_per_batch\n",
    "test_num_batches_per_epoch = test_num_pairs_to_use // num_pairs_per_batch\n",
    "\n",
    "#Define a function to get image pairs from train and validation generator\n",
    "def custom_data_generator(data_generator, num_classes, num_pairs_per_batch):\n",
    "    while True:\n",
    "        # Create pairs and labels for the current batch\n",
    "        pairs, labels = create_siamese_pairs(data_generator, num_classes, num_pairs_per_batch)\n",
    "        yield [pairs[:, 0], pairs[:, 1]], labels"
   ]
  },
  {
   "cell_type": "code",
   "execution_count": 186,
   "metadata": {},
   "outputs": [],
   "source": [
    "def contrastive_loss15(y_true, y_pred):\n",
    "    \"\"\"Calculates the contrastive loss.\n",
    "\n",
    "    Arguments:\n",
    "        y_true: List of labels, each label is of type float32.\n",
    "        y_pred: List of predictions of same length as of y_true,\n",
    "                each label is of type float32.\n",
    "\n",
    "    Returns:\n",
    "        A tensor containing contrastive loss as floating point value.\n",
    "    \"\"\"\n",
    "    y_true = tf.cast(y_true, tf.float32)\n",
    "    y_pred = tf.cast(y_pred, tf.float32)\n",
    "    margin  = 1.5\n",
    "    square_pred = tf.math.square(y_pred)\n",
    "    margin_square = tf.math.square(tf.math.maximum(margin - (y_pred), 0))\n",
    "    return tf.math.reduce_mean(\n",
    "        (1 - y_true) * square_pred + (y_true) * margin_square)"
   ]
  },
  {
   "cell_type": "code",
   "execution_count": 187,
   "metadata": {},
   "outputs": [],
   "source": [
    "# Function to build the siamese model\n",
    "def build_siamese_model_resnet50_reg(input_shape):\n",
    "    # Create the Resnet50 base model\n",
    "    resnet50_base_model = base_model_resnet50(input_shape)\n",
    "    \n",
    "    # Inputs for the two images\n",
    "    input_image1 = Input(shape=input_shape)\n",
    "    input_image2 = Input(shape=input_shape)\n",
    "    \n",
    "    # Process the first image through the VGG16 base model\n",
    "    x1 = resnet50_base_model(input_image1)\n",
    "    x1 = Flatten()(x1)\n",
    "    x1 = Dense(128, activation='relu')(x1)\n",
    "    \n",
    "    # Process the second image through the VGG16 base model\n",
    "    x2 = resnet50_base_model(input_image2)\n",
    "    x2 = Flatten()(x2)\n",
    "    x2 = Dense(128, activation='relu')(x2)\n",
    "    \n",
    "    # Compute the Euclidean distance between the two image embeddings\n",
    "    distance =Lambda(euclid_dis, output_shape=eucl_dist_output_shape)([x1, x2])\n",
    "    \n",
    "    # Create the siamese model\n",
    "    siamese_model = Model(inputs=[input_image1, input_image2], outputs=distance)\n",
    "    \n",
    "    return siamese_model"
   ]
  },
  {
   "cell_type": "code",
   "execution_count": 188,
   "metadata": {},
   "outputs": [],
   "source": [
    "siamese_resnet50_model_batch32_loss15 = build_siamese_model_resnet50((256,256,3))"
   ]
  },
  {
   "cell_type": "code",
   "execution_count": 189,
   "metadata": {},
   "outputs": [],
   "source": [
    "siamese_resnet50_model_batch32_loss15.compile(loss=contrastive_loss03,optimizer='Adam',\n",
    "                  metrics=['accuracy','AUC','Precision','Recall'])"
   ]
  },
  {
   "cell_type": "code",
   "execution_count": 190,
   "metadata": {},
   "outputs": [
    {
     "name": "stdout",
     "output_type": "stream",
     "text": [
      "Epoch 1/10\n",
      "11/11 [==============================] - 408s 37s/step - loss: 1236.2583 - accuracy: 0.4984 - auc: 0.4954 - precision: 0.5026 - recall: 0.5486 - val_loss: 0.0438 - val_accuracy: 0.5117 - val_auc: 0.5040 - val_precision: 1.0000 - val_recall: 0.0027\n",
      "Epoch 2/10\n",
      "11/11 [==============================] - 365s 33s/step - loss: 0.0438 - accuracy: 0.5135 - auc: 0.4979 - precision: 0.0000e+00 - recall: 0.0000e+00 - val_loss: 0.0470 - val_accuracy: 0.4768 - val_auc: 0.5000 - val_precision: 0.0000e+00 - val_recall: 0.0000e+00\n",
      "Epoch 3/10\n",
      "11/11 [==============================] - 258s 24s/step - loss: 7.1681 - accuracy: 0.5110 - auc: 0.5085 - precision: 0.5156 - recall: 0.1895 - val_loss: 0.0446 - val_accuracy: 0.5026 - val_auc: 0.5013 - val_precision: 1.0000 - val_recall: 0.0026\n",
      "Epoch 4/10\n",
      "11/11 [==============================] - 248s 23s/step - loss: 11.5144 - accuracy: 0.5023 - auc: 0.5049 - precision: 0.5176 - recall: 0.1868 - val_loss: 35.8667 - val_accuracy: 0.4993 - val_auc: 0.5000 - val_precision: 0.4993 - val_recall: 1.0000\n",
      "Epoch 5/10\n",
      "11/11 [==============================] - 242s 22s/step - loss: 3.1541 - accuracy: 0.5028 - auc: 0.5017 - precision: 0.5078 - recall: 0.0926 - val_loss: 0.0453 - val_accuracy: 0.4961 - val_auc: 0.5000 - val_precision: 0.0000e+00 - val_recall: 0.0000e+00\n",
      "Epoch 6/10\n",
      "11/11 [==============================] - 241s 22s/step - loss: 7.7345 - accuracy: 0.4948 - auc: 0.5029 - precision: 0.5234 - recall: 0.0934 - val_loss: 0.0449 - val_accuracy: 0.5000 - val_auc: 0.5000 - val_precision: 0.0000e+00 - val_recall: 0.0000e+00\n",
      "Epoch 7/10\n",
      "11/11 [==============================] - 238s 22s/step - loss: 9.2450 - accuracy: 0.4858 - auc: 0.5006 - precision: 0.5195 - recall: 0.0912 - val_loss: 0.0404 - val_accuracy: 0.5495 - val_auc: 0.5014 - val_precision: 0.0000e+00 - val_recall: 0.0000e+00\n",
      "Epoch 8/10\n",
      "11/11 [==============================] - 243s 23s/step - loss: 0.0446 - accuracy: 0.5036 - auc: 0.5000 - precision: 0.0000e+00 - recall: 0.0000e+00 - val_loss: 0.0454 - val_accuracy: 0.4948 - val_auc: 0.5000 - val_precision: 0.0000e+00 - val_recall: 0.0000e+00\n",
      "Epoch 9/10\n",
      "11/11 [==============================] - 232s 22s/step - loss: 0.0453 - accuracy: 0.4959 - auc: 0.5000 - precision: 0.0000e+00 - recall: 0.0000e+00 - val_loss: 0.0454 - val_accuracy: 0.4948 - val_auc: 0.5000 - val_precision: 0.0000e+00 - val_recall: 0.0000e+00\n",
      "Epoch 10/10\n",
      "11/11 [==============================] - 235s 22s/step - loss: 0.0450 - accuracy: 0.4986 - auc: 0.4996 - precision: 0.0000e+00 - recall: 0.0000e+00 - val_loss: 0.0450 - val_accuracy: 0.4987 - val_auc: 0.5000 - val_precision: 0.0000e+00 - val_recall: 0.0000e+00\n"
     ]
    }
   ],
   "source": [
    "history_siamese_resnet50_model_batch32_loss15 = siamese_resnet50_model_batch32_loss15.fit(custom_data_generator(train_generator_batch32, num_classes, num_pairs_per_batch),\n",
    "                            steps_per_epoch=train_num_batches_per_epoch,\n",
    "                            validation_data=custom_data_generator(val_generator_batch32, num_classes, num_pairs_per_batch),\n",
    "                            validation_steps=val_num_batches_per_epoch,\n",
    "                            epochs=10)"
   ]
  },
  {
   "cell_type": "markdown",
   "metadata": {},
   "source": [
    "There is no change in the result."
   ]
  },
  {
   "cell_type": "markdown",
   "metadata": {},
   "source": [
    "### Conclusion"
   ]
  },
  {
   "cell_type": "markdown",
   "metadata": {},
   "source": [
    "As we have made different attempts to improve the model but the result has not been improved. Due to the limitation of time, we will utilize our first model for deployment."
   ]
  },
  {
   "cell_type": "code",
   "execution_count": null,
   "metadata": {},
   "outputs": [],
   "source": []
  }
 ],
 "metadata": {
  "kernelspec": {
   "display_name": "Python 3 (ipykernel)",
   "language": "python",
   "name": "python3"
  },
  "language_info": {
   "codemirror_mode": {
    "name": "ipython",
    "version": 3
   },
   "file_extension": ".py",
   "mimetype": "text/x-python",
   "name": "python",
   "nbconvert_exporter": "python",
   "pygments_lexer": "ipython3",
   "version": "3.10.10"
  }
 },
 "nbformat": 4,
 "nbformat_minor": 2
}
