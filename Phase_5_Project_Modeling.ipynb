{
 "cells": [
  {
   "cell_type": "markdown",
   "metadata": {},
   "source": [
    "# PHASE_5_CAPSTONE_PROJECT"
   ]
  },
  {
   "cell_type": "markdown",
   "metadata": {},
   "source": [
    "# MODELING"
   ]
  },
  {
   "cell_type": "markdown",
   "metadata": {},
   "source": [
    "### Data source:"
   ]
  },
  {
   "cell_type": "markdown",
   "metadata": {},
   "source": [
    "The data source consists of over 44 thousand fashion images from Kaggle.\n",
    "\n",
    "Source link: https://www.kaggle.com/datasets/paramaggarwal/fashion-product-images-dataset"
   ]
  },
  {
   "cell_type": "markdown",
   "metadata": {},
   "source": [
    "### Target:"
   ]
  },
  {
   "cell_type": "markdown",
   "metadata": {},
   "source": [
    "Leverage a dataset comprising more than 24k images across 10 distinct fashion product types, including t-shirts, shirts, casual shoes, watches, sports shoes, kurtas, handbags, heels, sunglasses, and wallets, for image labeling in customer search."
   ]
  },
  {
   "cell_type": "code",
   "execution_count": 44,
   "metadata": {},
   "outputs": [],
   "source": [
    "# !pip install hdf5storage\n"
   ]
  },
  {
   "cell_type": "code",
   "execution_count": 45,
   "metadata": {},
   "outputs": [],
   "source": [
    "import pandas as pd\n",
    "import numpy as np\n",
    "import csv\n",
    "import json\n",
    "import glob\n",
    "import os\n",
    "import shutil\n",
    "import random\n",
    "import pickle\n",
    "import h5py\n",
    "import hdf5storage\n",
    "from sklearn.preprocessing import LabelEncoder\n",
    "import matplotlib.pyplot as plt\n",
    "from sklearn.model_selection import train_test_split\n",
    "import seaborn as sns\n",
    "from sklearn.preprocessing import MultiLabelBinarizer\n",
    "from keras.preprocessing.image import ImageDataGenerator\n",
    "from tensorflow.keras.utils import array_to_img, img_to_array, load_img\n",
    "from IPython.display import display\n",
    "from tensorflow.keras import datasets\n",
    "from tensorflow.keras.utils import to_categorical\n",
    "from tensorflow.keras.models import Sequential\n",
    "from keras import layers\n",
    "from keras.models import Sequential\n",
    "from keras.layers import Reshape\n",
    "from tensorflow.keras.layers import Dropout\n",
    "\n",
    "from tensorflow.keras.layers import Dense # creates densely connected layer object\n",
    "from tensorflow.keras.layers import Flatten # takes 2D input and turns into 1D array\n",
    "from tensorflow.keras.layers import Conv2D # convolution layer\n",
    "from tensorflow.keras.layers import MaxPooling2D # max pooling layer\n",
    "from tensorflow.keras.regularizers import l2\n",
    "from tensorflow.keras.regularizers import L2\n",
    "from tensorflow.keras.layers import Dropout\n",
    "\n",
    "\n",
    "\n",
    "from sklearn.metrics import accuracy_score, confusion_matrix\n",
    "from sklearn.metrics import ConfusionMatrixDisplay, classification_report\n",
    "\n",
    "# a new layer that rescales/normalizes the activations after each layer.\n",
    "# has a weak regularization effect. also allows \n",
    "\n",
    "from tensorflow.keras.layers import BatchNormalization\n",
    "from tensorflow.keras.layers import Activation\n",
    "from tensorflow.keras import layers, regularizers\n",
    "from tensorflow.keras.regularizers import l2\n",
    "from tensorflow.keras.layers import Dropout\n",
    "from keras.models import load_model\n",
    "\n",
    "%matplotlib inline\n"
   ]
  },
  {
   "cell_type": "code",
   "execution_count": 2,
   "metadata": {
    "scrolled": false
   },
   "outputs": [
    {
     "data": {
      "text/html": [
       "<div>\n",
       "<style scoped>\n",
       "    .dataframe tbody tr th:only-of-type {\n",
       "        vertical-align: middle;\n",
       "    }\n",
       "\n",
       "    .dataframe tbody tr th {\n",
       "        vertical-align: top;\n",
       "    }\n",
       "\n",
       "    .dataframe thead th {\n",
       "        text-align: right;\n",
       "    }\n",
       "</style>\n",
       "<table border=\"1\" class=\"dataframe\">\n",
       "  <thead>\n",
       "    <tr style=\"text-align: right;\">\n",
       "      <th></th>\n",
       "      <th>Unnamed: 0</th>\n",
       "      <th>id</th>\n",
       "      <th>brand</th>\n",
       "      <th>gender</th>\n",
       "      <th>year</th>\n",
       "      <th>season</th>\n",
       "      <th>color</th>\n",
       "      <th>usage</th>\n",
       "      <th>division</th>\n",
       "      <th>productgroup</th>\n",
       "      <th>producttype</th>\n",
       "      <th>variantname</th>\n",
       "      <th>productdisplayname</th>\n",
       "    </tr>\n",
       "  </thead>\n",
       "  <tbody>\n",
       "    <tr>\n",
       "      <th>0</th>\n",
       "      <td>0</td>\n",
       "      <td>57896</td>\n",
       "      <td>Femella</td>\n",
       "      <td>Women</td>\n",
       "      <td>2012.0</td>\n",
       "      <td>Summer</td>\n",
       "      <td>Off White</td>\n",
       "      <td>Casual</td>\n",
       "      <td>Apparel</td>\n",
       "      <td>Bottomwear</td>\n",
       "      <td>Shorts</td>\n",
       "      <td>Summer Pleated Short</td>\n",
       "      <td>Femella Women Off White Shorts</td>\n",
       "    </tr>\n",
       "    <tr>\n",
       "      <th>1</th>\n",
       "      <td>1</td>\n",
       "      <td>37297</td>\n",
       "      <td>CASIO</td>\n",
       "      <td>Men</td>\n",
       "      <td>2016.0</td>\n",
       "      <td>Winter</td>\n",
       "      <td>Black</td>\n",
       "      <td>Casual</td>\n",
       "      <td>Accessories</td>\n",
       "      <td>Watches</td>\n",
       "      <td>Watches</td>\n",
       "      <td>CASIO</td>\n",
       "      <td>Casio Enticer Men Black Analogue Watches (A504...</td>\n",
       "    </tr>\n",
       "    <tr>\n",
       "      <th>2</th>\n",
       "      <td>2</td>\n",
       "      <td>3721</td>\n",
       "      <td>Lee</td>\n",
       "      <td>Men</td>\n",
       "      <td>2011.0</td>\n",
       "      <td>Summer</td>\n",
       "      <td>Black</td>\n",
       "      <td>Casual</td>\n",
       "      <td>Accessories</td>\n",
       "      <td>Belts</td>\n",
       "      <td>Belts</td>\n",
       "      <td>Lee mens black canvas belt</td>\n",
       "      <td>Lee Men Black Canvas Belt</td>\n",
       "    </tr>\n",
       "    <tr>\n",
       "      <th>3</th>\n",
       "      <td>3</td>\n",
       "      <td>51041</td>\n",
       "      <td>Enamor</td>\n",
       "      <td>Women</td>\n",
       "      <td>2017.0</td>\n",
       "      <td>Summer</td>\n",
       "      <td>White</td>\n",
       "      <td>Casual</td>\n",
       "      <td>Apparel</td>\n",
       "      <td>Innerwear</td>\n",
       "      <td>Briefs</td>\n",
       "      <td>DRESSUP02</td>\n",
       "      <td>Enamor Women Ivory Coloured Briefs</td>\n",
       "    </tr>\n",
       "    <tr>\n",
       "      <th>4</th>\n",
       "      <td>4</td>\n",
       "      <td>2833</td>\n",
       "      <td>Lee Cooper</td>\n",
       "      <td>Men</td>\n",
       "      <td>2012.0</td>\n",
       "      <td>Summer</td>\n",
       "      <td>Black</td>\n",
       "      <td>Casual</td>\n",
       "      <td>Footwear</td>\n",
       "      <td>Shoes</td>\n",
       "      <td>Casual Shoes</td>\n",
       "      <td>Lee cooper black Casual Leather shoes Darknight</td>\n",
       "      <td>Lee Cooper Men's Casual Leather Darknight Blac...</td>\n",
       "    </tr>\n",
       "    <tr>\n",
       "      <th>...</th>\n",
       "      <td>...</td>\n",
       "      <td>...</td>\n",
       "      <td>...</td>\n",
       "      <td>...</td>\n",
       "      <td>...</td>\n",
       "      <td>...</td>\n",
       "      <td>...</td>\n",
       "      <td>...</td>\n",
       "      <td>...</td>\n",
       "      <td>...</td>\n",
       "      <td>...</td>\n",
       "      <td>...</td>\n",
       "      <td>...</td>\n",
       "    </tr>\n",
       "    <tr>\n",
       "      <th>44441</th>\n",
       "      <td>44441</td>\n",
       "      <td>35401</td>\n",
       "      <td>Stens by Enroute</td>\n",
       "      <td>Men</td>\n",
       "      <td>2012.0</td>\n",
       "      <td>Summer</td>\n",
       "      <td>Brown</td>\n",
       "      <td>Casual</td>\n",
       "      <td>Footwear</td>\n",
       "      <td>Shoes</td>\n",
       "      <td>Casual Shoes</td>\n",
       "      <td>Casual Shoe</td>\n",
       "      <td>Stens by Enroute Men Brown Shoes</td>\n",
       "    </tr>\n",
       "    <tr>\n",
       "      <th>44442</th>\n",
       "      <td>44442</td>\n",
       "      <td>48131</td>\n",
       "      <td>Fossil</td>\n",
       "      <td>Women</td>\n",
       "      <td>2012.0</td>\n",
       "      <td>Summer</td>\n",
       "      <td>Pink</td>\n",
       "      <td>Casual</td>\n",
       "      <td>Accessories</td>\n",
       "      <td>Bags</td>\n",
       "      <td>Handbags</td>\n",
       "      <td>CONVERTIBLE MINI  BERRY</td>\n",
       "      <td>Fossil Women Pink Bags</td>\n",
       "    </tr>\n",
       "    <tr>\n",
       "      <th>44443</th>\n",
       "      <td>44443</td>\n",
       "      <td>7960</td>\n",
       "      <td>Puma</td>\n",
       "      <td>Men</td>\n",
       "      <td>2011.0</td>\n",
       "      <td>Fall</td>\n",
       "      <td>Green</td>\n",
       "      <td>Sports</td>\n",
       "      <td>Apparel</td>\n",
       "      <td>Topwear</td>\n",
       "      <td>Tshirts</td>\n",
       "      <td>Large Logo Graphic Tee</td>\n",
       "      <td>Puma Men's Large Logo Graphic Green T-shirt</td>\n",
       "    </tr>\n",
       "    <tr>\n",
       "      <th>44444</th>\n",
       "      <td>44444</td>\n",
       "      <td>54112</td>\n",
       "      <td>Rocia</td>\n",
       "      <td>Women</td>\n",
       "      <td>2012.0</td>\n",
       "      <td>Winter</td>\n",
       "      <td>Black</td>\n",
       "      <td>Casual</td>\n",
       "      <td>Footwear</td>\n",
       "      <td>Shoes</td>\n",
       "      <td>Flats</td>\n",
       "      <td>ROCIA  BEIGE Sandal</td>\n",
       "      <td>Rocia Women Black Flats</td>\n",
       "    </tr>\n",
       "    <tr>\n",
       "      <th>44445</th>\n",
       "      <td>44445</td>\n",
       "      <td>29422</td>\n",
       "      <td>GIORDANO</td>\n",
       "      <td>Men</td>\n",
       "      <td>2016.0</td>\n",
       "      <td>Winter</td>\n",
       "      <td>Gold</td>\n",
       "      <td>Formal</td>\n",
       "      <td>Accessories</td>\n",
       "      <td>Watches</td>\n",
       "      <td>Watches</td>\n",
       "      <td>Casual</td>\n",
       "      <td>Giordano Men Gold &amp; Black Dial Watch</td>\n",
       "    </tr>\n",
       "  </tbody>\n",
       "</table>\n",
       "<p>44446 rows × 13 columns</p>\n",
       "</div>"
      ],
      "text/plain": [
       "       Unnamed: 0     id             brand gender    year  season      color  \\\n",
       "0               0  57896           Femella  Women  2012.0  Summer  Off White   \n",
       "1               1  37297             CASIO    Men  2016.0  Winter      Black   \n",
       "2               2   3721               Lee    Men  2011.0  Summer      Black   \n",
       "3               3  51041            Enamor  Women  2017.0  Summer      White   \n",
       "4               4   2833        Lee Cooper    Men  2012.0  Summer      Black   \n",
       "...           ...    ...               ...    ...     ...     ...        ...   \n",
       "44441       44441  35401  Stens by Enroute    Men  2012.0  Summer      Brown   \n",
       "44442       44442  48131            Fossil  Women  2012.0  Summer       Pink   \n",
       "44443       44443   7960              Puma    Men  2011.0    Fall      Green   \n",
       "44444       44444  54112             Rocia  Women  2012.0  Winter      Black   \n",
       "44445       44445  29422          GIORDANO    Men  2016.0  Winter       Gold   \n",
       "\n",
       "        usage     division productgroup   producttype  \\\n",
       "0      Casual      Apparel   Bottomwear        Shorts   \n",
       "1      Casual  Accessories      Watches       Watches   \n",
       "2      Casual  Accessories        Belts         Belts   \n",
       "3      Casual      Apparel    Innerwear        Briefs   \n",
       "4      Casual     Footwear        Shoes  Casual Shoes   \n",
       "...       ...          ...          ...           ...   \n",
       "44441  Casual     Footwear        Shoes  Casual Shoes   \n",
       "44442  Casual  Accessories         Bags      Handbags   \n",
       "44443  Sports      Apparel      Topwear       Tshirts   \n",
       "44444  Casual     Footwear        Shoes         Flats   \n",
       "44445  Formal  Accessories      Watches       Watches   \n",
       "\n",
       "                                           variantname  \\\n",
       "0                                 Summer Pleated Short   \n",
       "1                                                CASIO   \n",
       "2                           Lee mens black canvas belt   \n",
       "3                                            DRESSUP02   \n",
       "4      Lee cooper black Casual Leather shoes Darknight   \n",
       "...                                                ...   \n",
       "44441                                      Casual Shoe   \n",
       "44442                          CONVERTIBLE MINI  BERRY   \n",
       "44443                           Large Logo Graphic Tee   \n",
       "44444                              ROCIA  BEIGE Sandal   \n",
       "44445                                           Casual   \n",
       "\n",
       "                                      productdisplayname  \n",
       "0                         Femella Women Off White Shorts  \n",
       "1      Casio Enticer Men Black Analogue Watches (A504...  \n",
       "2                              Lee Men Black Canvas Belt  \n",
       "3                     Enamor Women Ivory Coloured Briefs  \n",
       "4      Lee Cooper Men's Casual Leather Darknight Blac...  \n",
       "...                                                  ...  \n",
       "44441                   Stens by Enroute Men Brown Shoes  \n",
       "44442                             Fossil Women Pink Bags  \n",
       "44443        Puma Men's Large Logo Graphic Green T-shirt  \n",
       "44444                            Rocia Women Black Flats  \n",
       "44445               Giordano Men Gold & Black Dial Watch  \n",
       "\n",
       "[44446 rows x 13 columns]"
      ]
     },
     "execution_count": 2,
     "metadata": {},
     "output_type": "execute_result"
    }
   ],
   "source": [
    "attributes = pd.read_csv('/Users/thaophan/Documents/Flatiron/Phase5_Project/product_attributes.csv')\n",
    "attributes"
   ]
  },
  {
   "cell_type": "code",
   "execution_count": 4,
   "metadata": {},
   "outputs": [
    {
     "data": {
      "text/html": [
       "<div>\n",
       "<style scoped>\n",
       "    .dataframe tbody tr th:only-of-type {\n",
       "        vertical-align: middle;\n",
       "    }\n",
       "\n",
       "    .dataframe tbody tr th {\n",
       "        vertical-align: top;\n",
       "    }\n",
       "\n",
       "    .dataframe thead th {\n",
       "        text-align: right;\n",
       "    }\n",
       "</style>\n",
       "<table border=\"1\" class=\"dataframe\">\n",
       "  <thead>\n",
       "    <tr style=\"text-align: right;\">\n",
       "      <th></th>\n",
       "      <th>producttype</th>\n",
       "      <th>count</th>\n",
       "    </tr>\n",
       "  </thead>\n",
       "  <tbody>\n",
       "    <tr>\n",
       "      <th>0</th>\n",
       "      <td>Tshirts</td>\n",
       "      <td>7070</td>\n",
       "    </tr>\n",
       "    <tr>\n",
       "      <th>1</th>\n",
       "      <td>Shirts</td>\n",
       "      <td>3217</td>\n",
       "    </tr>\n",
       "    <tr>\n",
       "      <th>2</th>\n",
       "      <td>Casual Shoes</td>\n",
       "      <td>2846</td>\n",
       "    </tr>\n",
       "    <tr>\n",
       "      <th>3</th>\n",
       "      <td>Watches</td>\n",
       "      <td>2542</td>\n",
       "    </tr>\n",
       "    <tr>\n",
       "      <th>4</th>\n",
       "      <td>Sports Shoes</td>\n",
       "      <td>2036</td>\n",
       "    </tr>\n",
       "    <tr>\n",
       "      <th>...</th>\n",
       "      <td>...</td>\n",
       "      <td>...</td>\n",
       "    </tr>\n",
       "    <tr>\n",
       "      <th>138</th>\n",
       "      <td>Ipad</td>\n",
       "      <td>1</td>\n",
       "    </tr>\n",
       "    <tr>\n",
       "      <th>139</th>\n",
       "      <td>Suits</td>\n",
       "      <td>1</td>\n",
       "    </tr>\n",
       "    <tr>\n",
       "      <th>140</th>\n",
       "      <td>Mens Grooming Kit</td>\n",
       "      <td>1</td>\n",
       "    </tr>\n",
       "    <tr>\n",
       "      <th>141</th>\n",
       "      <td>Shoe Laces</td>\n",
       "      <td>1</td>\n",
       "    </tr>\n",
       "    <tr>\n",
       "      <th>142</th>\n",
       "      <td>Body Wash and Scrub</td>\n",
       "      <td>1</td>\n",
       "    </tr>\n",
       "  </tbody>\n",
       "</table>\n",
       "<p>143 rows × 2 columns</p>\n",
       "</div>"
      ],
      "text/plain": [
       "             producttype  count\n",
       "0                Tshirts   7070\n",
       "1                 Shirts   3217\n",
       "2           Casual Shoes   2846\n",
       "3                Watches   2542\n",
       "4           Sports Shoes   2036\n",
       "..                   ...    ...\n",
       "138                 Ipad      1\n",
       "139                Suits      1\n",
       "140    Mens Grooming Kit      1\n",
       "141           Shoe Laces      1\n",
       "142  Body Wash and Scrub      1\n",
       "\n",
       "[143 rows x 2 columns]"
      ]
     },
     "execution_count": 4,
     "metadata": {},
     "output_type": "execute_result"
    }
   ],
   "source": [
    "producttype_counts = attributes.producttype.value_counts()\n",
    "producttype_counts_df = producttype_counts.reset_index()\n",
    "producttype_counts_df.columns = ['producttype', 'count']\n",
    "producttype_counts_df"
   ]
  },
  {
   "cell_type": "code",
   "execution_count": 5,
   "metadata": {},
   "outputs": [
    {
     "data": {
      "text/html": [
       "<div>\n",
       "<style scoped>\n",
       "    .dataframe tbody tr th:only-of-type {\n",
       "        vertical-align: middle;\n",
       "    }\n",
       "\n",
       "    .dataframe tbody tr th {\n",
       "        vertical-align: top;\n",
       "    }\n",
       "\n",
       "    .dataframe thead th {\n",
       "        text-align: right;\n",
       "    }\n",
       "</style>\n",
       "<table border=\"1\" class=\"dataframe\">\n",
       "  <thead>\n",
       "    <tr style=\"text-align: right;\">\n",
       "      <th></th>\n",
       "      <th>producttype</th>\n",
       "      <th>count</th>\n",
       "    </tr>\n",
       "  </thead>\n",
       "  <tbody>\n",
       "    <tr>\n",
       "      <th>0</th>\n",
       "      <td>Tshirts</td>\n",
       "      <td>7070</td>\n",
       "    </tr>\n",
       "    <tr>\n",
       "      <th>1</th>\n",
       "      <td>Shirts</td>\n",
       "      <td>3217</td>\n",
       "    </tr>\n",
       "    <tr>\n",
       "      <th>2</th>\n",
       "      <td>Casual Shoes</td>\n",
       "      <td>2846</td>\n",
       "    </tr>\n",
       "    <tr>\n",
       "      <th>3</th>\n",
       "      <td>Watches</td>\n",
       "      <td>2542</td>\n",
       "    </tr>\n",
       "    <tr>\n",
       "      <th>4</th>\n",
       "      <td>Sports Shoes</td>\n",
       "      <td>2036</td>\n",
       "    </tr>\n",
       "    <tr>\n",
       "      <th>5</th>\n",
       "      <td>Kurtas</td>\n",
       "      <td>1844</td>\n",
       "    </tr>\n",
       "    <tr>\n",
       "      <th>6</th>\n",
       "      <td>Tops</td>\n",
       "      <td>1762</td>\n",
       "    </tr>\n",
       "    <tr>\n",
       "      <th>7</th>\n",
       "      <td>Handbags</td>\n",
       "      <td>1759</td>\n",
       "    </tr>\n",
       "    <tr>\n",
       "      <th>8</th>\n",
       "      <td>Heels</td>\n",
       "      <td>1323</td>\n",
       "    </tr>\n",
       "    <tr>\n",
       "      <th>9</th>\n",
       "      <td>Sunglasses</td>\n",
       "      <td>1073</td>\n",
       "    </tr>\n",
       "    <tr>\n",
       "      <th>10</th>\n",
       "      <td>Wallets</td>\n",
       "      <td>936</td>\n",
       "    </tr>\n",
       "  </tbody>\n",
       "</table>\n",
       "</div>"
      ],
      "text/plain": [
       "     producttype  count\n",
       "0        Tshirts   7070\n",
       "1         Shirts   3217\n",
       "2   Casual Shoes   2846\n",
       "3        Watches   2542\n",
       "4   Sports Shoes   2036\n",
       "5         Kurtas   1844\n",
       "6           Tops   1762\n",
       "7       Handbags   1759\n",
       "8          Heels   1323\n",
       "9     Sunglasses   1073\n",
       "10       Wallets    936"
      ]
     },
     "execution_count": 5,
     "metadata": {},
     "output_type": "execute_result"
    }
   ],
   "source": [
    "producttype_counts_df[producttype_counts_df['count'] >=930]"
   ]
  },
  {
   "cell_type": "code",
   "execution_count": 6,
   "metadata": {},
   "outputs": [],
   "source": [
    "class_list = producttype_counts_df[producttype_counts_df['count'] >=930].drop(index=6)"
   ]
  },
  {
   "cell_type": "code",
   "execution_count": 7,
   "metadata": {
    "scrolled": true
   },
   "outputs": [
    {
     "data": {
      "text/html": [
       "<div>\n",
       "<style scoped>\n",
       "    .dataframe tbody tr th:only-of-type {\n",
       "        vertical-align: middle;\n",
       "    }\n",
       "\n",
       "    .dataframe tbody tr th {\n",
       "        vertical-align: top;\n",
       "    }\n",
       "\n",
       "    .dataframe thead th {\n",
       "        text-align: right;\n",
       "    }\n",
       "</style>\n",
       "<table border=\"1\" class=\"dataframe\">\n",
       "  <thead>\n",
       "    <tr style=\"text-align: right;\">\n",
       "      <th></th>\n",
       "      <th>id</th>\n",
       "      <th>producttype</th>\n",
       "    </tr>\n",
       "  </thead>\n",
       "  <tbody>\n",
       "    <tr>\n",
       "      <th>1</th>\n",
       "      <td>37297</td>\n",
       "      <td>Watches</td>\n",
       "    </tr>\n",
       "    <tr>\n",
       "      <th>4</th>\n",
       "      <td>2833</td>\n",
       "      <td>Casual Shoes</td>\n",
       "    </tr>\n",
       "    <tr>\n",
       "      <th>5</th>\n",
       "      <td>29289</td>\n",
       "      <td>Shirts</td>\n",
       "    </tr>\n",
       "    <tr>\n",
       "      <th>6</th>\n",
       "      <td>49888</td>\n",
       "      <td>Watches</td>\n",
       "    </tr>\n",
       "    <tr>\n",
       "      <th>7</th>\n",
       "      <td>23684</td>\n",
       "      <td>Wallets</td>\n",
       "    </tr>\n",
       "    <tr>\n",
       "      <th>...</th>\n",
       "      <td>...</td>\n",
       "      <td>...</td>\n",
       "    </tr>\n",
       "    <tr>\n",
       "      <th>44440</th>\n",
       "      <td>19094</td>\n",
       "      <td>Kurtas</td>\n",
       "    </tr>\n",
       "    <tr>\n",
       "      <th>44441</th>\n",
       "      <td>35401</td>\n",
       "      <td>Casual Shoes</td>\n",
       "    </tr>\n",
       "    <tr>\n",
       "      <th>44442</th>\n",
       "      <td>48131</td>\n",
       "      <td>Handbags</td>\n",
       "    </tr>\n",
       "    <tr>\n",
       "      <th>44443</th>\n",
       "      <td>7960</td>\n",
       "      <td>Tshirts</td>\n",
       "    </tr>\n",
       "    <tr>\n",
       "      <th>44445</th>\n",
       "      <td>29422</td>\n",
       "      <td>Watches</td>\n",
       "    </tr>\n",
       "  </tbody>\n",
       "</table>\n",
       "<p>24646 rows × 2 columns</p>\n",
       "</div>"
      ],
      "text/plain": [
       "          id   producttype\n",
       "1      37297       Watches\n",
       "4       2833  Casual Shoes\n",
       "5      29289        Shirts\n",
       "6      49888       Watches\n",
       "7      23684       Wallets\n",
       "...      ...           ...\n",
       "44440  19094        Kurtas\n",
       "44441  35401  Casual Shoes\n",
       "44442  48131      Handbags\n",
       "44443   7960       Tshirts\n",
       "44445  29422       Watches\n",
       "\n",
       "[24646 rows x 2 columns]"
      ]
     },
     "execution_count": 7,
     "metadata": {},
     "output_type": "execute_result"
    }
   ],
   "source": [
    "class_df = attributes[attributes['producttype'].isin(list(class_list.producttype.unique()))][['id','producttype']]\n",
    "class_df"
   ]
  },
  {
   "cell_type": "code",
   "execution_count": 8,
   "metadata": {},
   "outputs": [
    {
     "data": {
      "text/html": [
       "<div>\n",
       "<style scoped>\n",
       "    .dataframe tbody tr th:only-of-type {\n",
       "        vertical-align: middle;\n",
       "    }\n",
       "\n",
       "    .dataframe tbody tr th {\n",
       "        vertical-align: top;\n",
       "    }\n",
       "\n",
       "    .dataframe thead th {\n",
       "        text-align: right;\n",
       "    }\n",
       "</style>\n",
       "<table border=\"1\" class=\"dataframe\">\n",
       "  <thead>\n",
       "    <tr style=\"text-align: right;\">\n",
       "      <th></th>\n",
       "      <th>id</th>\n",
       "      <th>producttype</th>\n",
       "      <th>image_id</th>\n",
       "    </tr>\n",
       "  </thead>\n",
       "  <tbody>\n",
       "    <tr>\n",
       "      <th>1</th>\n",
       "      <td>37297</td>\n",
       "      <td>Watches</td>\n",
       "      <td>37297.jpg</td>\n",
       "    </tr>\n",
       "    <tr>\n",
       "      <th>4</th>\n",
       "      <td>2833</td>\n",
       "      <td>Casual Shoes</td>\n",
       "      <td>2833.jpg</td>\n",
       "    </tr>\n",
       "    <tr>\n",
       "      <th>5</th>\n",
       "      <td>29289</td>\n",
       "      <td>Shirts</td>\n",
       "      <td>29289.jpg</td>\n",
       "    </tr>\n",
       "    <tr>\n",
       "      <th>6</th>\n",
       "      <td>49888</td>\n",
       "      <td>Watches</td>\n",
       "      <td>49888.jpg</td>\n",
       "    </tr>\n",
       "    <tr>\n",
       "      <th>7</th>\n",
       "      <td>23684</td>\n",
       "      <td>Wallets</td>\n",
       "      <td>23684.jpg</td>\n",
       "    </tr>\n",
       "    <tr>\n",
       "      <th>...</th>\n",
       "      <td>...</td>\n",
       "      <td>...</td>\n",
       "      <td>...</td>\n",
       "    </tr>\n",
       "    <tr>\n",
       "      <th>44440</th>\n",
       "      <td>19094</td>\n",
       "      <td>Kurtas</td>\n",
       "      <td>19094.jpg</td>\n",
       "    </tr>\n",
       "    <tr>\n",
       "      <th>44441</th>\n",
       "      <td>35401</td>\n",
       "      <td>Casual Shoes</td>\n",
       "      <td>35401.jpg</td>\n",
       "    </tr>\n",
       "    <tr>\n",
       "      <th>44442</th>\n",
       "      <td>48131</td>\n",
       "      <td>Handbags</td>\n",
       "      <td>48131.jpg</td>\n",
       "    </tr>\n",
       "    <tr>\n",
       "      <th>44443</th>\n",
       "      <td>7960</td>\n",
       "      <td>Tshirts</td>\n",
       "      <td>7960.jpg</td>\n",
       "    </tr>\n",
       "    <tr>\n",
       "      <th>44445</th>\n",
       "      <td>29422</td>\n",
       "      <td>Watches</td>\n",
       "      <td>29422.jpg</td>\n",
       "    </tr>\n",
       "  </tbody>\n",
       "</table>\n",
       "<p>24646 rows × 3 columns</p>\n",
       "</div>"
      ],
      "text/plain": [
       "          id   producttype   image_id\n",
       "1      37297       Watches  37297.jpg\n",
       "4       2833  Casual Shoes   2833.jpg\n",
       "5      29289        Shirts  29289.jpg\n",
       "6      49888       Watches  49888.jpg\n",
       "7      23684       Wallets  23684.jpg\n",
       "...      ...           ...        ...\n",
       "44440  19094        Kurtas  19094.jpg\n",
       "44441  35401  Casual Shoes  35401.jpg\n",
       "44442  48131      Handbags  48131.jpg\n",
       "44443   7960       Tshirts   7960.jpg\n",
       "44445  29422       Watches  29422.jpg\n",
       "\n",
       "[24646 rows x 3 columns]"
      ]
     },
     "execution_count": 8,
     "metadata": {},
     "output_type": "execute_result"
    }
   ],
   "source": [
    "class_df.loc[:,'image_id'] = class_df['id'].astype(str) + \".jpg\"\n",
    "class_df"
   ]
  },
  {
   "cell_type": "code",
   "execution_count": 9,
   "metadata": {},
   "outputs": [],
   "source": [
    "class_0_tshirt_list = list(class_df[(class_df['producttype']==\"Tshirts\")]['image_id'])\n",
    "class_1_shirt_list = list(class_df[(class_df['producttype']==\"Shirts\")]['image_id'])\n",
    "class_2_casualshoes_list = list(class_df[(class_df['producttype']==\"Casual Shoes\")]['image_id'])\n",
    "class_3_watches_list = list(class_df[(class_df['producttype']==\"Watches\")]['image_id'])\n",
    "class_4_sportsshoes_list = list(class_df[(class_df['producttype']==\"Sports Shoes\")]['image_id'])\n",
    "class_5_kurtas_list = list(class_df[(class_df['producttype']==\"Kurtas\")]['image_id'])\n",
    "class_6_handbags_list = list(class_df[(class_df['producttype']==\"Handbags\")]['image_id'])\n",
    "class_7_heels_list = list(class_df[(class_df['producttype']==\"Heels\")]['image_id'])\n",
    "class_8_sunglasses_list = list(class_df[(class_df['producttype']==\"Sunglasses\")]['image_id'])\n",
    "class_9_wallets_list = list(class_df[(class_df['producttype']==\"Wallets\")]['image_id'])"
   ]
  },
  {
   "cell_type": "code",
   "execution_count": 10,
   "metadata": {},
   "outputs": [],
   "source": [
    "class_list_all = [class_0_tshirt_list,class_1_shirt_list,class_2_casualshoes_list,class_3_watches_list,class_4_sportsshoes_list,class_5_kurtas_list,class_6_handbags_list,class_7_heels_list,class_8_sunglasses_list,class_9_wallets_list]"
   ]
  },
  {
   "cell_type": "code",
   "execution_count": 11,
   "metadata": {},
   "outputs": [],
   "source": [
    "class_folder_all =['/Users/thaophan/Documents/Flatiron/Phase5_Project/Class/Class_0',\n",
    "                  '/Users/thaophan/Documents/Flatiron/Phase5_Project/Class/Class_1',\n",
    "                  '/Users/thaophan/Documents/Flatiron/Phase5_Project/Class/Class_2',\n",
    "                   '/Users/thaophan/Documents/Flatiron/Phase5_Project/Class/Class_3',\n",
    "                   '/Users/thaophan/Documents/Flatiron/Phase5_Project/Class/Class_4',\n",
    "                   '/Users/thaophan/Documents/Flatiron/Phase5_Project/Class/Class_5',\n",
    "                   '/Users/thaophan/Documents/Flatiron/Phase5_Project/Class/Class_6',\n",
    "                   '/Users/thaophan/Documents/Flatiron/Phase5_Project/Class/Class_7',\n",
    "                   '/Users/thaophan/Documents/Flatiron/Phase5_Project/Class/Class_8',\n",
    "                   '/Users/thaophan/Documents/Flatiron/Phase5_Project/Class/Class_9',\n",
    "]"
   ]
  },
  {
   "cell_type": "code",
   "execution_count": null,
   "metadata": {},
   "outputs": [],
   "source": []
  },
  {
   "cell_type": "code",
   "execution_count": null,
   "metadata": {},
   "outputs": [],
   "source": []
  },
  {
   "cell_type": "code",
   "execution_count": 20,
   "metadata": {},
   "outputs": [
    {
     "name": "stdout",
     "output_type": "stream",
     "text": [
      "Found 14782 images belonging to 10 classes.\n",
      "Found 4926 images belonging to 10 classes.\n",
      "Found 4935 images belonging to 10 classes.\n"
     ]
    }
   ],
   "source": [
    "# Directory path\n",
    "train_data_dir_sample = '/Users/thaophan/Documents/Flatiron/Phase5_Project/Train_Test_Validation/Train'\n",
    "val_data_dir_sample = '/Users/thaophan/Documents/Flatiron/Phase5_Project/Train_Test_Validation/Test'\n",
    "test_data_dir_sample = '/Users/thaophan/Documents/Flatiron/Phase5_Project/Train_Test_Validation/Validation'\n",
    "\n",
    "image_size = (256, 256)\n",
    "num_classes = 10\n",
    "\n",
    "train_datagen = ImageDataGenerator(rescale=1./255, \n",
    "                                   rotation_range=40, \n",
    "                                   width_shift_range=0.2, \n",
    "                                   height_shift_range=0.2, \n",
    "                                   shear_range=0.3, \n",
    "                                   zoom_range=0.1, \n",
    "                                   horizontal_flip=False)\n",
    " \n",
    "val_datagen = ImageDataGenerator(rescale = 1/255) # Only rescale for the val set\n",
    "\n",
    "test_datagen = ImageDataGenerator(rescale = 1/255) # Only rescale for the test set\n",
    "\n",
    "\n",
    "train_generator = train_datagen.flow_from_directory(directory=train_data_dir_sample, target_size = image_size,\n",
    "                                                   class_mode='categorical',\n",
    "                                                    batch_size=64,\n",
    "                                                    shuffle=True,\n",
    "                                                    classes=[str(i) for i in range(num_classes)])\n",
    "\n",
    "val_generator = val_datagen.flow_from_directory(directory=val_data_dir_sample, target_size = image_size,\n",
    "                                                   class_mode='categorical',\n",
    "                                                    batch_size=64,\n",
    "                                                shuffle=True,\n",
    "                                                  classes=[str(i) for i in range(num_classes)])\n",
    "\n",
    "test_generator = test_datagen.flow_from_directory(directory=test_data_dir_sample, target_size = image_size,\n",
    "                                                    class_mode='categorical',\n",
    "                                                   batch_size=64,\n",
    "                                                  shuffle=False,\n",
    "                                                  classes=[str(i) for i in range(num_classes)])"
   ]
  },
  {
   "cell_type": "markdown",
   "metadata": {},
   "source": [
    "### 1st CNN model"
   ]
  },
  {
   "cell_type": "code",
   "execution_count": 21,
   "metadata": {},
   "outputs": [],
   "source": [
    "cnn_model = Sequential()\n",
    "cnn_model.add(layers.Conv2D(32, (3, 3), activation='relu', input_shape=(256, 256, 3)))\n",
    "cnn_model.add(layers.MaxPooling2D(2, 2))\n",
    "cnn_model.add(layers.Conv2D(64, (3, 3), activation='relu'))\n",
    "cnn_model.add(layers.MaxPooling2D(2, 2))\n",
    "cnn_model.add(layers.Conv2D(128, (3, 3), activation='relu'))\n",
    "cnn_model.add(layers.MaxPooling2D(2, 2))\n",
    "cnn_model.add(layers.Conv2D(256, (3, 3), activation='relu'))\n",
    "cnn_model.add(layers.MaxPooling2D(2, 2))\n",
    "cnn_model.add(layers.Flatten())\n",
    "cnn_model.add(layers.Dense(128, activation='relu'))\n",
    "cnn_model.add(layers.Dense(10, activation='softmax'))\n"
   ]
  },
  {
   "cell_type": "code",
   "execution_count": 22,
   "metadata": {},
   "outputs": [],
   "source": [
    "cnn_model.compile(loss='categorical_crossentropy',\n",
    "                  optimizer='Adam',\n",
    "                  metrics=['accuracy','AUC','Precision','Recall'])"
   ]
  },
  {
   "cell_type": "code",
   "execution_count": 23,
   "metadata": {},
   "outputs": [
    {
     "name": "stdout",
     "output_type": "stream",
     "text": [
      "Epoch 1/50\n",
      "231/231 [==============================] - 2260s 10s/step - loss: 1.5640 - accuracy: 0.4297 - auc: 0.8543 - precision: 0.6699 - recall: 0.2176 - val_loss: 0.8337 - val_accuracy: 0.7081 - val_auc: 0.9602 - val_precision: 0.7766 - val_recall: 0.6153\n",
      "Epoch 2/50\n",
      "231/231 [==============================] - 340s 1s/step - loss: 0.8954 - accuracy: 0.6664 - auc: 0.9550 - precision: 0.7695 - recall: 0.5523 - val_loss: 0.4999 - val_accuracy: 0.8313 - val_auc: 0.9851 - val_precision: 0.8742 - val_recall: 0.7649\n",
      "Epoch 3/50\n",
      "231/231 [==============================] - 336s 1s/step - loss: 0.6198 - accuracy: 0.7761 - auc: 0.9772 - precision: 0.8277 - recall: 0.7155 - val_loss: 0.4272 - val_accuracy: 0.8305 - val_auc: 0.9885 - val_precision: 0.8548 - val_recall: 0.7994\n",
      "Epoch 4/50\n",
      "231/231 [==============================] - 336s 1s/step - loss: 0.5206 - accuracy: 0.8085 - auc: 0.9835 - precision: 0.8463 - recall: 0.7660 - val_loss: 0.3636 - val_accuracy: 0.8553 - val_auc: 0.9918 - val_precision: 0.8805 - val_recall: 0.8272\n",
      "Epoch 5/50\n",
      "231/231 [==============================] - 336s 1s/step - loss: 0.4673 - accuracy: 0.8334 - auc: 0.9860 - precision: 0.8646 - recall: 0.7980 - val_loss: 0.3568 - val_accuracy: 0.8672 - val_auc: 0.9920 - val_precision: 0.8893 - val_recall: 0.8400\n",
      "Epoch 6/50\n",
      "231/231 [==============================] - 336s 1s/step - loss: 0.4318 - accuracy: 0.8403 - auc: 0.9883 - precision: 0.8670 - recall: 0.8108 - val_loss: 0.3550 - val_accuracy: 0.8725 - val_auc: 0.9911 - val_precision: 0.8841 - val_recall: 0.8593\n",
      "Epoch 7/50\n",
      "231/231 [==============================] - 336s 1s/step - loss: 0.3939 - accuracy: 0.8575 - auc: 0.9899 - precision: 0.8798 - recall: 0.8321 - val_loss: 0.2873 - val_accuracy: 0.8890 - val_auc: 0.9945 - val_precision: 0.9033 - val_recall: 0.8764\n",
      "Epoch 8/50\n",
      "231/231 [==============================] - 339s 1s/step - loss: 0.3694 - accuracy: 0.8631 - auc: 0.9909 - precision: 0.8821 - recall: 0.8432 - val_loss: 0.2967 - val_accuracy: 0.8898 - val_auc: 0.9934 - val_precision: 0.9023 - val_recall: 0.8788\n",
      "Epoch 9/50\n",
      "231/231 [==============================] - 336s 1s/step - loss: 0.3346 - accuracy: 0.8774 - auc: 0.9921 - precision: 0.8942 - recall: 0.8615 - val_loss: 0.2772 - val_accuracy: 0.8934 - val_auc: 0.9943 - val_precision: 0.9021 - val_recall: 0.8881\n",
      "Epoch 10/50\n",
      "231/231 [==============================] - 336s 1s/step - loss: 0.3312 - accuracy: 0.8757 - auc: 0.9923 - precision: 0.8935 - recall: 0.8608 - val_loss: 0.2555 - val_accuracy: 0.9026 - val_auc: 0.9950 - val_precision: 0.9097 - val_recall: 0.8940\n",
      "Epoch 11/50\n",
      "231/231 [==============================] - 335s 1s/step - loss: 0.3173 - accuracy: 0.8834 - auc: 0.9926 - precision: 0.9005 - recall: 0.8703 - val_loss: 0.2306 - val_accuracy: 0.9162 - val_auc: 0.9961 - val_precision: 0.9225 - val_recall: 0.9084\n",
      "Epoch 12/50\n",
      "231/231 [==============================] - 336s 1s/step - loss: 0.2980 - accuracy: 0.8930 - auc: 0.9936 - precision: 0.9056 - recall: 0.8796 - val_loss: 0.2386 - val_accuracy: 0.9141 - val_auc: 0.9954 - val_precision: 0.9191 - val_recall: 0.9105\n",
      "Epoch 13/50\n",
      "231/231 [==============================] - 336s 1s/step - loss: 0.2906 - accuracy: 0.8951 - auc: 0.9939 - precision: 0.9060 - recall: 0.8840 - val_loss: 0.2181 - val_accuracy: 0.9231 - val_auc: 0.9958 - val_precision: 0.9279 - val_recall: 0.9192\n",
      "Epoch 14/50\n",
      "231/231 [==============================] - 339s 1s/step - loss: 0.2756 - accuracy: 0.8991 - auc: 0.9945 - precision: 0.9103 - recall: 0.8894 - val_loss: 0.2231 - val_accuracy: 0.9176 - val_auc: 0.9958 - val_precision: 0.9252 - val_recall: 0.9095\n",
      "Epoch 15/50\n",
      "231/231 [==============================] - 336s 1s/step - loss: 0.2707 - accuracy: 0.8981 - auc: 0.9946 - precision: 0.9099 - recall: 0.8889 - val_loss: 0.1967 - val_accuracy: 0.9287 - val_auc: 0.9969 - val_precision: 0.9323 - val_recall: 0.9231\n",
      "Epoch 16/50\n",
      "231/231 [==============================] - 335s 1s/step - loss: 0.2600 - accuracy: 0.9025 - auc: 0.9947 - precision: 0.9144 - recall: 0.8935 - val_loss: 0.2610 - val_accuracy: 0.9011 - val_auc: 0.9952 - val_precision: 0.9114 - val_recall: 0.8922\n",
      "Epoch 17/50\n",
      "231/231 [==============================] - 336s 1s/step - loss: 0.2525 - accuracy: 0.9085 - auc: 0.9952 - precision: 0.9180 - recall: 0.8979 - val_loss: 0.2001 - val_accuracy: 0.9218 - val_auc: 0.9964 - val_precision: 0.9273 - val_recall: 0.9162\n",
      "Epoch 18/50\n",
      "231/231 [==============================] - 335s 1s/step - loss: 0.2566 - accuracy: 0.9070 - auc: 0.9948 - precision: 0.9168 - recall: 0.8969 - val_loss: 0.2079 - val_accuracy: 0.9243 - val_auc: 0.9961 - val_precision: 0.9293 - val_recall: 0.9200\n",
      "Epoch 19/50\n",
      "231/231 [==============================] - 337s 1s/step - loss: 0.2470 - accuracy: 0.9089 - auc: 0.9953 - precision: 0.9184 - recall: 0.9012 - val_loss: 0.2104 - val_accuracy: 0.9227 - val_auc: 0.9963 - val_precision: 0.9273 - val_recall: 0.9190\n",
      "Epoch 20/50\n",
      "231/231 [==============================] - 335s 1s/step - loss: 0.2455 - accuracy: 0.9108 - auc: 0.9953 - precision: 0.9206 - recall: 0.9027 - val_loss: 0.1949 - val_accuracy: 0.9285 - val_auc: 0.9966 - val_precision: 0.9330 - val_recall: 0.9243\n",
      "Epoch 21/50\n",
      "231/231 [==============================] - 335s 1s/step - loss: 0.2304 - accuracy: 0.9148 - auc: 0.9959 - precision: 0.9245 - recall: 0.9067 - val_loss: 0.1989 - val_accuracy: 0.9271 - val_auc: 0.9967 - val_precision: 0.9324 - val_recall: 0.9208\n",
      "Epoch 22/50\n",
      "231/231 [==============================] - 346s 1s/step - loss: 0.2270 - accuracy: 0.9177 - auc: 0.9958 - precision: 0.9267 - recall: 0.9116 - val_loss: 0.2051 - val_accuracy: 0.9247 - val_auc: 0.9960 - val_precision: 0.9305 - val_recall: 0.9220\n",
      "Epoch 23/50\n",
      "231/231 [==============================] - 335s 1s/step - loss: 0.2209 - accuracy: 0.9183 - auc: 0.9963 - precision: 0.9264 - recall: 0.9116 - val_loss: 0.1776 - val_accuracy: 0.9348 - val_auc: 0.9963 - val_precision: 0.9382 - val_recall: 0.9332\n",
      "Epoch 24/50\n",
      "231/231 [==============================] - 339s 1s/step - loss: 0.2237 - accuracy: 0.9181 - auc: 0.9959 - precision: 0.9254 - recall: 0.9109 - val_loss: 0.2088 - val_accuracy: 0.9251 - val_auc: 0.9956 - val_precision: 0.9286 - val_recall: 0.9216\n",
      "Epoch 25/50\n",
      "231/231 [==============================] - 340s 1s/step - loss: 0.2111 - accuracy: 0.9215 - auc: 0.9964 - precision: 0.9277 - recall: 0.9146 - val_loss: 0.1964 - val_accuracy: 0.9326 - val_auc: 0.9961 - val_precision: 0.9364 - val_recall: 0.9263\n",
      "Epoch 26/50\n",
      "231/231 [==============================] - 342s 1s/step - loss: 0.2150 - accuracy: 0.9197 - auc: 0.9964 - precision: 0.9270 - recall: 0.9118 - val_loss: 0.1964 - val_accuracy: 0.9306 - val_auc: 0.9965 - val_precision: 0.9353 - val_recall: 0.9251\n",
      "Epoch 27/50\n",
      "231/231 [==============================] - 335s 1s/step - loss: 0.2103 - accuracy: 0.9210 - auc: 0.9965 - precision: 0.9291 - recall: 0.9157 - val_loss: 0.2004 - val_accuracy: 0.9275 - val_auc: 0.9963 - val_precision: 0.9310 - val_recall: 0.9233\n",
      "Epoch 28/50\n",
      "231/231 [==============================] - 335s 1s/step - loss: 0.2013 - accuracy: 0.9275 - auc: 0.9965 - precision: 0.9336 - recall: 0.9208 - val_loss: 0.1714 - val_accuracy: 0.9395 - val_auc: 0.9968 - val_precision: 0.9413 - val_recall: 0.9371\n",
      "Epoch 29/50\n",
      "231/231 [==============================] - 337s 1s/step - loss: 0.1999 - accuracy: 0.9248 - auc: 0.9967 - precision: 0.9326 - recall: 0.9190 - val_loss: 0.1934 - val_accuracy: 0.9304 - val_auc: 0.9966 - val_precision: 0.9355 - val_recall: 0.9269\n",
      "Epoch 30/50\n",
      "231/231 [==============================] - 353s 2s/step - loss: 0.1960 - accuracy: 0.9285 - auc: 0.9965 - precision: 0.9340 - recall: 0.9230 - val_loss: 0.1733 - val_accuracy: 0.9397 - val_auc: 0.9971 - val_precision: 0.9415 - val_recall: 0.9369\n",
      "Epoch 31/50\n",
      "231/231 [==============================] - 359s 2s/step - loss: 0.1931 - accuracy: 0.9307 - auc: 0.9968 - precision: 0.9359 - recall: 0.9246 - val_loss: 0.1774 - val_accuracy: 0.9387 - val_auc: 0.9964 - val_precision: 0.9427 - val_recall: 0.9352\n",
      "Epoch 32/50\n",
      "231/231 [==============================] - 353s 2s/step - loss: 0.1916 - accuracy: 0.9290 - auc: 0.9969 - precision: 0.9358 - recall: 0.9236 - val_loss: 0.2004 - val_accuracy: 0.9294 - val_auc: 0.9963 - val_precision: 0.9330 - val_recall: 0.9247\n"
     ]
    },
    {
     "name": "stdout",
     "output_type": "stream",
     "text": [
      "Epoch 33/50\n",
      "231/231 [==============================] - 346s 1s/step - loss: 0.1858 - accuracy: 0.9307 - auc: 0.9972 - precision: 0.9369 - recall: 0.9256 - val_loss: 0.1908 - val_accuracy: 0.9383 - val_auc: 0.9964 - val_precision: 0.9408 - val_recall: 0.9359\n",
      "Epoch 34/50\n",
      "231/231 [==============================] - 349s 2s/step - loss: 0.1820 - accuracy: 0.9327 - auc: 0.9972 - precision: 0.9377 - recall: 0.9273 - val_loss: 0.1841 - val_accuracy: 0.9379 - val_auc: 0.9963 - val_precision: 0.9412 - val_recall: 0.9363\n",
      "Epoch 35/50\n",
      "231/231 [==============================] - 347s 1s/step - loss: 0.1816 - accuracy: 0.9345 - auc: 0.9971 - precision: 0.9396 - recall: 0.9286 - val_loss: 0.1869 - val_accuracy: 0.9320 - val_auc: 0.9967 - val_precision: 0.9356 - val_recall: 0.9285\n",
      "Epoch 36/50\n",
      "231/231 [==============================] - 341s 1s/step - loss: 0.1763 - accuracy: 0.9361 - auc: 0.9972 - precision: 0.9409 - recall: 0.9317 - val_loss: 0.1610 - val_accuracy: 0.9425 - val_auc: 0.9971 - val_precision: 0.9450 - val_recall: 0.9413\n",
      "Epoch 37/50\n",
      "231/231 [==============================] - 350s 2s/step - loss: 0.1768 - accuracy: 0.9347 - auc: 0.9972 - precision: 0.9400 - recall: 0.9301 - val_loss: 0.1656 - val_accuracy: 0.9430 - val_auc: 0.9967 - val_precision: 0.9446 - val_recall: 0.9409\n",
      "Epoch 38/50\n",
      "231/231 [==============================] - 342s 1s/step - loss: 0.1715 - accuracy: 0.9367 - auc: 0.9973 - precision: 0.9412 - recall: 0.9328 - val_loss: 0.1683 - val_accuracy: 0.9393 - val_auc: 0.9969 - val_precision: 0.9417 - val_recall: 0.9373\n",
      "Epoch 39/50\n",
      "231/231 [==============================] - 340s 1s/step - loss: 0.1741 - accuracy: 0.9386 - auc: 0.9973 - precision: 0.9429 - recall: 0.9346 - val_loss: 0.1735 - val_accuracy: 0.9385 - val_auc: 0.9967 - val_precision: 0.9397 - val_recall: 0.9367\n",
      "Epoch 40/50\n",
      "231/231 [==============================] - 344s 1s/step - loss: 0.1690 - accuracy: 0.9388 - auc: 0.9975 - precision: 0.9433 - recall: 0.9347 - val_loss: 0.1672 - val_accuracy: 0.9434 - val_auc: 0.9966 - val_precision: 0.9461 - val_recall: 0.9411\n",
      "Epoch 41/50\n",
      "231/231 [==============================] - 348s 2s/step - loss: 0.1631 - accuracy: 0.9410 - auc: 0.9976 - precision: 0.9461 - recall: 0.9365 - val_loss: 0.1679 - val_accuracy: 0.9417 - val_auc: 0.9968 - val_precision: 0.9431 - val_recall: 0.9395\n",
      "Epoch 42/50\n",
      "231/231 [==============================] - 361s 2s/step - loss: 0.1624 - accuracy: 0.9405 - auc: 0.9976 - precision: 0.9446 - recall: 0.9367 - val_loss: 0.1660 - val_accuracy: 0.9436 - val_auc: 0.9967 - val_precision: 0.9462 - val_recall: 0.9421\n",
      "Epoch 43/50\n",
      "231/231 [==============================] - 350s 2s/step - loss: 0.1640 - accuracy: 0.9382 - auc: 0.9973 - precision: 0.9435 - recall: 0.9349 - val_loss: 0.1741 - val_accuracy: 0.9401 - val_auc: 0.9964 - val_precision: 0.9425 - val_recall: 0.9381\n",
      "Epoch 44/50\n",
      "231/231 [==============================] - 361s 2s/step - loss: 0.1625 - accuracy: 0.9417 - auc: 0.9971 - precision: 0.9458 - recall: 0.9379 - val_loss: 0.1685 - val_accuracy: 0.9419 - val_auc: 0.9969 - val_precision: 0.9445 - val_recall: 0.9401\n",
      "Epoch 45/50\n",
      "231/231 [==============================] - 363s 2s/step - loss: 0.1680 - accuracy: 0.9391 - auc: 0.9975 - precision: 0.9434 - recall: 0.9355 - val_loss: 0.1773 - val_accuracy: 0.9369 - val_auc: 0.9964 - val_precision: 0.9404 - val_recall: 0.9354\n",
      "Epoch 46/50\n",
      "231/231 [==============================] - 359s 2s/step - loss: 0.1629 - accuracy: 0.9400 - auc: 0.9975 - precision: 0.9442 - recall: 0.9358 - val_loss: 0.1736 - val_accuracy: 0.9393 - val_auc: 0.9965 - val_precision: 0.9431 - val_recall: 0.9363\n",
      "Epoch 47/50\n",
      "231/231 [==============================] - 365s 2s/step - loss: 0.1603 - accuracy: 0.9407 - auc: 0.9975 - precision: 0.9452 - recall: 0.9376 - val_loss: 0.1643 - val_accuracy: 0.9462 - val_auc: 0.9968 - val_precision: 0.9485 - val_recall: 0.9428\n",
      "Epoch 48/50\n",
      "231/231 [==============================] - 370s 2s/step - loss: 0.1750 - accuracy: 0.9346 - auc: 0.9972 - precision: 0.9403 - recall: 0.9305 - val_loss: 0.3359 - val_accuracy: 0.8770 - val_auc: 0.9915 - val_precision: 0.8860 - val_recall: 0.8676\n",
      "Epoch 49/50\n",
      "231/231 [==============================] - 372s 2s/step - loss: 0.2501 - accuracy: 0.9089 - auc: 0.9947 - precision: 0.9175 - recall: 0.9013 - val_loss: 0.1800 - val_accuracy: 0.9350 - val_auc: 0.9965 - val_precision: 0.9382 - val_recall: 0.9336\n",
      "Epoch 50/50\n",
      "231/231 [==============================] - 346s 1s/step - loss: 0.1873 - accuracy: 0.9317 - auc: 0.9968 - precision: 0.9367 - recall: 0.9264 - val_loss: 0.1728 - val_accuracy: 0.9375 - val_auc: 0.9969 - val_precision: 0.9421 - val_recall: 0.9346\n"
     ]
    }
   ],
   "source": [
    "history_cnn1 = cnn_model.fit(train_generator,\n",
    "                        steps_per_epoch=len(train_generator),\n",
    "                        epochs=50,\n",
    "                        validation_data=val_generator,\n",
    "                        validation_steps=len(val_generator))\n"
   ]
  },
  {
   "cell_type": "markdown",
   "metadata": {},
   "source": [
    "#### Save model"
   ]
  },
  {
   "cell_type": "code",
   "execution_count": 25,
   "metadata": {},
   "outputs": [],
   "source": [
    "cnn_model.save('cnn_model_50epoch.h5')"
   ]
  },
  {
   "cell_type": "code",
   "execution_count": 46,
   "metadata": {},
   "outputs": [],
   "source": [
    "hdf5storage.savemat(\"history_cnn1_50epoch.h5\", history_cnn1.history)"
   ]
  },
  {
   "cell_type": "markdown",
   "metadata": {},
   "source": [
    "#### Evaluate the model"
   ]
  },
  {
   "cell_type": "code",
   "execution_count": 30,
   "metadata": {},
   "outputs": [],
   "source": [
    "cnn_model_loaded = load_model('cnn_model_50epoch.h5')"
   ]
  },
  {
   "cell_type": "code",
   "execution_count": 31,
   "metadata": {},
   "outputs": [
    {
     "name": "stdout",
     "output_type": "stream",
     "text": [
      "231/231 [==============================] - 112s 484ms/step - loss: 0.1681 - accuracy: 0.9376 - auc: 0.9972 - precision: 0.9418 - recall: 0.9338\n"
     ]
    },
    {
     "data": {
      "text/plain": [
       "[0.1681109368801117,\n",
       " 0.937626838684082,\n",
       " 0.997184693813324,\n",
       " 0.9417985677719116,\n",
       " 0.9337707757949829]"
      ]
     },
     "execution_count": 31,
     "metadata": {},
     "output_type": "execute_result"
    }
   ],
   "source": [
    "cnn_model_loaded.evaluate(train_generator)"
   ]
  },
  {
   "cell_type": "code",
   "execution_count": 32,
   "metadata": {
    "scrolled": true
   },
   "outputs": [
    {
     "name": "stdout",
     "output_type": "stream",
     "text": [
      "78/78 [==============================] - 30s 380ms/step - loss: 0.1844 - accuracy: 0.9392 - auc: 0.9960 - precision: 0.9421 - recall: 0.9366\n"
     ]
    },
    {
     "data": {
      "text/plain": [
       "[0.18441927433013916,\n",
       " 0.9392096996307373,\n",
       " 0.9960055351257324,\n",
       " 0.9421116709709167,\n",
       " 0.9365754723548889]"
      ]
     },
     "execution_count": 32,
     "metadata": {},
     "output_type": "execute_result"
    }
   ],
   "source": [
    "cnn_model_loaded.evaluate(test_generator)"
   ]
  },
  {
   "cell_type": "code",
   "execution_count": 48,
   "metadata": {},
   "outputs": [],
   "source": [
    "loaded_cnn_history = hdf5storage.loadmat(\"history_cnn1_50epoch.h5\")"
   ]
  },
  {
   "cell_type": "code",
   "execution_count": 50,
   "metadata": {},
   "outputs": [
    {
     "name": "stdout",
     "output_type": "stream",
     "text": [
      "dict_keys(['accuracy', 'auc', 'loss', 'precision', 'recall', 'val_accuracy', 'val_auc', 'val_loss', 'val_precision', 'val_recall'])\n"
     ]
    }
   ],
   "source": [
    "print(loaded_cnn_history.keys())"
   ]
  },
  {
   "cell_type": "code",
   "execution_count": 56,
   "metadata": {
    "scrolled": true
   },
   "outputs": [
    {
     "data": {
      "image/png": "[encoded data removed]",
      "text/plain": [
       "<Figure size 800x600 with 1 Axes>"
      ]
     },
     "metadata": {},
     "output_type": "display_data"
    }
   ],
   "source": [
    "fig,ax=plt.subplots(figsize=(8,6))\n",
    "\n",
    "cnn1_loss_values = loaded_cnn_history['loss']\n",
    "cnn1_val_loss_values = loaded_cnn_history['val_loss']\n",
    "\n",
    "\n",
    "epochs = range(1,len(cnn1_loss_values)+1)\n",
    "\n",
    "ax.plot(epochs,cnn1_loss_values,label='Train loss vs epochs')\n",
    "ax.plot(epochs,cnn1_val_loss_values,label='Validation loss vs epochs')\n",
    "\n",
    "ax.set_title('Train & validation loss')\n",
    "ax.legend()\n",
    "ax.set_xlabel('Epochs')\n",
    "plt.grid()\n",
    "ax.set_ylabel('Loss');"
   ]
  },
  {
   "cell_type": "code",
   "execution_count": 186,
   "metadata": {
    "scrolled": false
   },
   "outputs": [
    {
     "data": {
      "image/png": "[encoded data removed]",
      "text/plain": [
       "<Figure size 800x600 with 1 Axes>"
      ]
     },
     "metadata": {},
     "output_type": "display_data"
    }
   ],
   "source": [
    "fig,ax=plt.subplots(figsize=(8,6))\n",
    "\n",
    "cnn1_acc_values = history_cnn1.history['accuracy']\n",
    "cnn1_val_acc_values = history_cnn1.history['val_accuracy']\n",
    "\n",
    "\n",
    "epochs = range(1,len(cnn1_acc_values)+1)\n",
    "\n",
    "ax.plot(epochs,cnn1_loss_values,label='Train acc vs epochs')\n",
    "ax.plot(epochs,cnn1_val_loss_values,label='Validation acc vs epochs')\n",
    "\n",
    "ax.set_title('Train & validation acc')\n",
    "ax.legend()\n",
    "ax.set_xlabel('Epochs')\n",
    "plt.grid()\n",
    "ax.set_ylabel('Acc');"
   ]
  },
  {
   "cell_type": "code",
   "execution_count": 53,
   "metadata": {},
   "outputs": [
    {
     "data": {
      "image/png": "[encoded data removed]",
      "text/plain": [
       "<Figure size 800x600 with 1 Axes>"
      ]
     },
     "metadata": {},
     "output_type": "display_data"
    }
   ],
   "source": [
    "fig,ax=plt.subplots(figsize=(8,6))\n",
    "\n",
    "cnn1_AUC_values = loaded_cnn_history['auc']\n",
    "cnn1_val_AUC_values = loaded_cnn_history['val_auc']\n",
    "\n",
    "\n",
    "epochs = range(1,len(cnn1_loss_values)+1)\n",
    "\n",
    "ax.plot(epochs,cnn1_AUC_values,label='Train AUC vs epochs')\n",
    "ax.plot(epochs,cnn1_val_AUC_values,label='Validation AUC vs epochs')\n",
    "\n",
    "ax.set_title('Train & validation AUC')\n",
    "ax.legend()\n",
    "ax.set_xlabel('Epochs')\n",
    "plt.grid()\n",
    "ax.set_ylabel('AUC');"
   ]
  },
  {
   "cell_type": "code",
   "execution_count": 57,
   "metadata": {
    "scrolled": true
   },
   "outputs": [
    {
     "name": "stdout",
     "output_type": "stream",
     "text": [
      "78/78 [==============================] - 29s 372ms/step\n"
     ]
    }
   ],
   "source": [
    "cnn1_test_class_pred = cnn_model_loaded.predict(test_generator,steps=len(test_generator))"
   ]
  },
  {
   "cell_type": "code",
   "execution_count": 58,
   "metadata": {},
   "outputs": [
    {
     "data": {
      "text/plain": [
       "array([0, 0, 0, ..., 9, 9, 0])"
      ]
     },
     "execution_count": 58,
     "metadata": {},
     "output_type": "execute_result"
    }
   ],
   "source": [
    "cnn1_predicted_classes = np.argmax(cnn1_test_class_pred, axis=-1)\n",
    "cnn1_predicted_classes"
   ]
  },
  {
   "cell_type": "code",
   "execution_count": 59,
   "metadata": {},
   "outputs": [
    {
     "data": {
      "text/plain": [
       "array([0, 0, 0, ..., 9, 9, 9], dtype=int32)"
      ]
     },
     "execution_count": 59,
     "metadata": {},
     "output_type": "execute_result"
    }
   ],
   "source": [
    "cnn1_true_classes = test_generator.classes\n",
    "cnn1_true_classes"
   ]
  },
  {
   "cell_type": "code",
   "execution_count": 60,
   "metadata": {
    "scrolled": true
   },
   "outputs": [
    {
     "data": {
      "text/plain": [
       "['0', '1', '2', '3', '4', '5', '6', '7', '8', '9']"
      ]
     },
     "execution_count": 60,
     "metadata": {},
     "output_type": "execute_result"
    }
   ],
   "source": [
    "cnn1_class_labels = list(test_generator.class_indices.keys()) \n",
    "cnn1_class_labels"
   ]
  },
  {
   "cell_type": "code",
   "execution_count": 62,
   "metadata": {},
   "outputs": [
    {
     "data": {
      "text/plain": [
       "['Tshirts',\n",
       " 'Shirts',\n",
       " 'casual_shoes',\n",
       " 'watches',\n",
       " 'sports_shoes',\n",
       " 'kurtas',\n",
       " 'handbags',\n",
       " 'heels',\n",
       " 'sunglasses',\n",
       " 'wallets']"
      ]
     },
     "execution_count": 62,
     "metadata": {},
     "output_type": "execute_result"
    }
   ],
   "source": [
    "cnn1_class_labels_mapping = {0: 'Tshirts', 1: 'Shirts', 2: 'casual_shoes',3: 'watches' , 4: 'sports_shoes', 5: 'kurtas',6:'handbags',7:'heels',8:'sunglasses',9:'wallets'}\n",
    "cnn1_class_labels_words = list(cnn1_class_labels_mapping.values())\n",
    "cnn1_class_labels_words"
   ]
  },
  {
   "cell_type": "code",
   "execution_count": 64,
   "metadata": {},
   "outputs": [
    {
     "data": {
      "text/plain": [
       "array([[1392,   13,    0,    5,    0,    2,    1,    0,    0,    0],\n",
       "       [  29,  612,    0,    1,    0,    2,    0,    0,    0,    0],\n",
       "       [   0,    0,  448,    0,  119,    0,    0,    3,    0,    0],\n",
       "       [   1,    0,    0,  507,    0,    1,    1,    0,    0,    0],\n",
       "       [   0,    0,   37,    1,  369,    0,    0,    1,    0,    0],\n",
       "       [   2,    7,    0,    2,    0,  358,    0,    0,    0,    0],\n",
       "       [   4,    3,    3,    4,    0,    1,  333,    1,    0,    3],\n",
       "       [   2,    0,   19,    1,    7,    0,    1,  235,    0,    0],\n",
       "       [   2,    0,    0,    0,    1,    0,    1,    2,  209,    1],\n",
       "       [   1,    2,    1,    1,    3,    0,    8,    0,    0,  172]])"
      ]
     },
     "execution_count": 64,
     "metadata": {},
     "output_type": "execute_result"
    }
   ],
   "source": [
    "cnn1_cm_digits = confusion_matrix(cnn1_true_classes, cnn1_predicted_classes)\n",
    "cnn1_cm_digits"
   ]
  },
  {
   "cell_type": "code",
   "execution_count": 65,
   "metadata": {},
   "outputs": [
    {
     "data": {
      "image/png": "[encoded data removed]",
      "text/plain": [
       "<Figure size 640x480 with 2 Axes>"
      ]
     },
     "metadata": {},
     "output_type": "display_data"
    }
   ],
   "source": [
    "cnn1_disp = ConfusionMatrixDisplay(\n",
    "    confusion_matrix=cnn1_cm_digits)\n",
    "\n",
    "cnn1_disp.plot(cmap=plt.cm.Blues)\n",
    "plt.show()"
   ]
  },
  {
   "cell_type": "code",
   "execution_count": 66,
   "metadata": {},
   "outputs": [
    {
     "name": "stdout",
     "output_type": "stream",
     "text": [
      "              precision    recall  f1-score   support\n",
      "\n",
      "     Tshirts       0.97      0.99      0.98      1413\n",
      "      Shirts       0.96      0.95      0.96       644\n",
      "casual_shoes       0.88      0.79      0.83       570\n",
      "     watches       0.97      0.99      0.98       510\n",
      "sports_shoes       0.74      0.90      0.81       408\n",
      "      kurtas       0.98      0.97      0.98       369\n",
      "    handbags       0.97      0.95      0.96       352\n",
      "       heels       0.97      0.89      0.93       265\n",
      "  sunglasses       1.00      0.97      0.98       216\n",
      "     wallets       0.98      0.91      0.95       188\n",
      "\n",
      "    accuracy                           0.94      4935\n",
      "   macro avg       0.94      0.93      0.93      4935\n",
      "weighted avg       0.94      0.94      0.94      4935\n",
      "\n"
     ]
    }
   ],
   "source": [
    "cnn1_report = classification_report(cnn1_true_classes, cnn1_predicted_classes, target_names=cnn1_class_labels_words)\n",
    "print(cnn1_report)"
   ]
  },
  {
   "cell_type": "code",
   "execution_count": null,
   "metadata": {},
   "outputs": [],
   "source": []
  },
  {
   "cell_type": "code",
   "execution_count": null,
   "metadata": {},
   "outputs": [],
   "source": []
  },
  {
   "cell_type": "code",
   "execution_count": null,
   "metadata": {},
   "outputs": [],
   "source": []
  },
  {
   "cell_type": "code",
   "execution_count": null,
   "metadata": {},
   "outputs": [],
   "source": []
  },
  {
   "cell_type": "code",
   "execution_count": null,
   "metadata": {},
   "outputs": [],
   "source": []
  },
  {
   "cell_type": "code",
   "execution_count": null,
   "metadata": {},
   "outputs": [],
   "source": []
  },
  {
   "cell_type": "code",
   "execution_count": null,
   "metadata": {},
   "outputs": [],
   "source": []
  },
  {
   "cell_type": "markdown",
   "metadata": {},
   "source": [
    "### 2nd CNN model- L2 Regularizer"
   ]
  },
  {
   "cell_type": "code",
   "execution_count": 85,
   "metadata": {},
   "outputs": [],
   "source": [
    "\n",
    "\n",
    "cnn_model_l2 = Sequential()\n",
    "cnn_model_l2.add(Conv2D(32, (3, 3), activation='relu', input_shape=(256, 256, 3), kernel_regularizer = l2(0.0005)))\n",
    "cnn_model_l2.add(MaxPooling2D(2, 2))\n",
    "\n",
    "# Corrected Conv2D layer with kernel_regularizer parameter\n",
    "cnn_model_l2.add(Conv2D(64, (3, 3), activation='relu', kernel_regularizer = l2(0.0005)))\n",
    "cnn_model_l2.add(MaxPooling2D(2, 2))\n",
    "\n",
    "# Corrected Conv2D layer with kernel_regularizer parameter\n",
    "cnn_model_l2.add(Conv2D(128, (3, 3), activation='relu', kernel_regularizer = l2(0.0005)))\n",
    "cnn_model_l2.add(MaxPooling2D(2, 2))\n",
    "\n",
    "# Corrected Conv2D layer with kernel_regularizer parameter\n",
    "cnn_model_l2.add(Conv2D(256, (3, 3), activation='relu', kernel_regularizer = l2(0.0005)))\n",
    "cnn_model_l2.add(MaxPooling2D(2, 2))\n",
    "\n",
    "cnn_model_l2.add(Flatten())\n",
    "cnn_model_l2.add(Dense(128, activation='relu', kernel_regularizer=l2(0.0005)))\n",
    "cnn_model_l2.add(Dense(num_classes, activation='softmax', kernel_regularizer = l2(0.0005)))\n"
   ]
  },
  {
   "cell_type": "code",
   "execution_count": 86,
   "metadata": {},
   "outputs": [],
   "source": [
    "cnn_model_l2.compile(loss='categorical_crossentropy',\n",
    "                  optimizer='Adam',\n",
    "                  metrics=['accuracy','AUC','Precision','Recall'])"
   ]
  },
  {
   "cell_type": "code",
   "execution_count": 87,
   "metadata": {},
   "outputs": [
    {
     "name": "stdout",
     "output_type": "stream",
     "text": [
      "Epoch 1/10\n",
      "231/231 [==============================] - 378s 2s/step - loss: 2.3859 - accuracy: 0.3797 - val_loss: 1.6377 - val_accuracy: 0.5114\n",
      "Epoch 2/10\n",
      "231/231 [==============================] - 369s 2s/step - loss: 1.6431 - accuracy: 0.5323 - val_loss: 1.3074 - val_accuracy: 0.6393\n",
      "Epoch 3/10\n",
      "231/231 [==============================] - 3060s 13s/step - loss: 1.4230 - accuracy: 0.6055 - val_loss: 1.1349 - val_accuracy: 0.7140\n",
      "Epoch 4/10\n",
      "231/231 [==============================] - 368s 2s/step - loss: 1.2609 - accuracy: 0.6557 - val_loss: 1.0157 - val_accuracy: 0.7393\n",
      "Epoch 5/10\n",
      "231/231 [==============================] - 372s 2s/step - loss: 1.2307 - accuracy: 0.6697 - val_loss: 1.0633 - val_accuracy: 0.7091\n",
      "Epoch 6/10\n",
      "231/231 [==============================] - 373s 2s/step - loss: 1.1556 - accuracy: 0.6894 - val_loss: 1.1657 - val_accuracy: 0.6827\n",
      "Epoch 7/10\n",
      "231/231 [==============================] - 378s 2s/step - loss: 1.1375 - accuracy: 0.6855 - val_loss: 0.8532 - val_accuracy: 0.7976\n",
      "Epoch 8/10\n",
      "231/231 [==============================] - 396s 2s/step - loss: 1.0671 - accuracy: 0.7153 - val_loss: 0.8921 - val_accuracy: 0.7710\n",
      "Epoch 9/10\n",
      "231/231 [==============================] - 398s 2s/step - loss: 1.0413 - accuracy: 0.7244 - val_loss: 0.9093 - val_accuracy: 0.7702\n",
      "Epoch 10/10\n",
      "231/231 [==============================] - 382s 2s/step - loss: 1.0237 - accuracy: 0.7283 - val_loss: 0.8503 - val_accuracy: 0.7960\n"
     ]
    }
   ],
   "source": [
    "history_l2 = cnn_model_l2.fit(train_generator,\n",
    "                        steps_per_epoch=len(train_generator),\n",
    "                        epochs=50,\n",
    "                        validation_data=val_generator,\n",
    "                        validation_steps=len(val_generator))"
   ]
  },
  {
   "cell_type": "markdown",
   "metadata": {},
   "source": [
    "### 3th CNN model- L2 Regularizer + Dropout"
   ]
  },
  {
   "cell_type": "code",
   "execution_count": 95,
   "metadata": {},
   "outputs": [],
   "source": [
    "from tensorflow.keras.layers import Dropout\n",
    "\n",
    "\n",
    "\n",
    "\n",
    "cnn_model_l2 = Sequential()\n",
    "cnn_model_l2.add(Conv2D(32, (3, 3), activation='relu', input_shape=(256, 256, 3), kernel_regularizer = l2(0.0005)))\n",
    "cnn_model_l2.add(MaxPooling2D(2, 2))\n",
    "cnn_model_dropout.add(Dropout(0.3))  # Add dropout with 30% dropout rate\n",
    "\n",
    "#  Conv2D layer with kernel_regularizer parameter\n",
    "cnn_model_l2.add(Conv2D(64, (3, 3), activation='relu', kernel_regularizer = l2(0.0005)))\n",
    "cnn_model_l2.add(MaxPooling2D(2, 2))\n",
    "cnn_model_dropout.add(Dropout(0.3))  # Add dropout with 30% dropout rate\n",
    "\n",
    "#  Conv2D layer with kernel_regularizer parameter\n",
    "cnn_model_l2.add(Conv2D(128, (3, 3), activation='relu', kernel_regularizer = l2(0.0005)))\n",
    "cnn_model_l2.add(MaxPooling2D(2, 2))\n",
    "cnn_model_dropout.add(Dropout(0.3))  # Add dropout with 30% dropout rate\n",
    "\n",
    "#  Conv2D layer with kernel_regularizer parameter\n",
    "cnn_model_l2.add(Conv2D(256, (3, 3), activation='relu', kernel_regularizer = l2(0.0005)))\n",
    "cnn_model_l2.add(MaxPooling2D(2, 2))\n",
    "cnn_model_dropout.add(Dropout(0.3))  # Add dropout with 30% dropout rate\n",
    "\n",
    "cnn_model_l2.add(Flatten())\n",
    "cnn_model_l2.add(Dense(128, activation='relu', kernel_regularizer=l2(0.0005)))\n",
    "cnn_model_l2.add(Dense(num_classes, activation='softmax', kernel_regularizer = l2(0.0005)))"
   ]
  },
  {
   "cell_type": "code",
   "execution_count": 96,
   "metadata": {},
   "outputs": [],
   "source": [
    "cnn_model_dropout.compile(loss='categorical_crossentropy',\n",
    "                  optimizer='Adam',\n",
    "                  metrics=['accuracy','AUC','Precision','Recall'])"
   ]
  },
  {
   "cell_type": "code",
   "execution_count": 98,
   "metadata": {},
   "outputs": [
    {
     "name": "stdout",
     "output_type": "stream",
     "text": [
      "Epoch 1/10\n",
      "231/231 [==============================] - 426s 2s/step - loss: 1.9338 - accuracy: 0.3254 - val_loss: 1.4070 - val_accuracy: 0.4949\n",
      "Epoch 2/10\n",
      "231/231 [==============================] - 397s 2s/step - loss: 1.4777 - accuracy: 0.4536 - val_loss: 1.0637 - val_accuracy: 0.6155\n",
      "Epoch 3/10\n",
      "231/231 [==============================] - 375s 2s/step - loss: 1.3038 - accuracy: 0.5155 - val_loss: 0.9045 - val_accuracy: 0.6882\n",
      "Epoch 4/10\n",
      "231/231 [==============================] - 399s 2s/step - loss: 1.1284 - accuracy: 0.5783 - val_loss: 0.7129 - val_accuracy: 0.7598\n",
      "Epoch 5/10\n",
      "231/231 [==============================] - 375s 2s/step - loss: 1.1203 - accuracy: 0.5818 - val_loss: 0.6460 - val_accuracy: 0.7686\n",
      "Epoch 6/10\n",
      "231/231 [==============================] - 386s 2s/step - loss: 0.9533 - accuracy: 0.6461 - val_loss: 0.5768 - val_accuracy: 0.7956\n",
      "Epoch 7/10\n",
      "231/231 [==============================] - 405s 2s/step - loss: 0.8585 - accuracy: 0.6871 - val_loss: 0.4945 - val_accuracy: 0.8187\n",
      "Epoch 8/10\n",
      "231/231 [==============================] - 421s 2s/step - loss: 0.7999 - accuracy: 0.7021 - val_loss: 0.5117 - val_accuracy: 0.8088\n",
      "Epoch 9/10\n",
      "231/231 [==============================] - 419s 2s/step - loss: 0.7341 - accuracy: 0.7254 - val_loss: 0.4559 - val_accuracy: 0.8311\n",
      "Epoch 10/10\n",
      "231/231 [==============================] - 418s 2s/step - loss: 0.6795 - accuracy: 0.7449 - val_loss: 0.4304 - val_accuracy: 0.8514\n"
     ]
    }
   ],
   "source": [
    "history_dropout = cnn_model_dropout.fit(train_generator,\n",
    "                        steps_per_epoch=len(train_generator),\n",
    "                        epochs=50,\n",
    "                        validation_data=val_generator,\n",
    "                        validation_steps=len(val_generator))"
   ]
  },
  {
   "cell_type": "markdown",
   "metadata": {},
   "source": [
    "### 4th CNN model-Adding BatNormalization"
   ]
  },
  {
   "cell_type": "code",
   "execution_count": null,
   "metadata": {},
   "outputs": [],
   "source": [
    "from tensorflow.keras.layers import Dropout, BatchNormalization\n",
    "\n",
    "cnn_model_l2 = Sequential()\n",
    "\n",
    "# Conv2D layer with BatchNormalization\n",
    "cnn_model_l2.add(Conv2D(32, (3, 3), activation='relu', input_shape=(256, 256, 3), kernel_regularizer=l2(0.0005)))\n",
    "cnn_model_l2.add(BatchNormalization())\n",
    "cnn_model_l2.add(MaxPooling2D(2, 2))\n",
    "cnn_model_l2.add(Dropout(0.3))  # Add dropout with 30% dropout rate\n",
    "\n",
    "# Conv2D layer with BatchNormalization\n",
    "cnn_model_l2.add(Conv2D(64, (3, 3), activation='relu', kernel_regularizer=l2(0.0005)))\n",
    "cnn_model_l2.add(BatchNormalization())\n",
    "cnn_model_l2.add(MaxPooling2D(2, 2))\n",
    "cnn_model_l2.add(Dropout(0.3))  # Add dropout with 30% dropout rate\n",
    "\n",
    "# Conv2D layer with BatchNormalization\n",
    "cnn_model_l2.add(Conv2D(128, (3, 3), activation='relu', kernel_regularizer=l2(0.0005)))\n",
    "cnn_model_l2.add(BatchNormalization())\n",
    "cnn_model_l2.add(MaxPooling2D(2, 2))\n",
    "cnn_model_l2.add(Dropout(0.3))  # Add dropout with 30% dropout rate\n",
    "\n",
    "# Conv2D layer with BatchNormalization\n",
    "cnn_model_l2.add(Conv2D(256, (3, 3), activation='relu', kernel_regularizer=l2(0.0005)))\n",
    "cnn_model_l2.add(BatchNormalization())\n",
    "cnn_model_l2.add(MaxPooling2D(2, 2))\n",
    "cnn_model_l2.add(Dropout(0.3))  # Add dropout with 30% dropout rate\n",
    "\n",
    "cnn_model_l2.add(Flatten())\n",
    "cnn_model_l2.add(Dense(128, activation='relu', kernel_regularizer=l2(0.0005)))\n",
    "cnn_model_l2.add(Dense(num_classes, activation='softmax', kernel_regularizer=l2(0.0005)))\n"
   ]
  }
 ],
 "metadata": {
  "kernelspec": {
   "display_name": "Python 3 (ipykernel)",
   "language": "python",
   "name": "python3"
  },
  "language_info": {
   "codemirror_mode": {
    "name": "ipython",
    "version": 3
   },
   "file_extension": ".py",
   "mimetype": "text/x-python",
   "name": "python",
   "nbconvert_exporter": "python",
   "pygments_lexer": "ipython3",
   "version": "3.10.10"
  }
 },
 "nbformat": 4,
 "nbformat_minor": 2
}
