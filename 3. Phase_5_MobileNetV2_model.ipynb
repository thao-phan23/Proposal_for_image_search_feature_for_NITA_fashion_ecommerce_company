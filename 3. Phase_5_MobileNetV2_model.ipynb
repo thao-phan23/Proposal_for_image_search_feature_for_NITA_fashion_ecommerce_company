{
 "cells": [
  {
   "cell_type": "markdown",
   "metadata": {},
   "source": [
    "# PHASE_5_CAPSTONE_PROJECT"
   ]
  },
  {
   "cell_type": "markdown",
   "metadata": {},
   "source": [
    "# MODELING"
   ]
  },
  {
   "cell_type": "markdown",
   "metadata": {},
   "source": [
    "### Data source:"
   ]
  },
  {
   "cell_type": "markdown",
   "metadata": {},
   "source": [
    "The data source consists of over 44 thousand fashion images from Kaggle.\n",
    "\n",
    "Source link: https://www.kaggle.com/datasets/paramaggarwal/fashion-product-images-dataset"
   ]
  },
  {
   "cell_type": "markdown",
   "metadata": {},
   "source": [
    "### Target:"
   ]
  },
  {
   "cell_type": "markdown",
   "metadata": {},
   "source": [
    "Leverage a dataset comprising more than 24k images across 10 distinct fashion product types, including t-shirts, shirts, casual shoes, watches, sports shoes, kurtas, handbags, heels, sunglasses, and wallets, for image labeling in customer search."
   ]
  },
  {
   "cell_type": "code",
   "execution_count": 1,
   "metadata": {},
   "outputs": [],
   "source": [
    "import pandas as pd\n",
    "import numpy as np\n",
    "import csv\n",
    "import json\n",
    "import glob\n",
    "import os\n",
    "import shutil\n",
    "import random\n",
    "import pickle\n",
    "import h5py\n",
    "import hdf5storage\n",
    "from sklearn.preprocessing import LabelEncoder\n",
    "import matplotlib.pyplot as plt\n",
    "from sklearn.model_selection import train_test_split\n",
    "import seaborn as sns\n",
    "from sklearn.preprocessing import MultiLabelBinarizer\n",
    "from keras.preprocessing.image import ImageDataGenerator\n",
    "from tensorflow.keras.utils import array_to_img, img_to_array, load_img\n",
    "from IPython.display import display\n",
    "from tensorflow.keras import datasets\n",
    "from tensorflow.keras.utils import to_categorical\n",
    "from tensorflow.keras.models import Sequential\n",
    "from keras import layers\n",
    "from keras.models import Sequential\n",
    "from keras.layers import Reshape\n",
    "\n",
    "from tensorflow.keras.layers import Dense # creates densely connected layer object\n",
    "from tensorflow.keras.layers import Flatten # takes 2D input and turns into 1D array\n",
    "from tensorflow.keras.layers import Conv2D # convolution layer\n",
    "from tensorflow.keras.layers import MaxPooling2D # max pooling layer\n",
    "from tensorflow.keras.regularizers import l2\n",
    "from tensorflow.keras.regularizers import L2\n",
    "from tensorflow.keras.layers import Dropout\n",
    "from keras.models import load_model\n",
    "\n",
    "\n",
    "from sklearn.metrics import accuracy_score, confusion_matrix\n",
    "from sklearn.metrics import ConfusionMatrixDisplay, classification_report\n",
    "\n",
    "# a new layer that rescales/normalizes the activations after each layer.\n",
    "# has a weak regularization effect. also allows \n",
    "\n",
    "from tensorflow.keras.layers import BatchNormalization\n",
    "from tensorflow.keras.layers import Activation\n",
    "from tensorflow.keras import layers, regularizers\n",
    "from tensorflow.keras.regularizers import l2\n",
    "from tensorflow.keras.layers import Dropout\n",
    "from tensorflow.keras.applications import VGG16, VGG19\n",
    "from tensorflow.keras import Input\n",
    "from tensorflow.keras.models import Model\n",
    "from tensorflow.keras.layers import Resizing, RandomFlip, RandomRotation\n",
    "from tensorflow.keras.layers import GlobalAveragePooling2D\n",
    "import tensorflow as tf\n",
    "from tensorflow.keras.applications.vgg16 import preprocess_input\n",
    "from tensorflow.keras.applications.resnet50 import ResNet50\n",
    "from tensorflow.keras.applications.mobilenet_v2 import preprocess_input\n",
    "\n",
    "%matplotlib inline\n"
   ]
  },
  {
   "cell_type": "code",
   "execution_count": 2,
   "metadata": {},
   "outputs": [],
   "source": [
    "# !pip install tensorflow"
   ]
  },
  {
   "cell_type": "code",
   "execution_count": null,
   "metadata": {},
   "outputs": [],
   "source": []
  },
  {
   "cell_type": "code",
   "execution_count": 3,
   "metadata": {},
   "outputs": [
    {
     "name": "stdout",
     "output_type": "stream",
     "text": [
      "Found 14782 images belonging to 10 classes.\n",
      "Found 4935 images belonging to 10 classes.\n",
      "Found 4926 images belonging to 10 classes.\n"
     ]
    }
   ],
   "source": [
    "# Directory path\n",
    "train_data_dir_sample = '/Users/seanluong/Downloads/TransferX/Train_Test_Validation/Train'\n",
    "val_data_dir_sample = '/Users/seanluong/Downloads/TransferX/Train_Test_Validation/Validation'\n",
    "test_data_dir_sample = '/Users/seanluong/Downloads/TransferX/Train_Test_Validation/Test'\n",
    "\n",
    "\n",
    "\n",
    "\n",
    "# Define the image size and number of classes\n",
    "image_size_224 = (224, 224)\n",
    "num_classes = 10 \n",
    "\n",
    "\n",
    "# specialized mobilenetv2 preprocesser\n",
    "mobilenetv2_processor = tf.keras.applications.mobilenet_v2.preprocess_input\n",
    "\n",
    "# Create the train_datagen with vgg_processor\n",
    "train_datagen_mobilenetv2 = ImageDataGenerator(rescale=1./255, \n",
    "                                   rotation_range=40, \n",
    "                                   width_shift_range=0.2, \n",
    "                                   height_shift_range=0.2, \n",
    "                                   shear_range=0.3, \n",
    "                                   zoom_range=0.1, \n",
    "                                   horizontal_flip=False,\n",
    "                                   preprocessing_function=mobilenetv2_processor)\n",
    "\n",
    "# Create the val_datagen with vgg_processor\n",
    "val_datagen_mobilenetv2 = ImageDataGenerator(rescale=1./255,\n",
    "                                 preprocessing_function=mobilenetv2_processor)\n",
    "\n",
    "# Create the test_datagen with vgg_processor\n",
    "test_datagen_mobilenetv2 = ImageDataGenerator(rescale=1./255,\n",
    "                                  preprocessing_function=mobilenetv2_processor)\n",
    "\n",
    "# ...\n",
    "\n",
    "# Flow data from the directory using the data generators\n",
    "train_generator_mobilenetv2 = train_datagen_mobilenetv2.flow_from_directory(directory=train_data_dir_sample,\n",
    "                                                    target_size=image_size_224,\n",
    "                                                    class_mode='categorical',\n",
    "                                                    batch_size=64,\n",
    "                                                    shuffle=True,\n",
    "                                                    classes=[str(i) for i in range(num_classes)])\n",
    "\n",
    "val_generator_mobilenetv2 = val_datagen_mobilenetv2.flow_from_directory(directory=val_data_dir_sample,\n",
    "                                                target_size=image_size_224,\n",
    "                                                class_mode='categorical',\n",
    "                                                batch_size=64,\n",
    "                                                shuffle=True,\n",
    "                                                classes=[str(i) for i in range(num_classes)])\n",
    "\n",
    "test_generator_mobilenetv2 = test_datagen_mobilenetv2.flow_from_directory(directory=test_data_dir_sample,\n",
    "                                                  target_size=image_size_224,\n",
    "                                                  class_mode='categorical',\n",
    "                                                  batch_size=64,\n",
    "                                                  shuffle=False,\n",
    "                                                  classes=[str(i) for i in range(num_classes)])\n"
   ]
  },
  {
   "cell_type": "markdown",
   "metadata": {},
   "source": [
    "### MobileNetV2 Model"
   ]
  },
  {
   "cell_type": "code",
   "execution_count": 4,
   "metadata": {
    "scrolled": true
   },
   "outputs": [
    {
     "name": "stdout",
     "output_type": "stream",
     "text": [
      "WARNING:tensorflow:`input_shape` is undefined or non-square, or `rows` is not in [96, 128, 160, 192, 224]. Weights for input shape (224, 224) will be loaded as the default.\n"
     ]
    }
   ],
   "source": [
    "base_mobilenetv2_model = tf.keras.applications.MobileNetV2(weights='imagenet', include_top=False)\n",
    "\n",
    "for layer in base_mobilenetv2_model.layers:\n",
    "    layer.trainable = False\n"
   ]
  },
  {
   "cell_type": "code",
   "execution_count": 5,
   "metadata": {},
   "outputs": [
    {
     "data": {
      "text/plain": [
       "154"
      ]
     },
     "execution_count": 5,
     "metadata": {},
     "output_type": "execute_result"
    }
   ],
   "source": [
    "len(base_mobilenetv2_model.layers)"
   ]
  },
  {
   "cell_type": "code",
   "execution_count": 6,
   "metadata": {},
   "outputs": [
    {
     "name": "stdout",
     "output_type": "stream",
     "text": [
      "Model: \"mobilenetv2_1.00_224\"\n",
      "__________________________________________________________________________________________________\n",
      " Layer (type)                Output Shape                 Param #   Connected to                  \n",
      "==================================================================================================\n",
      " input_1 (InputLayer)        [(None, None, None, 3)]      0         []                            \n",
      "                                                                                                  \n",
      " Conv1 (Conv2D)              (None, None, None, 32)       864       ['input_1[0][0]']             \n",
      "                                                                                                  \n",
      " bn_Conv1 (BatchNormalizati  (None, None, None, 32)       128       ['Conv1[0][0]']               \n",
      " on)                                                                                              \n",
      "                                                                                                  \n",
      " Conv1_relu (ReLU)           (None, None, None, 32)       0         ['bn_Conv1[0][0]']            \n",
      "                                                                                                  \n",
      " expanded_conv_depthwise (D  (None, None, None, 32)       288       ['Conv1_relu[0][0]']          \n",
      " epthwiseConv2D)                                                                                  \n",
      "                                                                                                  \n",
      " expanded_conv_depthwise_BN  (None, None, None, 32)       128       ['expanded_conv_depthwise[0][0\n",
      "  (BatchNormalization)                                              ]']                           \n",
      "                                                                                                  \n",
      " expanded_conv_depthwise_re  (None, None, None, 32)       0         ['expanded_conv_depthwise_BN[0\n",
      " lu (ReLU)                                                          ][0]']                        \n",
      "                                                                                                  \n",
      " expanded_conv_project (Con  (None, None, None, 16)       512       ['expanded_conv_depthwise_relu\n",
      " v2D)                                                               [0][0]']                      \n",
      "                                                                                                  \n",
      " expanded_conv_project_BN (  (None, None, None, 16)       64        ['expanded_conv_project[0][0]'\n",
      " BatchNormalization)                                                ]                             \n",
      "                                                                                                  \n",
      " block_1_expand (Conv2D)     (None, None, None, 96)       1536      ['expanded_conv_project_BN[0][\n",
      "                                                                    0]']                          \n",
      "                                                                                                  \n",
      " block_1_expand_BN (BatchNo  (None, None, None, 96)       384       ['block_1_expand[0][0]']      \n",
      " rmalization)                                                                                     \n",
      "                                                                                                  \n",
      " block_1_expand_relu (ReLU)  (None, None, None, 96)       0         ['block_1_expand_BN[0][0]']   \n",
      "                                                                                                  \n",
      " block_1_pad (ZeroPadding2D  (None, None, None, 96)       0         ['block_1_expand_relu[0][0]'] \n",
      " )                                                                                                \n",
      "                                                                                                  \n",
      " block_1_depthwise (Depthwi  (None, None, None, 96)       864       ['block_1_pad[0][0]']         \n",
      " seConv2D)                                                                                        \n",
      "                                                                                                  \n",
      " block_1_depthwise_BN (Batc  (None, None, None, 96)       384       ['block_1_depthwise[0][0]']   \n",
      " hNormalization)                                                                                  \n",
      "                                                                                                  \n",
      " block_1_depthwise_relu (Re  (None, None, None, 96)       0         ['block_1_depthwise_BN[0][0]']\n",
      " LU)                                                                                              \n",
      "                                                                                                  \n",
      " block_1_project (Conv2D)    (None, None, None, 24)       2304      ['block_1_depthwise_relu[0][0]\n",
      "                                                                    ']                            \n",
      "                                                                                                  \n",
      " block_1_project_BN (BatchN  (None, None, None, 24)       96        ['block_1_project[0][0]']     \n",
      " ormalization)                                                                                    \n",
      "                                                                                                  \n",
      " block_2_expand (Conv2D)     (None, None, None, 144)      3456      ['block_1_project_BN[0][0]']  \n",
      "                                                                                                  \n",
      " block_2_expand_BN (BatchNo  (None, None, None, 144)      576       ['block_2_expand[0][0]']      \n",
      " rmalization)                                                                                     \n",
      "                                                                                                  \n",
      " block_2_expand_relu (ReLU)  (None, None, None, 144)      0         ['block_2_expand_BN[0][0]']   \n",
      "                                                                                                  \n",
      " block_2_depthwise (Depthwi  (None, None, None, 144)      1296      ['block_2_expand_relu[0][0]'] \n",
      " seConv2D)                                                                                        \n",
      "                                                                                                  \n",
      " block_2_depthwise_BN (Batc  (None, None, None, 144)      576       ['block_2_depthwise[0][0]']   \n",
      " hNormalization)                                                                                  \n",
      "                                                                                                  \n",
      " block_2_depthwise_relu (Re  (None, None, None, 144)      0         ['block_2_depthwise_BN[0][0]']\n",
      " LU)                                                                                              \n",
      "                                                                                                  \n",
      " block_2_project (Conv2D)    (None, None, None, 24)       3456      ['block_2_depthwise_relu[0][0]\n",
      "                                                                    ']                            \n",
      "                                                                                                  \n",
      " block_2_project_BN (BatchN  (None, None, None, 24)       96        ['block_2_project[0][0]']     \n",
      " ormalization)                                                                                    \n",
      "                                                                                                  \n",
      " block_2_add (Add)           (None, None, None, 24)       0         ['block_1_project_BN[0][0]',  \n",
      "                                                                     'block_2_project_BN[0][0]']  \n",
      "                                                                                                  \n",
      " block_3_expand (Conv2D)     (None, None, None, 144)      3456      ['block_2_add[0][0]']         \n",
      "                                                                                                  \n",
      " block_3_expand_BN (BatchNo  (None, None, None, 144)      576       ['block_3_expand[0][0]']      \n",
      " rmalization)                                                                                     \n",
      "                                                                                                  \n",
      " block_3_expand_relu (ReLU)  (None, None, None, 144)      0         ['block_3_expand_BN[0][0]']   \n",
      "                                                                                                  \n",
      " block_3_pad (ZeroPadding2D  (None, None, None, 144)      0         ['block_3_expand_relu[0][0]'] \n",
      " )                                                                                                \n",
      "                                                                                                  \n",
      " block_3_depthwise (Depthwi  (None, None, None, 144)      1296      ['block_3_pad[0][0]']         \n",
      " seConv2D)                                                                                        \n",
      "                                                                                                  \n",
      " block_3_depthwise_BN (Batc  (None, None, None, 144)      576       ['block_3_depthwise[0][0]']   \n",
      " hNormalization)                                                                                  \n",
      "                                                                                                  \n",
      " block_3_depthwise_relu (Re  (None, None, None, 144)      0         ['block_3_depthwise_BN[0][0]']\n",
      " LU)                                                                                              \n",
      "                                                                                                  \n",
      " block_3_project (Conv2D)    (None, None, None, 32)       4608      ['block_3_depthwise_relu[0][0]\n",
      "                                                                    ']                            \n",
      "                                                                                                  \n",
      " block_3_project_BN (BatchN  (None, None, None, 32)       128       ['block_3_project[0][0]']     \n",
      " ormalization)                                                                                    \n",
      "                                                                                                  \n",
      " block_4_expand (Conv2D)     (None, None, None, 192)      6144      ['block_3_project_BN[0][0]']  \n",
      "                                                                                                  \n",
      " block_4_expand_BN (BatchNo  (None, None, None, 192)      768       ['block_4_expand[0][0]']      \n",
      " rmalization)                                                                                     \n",
      "                                                                                                  \n",
      " block_4_expand_relu (ReLU)  (None, None, None, 192)      0         ['block_4_expand_BN[0][0]']   \n",
      "                                                                                                  \n",
      " block_4_depthwise (Depthwi  (None, None, None, 192)      1728      ['block_4_expand_relu[0][0]'] \n",
      " seConv2D)                                                                                        \n",
      "                                                                                                  \n",
      " block_4_depthwise_BN (Batc  (None, None, None, 192)      768       ['block_4_depthwise[0][0]']   \n",
      " hNormalization)                                                                                  \n",
      "                                                                                                  \n",
      " block_4_depthwise_relu (Re  (None, None, None, 192)      0         ['block_4_depthwise_BN[0][0]']\n",
      " LU)                                                                                              \n",
      "                                                                                                  \n",
      " block_4_project (Conv2D)    (None, None, None, 32)       6144      ['block_4_depthwise_relu[0][0]\n",
      "                                                                    ']                            \n",
      "                                                                                                  \n",
      " block_4_project_BN (BatchN  (None, None, None, 32)       128       ['block_4_project[0][0]']     \n",
      " ormalization)                                                                                    \n",
      "                                                                                                  \n",
      " block_4_add (Add)           (None, None, None, 32)       0         ['block_3_project_BN[0][0]',  \n",
      "                                                                     'block_4_project_BN[0][0]']  \n",
      "                                                                                                  \n",
      " block_5_expand (Conv2D)     (None, None, None, 192)      6144      ['block_4_add[0][0]']         \n",
      "                                                                                                  \n",
      " block_5_expand_BN (BatchNo  (None, None, None, 192)      768       ['block_5_expand[0][0]']      \n",
      " rmalization)                                                                                     \n",
      "                                                                                                  \n",
      " block_5_expand_relu (ReLU)  (None, None, None, 192)      0         ['block_5_expand_BN[0][0]']   \n",
      "                                                                                                  \n",
      " block_5_depthwise (Depthwi  (None, None, None, 192)      1728      ['block_5_expand_relu[0][0]'] \n",
      " seConv2D)                                                                                        \n",
      "                                                                                                  \n",
      " block_5_depthwise_BN (Batc  (None, None, None, 192)      768       ['block_5_depthwise[0][0]']   \n",
      " hNormalization)                                                                                  \n",
      "                                                                                                  \n",
      " block_5_depthwise_relu (Re  (None, None, None, 192)      0         ['block_5_depthwise_BN[0][0]']\n",
      " LU)                                                                                              \n",
      "                                                                                                  \n",
      " block_5_project (Conv2D)    (None, None, None, 32)       6144      ['block_5_depthwise_relu[0][0]\n",
      "                                                                    ']                            \n",
      "                                                                                                  \n",
      " block_5_project_BN (BatchN  (None, None, None, 32)       128       ['block_5_project[0][0]']     \n",
      " ormalization)                                                                                    \n",
      "                                                                                                  \n",
      " block_5_add (Add)           (None, None, None, 32)       0         ['block_4_add[0][0]',         \n",
      "                                                                     'block_5_project_BN[0][0]']  \n",
      "                                                                                                  \n",
      " block_6_expand (Conv2D)     (None, None, None, 192)      6144      ['block_5_add[0][0]']         \n",
      "                                                                                                  \n",
      " block_6_expand_BN (BatchNo  (None, None, None, 192)      768       ['block_6_expand[0][0]']      \n",
      " rmalization)                                                                                     \n",
      "                                                                                                  \n",
      " block_6_expand_relu (ReLU)  (None, None, None, 192)      0         ['block_6_expand_BN[0][0]']   \n",
      "                                                                                                  \n",
      " block_6_pad (ZeroPadding2D  (None, None, None, 192)      0         ['block_6_expand_relu[0][0]'] \n",
      " )                                                                                                \n",
      "                                                                                                  \n",
      " block_6_depthwise (Depthwi  (None, None, None, 192)      1728      ['block_6_pad[0][0]']         \n",
      " seConv2D)                                                                                        \n",
      "                                                                                                  \n",
      " block_6_depthwise_BN (Batc  (None, None, None, 192)      768       ['block_6_depthwise[0][0]']   \n",
      " hNormalization)                                                                                  \n",
      "                                                                                                  \n",
      " block_6_depthwise_relu (Re  (None, None, None, 192)      0         ['block_6_depthwise_BN[0][0]']\n",
      " LU)                                                                                              \n",
      "                                                                                                  \n",
      " block_6_project (Conv2D)    (None, None, None, 64)       12288     ['block_6_depthwise_relu[0][0]\n",
      "                                                                    ']                            \n",
      "                                                                                                  \n",
      " block_6_project_BN (BatchN  (None, None, None, 64)       256       ['block_6_project[0][0]']     \n",
      " ormalization)                                                                                    \n",
      "                                                                                                  \n",
      " block_7_expand (Conv2D)     (None, None, None, 384)      24576     ['block_6_project_BN[0][0]']  \n",
      "                                                                                                  \n",
      " block_7_expand_BN (BatchNo  (None, None, None, 384)      1536      ['block_7_expand[0][0]']      \n",
      " rmalization)                                                                                     \n",
      "                                                                                                  \n",
      " block_7_expand_relu (ReLU)  (None, None, None, 384)      0         ['block_7_expand_BN[0][0]']   \n",
      "                                                                                                  \n",
      " block_7_depthwise (Depthwi  (None, None, None, 384)      3456      ['block_7_expand_relu[0][0]'] \n",
      " seConv2D)                                                                                        \n",
      "                                                                                                  \n",
      " block_7_depthwise_BN (Batc  (None, None, None, 384)      1536      ['block_7_depthwise[0][0]']   \n",
      " hNormalization)                                                                                  \n",
      "                                                                                                  \n",
      " block_7_depthwise_relu (Re  (None, None, None, 384)      0         ['block_7_depthwise_BN[0][0]']\n",
      " LU)                                                                                              \n",
      "                                                                                                  \n",
      " block_7_project (Conv2D)    (None, None, None, 64)       24576     ['block_7_depthwise_relu[0][0]\n",
      "                                                                    ']                            \n",
      "                                                                                                  \n",
      " block_7_project_BN (BatchN  (None, None, None, 64)       256       ['block_7_project[0][0]']     \n",
      " ormalization)                                                                                    \n",
      "                                                                                                  \n",
      " block_7_add (Add)           (None, None, None, 64)       0         ['block_6_project_BN[0][0]',  \n",
      "                                                                     'block_7_project_BN[0][0]']  \n",
      "                                                                                                  \n",
      " block_8_expand (Conv2D)     (None, None, None, 384)      24576     ['block_7_add[0][0]']         \n",
      "                                                                                                  \n",
      " block_8_expand_BN (BatchNo  (None, None, None, 384)      1536      ['block_8_expand[0][0]']      \n",
      " rmalization)                                                                                     \n",
      "                                                                                                  \n",
      " block_8_expand_relu (ReLU)  (None, None, None, 384)      0         ['block_8_expand_BN[0][0]']   \n",
      "                                                                                                  \n",
      " block_8_depthwise (Depthwi  (None, None, None, 384)      3456      ['block_8_expand_relu[0][0]'] \n",
      " seConv2D)                                                                                        \n",
      "                                                                                                  \n",
      " block_8_depthwise_BN (Batc  (None, None, None, 384)      1536      ['block_8_depthwise[0][0]']   \n",
      " hNormalization)                                                                                  \n",
      "                                                                                                  \n",
      " block_8_depthwise_relu (Re  (None, None, None, 384)      0         ['block_8_depthwise_BN[0][0]']\n",
      " LU)                                                                                              \n",
      "                                                                                                  \n",
      " block_8_project (Conv2D)    (None, None, None, 64)       24576     ['block_8_depthwise_relu[0][0]\n",
      "                                                                    ']                            \n",
      "                                                                                                  \n",
      " block_8_project_BN (BatchN  (None, None, None, 64)       256       ['block_8_project[0][0]']     \n",
      " ormalization)                                                                                    \n",
      "                                                                                                  \n",
      " block_8_add (Add)           (None, None, None, 64)       0         ['block_7_add[0][0]',         \n",
      "                                                                     'block_8_project_BN[0][0]']  \n",
      "                                                                                                  \n",
      " block_9_expand (Conv2D)     (None, None, None, 384)      24576     ['block_8_add[0][0]']         \n",
      "                                                                                                  \n",
      " block_9_expand_BN (BatchNo  (None, None, None, 384)      1536      ['block_9_expand[0][0]']      \n",
      " rmalization)                                                                                     \n",
      "                                                                                                  \n",
      " block_9_expand_relu (ReLU)  (None, None, None, 384)      0         ['block_9_expand_BN[0][0]']   \n",
      "                                                                                                  \n",
      " block_9_depthwise (Depthwi  (None, None, None, 384)      3456      ['block_9_expand_relu[0][0]'] \n",
      " seConv2D)                                                                                        \n",
      "                                                                                                  \n",
      " block_9_depthwise_BN (Batc  (None, None, None, 384)      1536      ['block_9_depthwise[0][0]']   \n",
      " hNormalization)                                                                                  \n",
      "                                                                                                  \n",
      " block_9_depthwise_relu (Re  (None, None, None, 384)      0         ['block_9_depthwise_BN[0][0]']\n",
      " LU)                                                                                              \n",
      "                                                                                                  \n",
      " block_9_project (Conv2D)    (None, None, None, 64)       24576     ['block_9_depthwise_relu[0][0]\n",
      "                                                                    ']                            \n",
      "                                                                                                  \n",
      " block_9_project_BN (BatchN  (None, None, None, 64)       256       ['block_9_project[0][0]']     \n",
      " ormalization)                                                                                    \n",
      "                                                                                                  \n",
      " block_9_add (Add)           (None, None, None, 64)       0         ['block_8_add[0][0]',         \n",
      "                                                                     'block_9_project_BN[0][0]']  \n",
      "                                                                                                  \n",
      " block_10_expand (Conv2D)    (None, None, None, 384)      24576     ['block_9_add[0][0]']         \n",
      "                                                                                                  \n",
      " block_10_expand_BN (BatchN  (None, None, None, 384)      1536      ['block_10_expand[0][0]']     \n",
      " ormalization)                                                                                    \n",
      "                                                                                                  \n",
      " block_10_expand_relu (ReLU  (None, None, None, 384)      0         ['block_10_expand_BN[0][0]']  \n",
      " )                                                                                                \n",
      "                                                                                                  \n",
      " block_10_depthwise (Depthw  (None, None, None, 384)      3456      ['block_10_expand_relu[0][0]']\n",
      " iseConv2D)                                                                                       \n",
      "                                                                                                  \n",
      " block_10_depthwise_BN (Bat  (None, None, None, 384)      1536      ['block_10_depthwise[0][0]']  \n",
      " chNormalization)                                                                                 \n",
      "                                                                                                  \n",
      " block_10_depthwise_relu (R  (None, None, None, 384)      0         ['block_10_depthwise_BN[0][0]'\n",
      " eLU)                                                               ]                             \n",
      "                                                                                                  \n",
      " block_10_project (Conv2D)   (None, None, None, 96)       36864     ['block_10_depthwise_relu[0][0\n",
      "                                                                    ]']                           \n",
      "                                                                                                  \n",
      " block_10_project_BN (Batch  (None, None, None, 96)       384       ['block_10_project[0][0]']    \n",
      " Normalization)                                                                                   \n",
      "                                                                                                  \n",
      " block_11_expand (Conv2D)    (None, None, None, 576)      55296     ['block_10_project_BN[0][0]'] \n",
      "                                                                                                  \n",
      " block_11_expand_BN (BatchN  (None, None, None, 576)      2304      ['block_11_expand[0][0]']     \n",
      " ormalization)                                                                                    \n",
      "                                                                                                  \n",
      " block_11_expand_relu (ReLU  (None, None, None, 576)      0         ['block_11_expand_BN[0][0]']  \n",
      " )                                                                                                \n",
      "                                                                                                  \n",
      " block_11_depthwise (Depthw  (None, None, None, 576)      5184      ['block_11_expand_relu[0][0]']\n",
      " iseConv2D)                                                                                       \n",
      "                                                                                                  \n",
      " block_11_depthwise_BN (Bat  (None, None, None, 576)      2304      ['block_11_depthwise[0][0]']  \n",
      " chNormalization)                                                                                 \n",
      "                                                                                                  \n",
      " block_11_depthwise_relu (R  (None, None, None, 576)      0         ['block_11_depthwise_BN[0][0]'\n",
      " eLU)                                                               ]                             \n",
      "                                                                                                  \n",
      " block_11_project (Conv2D)   (None, None, None, 96)       55296     ['block_11_depthwise_relu[0][0\n",
      "                                                                    ]']                           \n",
      "                                                                                                  \n",
      " block_11_project_BN (Batch  (None, None, None, 96)       384       ['block_11_project[0][0]']    \n",
      " Normalization)                                                                                   \n",
      "                                                                                                  \n",
      " block_11_add (Add)          (None, None, None, 96)       0         ['block_10_project_BN[0][0]', \n",
      "                                                                     'block_11_project_BN[0][0]'] \n",
      "                                                                                                  \n",
      " block_12_expand (Conv2D)    (None, None, None, 576)      55296     ['block_11_add[0][0]']        \n",
      "                                                                                                  \n",
      " block_12_expand_BN (BatchN  (None, None, None, 576)      2304      ['block_12_expand[0][0]']     \n",
      " ormalization)                                                                                    \n",
      "                                                                                                  \n",
      " block_12_expand_relu (ReLU  (None, None, None, 576)      0         ['block_12_expand_BN[0][0]']  \n",
      " )                                                                                                \n",
      "                                                                                                  \n",
      " block_12_depthwise (Depthw  (None, None, None, 576)      5184      ['block_12_expand_relu[0][0]']\n",
      " iseConv2D)                                                                                       \n",
      "                                                                                                  \n",
      " block_12_depthwise_BN (Bat  (None, None, None, 576)      2304      ['block_12_depthwise[0][0]']  \n",
      " chNormalization)                                                                                 \n",
      "                                                                                                  \n",
      " block_12_depthwise_relu (R  (None, None, None, 576)      0         ['block_12_depthwise_BN[0][0]'\n",
      " eLU)                                                               ]                             \n",
      "                                                                                                  \n",
      " block_12_project (Conv2D)   (None, None, None, 96)       55296     ['block_12_depthwise_relu[0][0\n",
      "                                                                    ]']                           \n",
      "                                                                                                  \n",
      " block_12_project_BN (Batch  (None, None, None, 96)       384       ['block_12_project[0][0]']    \n",
      " Normalization)                                                                                   \n",
      "                                                                                                  \n",
      " block_12_add (Add)          (None, None, None, 96)       0         ['block_11_add[0][0]',        \n",
      "                                                                     'block_12_project_BN[0][0]'] \n",
      "                                                                                                  \n",
      " block_13_expand (Conv2D)    (None, None, None, 576)      55296     ['block_12_add[0][0]']        \n",
      "                                                                                                  \n",
      " block_13_expand_BN (BatchN  (None, None, None, 576)      2304      ['block_13_expand[0][0]']     \n",
      " ormalization)                                                                                    \n",
      "                                                                                                  \n",
      " block_13_expand_relu (ReLU  (None, None, None, 576)      0         ['block_13_expand_BN[0][0]']  \n",
      " )                                                                                                \n",
      "                                                                                                  \n",
      " block_13_pad (ZeroPadding2  (None, None, None, 576)      0         ['block_13_expand_relu[0][0]']\n",
      " D)                                                                                               \n",
      "                                                                                                  \n",
      " block_13_depthwise (Depthw  (None, None, None, 576)      5184      ['block_13_pad[0][0]']        \n",
      " iseConv2D)                                                                                       \n",
      "                                                                                                  \n",
      " block_13_depthwise_BN (Bat  (None, None, None, 576)      2304      ['block_13_depthwise[0][0]']  \n",
      " chNormalization)                                                                                 \n",
      "                                                                                                  \n",
      " block_13_depthwise_relu (R  (None, None, None, 576)      0         ['block_13_depthwise_BN[0][0]'\n",
      " eLU)                                                               ]                             \n",
      "                                                                                                  \n",
      " block_13_project (Conv2D)   (None, None, None, 160)      92160     ['block_13_depthwise_relu[0][0\n",
      "                                                                    ]']                           \n",
      "                                                                                                  \n",
      " block_13_project_BN (Batch  (None, None, None, 160)      640       ['block_13_project[0][0]']    \n",
      " Normalization)                                                                                   \n",
      "                                                                                                  \n",
      " block_14_expand (Conv2D)    (None, None, None, 960)      153600    ['block_13_project_BN[0][0]'] \n",
      "                                                                                                  \n",
      " block_14_expand_BN (BatchN  (None, None, None, 960)      3840      ['block_14_expand[0][0]']     \n",
      " ormalization)                                                                                    \n",
      "                                                                                                  \n",
      " block_14_expand_relu (ReLU  (None, None, None, 960)      0         ['block_14_expand_BN[0][0]']  \n",
      " )                                                                                                \n",
      "                                                                                                  \n",
      " block_14_depthwise (Depthw  (None, None, None, 960)      8640      ['block_14_expand_relu[0][0]']\n",
      " iseConv2D)                                                                                       \n",
      "                                                                                                  \n",
      " block_14_depthwise_BN (Bat  (None, None, None, 960)      3840      ['block_14_depthwise[0][0]']  \n",
      " chNormalization)                                                                                 \n",
      "                                                                                                  \n",
      " block_14_depthwise_relu (R  (None, None, None, 960)      0         ['block_14_depthwise_BN[0][0]'\n",
      " eLU)                                                               ]                             \n",
      "                                                                                                  \n",
      " block_14_project (Conv2D)   (None, None, None, 160)      153600    ['block_14_depthwise_relu[0][0\n",
      "                                                                    ]']                           \n",
      "                                                                                                  \n",
      " block_14_project_BN (Batch  (None, None, None, 160)      640       ['block_14_project[0][0]']    \n",
      " Normalization)                                                                                   \n",
      "                                                                                                  \n",
      " block_14_add (Add)          (None, None, None, 160)      0         ['block_13_project_BN[0][0]', \n",
      "                                                                     'block_14_project_BN[0][0]'] \n",
      "                                                                                                  \n",
      " block_15_expand (Conv2D)    (None, None, None, 960)      153600    ['block_14_add[0][0]']        \n",
      "                                                                                                  \n",
      " block_15_expand_BN (BatchN  (None, None, None, 960)      3840      ['block_15_expand[0][0]']     \n",
      " ormalization)                                                                                    \n",
      "                                                                                                  \n",
      " block_15_expand_relu (ReLU  (None, None, None, 960)      0         ['block_15_expand_BN[0][0]']  \n",
      " )                                                                                                \n",
      "                                                                                                  \n",
      " block_15_depthwise (Depthw  (None, None, None, 960)      8640      ['block_15_expand_relu[0][0]']\n",
      " iseConv2D)                                                                                       \n",
      "                                                                                                  \n",
      " block_15_depthwise_BN (Bat  (None, None, None, 960)      3840      ['block_15_depthwise[0][0]']  \n",
      " chNormalization)                                                                                 \n",
      "                                                                                                  \n",
      " block_15_depthwise_relu (R  (None, None, None, 960)      0         ['block_15_depthwise_BN[0][0]'\n",
      " eLU)                                                               ]                             \n",
      "                                                                                                  \n",
      " block_15_project (Conv2D)   (None, None, None, 160)      153600    ['block_15_depthwise_relu[0][0\n",
      "                                                                    ]']                           \n",
      "                                                                                                  \n",
      " block_15_project_BN (Batch  (None, None, None, 160)      640       ['block_15_project[0][0]']    \n",
      " Normalization)                                                                                   \n",
      "                                                                                                  \n",
      " block_15_add (Add)          (None, None, None, 160)      0         ['block_14_add[0][0]',        \n",
      "                                                                     'block_15_project_BN[0][0]'] \n",
      "                                                                                                  \n",
      " block_16_expand (Conv2D)    (None, None, None, 960)      153600    ['block_15_add[0][0]']        \n",
      "                                                                                                  \n",
      " block_16_expand_BN (BatchN  (None, None, None, 960)      3840      ['block_16_expand[0][0]']     \n",
      " ormalization)                                                                                    \n",
      "                                                                                                  \n",
      " block_16_expand_relu (ReLU  (None, None, None, 960)      0         ['block_16_expand_BN[0][0]']  \n",
      " )                                                                                                \n",
      "                                                                                                  \n",
      " block_16_depthwise (Depthw  (None, None, None, 960)      8640      ['block_16_expand_relu[0][0]']\n",
      " iseConv2D)                                                                                       \n",
      "                                                                                                  \n",
      " block_16_depthwise_BN (Bat  (None, None, None, 960)      3840      ['block_16_depthwise[0][0]']  \n",
      " chNormalization)                                                                                 \n",
      "                                                                                                  \n",
      " block_16_depthwise_relu (R  (None, None, None, 960)      0         ['block_16_depthwise_BN[0][0]'\n",
      " eLU)                                                               ]                             \n",
      "                                                                                                  \n",
      " block_16_project (Conv2D)   (None, None, None, 320)      307200    ['block_16_depthwise_relu[0][0\n",
      "                                                                    ]']                           \n",
      "                                                                                                  \n",
      " block_16_project_BN (Batch  (None, None, None, 320)      1280      ['block_16_project[0][0]']    \n",
      " Normalization)                                                                                   \n",
      "                                                                                                  \n",
      " Conv_1 (Conv2D)             (None, None, None, 1280)     409600    ['block_16_project_BN[0][0]'] \n",
      "                                                                                                  \n",
      " Conv_1_bn (BatchNormalizat  (None, None, None, 1280)     5120      ['Conv_1[0][0]']              \n",
      " ion)                                                                                             \n",
      "                                                                                                  \n",
      " out_relu (ReLU)             (None, None, None, 1280)     0         ['Conv_1_bn[0][0]']           \n",
      "                                                                                                  \n",
      "==================================================================================================\n",
      "Total params: 2257984 (8.61 MB)\n",
      "Trainable params: 0 (0.00 Byte)\n",
      "Non-trainable params: 2257984 (8.61 MB)\n",
      "__________________________________________________________________________________________________\n"
     ]
    }
   ],
   "source": [
    "base_mobilenetv2_model.summary()"
   ]
  },
  {
   "cell_type": "code",
   "execution_count": 7,
   "metadata": {},
   "outputs": [],
   "source": [
    "def custom_classifier(base_model, num_classes):\n",
    "    x = base_model.output\n",
    "    x = GlobalAveragePooling2D()(x)\n",
    "    x = Dense(128, activation='relu')(x)\n",
    "    output = Dense(num_classes, activation='softmax')(x)\n",
    "    model = Model(inputs=base_model.input, outputs=output)\n",
    "    return model"
   ]
  },
  {
   "cell_type": "code",
   "execution_count": 8,
   "metadata": {},
   "outputs": [],
   "source": [
    "mobilenetv2_model = custom_classifier(base_mobilenetv2_model, num_classes)"
   ]
  },
  {
   "cell_type": "code",
   "execution_count": 9,
   "metadata": {},
   "outputs": [],
   "source": [
    "mobilenetv2_model.compile(loss='categorical_crossentropy',\n",
    "                             optimizer='Adam',\n",
    "                             metrics=['accuracy', 'AUC', 'Precision', 'Recall'])"
   ]
  },
  {
   "cell_type": "code",
   "execution_count": 33,
   "metadata": {},
   "outputs": [
    {
     "name": "stdout",
     "output_type": "stream",
     "text": [
      "Epoch 1/50\n",
      "231/231 [==============================] - 111s 481ms/step - loss: 1.9862 - accuracy: 0.3153 - auc: 0.7379 - precision: 0.5106 - recall: 0.0049 - val_loss: 1.7678 - val_accuracy: 0.4239 - val_auc: 0.8353 - val_precision: 0.3208 - val_recall: 0.0034\n",
      "Epoch 2/50\n",
      "231/231 [==============================] - 110s 473ms/step - loss: 1.8599 - accuracy: 0.3437 - auc: 0.7888 - precision: 0.5323 - recall: 0.0251 - val_loss: 1.5701 - val_accuracy: 0.4006 - val_auc: 0.8713 - val_precision: 0.4780 - val_recall: 0.1980\n",
      "Epoch 3/50\n",
      "231/231 [==============================] - 110s 476ms/step - loss: 1.7418 - accuracy: 0.3722 - auc: 0.8251 - precision: 0.5511 - recall: 0.0423 - val_loss: 1.4762 - val_accuracy: 0.4328 - val_auc: 0.8844 - val_precision: 0.6811 - val_recall: 0.1117\n",
      "Epoch 4/50\n",
      "231/231 [==============================] - 117s 507ms/step - loss: 1.6525 - accuracy: 0.3915 - auc: 0.8459 - precision: 0.5992 - recall: 0.0670 - val_loss: 1.4076 - val_accuracy: 0.4324 - val_auc: 0.8926 - val_precision: 0.7097 - val_recall: 0.1035\n",
      "Epoch 5/50\n",
      "231/231 [==============================] - 109s 473ms/step - loss: 1.5958 - accuracy: 0.4045 - auc: 0.8562 - precision: 0.5984 - recall: 0.0891 - val_loss: 1.3490 - val_accuracy: 0.4626 - val_auc: 0.9014 - val_precision: 0.7006 - val_recall: 0.1536\n",
      "Epoch 6/50\n",
      "231/231 [==============================] - 112s 486ms/step - loss: 1.5466 - accuracy: 0.4178 - auc: 0.8657 - precision: 0.6467 - recall: 0.1066 - val_loss: 1.3932 - val_accuracy: 0.4365 - val_auc: 0.8900 - val_precision: 0.6281 - val_recall: 0.1530\n",
      "Epoch 7/50\n",
      "231/231 [==============================] - 108s 467ms/step - loss: 1.5116 - accuracy: 0.4290 - auc: 0.8714 - precision: 0.6417 - recall: 0.1302 - val_loss: 1.2596 - val_accuracy: 0.4736 - val_auc: 0.9129 - val_precision: 0.6509 - val_recall: 0.2316\n",
      "Epoch 8/50\n",
      "231/231 [==============================] - 107s 463ms/step - loss: 1.4860 - accuracy: 0.4340 - auc: 0.8752 - precision: 0.6489 - recall: 0.1478 - val_loss: 1.2745 - val_accuracy: 0.4742 - val_auc: 0.9079 - val_precision: 0.6826 - val_recall: 0.2057\n",
      "Epoch 9/50\n",
      "231/231 [==============================] - 107s 463ms/step - loss: 1.4706 - accuracy: 0.4408 - auc: 0.8777 - precision: 0.6399 - recall: 0.1661 - val_loss: 1.2119 - val_accuracy: 0.5435 - val_auc: 0.9215 - val_precision: 0.7179 - val_recall: 0.2207\n",
      "Epoch 10/50\n",
      "231/231 [==============================] - 107s 463ms/step - loss: 1.4313 - accuracy: 0.4542 - auc: 0.8849 - precision: 0.6482 - recall: 0.1713 - val_loss: 1.2148 - val_accuracy: 0.5447 - val_auc: 0.9187 - val_precision: 0.6923 - val_recall: 0.2557\n",
      "Epoch 11/50\n",
      "231/231 [==============================] - 107s 463ms/step - loss: 1.4313 - accuracy: 0.4518 - auc: 0.8842 - precision: 0.6649 - recall: 0.1822 - val_loss: 1.1895 - val_accuracy: 0.5212 - val_auc: 0.9217 - val_precision: 0.6845 - val_recall: 0.2409\n",
      "Epoch 12/50\n",
      "231/231 [==============================] - 107s 463ms/step - loss: 1.4019 - accuracy: 0.4614 - auc: 0.8896 - precision: 0.6495 - recall: 0.1908 - val_loss: 1.2224 - val_accuracy: 0.4673 - val_auc: 0.9152 - val_precision: 0.6118 - val_recall: 0.2229\n",
      "Epoch 13/50\n",
      "231/231 [==============================] - 108s 465ms/step - loss: 1.3979 - accuracy: 0.4626 - auc: 0.8898 - precision: 0.6437 - recall: 0.1994 - val_loss: 1.1457 - val_accuracy: 0.5396 - val_auc: 0.9294 - val_precision: 0.6966 - val_recall: 0.2419\n",
      "Epoch 14/50\n",
      "231/231 [==============================] - 108s 465ms/step - loss: 1.3925 - accuracy: 0.4668 - auc: 0.8906 - precision: 0.6511 - recall: 0.1978 - val_loss: 1.1851 - val_accuracy: 0.5293 - val_auc: 0.9232 - val_precision: 0.7285 - val_recall: 0.2458\n",
      "Epoch 15/50\n",
      "231/231 [==============================] - 107s 463ms/step - loss: 1.3602 - accuracy: 0.4776 - auc: 0.8962 - precision: 0.6693 - recall: 0.2161 - val_loss: 1.1114 - val_accuracy: 0.5726 - val_auc: 0.9324 - val_precision: 0.7247 - val_recall: 0.3072\n",
      "Epoch 16/50\n",
      "231/231 [==============================] - 107s 463ms/step - loss: 1.3541 - accuracy: 0.4848 - auc: 0.8968 - precision: 0.6587 - recall: 0.2230 - val_loss: 1.1229 - val_accuracy: 0.5522 - val_auc: 0.9297 - val_precision: 0.6990 - val_recall: 0.2950\n",
      "Epoch 17/50\n",
      "231/231 [==============================] - 109s 470ms/step - loss: 1.3444 - accuracy: 0.4883 - auc: 0.8983 - precision: 0.6784 - recall: 0.2282 - val_loss: 1.1788 - val_accuracy: 0.4898 - val_auc: 0.9217 - val_precision: 0.5743 - val_recall: 0.2843\n",
      "Epoch 18/50\n",
      "231/231 [==============================] - 107s 461ms/step - loss: 1.3567 - accuracy: 0.4803 - auc: 0.8959 - precision: 0.6679 - recall: 0.2333 - val_loss: 1.0435 - val_accuracy: 0.5943 - val_auc: 0.9410 - val_precision: 0.7334 - val_recall: 0.3534\n",
      "Epoch 19/50\n",
      "231/231 [==============================] - 107s 463ms/step - loss: 1.3392 - accuracy: 0.4896 - auc: 0.8985 - precision: 0.6847 - recall: 0.2434 - val_loss: 1.1835 - val_accuracy: 0.5137 - val_auc: 0.9202 - val_precision: 0.6100 - val_recall: 0.2932\n",
      "Epoch 20/50\n",
      "231/231 [==============================] - 107s 463ms/step - loss: 1.3264 - accuracy: 0.4951 - auc: 0.9008 - precision: 0.6805 - recall: 0.2471 - val_loss: 1.0577 - val_accuracy: 0.6221 - val_auc: 0.9403 - val_precision: 0.7659 - val_recall: 0.3420\n",
      "Epoch 21/50\n",
      "231/231 [==============================] - 107s 464ms/step - loss: 1.3129 - accuracy: 0.4982 - auc: 0.9028 - precision: 0.6790 - recall: 0.2575 - val_loss: 1.1168 - val_accuracy: 0.5457 - val_auc: 0.9304 - val_precision: 0.7133 - val_recall: 0.3635\n",
      "Epoch 22/50\n",
      "231/231 [==============================] - 108s 467ms/step - loss: 1.3118 - accuracy: 0.4980 - auc: 0.9028 - precision: 0.6727 - recall: 0.2563 - val_loss: 1.0222 - val_accuracy: 0.6095 - val_auc: 0.9436 - val_precision: 0.7536 - val_recall: 0.3749\n",
      "Epoch 23/50\n",
      "231/231 [==============================] - 107s 465ms/step - loss: 1.2801 - accuracy: 0.5131 - auc: 0.9082 - precision: 0.6985 - recall: 0.2663 - val_loss: 1.0202 - val_accuracy: 0.6182 - val_auc: 0.9440 - val_precision: 0.7505 - val_recall: 0.3554\n",
      "Epoch 24/50\n",
      "231/231 [==============================] - 109s 470ms/step - loss: 1.2916 - accuracy: 0.5037 - auc: 0.9060 - precision: 0.6773 - recall: 0.2696 - val_loss: 1.0862 - val_accuracy: 0.5720 - val_auc: 0.9337 - val_precision: 0.6722 - val_recall: 0.4093\n",
      "Epoch 25/50\n",
      "231/231 [==============================] - 108s 465ms/step - loss: 1.2910 - accuracy: 0.5092 - auc: 0.9061 - precision: 0.6801 - recall: 0.2742 - val_loss: 1.0189 - val_accuracy: 0.6103 - val_auc: 0.9441 - val_precision: 0.7626 - val_recall: 0.3951\n",
      "Epoch 26/50\n",
      "231/231 [==============================] - 108s 466ms/step - loss: 1.2858 - accuracy: 0.5074 - auc: 0.9069 - precision: 0.6806 - recall: 0.2768 - val_loss: 1.0171 - val_accuracy: 0.6132 - val_auc: 0.9441 - val_precision: 0.7597 - val_recall: 0.3805\n",
      "Epoch 27/50\n",
      "231/231 [==============================] - 108s 466ms/step - loss: 1.2635 - accuracy: 0.5200 - auc: 0.9106 - precision: 0.6909 - recall: 0.2818 - val_loss: 0.9670 - val_accuracy: 0.6286 - val_auc: 0.9510 - val_precision: 0.7730 - val_recall: 0.4065\n",
      "Epoch 28/50\n",
      "231/231 [==============================] - 108s 465ms/step - loss: 1.2622 - accuracy: 0.5222 - auc: 0.9106 - precision: 0.6923 - recall: 0.2846 - val_loss: 1.0351 - val_accuracy: 0.6059 - val_auc: 0.9413 - val_precision: 0.7610 - val_recall: 0.4116\n",
      "Epoch 29/50\n",
      "231/231 [==============================] - 108s 467ms/step - loss: 1.2448 - accuracy: 0.5229 - auc: 0.9131 - precision: 0.6928 - recall: 0.2962 - val_loss: 0.9859 - val_accuracy: 0.6284 - val_auc: 0.9465 - val_precision: 0.7445 - val_recall: 0.4588\n",
      "Epoch 30/50\n",
      "231/231 [==============================] - 113s 490ms/step - loss: 1.2386 - accuracy: 0.5302 - auc: 0.9141 - precision: 0.6972 - recall: 0.3069 - val_loss: 1.0191 - val_accuracy: 0.6107 - val_auc: 0.9424 - val_precision: 0.7391 - val_recall: 0.4438\n",
      "Epoch 31/50\n",
      "231/231 [==============================] - 112s 485ms/step - loss: 1.2498 - accuracy: 0.5257 - auc: 0.9120 - precision: 0.6914 - recall: 0.3058 - val_loss: 0.9706 - val_accuracy: 0.6347 - val_auc: 0.9494 - val_precision: 0.7820 - val_recall: 0.4302\n",
      "Epoch 32/50\n",
      "231/231 [==============================] - 110s 477ms/step - loss: 1.2423 - accuracy: 0.5251 - auc: 0.9132 - precision: 0.6895 - recall: 0.2985 - val_loss: 1.0109 - val_accuracy: 0.6081 - val_auc: 0.9431 - val_precision: 0.7302 - val_recall: 0.4207\n",
      "Epoch 33/50\n",
      "231/231 [==============================] - 110s 476ms/step - loss: 1.2374 - accuracy: 0.5260 - auc: 0.9141 - precision: 0.6893 - recall: 0.3038 - val_loss: 0.9454 - val_accuracy: 0.6397 - val_auc: 0.9513 - val_precision: 0.7579 - val_recall: 0.4401\n",
      "Epoch 34/50\n",
      "231/231 [==============================] - 110s 476ms/step - loss: 1.2294 - accuracy: 0.5352 - auc: 0.9153 - precision: 0.6938 - recall: 0.3072 - val_loss: 1.0025 - val_accuracy: 0.6073 - val_auc: 0.9440 - val_precision: 0.7422 - val_recall: 0.4580\n",
      "Epoch 35/50\n",
      "231/231 [==============================] - 108s 467ms/step - loss: 1.2491 - accuracy: 0.5212 - auc: 0.9121 - precision: 0.6899 - recall: 0.3037 - val_loss: 0.9651 - val_accuracy: 0.6450 - val_auc: 0.9495 - val_precision: 0.7523 - val_recall: 0.4253\n",
      "Epoch 36/50\n",
      "231/231 [==============================] - 108s 467ms/step - loss: 1.2371 - accuracy: 0.5294 - auc: 0.9141 - precision: 0.6902 - recall: 0.3083 - val_loss: 0.9266 - val_accuracy: 0.6365 - val_auc: 0.9525 - val_precision: 0.7361 - val_recall: 0.4742\n",
      "Epoch 37/50\n",
      "231/231 [==============================] - 108s 468ms/step - loss: 1.2410 - accuracy: 0.5273 - auc: 0.9136 - precision: 0.6948 - recall: 0.3123 - val_loss: 0.9638 - val_accuracy: 0.6318 - val_auc: 0.9489 - val_precision: 0.7605 - val_recall: 0.4960\n",
      "Epoch 38/50\n",
      "231/231 [==============================] - 108s 469ms/step - loss: 1.2070 - accuracy: 0.5386 - auc: 0.9184 - precision: 0.7052 - recall: 0.3203 - val_loss: 0.9527 - val_accuracy: 0.6434 - val_auc: 0.9509 - val_precision: 0.7554 - val_recall: 0.4480\n",
      "Epoch 39/50\n",
      "231/231 [==============================] - 108s 467ms/step - loss: 1.2225 - accuracy: 0.5342 - auc: 0.9158 - precision: 0.6963 - recall: 0.3184 - val_loss: 0.9578 - val_accuracy: 0.6245 - val_auc: 0.9488 - val_precision: 0.7501 - val_recall: 0.5005\n",
      "Epoch 40/50\n",
      "231/231 [==============================] - 108s 468ms/step - loss: 1.2052 - accuracy: 0.5363 - auc: 0.9186 - precision: 0.6953 - recall: 0.3232 - val_loss: 0.9507 - val_accuracy: 0.6288 - val_auc: 0.9503 - val_precision: 0.7646 - val_recall: 0.4813\n",
      "Epoch 41/50\n",
      "231/231 [==============================] - 108s 466ms/step - loss: 1.2095 - accuracy: 0.5360 - auc: 0.9180 - precision: 0.7032 - recall: 0.3286 - val_loss: 0.9194 - val_accuracy: 0.6586 - val_auc: 0.9537 - val_precision: 0.7561 - val_recall: 0.4667\n",
      "Epoch 42/50\n",
      "231/231 [==============================] - 107s 463ms/step - loss: 1.2072 - accuracy: 0.5422 - auc: 0.9182 - precision: 0.6969 - recall: 0.3346 - val_loss: 0.9674 - val_accuracy: 0.6253 - val_auc: 0.9486 - val_precision: 0.7750 - val_recall: 0.4551\n",
      "Epoch 43/50\n",
      "231/231 [==============================] - 108s 468ms/step - loss: 1.1986 - accuracy: 0.5392 - auc: 0.9195 - precision: 0.6911 - recall: 0.3325 - val_loss: 0.9160 - val_accuracy: 0.6460 - val_auc: 0.9539 - val_precision: 0.7661 - val_recall: 0.4898\n",
      "Epoch 44/50\n",
      "231/231 [==============================] - 112s 482ms/step - loss: 1.1824 - accuracy: 0.5499 - auc: 0.9216 - precision: 0.7055 - recall: 0.3451 - val_loss: 0.9440 - val_accuracy: 0.6557 - val_auc: 0.9516 - val_precision: 0.7872 - val_recall: 0.4671\n",
      "Epoch 45/50\n",
      "231/231 [==============================] - 113s 489ms/step - loss: 1.1789 - accuracy: 0.5514 - auc: 0.9223 - precision: 0.7055 - recall: 0.3434 - val_loss: 0.9435 - val_accuracy: 0.6482 - val_auc: 0.9511 - val_precision: 0.7691 - val_recall: 0.4697\n",
      "Epoch 46/50\n",
      "231/231 [==============================] - 112s 483ms/step - loss: 1.1774 - accuracy: 0.5507 - auc: 0.9224 - precision: 0.7099 - recall: 0.3478 - val_loss: 0.9798 - val_accuracy: 0.6288 - val_auc: 0.9465 - val_precision: 0.7492 - val_recall: 0.4788\n",
      "Epoch 47/50\n",
      "231/231 [==============================] - 114s 495ms/step - loss: 1.1746 - accuracy: 0.5498 - auc: 0.9230 - precision: 0.7034 - recall: 0.3460 - val_loss: 0.9080 - val_accuracy: 0.6594 - val_auc: 0.9547 - val_precision: 0.7657 - val_recall: 0.4987\n",
      "Epoch 48/50\n",
      "231/231 [==============================] - 113s 490ms/step - loss: 1.1914 - accuracy: 0.5442 - auc: 0.9202 - precision: 0.6987 - recall: 0.3418 - val_loss: 0.9878 - val_accuracy: 0.6176 - val_auc: 0.9454 - val_precision: 0.7252 - val_recall: 0.5070\n",
      "Epoch 49/50\n",
      "231/231 [==============================] - 114s 493ms/step - loss: 1.1754 - accuracy: 0.5489 - auc: 0.9227 - precision: 0.7001 - recall: 0.3482 - val_loss: 0.8800 - val_accuracy: 0.6717 - val_auc: 0.9579 - val_precision: 0.7786 - val_recall: 0.5139\n",
      "Epoch 50/50\n",
      "231/231 [==============================] - 113s 489ms/step - loss: 1.1703 - accuracy: 0.5525 - auc: 0.9232 - precision: 0.7001 - recall: 0.3580 - val_loss: 0.9315 - val_accuracy: 0.6371 - val_auc: 0.9518 - val_precision: 0.7810 - val_recall: 0.5023\n"
     ]
    }
   ],
   "source": [
    "history_mobilenetv2_model = mobilenetv2_model.fit(train_generator_mobilenetv2,\n",
    "                                                  steps_per_epoch=len(train_generator_mobilenetv2),\n",
    "                                                  epochs=50,\n",
    "                                                  validation_data=val_generator_mobilenetv2,\n",
    "                                                  validation_steps=len(val_generator_mobilenetv2))"
   ]
  },
  {
   "cell_type": "markdown",
   "metadata": {},
   "source": [
    "#### Save model & history"
   ]
  },
  {
   "cell_type": "code",
   "execution_count": 92,
   "metadata": {},
   "outputs": [],
   "source": [
    "mobilenetv2_model.save('mobilenetv2_base_model_50epoch.h5')"
   ]
  },
  {
   "cell_type": "code",
   "execution_count": 93,
   "metadata": {},
   "outputs": [],
   "source": [
    "hdf5storage.savemat(\"history_mobilenetv2_base_model_epoch.h5\", history_mobilenetv2_model.history)"
   ]
  },
  {
   "cell_type": "markdown",
   "metadata": {},
   "source": [
    "#### Evaluate the model"
   ]
  },
  {
   "cell_type": "code",
   "execution_count": 94,
   "metadata": {},
   "outputs": [],
   "source": [
    "base_mobilenetv2_model_loaded = load_model('mobilenetv2_base_model_50epoch.h5')"
   ]
  },
  {
   "cell_type": "code",
   "execution_count": null,
   "metadata": {},
   "outputs": [
    {
     "name": "stdout",
     "output_type": "stream",
     "text": [
      " 69/231 [=======>......................] - ETA: 58s - loss: 1.1541 - accuracy: 0.5620 - auc: 0.9263 - precision: 0.7516 - recall: 0.3419"
     ]
    }
   ],
   "source": [
    "base_mobilenetv2_model_loaded.evaluate(train_generator_mobilenetv2)"
   ]
  },
  {
   "cell_type": "code",
   "execution_count": null,
   "metadata": {},
   "outputs": [],
   "source": [
    "base_mobilenetv2_model_loaded.evaluate(test_generator_mobilenetv2)"
   ]
  },
  {
   "cell_type": "code",
   "execution_count": null,
   "metadata": {},
   "outputs": [],
   "source": [
    "history_base_mobilenetv2_model_loaded = hdf5storage.loadmat(\"history_mobilenetv2_base_model_epoch.h5\")"
   ]
  },
  {
   "cell_type": "code",
   "execution_count": null,
   "metadata": {},
   "outputs": [],
   "source": [
    "print(history_base_mobilenetv2_model_loaded.keys())"
   ]
  },
  {
   "cell_type": "code",
   "execution_count": null,
   "metadata": {},
   "outputs": [],
   "source": [
    "fig,ax=plt.subplots(figsize=(8,6))\n",
    "\n",
    "base_mobilenev2_loss_values = history_base_mobilenetv2_model_loaded['loss']\n",
    "base_mobilenev2__val_loss_values = history_base_mobilenetv2_model_loaded['val_loss']\n",
    "\n",
    "\n",
    "epochs = range(1,len(base_mobilenev2_loss_values)+1)\n",
    "\n",
    "ax.plot(epochs,base_mobilenev2_loss_values,label='Train loss vs epochs')\n",
    "ax.plot(epochs,base_mobilenev2__val_loss_values,label='Validation loss vs epochs')\n",
    "\n",
    "ax.set_title('Train & validation loss')\n",
    "ax.legend()\n",
    "ax.set_xlabel('Epochs')\n",
    "plt.grid()\n",
    "ax.set_ylabel('Loss');"
   ]
  },
  {
   "cell_type": "code",
   "execution_count": null,
   "metadata": {},
   "outputs": [],
   "source": []
  },
  {
   "cell_type": "code",
   "execution_count": 43,
   "metadata": {},
   "outputs": [
    {
     "name": "stdout",
     "output_type": "stream",
     "text": [
      "Model: \"model\"\n",
      "__________________________________________________________________________________________________\n",
      " Layer (type)                Output Shape                 Param #   Connected to                  \n",
      "==================================================================================================\n",
      " input_2 (InputLayer)        [(None, None, None, 3)]      0         []                            \n",
      "                                                                                                  \n",
      " Conv1 (Conv2D)              (None, None, None, 32)       864       ['input_2[0][0]']             \n",
      "                                                                                                  \n",
      " bn_Conv1 (BatchNormalizati  (None, None, None, 32)       128       ['Conv1[0][0]']               \n",
      " on)                                                                                              \n",
      "                                                                                                  \n",
      " Conv1_relu (ReLU)           (None, None, None, 32)       0         ['bn_Conv1[0][0]']            \n",
      "                                                                                                  \n",
      " expanded_conv_depthwise (D  (None, None, None, 32)       288       ['Conv1_relu[0][0]']          \n",
      " epthwiseConv2D)                                                                                  \n",
      "                                                                                                  \n",
      " expanded_conv_depthwise_BN  (None, None, None, 32)       128       ['expanded_conv_depthwise[0][0\n",
      "  (BatchNormalization)                                              ]']                           \n",
      "                                                                                                  \n",
      " expanded_conv_depthwise_re  (None, None, None, 32)       0         ['expanded_conv_depthwise_BN[0\n",
      " lu (ReLU)                                                          ][0]']                        \n",
      "                                                                                                  \n",
      " expanded_conv_project (Con  (None, None, None, 16)       512       ['expanded_conv_depthwise_relu\n",
      " v2D)                                                               [0][0]']                      \n",
      "                                                                                                  \n",
      " expanded_conv_project_BN (  (None, None, None, 16)       64        ['expanded_conv_project[0][0]'\n",
      " BatchNormalization)                                                ]                             \n",
      "                                                                                                  \n",
      " block_1_expand (Conv2D)     (None, None, None, 96)       1536      ['expanded_conv_project_BN[0][\n",
      "                                                                    0]']                          \n",
      "                                                                                                  \n",
      " block_1_expand_BN (BatchNo  (None, None, None, 96)       384       ['block_1_expand[0][0]']      \n",
      " rmalization)                                                                                     \n",
      "                                                                                                  \n",
      " block_1_expand_relu (ReLU)  (None, None, None, 96)       0         ['block_1_expand_BN[0][0]']   \n",
      "                                                                                                  \n",
      " block_1_pad (ZeroPadding2D  (None, None, None, 96)       0         ['block_1_expand_relu[0][0]'] \n",
      " )                                                                                                \n",
      "                                                                                                  \n",
      " block_1_depthwise (Depthwi  (None, None, None, 96)       864       ['block_1_pad[0][0]']         \n",
      " seConv2D)                                                                                        \n",
      "                                                                                                  \n",
      " block_1_depthwise_BN (Batc  (None, None, None, 96)       384       ['block_1_depthwise[0][0]']   \n",
      " hNormalization)                                                                                  \n",
      "                                                                                                  \n",
      " block_1_depthwise_relu (Re  (None, None, None, 96)       0         ['block_1_depthwise_BN[0][0]']\n",
      " LU)                                                                                              \n",
      "                                                                                                  \n",
      " block_1_project (Conv2D)    (None, None, None, 24)       2304      ['block_1_depthwise_relu[0][0]\n",
      "                                                                    ']                            \n",
      "                                                                                                  \n",
      " block_1_project_BN (BatchN  (None, None, None, 24)       96        ['block_1_project[0][0]']     \n",
      " ormalization)                                                                                    \n",
      "                                                                                                  \n",
      " block_2_expand (Conv2D)     (None, None, None, 144)      3456      ['block_1_project_BN[0][0]']  \n",
      "                                                                                                  \n",
      " block_2_expand_BN (BatchNo  (None, None, None, 144)      576       ['block_2_expand[0][0]']      \n",
      " rmalization)                                                                                     \n",
      "                                                                                                  \n",
      " block_2_expand_relu (ReLU)  (None, None, None, 144)      0         ['block_2_expand_BN[0][0]']   \n",
      "                                                                                                  \n",
      " block_2_depthwise (Depthwi  (None, None, None, 144)      1296      ['block_2_expand_relu[0][0]'] \n",
      " seConv2D)                                                                                        \n",
      "                                                                                                  \n",
      " block_2_depthwise_BN (Batc  (None, None, None, 144)      576       ['block_2_depthwise[0][0]']   \n",
      " hNormalization)                                                                                  \n",
      "                                                                                                  \n",
      " block_2_depthwise_relu (Re  (None, None, None, 144)      0         ['block_2_depthwise_BN[0][0]']\n",
      " LU)                                                                                              \n",
      "                                                                                                  \n",
      " block_2_project (Conv2D)    (None, None, None, 24)       3456      ['block_2_depthwise_relu[0][0]\n",
      "                                                                    ']                            \n",
      "                                                                                                  \n",
      " block_2_project_BN (BatchN  (None, None, None, 24)       96        ['block_2_project[0][0]']     \n",
      " ormalization)                                                                                    \n",
      "                                                                                                  \n",
      " block_2_add (Add)           (None, None, None, 24)       0         ['block_1_project_BN[0][0]',  \n",
      "                                                                     'block_2_project_BN[0][0]']  \n",
      "                                                                                                  \n",
      " block_3_expand (Conv2D)     (None, None, None, 144)      3456      ['block_2_add[0][0]']         \n",
      "                                                                                                  \n",
      " block_3_expand_BN (BatchNo  (None, None, None, 144)      576       ['block_3_expand[0][0]']      \n",
      " rmalization)                                                                                     \n",
      "                                                                                                  \n",
      " block_3_expand_relu (ReLU)  (None, None, None, 144)      0         ['block_3_expand_BN[0][0]']   \n",
      "                                                                                                  \n",
      " block_3_pad (ZeroPadding2D  (None, None, None, 144)      0         ['block_3_expand_relu[0][0]'] \n",
      " )                                                                                                \n",
      "                                                                                                  \n",
      " block_3_depthwise (Depthwi  (None, None, None, 144)      1296      ['block_3_pad[0][0]']         \n",
      " seConv2D)                                                                                        \n",
      "                                                                                                  \n",
      " block_3_depthwise_BN (Batc  (None, None, None, 144)      576       ['block_3_depthwise[0][0]']   \n",
      " hNormalization)                                                                                  \n",
      "                                                                                                  \n",
      " block_3_depthwise_relu (Re  (None, None, None, 144)      0         ['block_3_depthwise_BN[0][0]']\n",
      " LU)                                                                                              \n",
      "                                                                                                  \n",
      " block_3_project (Conv2D)    (None, None, None, 32)       4608      ['block_3_depthwise_relu[0][0]\n",
      "                                                                    ']                            \n",
      "                                                                                                  \n",
      " block_3_project_BN (BatchN  (None, None, None, 32)       128       ['block_3_project[0][0]']     \n",
      " ormalization)                                                                                    \n",
      "                                                                                                  \n",
      " block_4_expand (Conv2D)     (None, None, None, 192)      6144      ['block_3_project_BN[0][0]']  \n",
      "                                                                                                  \n",
      " block_4_expand_BN (BatchNo  (None, None, None, 192)      768       ['block_4_expand[0][0]']      \n",
      " rmalization)                                                                                     \n",
      "                                                                                                  \n",
      " block_4_expand_relu (ReLU)  (None, None, None, 192)      0         ['block_4_expand_BN[0][0]']   \n",
      "                                                                                                  \n",
      " block_4_depthwise (Depthwi  (None, None, None, 192)      1728      ['block_4_expand_relu[0][0]'] \n",
      " seConv2D)                                                                                        \n",
      "                                                                                                  \n",
      " block_4_depthwise_BN (Batc  (None, None, None, 192)      768       ['block_4_depthwise[0][0]']   \n",
      " hNormalization)                                                                                  \n",
      "                                                                                                  \n",
      " block_4_depthwise_relu (Re  (None, None, None, 192)      0         ['block_4_depthwise_BN[0][0]']\n",
      " LU)                                                                                              \n",
      "                                                                                                  \n",
      " block_4_project (Conv2D)    (None, None, None, 32)       6144      ['block_4_depthwise_relu[0][0]\n",
      "                                                                    ']                            \n",
      "                                                                                                  \n",
      " block_4_project_BN (BatchN  (None, None, None, 32)       128       ['block_4_project[0][0]']     \n",
      " ormalization)                                                                                    \n",
      "                                                                                                  \n",
      " block_4_add (Add)           (None, None, None, 32)       0         ['block_3_project_BN[0][0]',  \n",
      "                                                                     'block_4_project_BN[0][0]']  \n",
      "                                                                                                  \n",
      " block_5_expand (Conv2D)     (None, None, None, 192)      6144      ['block_4_add[0][0]']         \n",
      "                                                                                                  \n",
      " block_5_expand_BN (BatchNo  (None, None, None, 192)      768       ['block_5_expand[0][0]']      \n",
      " rmalization)                                                                                     \n",
      "                                                                                                  \n",
      " block_5_expand_relu (ReLU)  (None, None, None, 192)      0         ['block_5_expand_BN[0][0]']   \n",
      "                                                                                                  \n",
      " block_5_depthwise (Depthwi  (None, None, None, 192)      1728      ['block_5_expand_relu[0][0]'] \n",
      " seConv2D)                                                                                        \n",
      "                                                                                                  \n",
      " block_5_depthwise_BN (Batc  (None, None, None, 192)      768       ['block_5_depthwise[0][0]']   \n",
      " hNormalization)                                                                                  \n",
      "                                                                                                  \n",
      " block_5_depthwise_relu (Re  (None, None, None, 192)      0         ['block_5_depthwise_BN[0][0]']\n",
      " LU)                                                                                              \n",
      "                                                                                                  \n",
      " block_5_project (Conv2D)    (None, None, None, 32)       6144      ['block_5_depthwise_relu[0][0]\n",
      "                                                                    ']                            \n",
      "                                                                                                  \n",
      " block_5_project_BN (BatchN  (None, None, None, 32)       128       ['block_5_project[0][0]']     \n",
      " ormalization)                                                                                    \n",
      "                                                                                                  \n",
      " block_5_add (Add)           (None, None, None, 32)       0         ['block_4_add[0][0]',         \n",
      "                                                                     'block_5_project_BN[0][0]']  \n",
      "                                                                                                  \n",
      " block_6_expand (Conv2D)     (None, None, None, 192)      6144      ['block_5_add[0][0]']         \n",
      "                                                                                                  \n",
      " block_6_expand_BN (BatchNo  (None, None, None, 192)      768       ['block_6_expand[0][0]']      \n",
      " rmalization)                                                                                     \n",
      "                                                                                                  \n",
      " block_6_expand_relu (ReLU)  (None, None, None, 192)      0         ['block_6_expand_BN[0][0]']   \n",
      "                                                                                                  \n",
      " block_6_pad (ZeroPadding2D  (None, None, None, 192)      0         ['block_6_expand_relu[0][0]'] \n",
      " )                                                                                                \n",
      "                                                                                                  \n",
      " block_6_depthwise (Depthwi  (None, None, None, 192)      1728      ['block_6_pad[0][0]']         \n",
      " seConv2D)                                                                                        \n",
      "                                                                                                  \n",
      " block_6_depthwise_BN (Batc  (None, None, None, 192)      768       ['block_6_depthwise[0][0]']   \n",
      " hNormalization)                                                                                  \n",
      "                                                                                                  \n",
      " block_6_depthwise_relu (Re  (None, None, None, 192)      0         ['block_6_depthwise_BN[0][0]']\n",
      " LU)                                                                                              \n",
      "                                                                                                  \n",
      " block_6_project (Conv2D)    (None, None, None, 64)       12288     ['block_6_depthwise_relu[0][0]\n",
      "                                                                    ']                            \n",
      "                                                                                                  \n",
      " block_6_project_BN (BatchN  (None, None, None, 64)       256       ['block_6_project[0][0]']     \n",
      " ormalization)                                                                                    \n",
      "                                                                                                  \n",
      " block_7_expand (Conv2D)     (None, None, None, 384)      24576     ['block_6_project_BN[0][0]']  \n",
      "                                                                                                  \n",
      " block_7_expand_BN (BatchNo  (None, None, None, 384)      1536      ['block_7_expand[0][0]']      \n",
      " rmalization)                                                                                     \n",
      "                                                                                                  \n",
      " block_7_expand_relu (ReLU)  (None, None, None, 384)      0         ['block_7_expand_BN[0][0]']   \n",
      "                                                                                                  \n",
      " block_7_depthwise (Depthwi  (None, None, None, 384)      3456      ['block_7_expand_relu[0][0]'] \n",
      " seConv2D)                                                                                        \n",
      "                                                                                                  \n",
      " block_7_depthwise_BN (Batc  (None, None, None, 384)      1536      ['block_7_depthwise[0][0]']   \n",
      " hNormalization)                                                                                  \n",
      "                                                                                                  \n",
      " block_7_depthwise_relu (Re  (None, None, None, 384)      0         ['block_7_depthwise_BN[0][0]']\n",
      " LU)                                                                                              \n",
      "                                                                                                  \n",
      " block_7_project (Conv2D)    (None, None, None, 64)       24576     ['block_7_depthwise_relu[0][0]\n",
      "                                                                    ']                            \n",
      "                                                                                                  \n",
      " block_7_project_BN (BatchN  (None, None, None, 64)       256       ['block_7_project[0][0]']     \n",
      " ormalization)                                                                                    \n",
      "                                                                                                  \n",
      " block_7_add (Add)           (None, None, None, 64)       0         ['block_6_project_BN[0][0]',  \n",
      "                                                                     'block_7_project_BN[0][0]']  \n",
      "                                                                                                  \n",
      " block_8_expand (Conv2D)     (None, None, None, 384)      24576     ['block_7_add[0][0]']         \n",
      "                                                                                                  \n",
      " block_8_expand_BN (BatchNo  (None, None, None, 384)      1536      ['block_8_expand[0][0]']      \n",
      " rmalization)                                                                                     \n",
      "                                                                                                  \n",
      " block_8_expand_relu (ReLU)  (None, None, None, 384)      0         ['block_8_expand_BN[0][0]']   \n",
      "                                                                                                  \n",
      " block_8_depthwise (Depthwi  (None, None, None, 384)      3456      ['block_8_expand_relu[0][0]'] \n",
      " seConv2D)                                                                                        \n",
      "                                                                                                  \n",
      " block_8_depthwise_BN (Batc  (None, None, None, 384)      1536      ['block_8_depthwise[0][0]']   \n",
      " hNormalization)                                                                                  \n",
      "                                                                                                  \n",
      " block_8_depthwise_relu (Re  (None, None, None, 384)      0         ['block_8_depthwise_BN[0][0]']\n",
      " LU)                                                                                              \n",
      "                                                                                                  \n",
      " block_8_project (Conv2D)    (None, None, None, 64)       24576     ['block_8_depthwise_relu[0][0]\n",
      "                                                                    ']                            \n",
      "                                                                                                  \n",
      " block_8_project_BN (BatchN  (None, None, None, 64)       256       ['block_8_project[0][0]']     \n",
      " ormalization)                                                                                    \n",
      "                                                                                                  \n",
      " block_8_add (Add)           (None, None, None, 64)       0         ['block_7_add[0][0]',         \n",
      "                                                                     'block_8_project_BN[0][0]']  \n",
      "                                                                                                  \n",
      " block_9_expand (Conv2D)     (None, None, None, 384)      24576     ['block_8_add[0][0]']         \n",
      "                                                                                                  \n",
      " block_9_expand_BN (BatchNo  (None, None, None, 384)      1536      ['block_9_expand[0][0]']      \n",
      " rmalization)                                                                                     \n",
      "                                                                                                  \n",
      " block_9_expand_relu (ReLU)  (None, None, None, 384)      0         ['block_9_expand_BN[0][0]']   \n",
      "                                                                                                  \n",
      " block_9_depthwise (Depthwi  (None, None, None, 384)      3456      ['block_9_expand_relu[0][0]'] \n",
      " seConv2D)                                                                                        \n",
      "                                                                                                  \n",
      " block_9_depthwise_BN (Batc  (None, None, None, 384)      1536      ['block_9_depthwise[0][0]']   \n",
      " hNormalization)                                                                                  \n",
      "                                                                                                  \n",
      " block_9_depthwise_relu (Re  (None, None, None, 384)      0         ['block_9_depthwise_BN[0][0]']\n",
      " LU)                                                                                              \n",
      "                                                                                                  \n",
      " block_9_project (Conv2D)    (None, None, None, 64)       24576     ['block_9_depthwise_relu[0][0]\n",
      "                                                                    ']                            \n",
      "                                                                                                  \n",
      " block_9_project_BN (BatchN  (None, None, None, 64)       256       ['block_9_project[0][0]']     \n",
      " ormalization)                                                                                    \n",
      "                                                                                                  \n",
      " block_9_add (Add)           (None, None, None, 64)       0         ['block_8_add[0][0]',         \n",
      "                                                                     'block_9_project_BN[0][0]']  \n",
      "                                                                                                  \n",
      " block_10_expand (Conv2D)    (None, None, None, 384)      24576     ['block_9_add[0][0]']         \n",
      "                                                                                                  \n",
      " block_10_expand_BN (BatchN  (None, None, None, 384)      1536      ['block_10_expand[0][0]']     \n",
      " ormalization)                                                                                    \n",
      "                                                                                                  \n",
      " block_10_expand_relu (ReLU  (None, None, None, 384)      0         ['block_10_expand_BN[0][0]']  \n",
      " )                                                                                                \n",
      "                                                                                                  \n",
      " block_10_depthwise (Depthw  (None, None, None, 384)      3456      ['block_10_expand_relu[0][0]']\n",
      " iseConv2D)                                                                                       \n",
      "                                                                                                  \n",
      " block_10_depthwise_BN (Bat  (None, None, None, 384)      1536      ['block_10_depthwise[0][0]']  \n",
      " chNormalization)                                                                                 \n",
      "                                                                                                  \n",
      " block_10_depthwise_relu (R  (None, None, None, 384)      0         ['block_10_depthwise_BN[0][0]'\n",
      " eLU)                                                               ]                             \n",
      "                                                                                                  \n",
      " block_10_project (Conv2D)   (None, None, None, 96)       36864     ['block_10_depthwise_relu[0][0\n",
      "                                                                    ]']                           \n",
      "                                                                                                  \n",
      " block_10_project_BN (Batch  (None, None, None, 96)       384       ['block_10_project[0][0]']    \n",
      " Normalization)                                                                                   \n",
      "                                                                                                  \n",
      " block_11_expand (Conv2D)    (None, None, None, 576)      55296     ['block_10_project_BN[0][0]'] \n",
      "                                                                                                  \n",
      " block_11_expand_BN (BatchN  (None, None, None, 576)      2304      ['block_11_expand[0][0]']     \n",
      " ormalization)                                                                                    \n",
      "                                                                                                  \n",
      " block_11_expand_relu (ReLU  (None, None, None, 576)      0         ['block_11_expand_BN[0][0]']  \n",
      " )                                                                                                \n",
      "                                                                                                  \n",
      " block_11_depthwise (Depthw  (None, None, None, 576)      5184      ['block_11_expand_relu[0][0]']\n",
      " iseConv2D)                                                                                       \n",
      "                                                                                                  \n",
      " block_11_depthwise_BN (Bat  (None, None, None, 576)      2304      ['block_11_depthwise[0][0]']  \n",
      " chNormalization)                                                                                 \n",
      "                                                                                                  \n",
      " block_11_depthwise_relu (R  (None, None, None, 576)      0         ['block_11_depthwise_BN[0][0]'\n",
      " eLU)                                                               ]                             \n",
      "                                                                                                  \n",
      " block_11_project (Conv2D)   (None, None, None, 96)       55296     ['block_11_depthwise_relu[0][0\n",
      "                                                                    ]']                           \n",
      "                                                                                                  \n",
      " block_11_project_BN (Batch  (None, None, None, 96)       384       ['block_11_project[0][0]']    \n",
      " Normalization)                                                                                   \n",
      "                                                                                                  \n",
      " block_11_add (Add)          (None, None, None, 96)       0         ['block_10_project_BN[0][0]', \n",
      "                                                                     'block_11_project_BN[0][0]'] \n",
      "                                                                                                  \n",
      " block_12_expand (Conv2D)    (None, None, None, 576)      55296     ['block_11_add[0][0]']        \n",
      "                                                                                                  \n",
      " block_12_expand_BN (BatchN  (None, None, None, 576)      2304      ['block_12_expand[0][0]']     \n",
      " ormalization)                                                                                    \n",
      "                                                                                                  \n",
      " block_12_expand_relu (ReLU  (None, None, None, 576)      0         ['block_12_expand_BN[0][0]']  \n",
      " )                                                                                                \n",
      "                                                                                                  \n",
      " block_12_depthwise (Depthw  (None, None, None, 576)      5184      ['block_12_expand_relu[0][0]']\n",
      " iseConv2D)                                                                                       \n",
      "                                                                                                  \n",
      " block_12_depthwise_BN (Bat  (None, None, None, 576)      2304      ['block_12_depthwise[0][0]']  \n",
      " chNormalization)                                                                                 \n",
      "                                                                                                  \n",
      " block_12_depthwise_relu (R  (None, None, None, 576)      0         ['block_12_depthwise_BN[0][0]'\n",
      " eLU)                                                               ]                             \n",
      "                                                                                                  \n",
      " block_12_project (Conv2D)   (None, None, None, 96)       55296     ['block_12_depthwise_relu[0][0\n",
      "                                                                    ]']                           \n",
      "                                                                                                  \n",
      " block_12_project_BN (Batch  (None, None, None, 96)       384       ['block_12_project[0][0]']    \n",
      " Normalization)                                                                                   \n",
      "                                                                                                  \n",
      " block_12_add (Add)          (None, None, None, 96)       0         ['block_11_add[0][0]',        \n",
      "                                                                     'block_12_project_BN[0][0]'] \n",
      "                                                                                                  \n",
      " block_13_expand (Conv2D)    (None, None, None, 576)      55296     ['block_12_add[0][0]']        \n",
      "                                                                                                  \n",
      " block_13_expand_BN (BatchN  (None, None, None, 576)      2304      ['block_13_expand[0][0]']     \n",
      " ormalization)                                                                                    \n",
      "                                                                                                  \n",
      " block_13_expand_relu (ReLU  (None, None, None, 576)      0         ['block_13_expand_BN[0][0]']  \n",
      " )                                                                                                \n",
      "                                                                                                  \n",
      " block_13_pad (ZeroPadding2  (None, None, None, 576)      0         ['block_13_expand_relu[0][0]']\n",
      " D)                                                                                               \n",
      "                                                                                                  \n",
      " block_13_depthwise (Depthw  (None, None, None, 576)      5184      ['block_13_pad[0][0]']        \n",
      " iseConv2D)                                                                                       \n",
      "                                                                                                  \n",
      " block_13_depthwise_BN (Bat  (None, None, None, 576)      2304      ['block_13_depthwise[0][0]']  \n",
      " chNormalization)                                                                                 \n",
      "                                                                                                  \n",
      " block_13_depthwise_relu (R  (None, None, None, 576)      0         ['block_13_depthwise_BN[0][0]'\n",
      " eLU)                                                               ]                             \n",
      "                                                                                                  \n",
      " block_13_project (Conv2D)   (None, None, None, 160)      92160     ['block_13_depthwise_relu[0][0\n",
      "                                                                    ]']                           \n",
      "                                                                                                  \n",
      " block_13_project_BN (Batch  (None, None, None, 160)      640       ['block_13_project[0][0]']    \n",
      " Normalization)                                                                                   \n",
      "                                                                                                  \n",
      " block_14_expand (Conv2D)    (None, None, None, 960)      153600    ['block_13_project_BN[0][0]'] \n",
      "                                                                                                  \n",
      " block_14_expand_BN (BatchN  (None, None, None, 960)      3840      ['block_14_expand[0][0]']     \n",
      " ormalization)                                                                                    \n",
      "                                                                                                  \n",
      " block_14_expand_relu (ReLU  (None, None, None, 960)      0         ['block_14_expand_BN[0][0]']  \n",
      " )                                                                                                \n",
      "                                                                                                  \n",
      " block_14_depthwise (Depthw  (None, None, None, 960)      8640      ['block_14_expand_relu[0][0]']\n",
      " iseConv2D)                                                                                       \n",
      "                                                                                                  \n",
      " block_14_depthwise_BN (Bat  (None, None, None, 960)      3840      ['block_14_depthwise[0][0]']  \n",
      " chNormalization)                                                                                 \n",
      "                                                                                                  \n",
      " block_14_depthwise_relu (R  (None, None, None, 960)      0         ['block_14_depthwise_BN[0][0]'\n",
      " eLU)                                                               ]                             \n",
      "                                                                                                  \n",
      " block_14_project (Conv2D)   (None, None, None, 160)      153600    ['block_14_depthwise_relu[0][0\n",
      "                                                                    ]']                           \n",
      "                                                                                                  \n",
      " block_14_project_BN (Batch  (None, None, None, 160)      640       ['block_14_project[0][0]']    \n",
      " Normalization)                                                                                   \n",
      "                                                                                                  \n",
      " block_14_add (Add)          (None, None, None, 160)      0         ['block_13_project_BN[0][0]', \n",
      "                                                                     'block_14_project_BN[0][0]'] \n",
      "                                                                                                  \n",
      " block_15_expand (Conv2D)    (None, None, None, 960)      153600    ['block_14_add[0][0]']        \n",
      "                                                                                                  \n",
      " block_15_expand_BN (BatchN  (None, None, None, 960)      3840      ['block_15_expand[0][0]']     \n",
      " ormalization)                                                                                    \n",
      "                                                                                                  \n",
      " block_15_expand_relu (ReLU  (None, None, None, 960)      0         ['block_15_expand_BN[0][0]']  \n",
      " )                                                                                                \n",
      "                                                                                                  \n",
      " block_15_depthwise (Depthw  (None, None, None, 960)      8640      ['block_15_expand_relu[0][0]']\n",
      " iseConv2D)                                                                                       \n",
      "                                                                                                  \n",
      " block_15_depthwise_BN (Bat  (None, None, None, 960)      3840      ['block_15_depthwise[0][0]']  \n",
      " chNormalization)                                                                                 \n",
      "                                                                                                  \n",
      " block_15_depthwise_relu (R  (None, None, None, 960)      0         ['block_15_depthwise_BN[0][0]'\n",
      " eLU)                                                               ]                             \n",
      "                                                                                                  \n",
      " block_15_project (Conv2D)   (None, None, None, 160)      153600    ['block_15_depthwise_relu[0][0\n",
      "                                                                    ]']                           \n",
      "                                                                                                  \n",
      " block_15_project_BN (Batch  (None, None, None, 160)      640       ['block_15_project[0][0]']    \n",
      " Normalization)                                                                                   \n",
      "                                                                                                  \n",
      " block_15_add (Add)          (None, None, None, 160)      0         ['block_14_add[0][0]',        \n",
      "                                                                     'block_15_project_BN[0][0]'] \n",
      "                                                                                                  \n",
      " block_16_expand (Conv2D)    (None, None, None, 960)      153600    ['block_15_add[0][0]']        \n",
      "                                                                                                  \n",
      " block_16_expand_BN (BatchN  (None, None, None, 960)      3840      ['block_16_expand[0][0]']     \n",
      " ormalization)                                                                                    \n",
      "                                                                                                  \n",
      " block_16_expand_relu (ReLU  (None, None, None, 960)      0         ['block_16_expand_BN[0][0]']  \n",
      " )                                                                                                \n",
      "                                                                                                  \n",
      " block_16_depthwise (Depthw  (None, None, None, 960)      8640      ['block_16_expand_relu[0][0]']\n",
      " iseConv2D)                                                                                       \n",
      "                                                                                                  \n",
      " block_16_depthwise_BN (Bat  (None, None, None, 960)      3840      ['block_16_depthwise[0][0]']  \n",
      " chNormalization)                                                                                 \n",
      "                                                                                                  \n",
      " block_16_depthwise_relu (R  (None, None, None, 960)      0         ['block_16_depthwise_BN[0][0]'\n",
      " eLU)                                                               ]                             \n",
      "                                                                                                  \n",
      " block_16_project (Conv2D)   (None, None, None, 320)      307200    ['block_16_depthwise_relu[0][0\n",
      "                                                                    ]']                           \n",
      "                                                                                                  \n",
      " block_16_project_BN (Batch  (None, None, None, 320)      1280      ['block_16_project[0][0]']    \n",
      " Normalization)                                                                                   \n",
      "                                                                                                  \n",
      " Conv_1 (Conv2D)             (None, None, None, 1280)     409600    ['block_16_project_BN[0][0]'] \n",
      "                                                                                                  \n",
      " Conv_1_bn (BatchNormalizat  (None, None, None, 1280)     5120      ['Conv_1[0][0]']              \n",
      " ion)                                                                                             \n",
      "                                                                                                  \n",
      " out_relu (ReLU)             (None, None, None, 1280)     0         ['Conv_1_bn[0][0]']           \n",
      "                                                                                                  \n",
      " global_average_pooling2d (  (None, 1280)                 0         ['out_relu[0][0]']            \n",
      " GlobalAveragePooling2D)                                                                          \n",
      "                                                                                                  \n",
      " dense (Dense)               (None, 128)                  163968    ['global_average_pooling2d[0][\n",
      "                                                                    0]']                          \n",
      "                                                                                                  \n",
      " dense_1 (Dense)             (None, 10)                   1290      ['dense[0][0]']               \n",
      "                                                                                                  \n",
      "==================================================================================================\n",
      "Total params: 2423242 (9.24 MB)\n",
      "Trainable params: 165258 (645.54 KB)\n",
      "Non-trainable params: 2257984 (8.61 MB)\n",
      "__________________________________________________________________________________________________\n"
     ]
    }
   ],
   "source": [
    "mobilenetv2_model.summary()"
   ]
  },
  {
   "cell_type": "code",
   "execution_count": 44,
   "metadata": {},
   "outputs": [
    {
     "data": {
      "text/plain": [
       "157"
      ]
     },
     "execution_count": 44,
     "metadata": {},
     "output_type": "execute_result"
    }
   ],
   "source": [
    "len(mobilenetv2_model.layers)"
   ]
  },
  {
   "cell_type": "markdown",
   "metadata": {},
   "source": [
    "### Model tuning"
   ]
  },
  {
   "cell_type": "markdown",
   "metadata": {},
   "source": [
    "Unfreeze last 2 layers"
   ]
  },
  {
   "cell_type": "code",
   "execution_count": 11,
   "metadata": {},
   "outputs": [
    {
     "name": "stdout",
     "output_type": "stream",
     "text": [
      "WARNING:tensorflow:`input_shape` is undefined or non-square, or `rows` is not in [96, 128, 160, 192, 224]. Weights for input shape (224, 224) will be loaded as the default.\n"
     ]
    }
   ],
   "source": [
    "mobilenetv2_model_tune1 = tf.keras.applications.MobileNetV2(weights='imagenet', include_top=False)\n",
    "\n",
    "for layer in mobilenetv2_model_tune1.layers[-2:]:\n",
    "    layer.trainable = True"
   ]
  },
  {
   "cell_type": "code",
   "execution_count": 12,
   "metadata": {},
   "outputs": [],
   "source": [
    "def custom_classifier(base_model, num_classes):\n",
    "    x = base_model.output\n",
    "    x = GlobalAveragePooling2D()(x)\n",
    "    x = Dense(128, activation='relu')(x)\n",
    "    output = Dense(num_classes, activation='softmax')(x)\n",
    "    model = Model(inputs=base_model.input, outputs=output)\n",
    "    return model"
   ]
  },
  {
   "cell_type": "code",
   "execution_count": 13,
   "metadata": {},
   "outputs": [],
   "source": [
    "mobilenetv2_model_tune1 = custom_classifier(mobilenetv2_model_tune1, num_classes)"
   ]
  },
  {
   "cell_type": "code",
   "execution_count": 14,
   "metadata": {},
   "outputs": [],
   "source": [
    "mobilenetv2_model_tune1.compile(loss='categorical_crossentropy',\n",
    "                             optimizer='Adam',\n",
    "                             metrics=['accuracy', 'AUC', 'Precision', 'Recall'])"
   ]
  },
  {
   "cell_type": "code",
   "execution_count": 67,
   "metadata": {},
   "outputs": [
    {
     "name": "stdout",
     "output_type": "stream",
     "text": [
      "Epoch 1/5\n",
      "231/231 [==============================] - 477s 2s/step - loss: 0.2882 - accuracy: 0.8994 - auc: 0.9936 - precision: 0.9164 - recall: 0.8847 - val_loss: 16.3582 - val_accuracy: 0.1305 - val_auc: 0.5169 - val_precision: 0.1305 - val_recall: 0.1305\n",
      "Epoch 2/5\n",
      "231/231 [==============================] - 474s 2s/step - loss: 0.1806 - accuracy: 0.9369 - auc: 0.9969 - precision: 0.9427 - recall: 0.9311 - val_loss: 12.0533 - val_accuracy: 0.1305 - val_auc: 0.5232 - val_precision: 0.1305 - val_recall: 0.1305\n",
      "Epoch 3/5\n",
      "231/231 [==============================] - 474s 2s/step - loss: 0.1460 - accuracy: 0.9472 - auc: 0.9977 - precision: 0.9519 - recall: 0.9428 - val_loss: 5.3613 - val_accuracy: 0.1305 - val_auc: 0.5813 - val_precision: 0.1305 - val_recall: 0.1305\n",
      "Epoch 4/5\n",
      "231/231 [==============================] - 475s 2s/step - loss: 0.1353 - accuracy: 0.9512 - auc: 0.9980 - precision: 0.9548 - recall: 0.9480 - val_loss: 11.1334 - val_accuracy: 0.0713 - val_auc: 0.4670 - val_precision: 0.0713 - val_recall: 0.0713\n",
      "Epoch 5/5\n",
      "231/231 [==============================] - 471s 2s/step - loss: 0.1324 - accuracy: 0.9532 - auc: 0.9979 - precision: 0.9564 - recall: 0.9505 - val_loss: 13.6474 - val_accuracy: 0.0713 - val_auc: 0.4788 - val_precision: 0.0713 - val_recall: 0.0713\n"
     ]
    }
   ],
   "source": [
    "history_mobilenetv2_model_tune1 = mobilenetv2_model_tune1.fit(train_generator_mobilenetv2,\n",
    "                                                  steps_per_epoch=len(train_generator_mobilenetv2),\n",
    "                                                  epochs=10,\n",
    "                                                  validation_data=val_generator_mobilenetv2,\n",
    "                                                  validation_steps=len(val_generator_mobilenetv2))"
   ]
  },
  {
   "cell_type": "markdown",
   "metadata": {},
   "source": [
    "### Model tunning 2"
   ]
  },
  {
   "cell_type": "code",
   "execution_count": 15,
   "metadata": {},
   "outputs": [
    {
     "name": "stdout",
     "output_type": "stream",
     "text": [
      "WARNING:tensorflow:`input_shape` is undefined or non-square, or `rows` is not in [96, 128, 160, 192, 224]. Weights for input shape (224, 224) will be loaded as the default.\n"
     ]
    }
   ],
   "source": [
    "mobilenetv2_model_tune2 = tf.keras.applications.MobileNetV2(weights='imagenet', include_top=False)\n",
    "\n",
    "for layer in mobilenetv2_model_tune2.layers[-2:]:\n",
    "    layer.trainable = True"
   ]
  },
  {
   "cell_type": "code",
   "execution_count": 16,
   "metadata": {},
   "outputs": [],
   "source": [
    "def custom_classifier(base_model, num_classes):\n",
    "    x = base_model.output\n",
    "    x = GlobalAveragePooling2D()(x)\n",
    "    x = Dense(128, activation='relu',kernel_regularizer=l2(0.001))(x)\n",
    "    output = Dense(num_classes, activation='softmax')(x)\n",
    "    model = Model(inputs=base_model.input, outputs=output)\n",
    "    return model"
   ]
  },
  {
   "cell_type": "code",
   "execution_count": 17,
   "metadata": {},
   "outputs": [],
   "source": [
    "mobilenetv2_model_tune2 = custom_classifier(mobilenetv2_model_tune2, num_classes)"
   ]
  },
  {
   "cell_type": "code",
   "execution_count": 18,
   "metadata": {},
   "outputs": [],
   "source": [
    "mobilenetv2_model_tune2.compile(loss='categorical_crossentropy',\n",
    "                             optimizer='Adam',\n",
    "                             metrics=['accuracy', 'AUC', 'Precision', 'Recall'])"
   ]
  },
  {
   "cell_type": "code",
   "execution_count": 19,
   "metadata": {},
   "outputs": [
    {
     "name": "stdout",
     "output_type": "stream",
     "text": [
      "Epoch 1/5\n",
      "231/231 [==============================] - 500s 2s/step - loss: 0.4867 - accuracy: 0.8918 - auc: 0.9933 - precision: 0.9095 - recall: 0.8778 - val_loss: 20.4762 - val_accuracy: 0.0381 - val_auc: 0.4656 - val_precision: 0.0381 - val_recall: 0.0381\n",
      "Epoch 2/5\n",
      "231/231 [==============================] - 498s 2s/step - loss: 0.2764 - accuracy: 0.9403 - auc: 0.9970 - precision: 0.9444 - recall: 0.9343 - val_loss: 18.2091 - val_accuracy: 0.1305 - val_auc: 0.5169 - val_precision: 0.1305 - val_recall: 0.1305\n",
      "Epoch 3/5\n",
      "231/231 [==============================] - 481s 2s/step - loss: 0.2105 - accuracy: 0.9470 - auc: 0.9975 - precision: 0.9505 - recall: 0.9428 - val_loss: 20.3655 - val_accuracy: 0.0381 - val_auc: 0.4656 - val_precision: 0.0381 - val_recall: 0.0381\n",
      "Epoch 4/5\n",
      "231/231 [==============================] - 480s 2s/step - loss: 0.1684 - accuracy: 0.9531 - auc: 0.9979 - precision: 0.9551 - recall: 0.9502 - val_loss: 17.4594 - val_accuracy: 0.0381 - val_auc: 0.4659 - val_precision: 0.0381 - val_recall: 0.0381\n",
      "Epoch 5/5\n",
      "231/231 [==============================] - 480s 2s/step - loss: 0.1528 - accuracy: 0.9546 - auc: 0.9981 - precision: 0.9579 - recall: 0.9512 - val_loss: 14.6983 - val_accuracy: 0.0387 - val_auc: 0.4719 - val_precision: 0.0387 - val_recall: 0.0387\n"
     ]
    }
   ],
   "source": [
    "history_mobilenetv2_model_tune2 = mobilenetv2_model_tune2.fit(train_generator_mobilenetv2,\n",
    "                                                  steps_per_epoch=len(train_generator_mobilenetv2),\n",
    "                                                  epochs=5,\n",
    "                                                  validation_data=val_generator_mobilenetv2,\n",
    "                                                  validation_steps=len(val_generator_mobilenetv2))"
   ]
  },
  {
   "cell_type": "code",
   "execution_count": null,
   "metadata": {},
   "outputs": [],
   "source": []
  },
  {
   "cell_type": "markdown",
   "metadata": {},
   "source": [
    "### Model tuning 3"
   ]
  },
  {
   "cell_type": "code",
   "execution_count": 38,
   "metadata": {},
   "outputs": [
    {
     "name": "stdout",
     "output_type": "stream",
     "text": [
      "WARNING:tensorflow:`input_shape` is undefined or non-square, or `rows` is not in [96, 128, 160, 192, 224]. Weights for input shape (224, 224) will be loaded as the default.\n"
     ]
    }
   ],
   "source": [
    "mobilenetv2_tune3 = tf.keras.applications.MobileNetV2(weights='imagenet', include_top=False)\n",
    "\n",
    "for layer in mobilenetv2_tune3.layers:\n",
    "    layer.trainable = False"
   ]
  },
  {
   "cell_type": "code",
   "execution_count": 39,
   "metadata": {},
   "outputs": [],
   "source": [
    "def custom_classifier(base_model, num_classes):\n",
    "    x = base_model.output\n",
    "    x = Conv2D(64, (3, 3), activation='relu', padding='same')(x)\n",
    "    x = MaxPooling2D((2, 2))(x)\n",
    "    x = Conv2D(128, (3, 3), activation='relu', padding='same')(x)\n",
    "    x = MaxPooling2D((2, 2))(x)\n",
    "    x = GlobalAveragePooling2D()(x)\n",
    "    output = Dense(num_classes, activation='softmax')(x)\n",
    "    model = Model(inputs=base_model.input, outputs=output)\n",
    "    return model"
   ]
  },
  {
   "cell_type": "code",
   "execution_count": 40,
   "metadata": {},
   "outputs": [],
   "source": [
    "mobilenetv2_model_tune3 = custom_classifier(mobilenetv2_tune3, num_classes)"
   ]
  },
  {
   "cell_type": "code",
   "execution_count": 41,
   "metadata": {},
   "outputs": [],
   "source": [
    "mobilenetv2_model_tune3.compile(loss='categorical_crossentropy',\n",
    "                             optimizer='Adam',\n",
    "                             metrics=['accuracy', 'AUC', 'Precision', 'Recall'])"
   ]
  },
  {
   "cell_type": "code",
   "execution_count": 42,
   "metadata": {},
   "outputs": [
    {
     "name": "stdout",
     "output_type": "stream",
     "text": [
      "Epoch 1/5\n",
      "231/231 [==============================] - 114s 489ms/step - loss: 2.0910 - accuracy: 0.3031 - auc: 0.7216 - precision: 0.3958 - recall: 0.0202 - val_loss: 1.5112 - val_accuracy: 0.4057 - val_auc: 0.8730 - val_precision: 0.6720 - val_recall: 0.0170\n",
      "Epoch 2/5\n",
      "231/231 [==============================] - 113s 488ms/step - loss: 1.5852 - accuracy: 0.3937 - auc: 0.8538 - precision: 0.5486 - recall: 0.1015 - val_loss: 1.3517 - val_accuracy: 0.4513 - val_auc: 0.8955 - val_precision: 0.6242 - val_recall: 0.1599\n",
      "Epoch 3/5\n",
      "231/231 [==============================] - 113s 489ms/step - loss: 1.4760 - accuracy: 0.4225 - auc: 0.8749 - precision: 0.5898 - recall: 0.1541 - val_loss: 1.1854 - val_accuracy: 0.5473 - val_auc: 0.9259 - val_precision: 0.6878 - val_recall: 0.2746\n",
      "Epoch 4/5\n",
      "231/231 [==============================] - 113s 490ms/step - loss: 1.3945 - accuracy: 0.4568 - auc: 0.8889 - precision: 0.6110 - recall: 0.2023 - val_loss: 1.2283 - val_accuracy: 0.4503 - val_auc: 0.9121 - val_precision: 0.6523 - val_recall: 0.1874\n",
      "Epoch 5/5\n",
      "231/231 [==============================] - 113s 488ms/step - loss: 1.3139 - accuracy: 0.4838 - auc: 0.9019 - precision: 0.6427 - recall: 0.2466 - val_loss: 1.0376 - val_accuracy: 0.5801 - val_auc: 0.9414 - val_precision: 0.7286 - val_recall: 0.3976\n"
     ]
    }
   ],
   "source": [
    "history_mobilenetv2_model_tune3 = mobilenetv2_model_tune3.fit(train_generator_mobilenetv2,\n",
    "                                                  steps_per_epoch=len(train_generator_mobilenetv2),\n",
    "                                                  epochs=5,\n",
    "                                                  validation_data=val_generator_mobilenetv2,\n",
    "                                                  validation_steps=len(val_generator_mobilenetv2))"
   ]
  },
  {
   "cell_type": "code",
   "execution_count": null,
   "metadata": {},
   "outputs": [],
   "source": []
  },
  {
   "cell_type": "code",
   "execution_count": null,
   "metadata": {},
   "outputs": [],
   "source": []
  },
  {
   "cell_type": "markdown",
   "metadata": {},
   "source": [
    "### Model tuning 4"
   ]
  },
  {
   "cell_type": "code",
   "execution_count": 48,
   "metadata": {},
   "outputs": [
    {
     "name": "stdout",
     "output_type": "stream",
     "text": [
      "WARNING:tensorflow:`input_shape` is undefined or non-square, or `rows` is not in [96, 128, 160, 192, 224]. Weights for input shape (224, 224) will be loaded as the default.\n"
     ]
    }
   ],
   "source": [
    "mobilenetv2_tune4 = tf.keras.applications.MobileNetV2(weights='imagenet', include_top=False)\n",
    "\n",
    "for layer in mobilenetv2_tune4.layers:\n",
    "    layer.trainable = False"
   ]
  },
  {
   "cell_type": "code",
   "execution_count": 49,
   "metadata": {},
   "outputs": [],
   "source": [
    "def custom_classifier(base_model, num_classes):\n",
    "    x = base_model.output\n",
    "    x = Conv2D(64, (3, 3), activation='relu', padding='same')(x)\n",
    "    x = MaxPooling2D((2, 2))(x)\n",
    "    x = Conv2D(128, (3, 3), activation='relu', padding='same')(x)\n",
    "    x = MaxPooling2D((2, 2))(x)\n",
    "    x = GlobalAveragePooling2D()(x)\n",
    "    x = Dense(128, activation='relu')(x)\n",
    "    output = Dense(num_classes, activation='softmax')(x)\n",
    "    model = Model(inputs=base_model.input, outputs=output)\n",
    "    return model"
   ]
  },
  {
   "cell_type": "code",
   "execution_count": 50,
   "metadata": {},
   "outputs": [],
   "source": [
    "mobilenetv2_model_tune4 = custom_classifier(mobilenetv2_tune4, num_classes)"
   ]
  },
  {
   "cell_type": "code",
   "execution_count": 51,
   "metadata": {},
   "outputs": [],
   "source": [
    "mobilenetv2_model_tune4.compile(loss='categorical_crossentropy',\n",
    "                             optimizer='Adam',\n",
    "                             metrics=['accuracy', 'AUC', 'Precision', 'Recall'])"
   ]
  },
  {
   "cell_type": "code",
   "execution_count": 52,
   "metadata": {},
   "outputs": [
    {
     "name": "stdout",
     "output_type": "stream",
     "text": [
      "Epoch 1/5\n",
      "231/231 [==============================] - 120s 515ms/step - loss: 1.9754 - accuracy: 0.3189 - auc: 0.7496 - precision: 0.4807 - recall: 0.0378 - val_loss: 1.5274 - val_accuracy: 0.3157 - val_auc: 0.8676 - val_precision: 0.4410 - val_recall: 0.0667\n",
      "Epoch 2/5\n",
      "231/231 [==============================] - 117s 506ms/step - loss: 1.5556 - accuracy: 0.3930 - auc: 0.8588 - precision: 0.5551 - recall: 0.1329 - val_loss: 1.2414 - val_accuracy: 0.4652 - val_auc: 0.9123 - val_precision: 0.6183 - val_recall: 0.2924\n",
      "Epoch 3/5\n",
      "231/231 [==============================] - 119s 515ms/step - loss: 1.4410 - accuracy: 0.4382 - auc: 0.8801 - precision: 0.6074 - recall: 0.1929 - val_loss: 1.1410 - val_accuracy: 0.5224 - val_auc: 0.9263 - val_precision: 0.6674 - val_recall: 0.2561\n",
      "Epoch 4/5\n",
      "231/231 [==============================] - 114s 491ms/step - loss: 1.3834 - accuracy: 0.4586 - auc: 0.8901 - precision: 0.6323 - recall: 0.2281 - val_loss: 1.3154 - val_accuracy: 0.4458 - val_auc: 0.9005 - val_precision: 0.6345 - val_recall: 0.2142\n",
      "Epoch 5/5\n",
      "231/231 [==============================] - 114s 495ms/step - loss: 1.2977 - accuracy: 0.4832 - auc: 0.9040 - precision: 0.6533 - recall: 0.2698 - val_loss: 1.0893 - val_accuracy: 0.5402 - val_auc: 0.9324 - val_precision: 0.6485 - val_recall: 0.4255\n"
     ]
    }
   ],
   "source": [
    "history_mobilenetv2_model_tune4 = mobilenetv2_model_tune4.fit(train_generator_mobilenetv2,\n",
    "                                                  steps_per_epoch=len(train_generator_mobilenetv2),\n",
    "                                                  epochs=5,\n",
    "                                                  validation_data=val_generator_mobilenetv2,\n",
    "                                                  validation_steps=len(val_generator_mobilenetv2))"
   ]
  },
  {
   "cell_type": "markdown",
   "metadata": {},
   "source": [
    "### Model tuning 5"
   ]
  },
  {
   "cell_type": "code",
   "execution_count": 58,
   "metadata": {},
   "outputs": [
    {
     "name": "stdout",
     "output_type": "stream",
     "text": [
      "WARNING:tensorflow:`input_shape` is undefined or non-square, or `rows` is not in [96, 128, 160, 192, 224]. Weights for input shape (224, 224) will be loaded as the default.\n"
     ]
    }
   ],
   "source": [
    "mobilenetv2_tune5 = tf.keras.applications.MobileNetV2(weights='imagenet', include_top=False)\n",
    "\n",
    "for layer in mobilenetv2_tune5.layers:\n",
    "    layer.trainable = False"
   ]
  },
  {
   "cell_type": "code",
   "execution_count": 59,
   "metadata": {},
   "outputs": [],
   "source": [
    "def custom_classifier(base_model, num_classes):\n",
    "    x = base_model.output\n",
    "    x = Conv2D(64, (3, 3), activation='relu', padding='same')(x)\n",
    "    x = MaxPooling2D((2, 2))(x)\n",
    "    x = Conv2D(128, (3, 3), activation='relu', padding='same')(x)\n",
    "    x = MaxPooling2D((2, 2))(x)\n",
    "    x = Conv2D(256, (3, 3), activation='relu', padding='same')(x)\n",
    "    x = MaxPooling2D((2, 2))(x)\n",
    "    x = GlobalAveragePooling2D()(x)\n",
    "    x = Dense(128, activation='relu')(x)\n",
    "    output = Dense(num_classes, activation='softmax')(x)\n",
    "    model = Model(inputs=base_model.input, outputs=output)\n",
    "    return model"
   ]
  },
  {
   "cell_type": "code",
   "execution_count": 60,
   "metadata": {},
   "outputs": [],
   "source": [
    "mobilenetv2_model_tune5 = custom_classifier(mobilenetv2_tune5, num_classes)"
   ]
  },
  {
   "cell_type": "code",
   "execution_count": 61,
   "metadata": {},
   "outputs": [],
   "source": [
    "mobilenetv2_model_tune5.compile(loss='categorical_crossentropy',\n",
    "                             optimizer='Adam',\n",
    "                             metrics=['accuracy', 'AUC', 'Precision', 'Recall'])"
   ]
  },
  {
   "cell_type": "code",
   "execution_count": 62,
   "metadata": {},
   "outputs": [
    {
     "name": "stdout",
     "output_type": "stream",
     "text": [
      "Epoch 1/5\n",
      "231/231 [==============================] - 118s 506ms/step - loss: nan - accuracy: 0.2870 - auc: 0.5000 - precision: 0.0000e+00 - recall: 0.0000e+00 - val_loss: nan - val_accuracy: 0.2863 - val_auc: 0.5000 - val_precision: 0.0000e+00 - val_recall: 0.0000e+00\n",
      "Epoch 2/5\n",
      "231/231 [==============================] - 113s 486ms/step - loss: nan - accuracy: 0.2870 - auc: 0.5000 - precision: 0.0000e+00 - recall: 0.0000e+00 - val_loss: nan - val_accuracy: 0.2863 - val_auc: 0.5000 - val_precision: 0.0000e+00 - val_recall: 0.0000e+00\n",
      "Epoch 3/5\n",
      "231/231 [==============================] - 112s 483ms/step - loss: nan - accuracy: 0.2870 - auc: 0.5000 - precision: 0.0000e+00 - recall: 0.0000e+00 - val_loss: nan - val_accuracy: 0.2863 - val_auc: 0.5000 - val_precision: 0.0000e+00 - val_recall: 0.0000e+00\n",
      "Epoch 4/5\n",
      "231/231 [==============================] - 112s 482ms/step - loss: nan - accuracy: 0.2870 - auc: 0.5000 - precision: 0.0000e+00 - recall: 0.0000e+00 - val_loss: nan - val_accuracy: 0.2863 - val_auc: 0.5000 - val_precision: 0.0000e+00 - val_recall: 0.0000e+00\n",
      "Epoch 5/5\n",
      "231/231 [==============================] - 112s 484ms/step - loss: nan - accuracy: 0.2870 - auc: 0.5000 - precision: 0.0000e+00 - recall: 0.0000e+00 - val_loss: nan - val_accuracy: 0.2863 - val_auc: 0.5000 - val_precision: 0.0000e+00 - val_recall: 0.0000e+00\n"
     ]
    }
   ],
   "source": [
    "history_mobilenetv2_model_tune5 = mobilenetv2_model_tune5.fit(train_generator_mobilenetv2,\n",
    "                                                  steps_per_epoch=len(train_generator_mobilenetv2),\n",
    "                                                  epochs=5,\n",
    "                                                  validation_data=val_generator_mobilenetv2,\n",
    "                                                  validation_steps=len(val_generator_mobilenetv2))"
   ]
  },
  {
   "cell_type": "code",
   "execution_count": null,
   "metadata": {},
   "outputs": [],
   "source": []
  },
  {
   "cell_type": "markdown",
   "metadata": {},
   "source": [
    "### Model tuning 6"
   ]
  },
  {
   "cell_type": "code",
   "execution_count": 63,
   "metadata": {},
   "outputs": [
    {
     "name": "stdout",
     "output_type": "stream",
     "text": [
      "WARNING:tensorflow:`input_shape` is undefined or non-square, or `rows` is not in [96, 128, 160, 192, 224]. Weights for input shape (224, 224) will be loaded as the default.\n"
     ]
    }
   ],
   "source": [
    "mobilenetv2_tune6 = tf.keras.applications.MobileNetV2(weights='imagenet', include_top=False)\n",
    "\n",
    "for layer in mobilenetv2_tune6.layers:\n",
    "    layer.trainable = False"
   ]
  },
  {
   "cell_type": "code",
   "execution_count": 64,
   "metadata": {},
   "outputs": [],
   "source": [
    "def custom_classifier(base_model, num_classes):\n",
    "    x = base_model.output\n",
    "    x = Conv2D(128, (3, 3), activation='relu', padding='same')(x)\n",
    "    x = MaxPooling2D((2, 2))(x)\n",
    "    x = Conv2D(256, (3, 3), activation='relu', padding='same')(x)\n",
    "    x = MaxPooling2D((2, 2))(x)\n",
    "    x = GlobalAveragePooling2D()(x)\n",
    "    x = Dense(128, activation='relu')(x)\n",
    "    output = Dense(num_classes, activation='softmax')(x)\n",
    "    model = Model(inputs=base_model.input, outputs=output)\n",
    "    return model"
   ]
  },
  {
   "cell_type": "code",
   "execution_count": 65,
   "metadata": {},
   "outputs": [],
   "source": [
    "mobilenetv2_model_tune6 = custom_classifier(mobilenetv2_tune6, num_classes)"
   ]
  },
  {
   "cell_type": "code",
   "execution_count": 66,
   "metadata": {},
   "outputs": [],
   "source": [
    "mobilenetv2_model_tune6.compile(loss='categorical_crossentropy',\n",
    "                             optimizer='Adam',\n",
    "                             metrics=['accuracy', 'AUC', 'Precision', 'Recall'])"
   ]
  },
  {
   "cell_type": "code",
   "execution_count": 67,
   "metadata": {},
   "outputs": [
    {
     "name": "stdout",
     "output_type": "stream",
     "text": [
      "Epoch 1/5\n",
      "231/231 [==============================] - 120s 515ms/step - loss: 2.0719 - accuracy: 0.3100 - auc: 0.7410 - precision: 0.4083 - recall: 0.0265 - val_loss: 1.4507 - val_accuracy: 0.3974 - val_auc: 0.8799 - val_precision: 0.6274 - val_recall: 0.0464\n",
      "Epoch 2/5\n",
      "231/231 [==============================] - 119s 514ms/step - loss: 1.5767 - accuracy: 0.3891 - auc: 0.8540 - precision: 0.5446 - recall: 0.1197 - val_loss: 1.3005 - val_accuracy: 0.4480 - val_auc: 0.9020 - val_precision: 0.5685 - val_recall: 0.3001\n",
      "Epoch 3/5\n",
      "231/231 [==============================] - 118s 512ms/step - loss: 1.4346 - accuracy: 0.4349 - auc: 0.8816 - precision: 0.6179 - recall: 0.1871 - val_loss: 1.2019 - val_accuracy: 0.4960 - val_auc: 0.9199 - val_precision: 0.6218 - val_recall: 0.1949\n",
      "Epoch 4/5\n",
      "231/231 [==============================] - 119s 513ms/step - loss: 1.3640 - accuracy: 0.4638 - auc: 0.8932 - precision: 0.6361 - recall: 0.2377 - val_loss: 1.1217 - val_accuracy: 0.5025 - val_auc: 0.9278 - val_precision: 0.6608 - val_recall: 0.3264\n",
      "Epoch 5/5\n",
      "231/231 [==============================] - 119s 512ms/step - loss: 1.2789 - accuracy: 0.4942 - auc: 0.9073 - precision: 0.6583 - recall: 0.2815 - val_loss: 1.0589 - val_accuracy: 0.5775 - val_auc: 0.9371 - val_precision: 0.6745 - val_recall: 0.4774\n"
     ]
    }
   ],
   "source": [
    "history_mobilenetv2_model_tune6 = mobilenetv2_model_tune6.fit(train_generator_mobilenetv2,\n",
    "                                                  steps_per_epoch=len(train_generator_mobilenetv2),\n",
    "                                                  epochs=5,\n",
    "                                                  validation_data=val_generator_mobilenetv2,\n",
    "                                                  validation_steps=len(val_generator_mobilenetv2))"
   ]
  },
  {
   "cell_type": "markdown",
   "metadata": {},
   "source": [
    "### Tuning 7 "
   ]
  },
  {
   "cell_type": "code",
   "execution_count": 74,
   "metadata": {},
   "outputs": [
    {
     "name": "stdout",
     "output_type": "stream",
     "text": [
      "WARNING:tensorflow:`input_shape` is undefined or non-square, or `rows` is not in [96, 128, 160, 192, 224]. Weights for input shape (224, 224) will be loaded as the default.\n"
     ]
    }
   ],
   "source": [
    "mobilenetv2_tune7 = tf.keras.applications.MobileNetV2(weights='imagenet', include_top=False)\n",
    "\n",
    "for layer in mobilenetv2_tune7.layers:\n",
    "    layer.trainable = False"
   ]
  },
  {
   "cell_type": "code",
   "execution_count": 75,
   "metadata": {},
   "outputs": [],
   "source": [
    "def custom_classifier(base_model, num_classes):\n",
    "    x = base_model.output\n",
    "    x = Conv2D(128, (3, 3), activation='relu', padding='same')(x)\n",
    "    x = MaxPooling2D((2, 2))(x)\n",
    "    x = Conv2D(256, (3, 3), activation='relu', padding='same')(x)\n",
    "    x = MaxPooling2D((2, 2))(x)\n",
    "    x = GlobalAveragePooling2D()(x)\n",
    "    x = Dense(256, activation='relu')(x)\n",
    "    output = Dense(num_classes, activation='softmax')(x)\n",
    "    model = Model(inputs=base_model.input, outputs=output)\n",
    "    return model"
   ]
  },
  {
   "cell_type": "code",
   "execution_count": 76,
   "metadata": {},
   "outputs": [],
   "source": [
    "mobilenetv2_model_tune7 = custom_classifier(mobilenetv2_tune7, num_classes)"
   ]
  },
  {
   "cell_type": "code",
   "execution_count": 77,
   "metadata": {},
   "outputs": [],
   "source": [
    "mobilenetv2_model_tune7.compile(loss='categorical_crossentropy',\n",
    "                             optimizer='Adam',\n",
    "                             metrics=['accuracy', 'AUC', 'Precision', 'Recall'])"
   ]
  },
  {
   "cell_type": "code",
   "execution_count": 78,
   "metadata": {},
   "outputs": [
    {
     "name": "stdout",
     "output_type": "stream",
     "text": [
      "Epoch 1/50\n",
      "231/231 [==============================] - 120s 517ms/step - loss: 2.0369 - accuracy: 0.3118 - auc: 0.7396 - precision: 0.4191 - recall: 0.0261 - val_loss: 1.4364 - val_accuracy: 0.4012 - val_auc: 0.8824 - val_precision: 0.4832 - val_recall: 0.2065\n",
      "Epoch 2/50\n",
      "231/231 [==============================] - 120s 517ms/step - loss: 1.5834 - accuracy: 0.3899 - auc: 0.8527 - precision: 0.5264 - recall: 0.0945 - val_loss: 1.3825 - val_accuracy: 0.3611 - val_auc: 0.8875 - val_precision: 0.5113 - val_recall: 0.1289\n",
      "Epoch 3/50\n",
      "231/231 [==============================] - 120s 518ms/step - loss: 1.4867 - accuracy: 0.4205 - auc: 0.8718 - precision: 0.5737 - recall: 0.1529 - val_loss: 1.3114 - val_accuracy: 0.4774 - val_auc: 0.9038 - val_precision: 0.7113 - val_recall: 0.2097\n",
      "Epoch 4/50\n",
      "231/231 [==============================] - 120s 518ms/step - loss: 1.3917 - accuracy: 0.4543 - auc: 0.8890 - precision: 0.6159 - recall: 0.2168 - val_loss: 1.1603 - val_accuracy: 0.4888 - val_auc: 0.9235 - val_precision: 0.6751 - val_recall: 0.2278\n",
      "Epoch 5/50\n",
      "231/231 [==============================] - 120s 517ms/step - loss: 1.3228 - accuracy: 0.4748 - auc: 0.9005 - precision: 0.6350 - recall: 0.2479 - val_loss: 1.0120 - val_accuracy: 0.5878 - val_auc: 0.9428 - val_precision: 0.7016 - val_recall: 0.4034\n",
      "Epoch 6/50\n",
      "231/231 [==============================] - 120s 519ms/step - loss: 1.2584 - accuracy: 0.5044 - auc: 0.9103 - precision: 0.6550 - recall: 0.2916 - val_loss: 1.0253 - val_accuracy: 0.5653 - val_auc: 0.9397 - val_precision: 0.6731 - val_recall: 0.3984\n",
      "Epoch 7/50\n",
      "231/231 [==============================] - 120s 518ms/step - loss: 1.2268 - accuracy: 0.5170 - auc: 0.9147 - precision: 0.6639 - recall: 0.3214 - val_loss: 0.9529 - val_accuracy: 0.6201 - val_auc: 0.9496 - val_precision: 0.7589 - val_recall: 0.4318\n",
      "Epoch 8/50\n",
      "231/231 [==============================] - 120s 518ms/step - loss: 1.1822 - accuracy: 0.5321 - auc: 0.9210 - precision: 0.6699 - recall: 0.3415 - val_loss: 0.9060 - val_accuracy: 0.6448 - val_auc: 0.9546 - val_precision: 0.7756 - val_recall: 0.4573\n",
      "Epoch 9/50\n",
      "231/231 [==============================] - 119s 516ms/step - loss: 1.1577 - accuracy: 0.5406 - auc: 0.9243 - precision: 0.6735 - recall: 0.3544 - val_loss: 0.9419 - val_accuracy: 0.6205 - val_auc: 0.9493 - val_precision: 0.6909 - val_recall: 0.5303\n",
      "Epoch 10/50\n",
      "231/231 [==============================] - 119s 516ms/step - loss: 1.1081 - accuracy: 0.5654 - auc: 0.9307 - precision: 0.6927 - recall: 0.3913 - val_loss: 0.8339 - val_accuracy: 0.6517 - val_auc: 0.9595 - val_precision: 0.7023 - val_recall: 0.5463\n",
      "Epoch 11/50\n",
      "231/231 [==============================] - 119s 516ms/step - loss: 1.1059 - accuracy: 0.5613 - auc: 0.9310 - precision: 0.6828 - recall: 0.3918 - val_loss: 0.8841 - val_accuracy: 0.6413 - val_auc: 0.9556 - val_precision: 0.7108 - val_recall: 0.5743\n",
      "Epoch 12/50\n",
      "231/231 [==============================] - 119s 515ms/step - loss: 1.0721 - accuracy: 0.5773 - auc: 0.9351 - precision: 0.6968 - recall: 0.4121 - val_loss: 0.9513 - val_accuracy: 0.6241 - val_auc: 0.9488 - val_precision: 0.7142 - val_recall: 0.5232\n",
      "Epoch 13/50\n",
      "231/231 [==============================] - 120s 517ms/step - loss: 1.0814 - accuracy: 0.5690 - auc: 0.9338 - precision: 0.6852 - recall: 0.4102 - val_loss: 0.8440 - val_accuracy: 0.6717 - val_auc: 0.9595 - val_precision: 0.7819 - val_recall: 0.5579\n",
      "Epoch 14/50\n",
      "231/231 [==============================] - 120s 518ms/step - loss: 1.0495 - accuracy: 0.5863 - auc: 0.9378 - precision: 0.6996 - recall: 0.4384 - val_loss: 0.9364 - val_accuracy: 0.6047 - val_auc: 0.9498 - val_precision: 0.6969 - val_recall: 0.5185\n",
      "Epoch 15/50\n",
      "231/231 [==============================] - 120s 519ms/step - loss: 1.0434 - accuracy: 0.5873 - auc: 0.9386 - precision: 0.7021 - recall: 0.4326 - val_loss: 0.7723 - val_accuracy: 0.6936 - val_auc: 0.9659 - val_precision: 0.7597 - val_recall: 0.6087\n",
      "Epoch 16/50\n",
      "231/231 [==============================] - 119s 517ms/step - loss: 1.0198 - accuracy: 0.5970 - auc: 0.9412 - precision: 0.7055 - recall: 0.4448 - val_loss: 0.7812 - val_accuracy: 0.6867 - val_auc: 0.9647 - val_precision: 0.7634 - val_recall: 0.6043\n",
      "Epoch 17/50\n",
      "231/231 [==============================] - 119s 516ms/step - loss: 1.0030 - accuracy: 0.6086 - auc: 0.9431 - precision: 0.7136 - recall: 0.4641 - val_loss: 0.7384 - val_accuracy: 0.6989 - val_auc: 0.9680 - val_precision: 0.7365 - val_recall: 0.6472\n",
      "Epoch 18/50\n",
      "231/231 [==============================] - 120s 517ms/step - loss: 0.9842 - accuracy: 0.6128 - auc: 0.9451 - precision: 0.7113 - recall: 0.4704 - val_loss: 0.7923 - val_accuracy: 0.6738 - val_auc: 0.9634 - val_precision: 0.7386 - val_recall: 0.5972\n",
      "Epoch 19/50\n",
      "231/231 [==============================] - 120s 517ms/step - loss: 0.9835 - accuracy: 0.6107 - auc: 0.9452 - precision: 0.7155 - recall: 0.4750 - val_loss: 0.7254 - val_accuracy: 0.7052 - val_auc: 0.9695 - val_precision: 0.7802 - val_recall: 0.6229\n",
      "Epoch 20/50\n",
      "231/231 [==============================] - 119s 516ms/step - loss: 0.9836 - accuracy: 0.6096 - auc: 0.9453 - precision: 0.7131 - recall: 0.4732 - val_loss: 0.7226 - val_accuracy: 0.7102 - val_auc: 0.9697 - val_precision: 0.7694 - val_recall: 0.6438\n",
      "Epoch 21/50\n",
      "231/231 [==============================] - 120s 517ms/step - loss: 0.9747 - accuracy: 0.6138 - auc: 0.9462 - precision: 0.7181 - recall: 0.4815 - val_loss: 0.8089 - val_accuracy: 0.6898 - val_auc: 0.9626 - val_precision: 0.7724 - val_recall: 0.5694\n",
      "Epoch 22/50\n",
      "231/231 [==============================] - 119s 516ms/step - loss: 0.9552 - accuracy: 0.6197 - auc: 0.9483 - precision: 0.7134 - recall: 0.4879 - val_loss: 0.6689 - val_accuracy: 0.7350 - val_auc: 0.9740 - val_precision: 0.8027 - val_recall: 0.6545\n",
      "Epoch 23/50\n",
      "231/231 [==============================] - 120s 517ms/step - loss: 0.9576 - accuracy: 0.6216 - auc: 0.9480 - precision: 0.7179 - recall: 0.4987 - val_loss: 0.8201 - val_accuracy: 0.6742 - val_auc: 0.9610 - val_precision: 0.7535 - val_recall: 0.5741\n",
      "Epoch 24/50\n",
      "231/231 [==============================] - 119s 516ms/step - loss: 0.9475 - accuracy: 0.6222 - auc: 0.9493 - precision: 0.7219 - recall: 0.4986 - val_loss: 0.6931 - val_accuracy: 0.7157 - val_auc: 0.9720 - val_precision: 0.7622 - val_recall: 0.6671\n",
      "Epoch 25/50\n",
      "231/231 [==============================] - 120s 518ms/step - loss: 0.9426 - accuracy: 0.6257 - auc: 0.9497 - precision: 0.7219 - recall: 0.5058 - val_loss: 0.7516 - val_accuracy: 0.7088 - val_auc: 0.9664 - val_precision: 0.7705 - val_recall: 0.6320\n",
      "Epoch 26/50\n",
      "231/231 [==============================] - 121s 521ms/step - loss: 0.9190 - accuracy: 0.6375 - auc: 0.9520 - precision: 0.7292 - recall: 0.5151 - val_loss: 0.6549 - val_accuracy: 0.7388 - val_auc: 0.9744 - val_precision: 0.7711 - val_recall: 0.6819\n",
      "Epoch 27/50\n",
      "231/231 [==============================] - 120s 518ms/step - loss: 0.9113 - accuracy: 0.6379 - auc: 0.9526 - precision: 0.7274 - recall: 0.5231 - val_loss: 0.6729 - val_accuracy: 0.7303 - val_auc: 0.9733 - val_precision: 0.7916 - val_recall: 0.6551\n",
      "Epoch 28/50\n",
      "231/231 [==============================] - 121s 524ms/step - loss: 0.9053 - accuracy: 0.6378 - auc: 0.9532 - precision: 0.7291 - recall: 0.5241 - val_loss: 0.6544 - val_accuracy: 0.7384 - val_auc: 0.9744 - val_precision: 0.7918 - val_recall: 0.6705\n",
      "Epoch 29/50\n",
      "231/231 [==============================] - 121s 524ms/step - loss: 0.8960 - accuracy: 0.6469 - auc: 0.9543 - precision: 0.7329 - recall: 0.5367 - val_loss: 0.7223 - val_accuracy: 0.7072 - val_auc: 0.9697 - val_precision: 0.7625 - val_recall: 0.6468\n",
      "Epoch 30/50\n",
      "231/231 [==============================] - 120s 520ms/step - loss: 0.8909 - accuracy: 0.6510 - auc: 0.9549 - precision: 0.7353 - recall: 0.5357 - val_loss: 0.6837 - val_accuracy: 0.7329 - val_auc: 0.9725 - val_precision: 0.7728 - val_recall: 0.6975\n",
      "Epoch 31/50\n",
      "231/231 [==============================] - 120s 520ms/step - loss: 0.9213 - accuracy: 0.6339 - auc: 0.9518 - precision: 0.7283 - recall: 0.5200 - val_loss: 0.6537 - val_accuracy: 0.7305 - val_auc: 0.9747 - val_precision: 0.7782 - val_recall: 0.6819\n",
      "Epoch 32/50\n",
      "231/231 [==============================] - 120s 518ms/step - loss: 0.8638 - accuracy: 0.6579 - auc: 0.9575 - precision: 0.7400 - recall: 0.5467 - val_loss: 0.6796 - val_accuracy: 0.7352 - val_auc: 0.9729 - val_precision: 0.7846 - val_recall: 0.6851\n",
      "Epoch 33/50\n",
      "231/231 [==============================] - 120s 517ms/step - loss: 0.8822 - accuracy: 0.6492 - auc: 0.9556 - precision: 0.7390 - recall: 0.5443 - val_loss: 0.6408 - val_accuracy: 0.7455 - val_auc: 0.9758 - val_precision: 0.8011 - val_recall: 0.6742\n",
      "Epoch 34/50\n",
      "231/231 [==============================] - 120s 520ms/step - loss: 0.8727 - accuracy: 0.6515 - auc: 0.9565 - precision: 0.7335 - recall: 0.5472 - val_loss: 0.7089 - val_accuracy: 0.7086 - val_auc: 0.9706 - val_precision: 0.7559 - val_recall: 0.6582\n",
      "Epoch 35/50\n",
      "231/231 [==============================] - 121s 522ms/step - loss: 0.8662 - accuracy: 0.6589 - auc: 0.9572 - precision: 0.7399 - recall: 0.5501 - val_loss: 0.5855 - val_accuracy: 0.7735 - val_auc: 0.9795 - val_precision: 0.8219 - val_recall: 0.7171\n",
      "Epoch 36/50\n",
      "231/231 [==============================] - 125s 541ms/step - loss: 0.8579 - accuracy: 0.6615 - auc: 0.9580 - precision: 0.7430 - recall: 0.5569 - val_loss: 0.6176 - val_accuracy: 0.7564 - val_auc: 0.9772 - val_precision: 0.8072 - val_recall: 0.7068\n",
      "Epoch 37/50\n",
      "231/231 [==============================] - 121s 521ms/step - loss: 0.8589 - accuracy: 0.6629 - auc: 0.9578 - precision: 0.7429 - recall: 0.5591 - val_loss: 0.6061 - val_accuracy: 0.7558 - val_auc: 0.9783 - val_precision: 0.8104 - val_recall: 0.6912\n",
      "Epoch 38/50\n",
      "231/231 [==============================] - 120s 520ms/step - loss: 0.8787 - accuracy: 0.6524 - auc: 0.9561 - precision: 0.7389 - recall: 0.5478 - val_loss: 0.6437 - val_accuracy: 0.7422 - val_auc: 0.9754 - val_precision: 0.7906 - val_recall: 0.7009\n",
      "Epoch 39/50\n",
      "231/231 [==============================] - 121s 521ms/step - loss: 0.8445 - accuracy: 0.6618 - auc: 0.9591 - precision: 0.7436 - recall: 0.5623 - val_loss: 0.6245 - val_accuracy: 0.7516 - val_auc: 0.9768 - val_precision: 0.7953 - val_recall: 0.7021\n",
      "Epoch 40/50\n",
      "231/231 [==============================] - 120s 520ms/step - loss: 0.8439 - accuracy: 0.6644 - auc: 0.9591 - precision: 0.7477 - recall: 0.5676 - val_loss: 0.5681 - val_accuracy: 0.7755 - val_auc: 0.9809 - val_precision: 0.8201 - val_recall: 0.7226\n",
      "Epoch 41/50\n",
      "231/231 [==============================] - 120s 520ms/step - loss: 0.8411 - accuracy: 0.6648 - auc: 0.9594 - precision: 0.7434 - recall: 0.5694 - val_loss: 0.6263 - val_accuracy: 0.7473 - val_auc: 0.9769 - val_precision: 0.7996 - val_recall: 0.7025\n",
      "Epoch 42/50\n",
      "231/231 [==============================] - 120s 519ms/step - loss: 0.8411 - accuracy: 0.6667 - auc: 0.9596 - precision: 0.7491 - recall: 0.5699 - val_loss: 0.6177 - val_accuracy: 0.7546 - val_auc: 0.9773 - val_precision: 0.7951 - val_recall: 0.7169\n",
      "Epoch 43/50\n",
      "231/231 [==============================] - 120s 519ms/step - loss: 0.8378 - accuracy: 0.6675 - auc: 0.9596 - precision: 0.7431 - recall: 0.5691 - val_loss: 0.5530 - val_accuracy: 0.7860 - val_auc: 0.9817 - val_precision: 0.8326 - val_recall: 0.7350\n",
      "Epoch 44/50\n",
      "231/231 [==============================] - 120s 520ms/step - loss: 0.8201 - accuracy: 0.6749 - auc: 0.9615 - precision: 0.7527 - recall: 0.5794 - val_loss: 0.6487 - val_accuracy: 0.7455 - val_auc: 0.9749 - val_precision: 0.7837 - val_recall: 0.7086\n",
      "Epoch 45/50\n",
      "231/231 [==============================] - 121s 522ms/step - loss: 0.8291 - accuracy: 0.6710 - auc: 0.9608 - precision: 0.7546 - recall: 0.5771 - val_loss: 0.6366 - val_accuracy: 0.7382 - val_auc: 0.9760 - val_precision: 0.7859 - val_recall: 0.6821\n",
      "Epoch 46/50\n",
      "231/231 [==============================] - 120s 520ms/step - loss: 0.8253 - accuracy: 0.6758 - auc: 0.9608 - precision: 0.7498 - recall: 0.5804 - val_loss: 0.5830 - val_accuracy: 0.7759 - val_auc: 0.9796 - val_precision: 0.8296 - val_recall: 0.7289\n",
      "Epoch 47/50\n",
      "231/231 [==============================] - 120s 519ms/step - loss: 0.8116 - accuracy: 0.6821 - auc: 0.9622 - precision: 0.7528 - recall: 0.5856 - val_loss: 0.6518 - val_accuracy: 0.7343 - val_auc: 0.9747 - val_precision: 0.7726 - val_recall: 0.6938\n",
      "Epoch 48/50\n",
      "231/231 [==============================] - 120s 520ms/step - loss: 0.8088 - accuracy: 0.6791 - auc: 0.9626 - precision: 0.7534 - recall: 0.5915 - val_loss: 0.5788 - val_accuracy: 0.7779 - val_auc: 0.9796 - val_precision: 0.8176 - val_recall: 0.7240\n",
      "Epoch 49/50\n",
      "231/231 [==============================] - 120s 518ms/step - loss: 0.8235 - accuracy: 0.6759 - auc: 0.9610 - precision: 0.7503 - recall: 0.5855 - val_loss: 0.6334 - val_accuracy: 0.7443 - val_auc: 0.9763 - val_precision: 0.7987 - val_recall: 0.6817\n",
      "Epoch 50/50\n",
      "231/231 [==============================] - 120s 519ms/step - loss: 0.8019 - accuracy: 0.6889 - auc: 0.9630 - precision: 0.7598 - recall: 0.5957 - val_loss: 0.5791 - val_accuracy: 0.7718 - val_auc: 0.9796 - val_precision: 0.8136 - val_recall: 0.7268\n"
     ]
    }
   ],
   "source": [
    "history_mobilenetv2_model_tune7 = mobilenetv2_model_tune7.fit(train_generator_mobilenetv2,\n",
    "                                                  steps_per_epoch=len(train_generator_mobilenetv2),\n",
    "                                                  epochs=50,\n",
    "                                                  validation_data=val_generator_mobilenetv2,\n",
    "                                                  validation_steps=len(val_generator_mobilenetv2))"
   ]
  },
  {
   "cell_type": "code",
   "execution_count": null,
   "metadata": {},
   "outputs": [],
   "source": []
  },
  {
   "cell_type": "code",
   "execution_count": null,
   "metadata": {},
   "outputs": [],
   "source": []
  },
  {
   "cell_type": "code",
   "execution_count": null,
   "metadata": {},
   "outputs": [],
   "source": []
  },
  {
   "cell_type": "markdown",
   "metadata": {},
   "source": [
    "### Model tuning 8"
   ]
  },
  {
   "cell_type": "code",
   "execution_count": 88,
   "metadata": {},
   "outputs": [
    {
     "name": "stdout",
     "output_type": "stream",
     "text": [
      "WARNING:tensorflow:`input_shape` is undefined or non-square, or `rows` is not in [96, 128, 160, 192, 224]. Weights for input shape (224, 224) will be loaded as the default.\n"
     ]
    }
   ],
   "source": [
    "mobilenetv2_tune8 = tf.keras.applications.MobileNetV2(weights='imagenet', include_top=False)\n",
    "\n",
    "for layer in mobilenetv2_tune8.layers[-2:]:\n",
    "    layer.trainable = True"
   ]
  },
  {
   "cell_type": "code",
   "execution_count": 89,
   "metadata": {},
   "outputs": [],
   "source": [
    "def custom_classifier(base_model, num_classes):\n",
    "    x = base_model.output\n",
    "    x = Conv2D(128, (3, 3), activation='relu', padding='same')(x)\n",
    "    x = MaxPooling2D((2, 2))(x)\n",
    "    x = Conv2D(256, (3, 3), activation='relu', padding='same')(x)\n",
    "    x = MaxPooling2D((2, 2))(x)\n",
    "    x = GlobalAveragePooling2D()(x)\n",
    "    x = Dense(256, activation='relu')(x)\n",
    "    output = Dense(num_classes, activation='softmax')(x)\n",
    "    model = Model(inputs=base_model.input, outputs=output)\n",
    "    return model"
   ]
  },
  {
   "cell_type": "code",
   "execution_count": 90,
   "metadata": {},
   "outputs": [],
   "source": [
    "mobilenetv2_model_tune8 = custom_classifier(mobilenetv2_tune8, num_classes)"
   ]
  },
  {
   "cell_type": "code",
   "execution_count": 91,
   "metadata": {},
   "outputs": [],
   "source": [
    "mobilenetv2_model_tune8.compile(loss='categorical_crossentropy',\n",
    "                             optimizer='Adam',\n",
    "                             metrics=['accuracy', 'AUC', 'Precision', 'Recall'])"
   ]
  },
  {
   "cell_type": "code",
   "execution_count": 92,
   "metadata": {},
   "outputs": [
    {
     "name": "stdout",
     "output_type": "stream",
     "text": [
      "Epoch 1/5\n",
      "231/231 [==============================] - 510s 2s/step - loss: 0.5045 - accuracy: 0.8311 - auc: 0.9834 - precision: 0.8754 - recall: 0.7943 - val_loss: 9.9480 - val_accuracy: 0.2863 - val_auc: 0.6159 - val_precision: 0.2863 - val_recall: 0.2863\n",
      "Epoch 2/5\n",
      "231/231 [==============================] - 511s 2s/step - loss: 0.2365 - accuracy: 0.9233 - auc: 0.9947 - precision: 0.9323 - recall: 0.9134 - val_loss: 12.1034 - val_accuracy: 0.2863 - val_auc: 0.6008 - val_precision: 0.2863 - val_recall: 0.2863\n",
      "Epoch 3/5\n",
      "231/231 [==============================] - 514s 2s/step - loss: 0.1971 - accuracy: 0.9349 - auc: 0.9960 - precision: 0.9415 - recall: 0.9284 - val_loss: 10.0715 - val_accuracy: 0.0748 - val_auc: 0.5829 - val_precision: 0.0748 - val_recall: 0.0748\n",
      "Epoch 4/5\n",
      "231/231 [==============================] - 511s 2s/step - loss: 0.1857 - accuracy: 0.9374 - auc: 0.9964 - precision: 0.9434 - recall: 0.9318 - val_loss: 11.0487 - val_accuracy: 0.0381 - val_auc: 0.4646 - val_precision: 0.0381 - val_recall: 0.0381\n",
      "Epoch 5/5\n",
      "231/231 [==============================] - 509s 2s/step - loss: 0.1549 - accuracy: 0.9472 - auc: 0.9973 - precision: 0.9515 - recall: 0.9418 - val_loss: 10.1776 - val_accuracy: 0.0438 - val_auc: 0.4688 - val_precision: 0.0438 - val_recall: 0.0438\n"
     ]
    }
   ],
   "source": [
    "history_mobilenetv2_model_tune8 = mobilenetv2_model_tune8.fit(train_generator_mobilenetv2,\n",
    "                                                  steps_per_epoch=len(train_generator_mobilenetv2),\n",
    "                                                  epochs=5,\n",
    "                                                  validation_data=val_generator_mobilenetv2,\n",
    "                                                  validation_steps=len(val_generator_mobilenetv2))"
   ]
  },
  {
   "cell_type": "code",
   "execution_count": null,
   "metadata": {},
   "outputs": [],
   "source": []
  },
  {
   "cell_type": "code",
   "execution_count": null,
   "metadata": {},
   "outputs": [],
   "source": []
  }
 ],
 "metadata": {
  "kernelspec": {
   "display_name": "Python 3 (ipykernel)",
   "language": "python",
   "name": "python3"
  },
  "language_info": {
   "codemirror_mode": {
    "name": "ipython",
    "version": 3
   },
   "file_extension": ".py",
   "mimetype": "text/x-python",
   "name": "python",
   "nbconvert_exporter": "python",
   "pygments_lexer": "ipython3",
   "version": "3.11.4"
  }
 },
 "nbformat": 4,
 "nbformat_minor": 4
}
